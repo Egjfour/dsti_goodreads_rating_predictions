{
 "cells": [
  {
   "cell_type": "code",
   "execution_count": 11,
   "metadata": {},
   "outputs": [
    {
     "data": {
      "text/html": [
       "<pre style=\"white-space:pre;overflow-x:auto;line-height:normal;font-family:Menlo,'DejaVu Sans Mono',consolas,'Courier New',monospace\"><span style=\"color: #7fbfbf; text-decoration-color: #7fbfbf\">[08/15/24 13:19:08] </span><span style=\"color: #000080; text-decoration-color: #000080\">INFO    </span> Registered line magic <span style=\"color: #008000; text-decoration-color: #008000\">'%reload_kedro'</span>                                   <a href=\"file://c:\\repos\\dsti_goodreads_rating_predictions\\dsti_goodreads_rating_predictions\\goodreads_predictor_kedro\\Lib\\site-packages\\kedro\\ipython\\__init__.py\" target=\"_blank\"><span style=\"color: #7f7f7f; text-decoration-color: #7f7f7f\">__init__.py</span></a><span style=\"color: #7f7f7f; text-decoration-color: #7f7f7f\">:</span><a href=\"file://c:\\repos\\dsti_goodreads_rating_predictions\\dsti_goodreads_rating_predictions\\goodreads_predictor_kedro\\Lib\\site-packages\\kedro\\ipython\\__init__.py#58\" target=\"_blank\"><span style=\"color: #7f7f7f; text-decoration-color: #7f7f7f\">58</span></a>\n",
       "</pre>\n"
      ],
      "text/plain": [
       "\u001b[2;36m[08/15/24 13:19:08]\u001b[0m\u001b[2;36m \u001b[0m\u001b[34mINFO    \u001b[0m Registered line magic \u001b[32m'%reload_kedro'\u001b[0m                                   \u001b]8;id=832714;file://c:\\repos\\dsti_goodreads_rating_predictions\\dsti_goodreads_rating_predictions\\goodreads_predictor_kedro\\Lib\\site-packages\\kedro\\ipython\\__init__.py\u001b\\\u001b[2m__init__.py\u001b[0m\u001b]8;;\u001b\\\u001b[2m:\u001b[0m\u001b]8;id=479439;file://c:\\repos\\dsti_goodreads_rating_predictions\\dsti_goodreads_rating_predictions\\goodreads_predictor_kedro\\Lib\\site-packages\\kedro\\ipython\\__init__.py#58\u001b\\\u001b[2m58\u001b[0m\u001b]8;;\u001b\\\n"
      ]
     },
     "metadata": {},
     "output_type": "display_data"
    },
    {
     "data": {
      "text/html": [
       "<pre style=\"white-space:pre;overflow-x:auto;line-height:normal;font-family:Menlo,'DejaVu Sans Mono',consolas,'Courier New',monospace\"><span style=\"color: #7fbfbf; text-decoration-color: #7fbfbf\">                    </span><span style=\"color: #000080; text-decoration-color: #000080\">INFO    </span> Registered line magic <span style=\"color: #008000; text-decoration-color: #008000\">'%load_node'</span>                                      <a href=\"file://c:\\repos\\dsti_goodreads_rating_predictions\\dsti_goodreads_rating_predictions\\goodreads_predictor_kedro\\Lib\\site-packages\\kedro\\ipython\\__init__.py\" target=\"_blank\"><span style=\"color: #7f7f7f; text-decoration-color: #7f7f7f\">__init__.py</span></a><span style=\"color: #7f7f7f; text-decoration-color: #7f7f7f\">:</span><a href=\"file://c:\\repos\\dsti_goodreads_rating_predictions\\dsti_goodreads_rating_predictions\\goodreads_predictor_kedro\\Lib\\site-packages\\kedro\\ipython\\__init__.py#60\" target=\"_blank\"><span style=\"color: #7f7f7f; text-decoration-color: #7f7f7f\">60</span></a>\n",
       "</pre>\n"
      ],
      "text/plain": [
       "\u001b[2;36m                   \u001b[0m\u001b[2;36m \u001b[0m\u001b[34mINFO    \u001b[0m Registered line magic \u001b[32m'%load_node'\u001b[0m                                      \u001b]8;id=149364;file://c:\\repos\\dsti_goodreads_rating_predictions\\dsti_goodreads_rating_predictions\\goodreads_predictor_kedro\\Lib\\site-packages\\kedro\\ipython\\__init__.py\u001b\\\u001b[2m__init__.py\u001b[0m\u001b]8;;\u001b\\\u001b[2m:\u001b[0m\u001b]8;id=229919;file://c:\\repos\\dsti_goodreads_rating_predictions\\dsti_goodreads_rating_predictions\\goodreads_predictor_kedro\\Lib\\site-packages\\kedro\\ipython\\__init__.py#60\u001b\\\u001b[2m60\u001b[0m\u001b]8;;\u001b\\\n"
      ]
     },
     "metadata": {},
     "output_type": "display_data"
    },
    {
     "data": {
      "text/html": [
       "<pre style=\"white-space:pre;overflow-x:auto;line-height:normal;font-family:Menlo,'DejaVu Sans Mono',consolas,'Courier New',monospace\"><span style=\"color: #7fbfbf; text-decoration-color: #7fbfbf\">                    </span><span style=\"color: #000080; text-decoration-color: #000080\">INFO    </span> Resolved project path as:                                              <a href=\"file://c:\\repos\\dsti_goodreads_rating_predictions\\dsti_goodreads_rating_predictions\\goodreads_predictor_kedro\\Lib\\site-packages\\kedro\\ipython\\__init__.py\" target=\"_blank\"><span style=\"color: #7f7f7f; text-decoration-color: #7f7f7f\">__init__.py</span></a><span style=\"color: #7f7f7f; text-decoration-color: #7f7f7f\">:</span><a href=\"file://c:\\repos\\dsti_goodreads_rating_predictions\\dsti_goodreads_rating_predictions\\goodreads_predictor_kedro\\Lib\\site-packages\\kedro\\ipython\\__init__.py#171\" target=\"_blank\"><span style=\"color: #7f7f7f; text-decoration-color: #7f7f7f\">171</span></a>\n",
       "<span style=\"color: #7fbfbf; text-decoration-color: #7fbfbf\">                    </span>         c:\\repos\\dsti_goodreads_rating_predictions\\dsti_goodreads_rating_predi <span style=\"color: #7f7f7f; text-decoration-color: #7f7f7f\">               </span>\n",
       "<span style=\"color: #7fbfbf; text-decoration-color: #7fbfbf\">                    </span>         ctions\\goodreads-predictor.                                            <span style=\"color: #7f7f7f; text-decoration-color: #7f7f7f\">               </span>\n",
       "<span style=\"color: #7fbfbf; text-decoration-color: #7fbfbf\">                    </span>         To set a different path, run <span style=\"color: #008000; text-decoration-color: #008000\">'%reload_kedro &lt;project_root&gt;'</span>            <span style=\"color: #7f7f7f; text-decoration-color: #7f7f7f\">               </span>\n",
       "</pre>\n"
      ],
      "text/plain": [
       "\u001b[2;36m                   \u001b[0m\u001b[2;36m \u001b[0m\u001b[34mINFO    \u001b[0m Resolved project path as:                                              \u001b]8;id=816185;file://c:\\repos\\dsti_goodreads_rating_predictions\\dsti_goodreads_rating_predictions\\goodreads_predictor_kedro\\Lib\\site-packages\\kedro\\ipython\\__init__.py\u001b\\\u001b[2m__init__.py\u001b[0m\u001b]8;;\u001b\\\u001b[2m:\u001b[0m\u001b]8;id=77171;file://c:\\repos\\dsti_goodreads_rating_predictions\\dsti_goodreads_rating_predictions\\goodreads_predictor_kedro\\Lib\\site-packages\\kedro\\ipython\\__init__.py#171\u001b\\\u001b[2m171\u001b[0m\u001b]8;;\u001b\\\n",
       "\u001b[2;36m                    \u001b[0m         c:\\repos\\dsti_goodreads_rating_predictions\\dsti_goodreads_rating_predi \u001b[2m               \u001b[0m\n",
       "\u001b[2;36m                    \u001b[0m         ctions\\goodreads-predictor.                                            \u001b[2m               \u001b[0m\n",
       "\u001b[2;36m                    \u001b[0m         To set a different path, run \u001b[32m'%reload_kedro \u001b[0m\u001b[32m<\u001b[0m\u001b[32mproject_root\u001b[0m\u001b[32m>\u001b[0m\u001b[32m'\u001b[0m            \u001b[2m               \u001b[0m\n"
      ]
     },
     "metadata": {},
     "output_type": "display_data"
    },
    {
     "data": {
      "text/html": [
       "<pre style=\"white-space:pre;overflow-x:auto;line-height:normal;font-family:Menlo,'DejaVu Sans Mono',consolas,'Courier New',monospace\"><span style=\"color: #7fbfbf; text-decoration-color: #7fbfbf\">                    </span><span style=\"color: #000080; text-decoration-color: #000080\">INFO    </span> Kedro project goodreads-predictor                                      <a href=\"file://c:\\repos\\dsti_goodreads_rating_predictions\\dsti_goodreads_rating_predictions\\goodreads_predictor_kedro\\Lib\\site-packages\\kedro\\ipython\\__init__.py\" target=\"_blank\"><span style=\"color: #7f7f7f; text-decoration-color: #7f7f7f\">__init__.py</span></a><span style=\"color: #7f7f7f; text-decoration-color: #7f7f7f\">:</span><a href=\"file://c:\\repos\\dsti_goodreads_rating_predictions\\dsti_goodreads_rating_predictions\\goodreads_predictor_kedro\\Lib\\site-packages\\kedro\\ipython\\__init__.py#141\" target=\"_blank\"><span style=\"color: #7f7f7f; text-decoration-color: #7f7f7f\">141</span></a>\n",
       "</pre>\n"
      ],
      "text/plain": [
       "\u001b[2;36m                   \u001b[0m\u001b[2;36m \u001b[0m\u001b[34mINFO    \u001b[0m Kedro project goodreads-predictor                                      \u001b]8;id=164314;file://c:\\repos\\dsti_goodreads_rating_predictions\\dsti_goodreads_rating_predictions\\goodreads_predictor_kedro\\Lib\\site-packages\\kedro\\ipython\\__init__.py\u001b\\\u001b[2m__init__.py\u001b[0m\u001b]8;;\u001b\\\u001b[2m:\u001b[0m\u001b]8;id=363120;file://c:\\repos\\dsti_goodreads_rating_predictions\\dsti_goodreads_rating_predictions\\goodreads_predictor_kedro\\Lib\\site-packages\\kedro\\ipython\\__init__.py#141\u001b\\\u001b[2m141\u001b[0m\u001b]8;;\u001b\\\n"
      ]
     },
     "metadata": {},
     "output_type": "display_data"
    },
    {
     "data": {
      "text/html": [
       "<pre style=\"white-space:pre;overflow-x:auto;line-height:normal;font-family:Menlo,'DejaVu Sans Mono',consolas,'Courier New',monospace\"><span style=\"color: #7fbfbf; text-decoration-color: #7fbfbf\">                    </span><span style=\"color: #000080; text-decoration-color: #000080\">INFO    </span> Defined global variable <span style=\"color: #008000; text-decoration-color: #008000\">'context'</span>, <span style=\"color: #008000; text-decoration-color: #008000\">'session'</span>, <span style=\"color: #008000; text-decoration-color: #008000\">'catalog'</span> and            <a href=\"file://c:\\repos\\dsti_goodreads_rating_predictions\\dsti_goodreads_rating_predictions\\goodreads_predictor_kedro\\Lib\\site-packages\\kedro\\ipython\\__init__.py\" target=\"_blank\"><span style=\"color: #7f7f7f; text-decoration-color: #7f7f7f\">__init__.py</span></a><span style=\"color: #7f7f7f; text-decoration-color: #7f7f7f\">:</span><a href=\"file://c:\\repos\\dsti_goodreads_rating_predictions\\dsti_goodreads_rating_predictions\\goodreads_predictor_kedro\\Lib\\site-packages\\kedro\\ipython\\__init__.py#142\" target=\"_blank\"><span style=\"color: #7f7f7f; text-decoration-color: #7f7f7f\">142</span></a>\n",
       "<span style=\"color: #7fbfbf; text-decoration-color: #7fbfbf\">                    </span>         <span style=\"color: #008000; text-decoration-color: #008000\">'pipelines'</span>                                                            <span style=\"color: #7f7f7f; text-decoration-color: #7f7f7f\">               </span>\n",
       "</pre>\n"
      ],
      "text/plain": [
       "\u001b[2;36m                   \u001b[0m\u001b[2;36m \u001b[0m\u001b[34mINFO    \u001b[0m Defined global variable \u001b[32m'context'\u001b[0m, \u001b[32m'session'\u001b[0m, \u001b[32m'catalog'\u001b[0m and            \u001b]8;id=430292;file://c:\\repos\\dsti_goodreads_rating_predictions\\dsti_goodreads_rating_predictions\\goodreads_predictor_kedro\\Lib\\site-packages\\kedro\\ipython\\__init__.py\u001b\\\u001b[2m__init__.py\u001b[0m\u001b]8;;\u001b\\\u001b[2m:\u001b[0m\u001b]8;id=938429;file://c:\\repos\\dsti_goodreads_rating_predictions\\dsti_goodreads_rating_predictions\\goodreads_predictor_kedro\\Lib\\site-packages\\kedro\\ipython\\__init__.py#142\u001b\\\u001b[2m142\u001b[0m\u001b]8;;\u001b\\\n",
       "\u001b[2;36m                    \u001b[0m         \u001b[32m'pipelines'\u001b[0m                                                            \u001b[2m               \u001b[0m\n"
      ]
     },
     "metadata": {},
     "output_type": "display_data"
    },
    {
     "data": {
      "text/html": [
       "<pre style=\"white-space:pre;overflow-x:auto;line-height:normal;font-family:Menlo,'DejaVu Sans Mono',consolas,'Courier New',monospace\"><span style=\"color: #7fbfbf; text-decoration-color: #7fbfbf\">                    </span><span style=\"color: #000080; text-decoration-color: #000080\">INFO    </span> Registered line magic <span style=\"color: #008000; text-decoration-color: #008000\">'run_viz'</span>                                        <a href=\"file://c:\\repos\\dsti_goodreads_rating_predictions\\dsti_goodreads_rating_predictions\\goodreads_predictor_kedro\\Lib\\site-packages\\kedro\\ipython\\__init__.py\" target=\"_blank\"><span style=\"color: #7f7f7f; text-decoration-color: #7f7f7f\">__init__.py</span></a><span style=\"color: #7f7f7f; text-decoration-color: #7f7f7f\">:</span><a href=\"file://c:\\repos\\dsti_goodreads_rating_predictions\\dsti_goodreads_rating_predictions\\goodreads_predictor_kedro\\Lib\\site-packages\\kedro\\ipython\\__init__.py#148\" target=\"_blank\"><span style=\"color: #7f7f7f; text-decoration-color: #7f7f7f\">148</span></a>\n",
       "</pre>\n"
      ],
      "text/plain": [
       "\u001b[2;36m                   \u001b[0m\u001b[2;36m \u001b[0m\u001b[34mINFO    \u001b[0m Registered line magic \u001b[32m'run_viz'\u001b[0m                                        \u001b]8;id=818518;file://c:\\repos\\dsti_goodreads_rating_predictions\\dsti_goodreads_rating_predictions\\goodreads_predictor_kedro\\Lib\\site-packages\\kedro\\ipython\\__init__.py\u001b\\\u001b[2m__init__.py\u001b[0m\u001b]8;;\u001b\\\u001b[2m:\u001b[0m\u001b]8;id=717820;file://c:\\repos\\dsti_goodreads_rating_predictions\\dsti_goodreads_rating_predictions\\goodreads_predictor_kedro\\Lib\\site-packages\\kedro\\ipython\\__init__.py#148\u001b\\\u001b[2m148\u001b[0m\u001b]8;;\u001b\\\n"
      ]
     },
     "metadata": {},
     "output_type": "display_data"
    },
    {
     "data": {
      "text/html": [
       "<pre style=\"white-space:pre;overflow-x:auto;line-height:normal;font-family:Menlo,'DejaVu Sans Mono',consolas,'Courier New',monospace\"><span style=\"color: #7fbfbf; text-decoration-color: #7fbfbf\">                    </span><span style=\"color: #000080; text-decoration-color: #000080\">INFO    </span> Resolved project path as:                                              <a href=\"file://c:\\repos\\dsti_goodreads_rating_predictions\\dsti_goodreads_rating_predictions\\goodreads_predictor_kedro\\Lib\\site-packages\\kedro\\ipython\\__init__.py\" target=\"_blank\"><span style=\"color: #7f7f7f; text-decoration-color: #7f7f7f\">__init__.py</span></a><span style=\"color: #7f7f7f; text-decoration-color: #7f7f7f\">:</span><a href=\"file://c:\\repos\\dsti_goodreads_rating_predictions\\dsti_goodreads_rating_predictions\\goodreads_predictor_kedro\\Lib\\site-packages\\kedro\\ipython\\__init__.py#171\" target=\"_blank\"><span style=\"color: #7f7f7f; text-decoration-color: #7f7f7f\">171</span></a>\n",
       "<span style=\"color: #7fbfbf; text-decoration-color: #7fbfbf\">                    </span>         C:\\repos\\dsti_goodreads_rating_predictions\\dsti_goodreads_rating_predi <span style=\"color: #7f7f7f; text-decoration-color: #7f7f7f\">               </span>\n",
       "<span style=\"color: #7fbfbf; text-decoration-color: #7fbfbf\">                    </span>         ctions\\goodreads-predictor.                                            <span style=\"color: #7f7f7f; text-decoration-color: #7f7f7f\">               </span>\n",
       "<span style=\"color: #7fbfbf; text-decoration-color: #7fbfbf\">                    </span>         To set a different path, run <span style=\"color: #008000; text-decoration-color: #008000\">'%reload_kedro &lt;project_root&gt;'</span>            <span style=\"color: #7f7f7f; text-decoration-color: #7f7f7f\">               </span>\n",
       "</pre>\n"
      ],
      "text/plain": [
       "\u001b[2;36m                   \u001b[0m\u001b[2;36m \u001b[0m\u001b[34mINFO    \u001b[0m Resolved project path as:                                              \u001b]8;id=677396;file://c:\\repos\\dsti_goodreads_rating_predictions\\dsti_goodreads_rating_predictions\\goodreads_predictor_kedro\\Lib\\site-packages\\kedro\\ipython\\__init__.py\u001b\\\u001b[2m__init__.py\u001b[0m\u001b]8;;\u001b\\\u001b[2m:\u001b[0m\u001b]8;id=507301;file://c:\\repos\\dsti_goodreads_rating_predictions\\dsti_goodreads_rating_predictions\\goodreads_predictor_kedro\\Lib\\site-packages\\kedro\\ipython\\__init__.py#171\u001b\\\u001b[2m171\u001b[0m\u001b]8;;\u001b\\\n",
       "\u001b[2;36m                    \u001b[0m         C:\\repos\\dsti_goodreads_rating_predictions\\dsti_goodreads_rating_predi \u001b[2m               \u001b[0m\n",
       "\u001b[2;36m                    \u001b[0m         ctions\\goodreads-predictor.                                            \u001b[2m               \u001b[0m\n",
       "\u001b[2;36m                    \u001b[0m         To set a different path, run \u001b[32m'%reload_kedro \u001b[0m\u001b[32m<\u001b[0m\u001b[32mproject_root\u001b[0m\u001b[32m>\u001b[0m\u001b[32m'\u001b[0m            \u001b[2m               \u001b[0m\n"
      ]
     },
     "metadata": {},
     "output_type": "display_data"
    },
    {
     "data": {
      "text/html": [
       "<pre style=\"white-space:pre;overflow-x:auto;line-height:normal;font-family:Menlo,'DejaVu Sans Mono',consolas,'Courier New',monospace\"><span style=\"color: #7fbfbf; text-decoration-color: #7fbfbf\">[08/15/24 13:19:09] </span><span style=\"color: #000080; text-decoration-color: #000080\">INFO    </span> Kedro project goodreads-predictor                                      <a href=\"file://c:\\repos\\dsti_goodreads_rating_predictions\\dsti_goodreads_rating_predictions\\goodreads_predictor_kedro\\Lib\\site-packages\\kedro\\ipython\\__init__.py\" target=\"_blank\"><span style=\"color: #7f7f7f; text-decoration-color: #7f7f7f\">__init__.py</span></a><span style=\"color: #7f7f7f; text-decoration-color: #7f7f7f\">:</span><a href=\"file://c:\\repos\\dsti_goodreads_rating_predictions\\dsti_goodreads_rating_predictions\\goodreads_predictor_kedro\\Lib\\site-packages\\kedro\\ipython\\__init__.py#141\" target=\"_blank\"><span style=\"color: #7f7f7f; text-decoration-color: #7f7f7f\">141</span></a>\n",
       "</pre>\n"
      ],
      "text/plain": [
       "\u001b[2;36m[08/15/24 13:19:09]\u001b[0m\u001b[2;36m \u001b[0m\u001b[34mINFO    \u001b[0m Kedro project goodreads-predictor                                      \u001b]8;id=690813;file://c:\\repos\\dsti_goodreads_rating_predictions\\dsti_goodreads_rating_predictions\\goodreads_predictor_kedro\\Lib\\site-packages\\kedro\\ipython\\__init__.py\u001b\\\u001b[2m__init__.py\u001b[0m\u001b]8;;\u001b\\\u001b[2m:\u001b[0m\u001b]8;id=868763;file://c:\\repos\\dsti_goodreads_rating_predictions\\dsti_goodreads_rating_predictions\\goodreads_predictor_kedro\\Lib\\site-packages\\kedro\\ipython\\__init__.py#141\u001b\\\u001b[2m141\u001b[0m\u001b]8;;\u001b\\\n"
      ]
     },
     "metadata": {},
     "output_type": "display_data"
    },
    {
     "data": {
      "text/html": [
       "<pre style=\"white-space:pre;overflow-x:auto;line-height:normal;font-family:Menlo,'DejaVu Sans Mono',consolas,'Courier New',monospace\"><span style=\"color: #7fbfbf; text-decoration-color: #7fbfbf\">                    </span><span style=\"color: #000080; text-decoration-color: #000080\">INFO    </span> Defined global variable <span style=\"color: #008000; text-decoration-color: #008000\">'context'</span>, <span style=\"color: #008000; text-decoration-color: #008000\">'session'</span>, <span style=\"color: #008000; text-decoration-color: #008000\">'catalog'</span> and            <a href=\"file://c:\\repos\\dsti_goodreads_rating_predictions\\dsti_goodreads_rating_predictions\\goodreads_predictor_kedro\\Lib\\site-packages\\kedro\\ipython\\__init__.py\" target=\"_blank\"><span style=\"color: #7f7f7f; text-decoration-color: #7f7f7f\">__init__.py</span></a><span style=\"color: #7f7f7f; text-decoration-color: #7f7f7f\">:</span><a href=\"file://c:\\repos\\dsti_goodreads_rating_predictions\\dsti_goodreads_rating_predictions\\goodreads_predictor_kedro\\Lib\\site-packages\\kedro\\ipython\\__init__.py#142\" target=\"_blank\"><span style=\"color: #7f7f7f; text-decoration-color: #7f7f7f\">142</span></a>\n",
       "<span style=\"color: #7fbfbf; text-decoration-color: #7fbfbf\">                    </span>         <span style=\"color: #008000; text-decoration-color: #008000\">'pipelines'</span>                                                            <span style=\"color: #7f7f7f; text-decoration-color: #7f7f7f\">               </span>\n",
       "</pre>\n"
      ],
      "text/plain": [
       "\u001b[2;36m                   \u001b[0m\u001b[2;36m \u001b[0m\u001b[34mINFO    \u001b[0m Defined global variable \u001b[32m'context'\u001b[0m, \u001b[32m'session'\u001b[0m, \u001b[32m'catalog'\u001b[0m and            \u001b]8;id=364499;file://c:\\repos\\dsti_goodreads_rating_predictions\\dsti_goodreads_rating_predictions\\goodreads_predictor_kedro\\Lib\\site-packages\\kedro\\ipython\\__init__.py\u001b\\\u001b[2m__init__.py\u001b[0m\u001b]8;;\u001b\\\u001b[2m:\u001b[0m\u001b]8;id=594966;file://c:\\repos\\dsti_goodreads_rating_predictions\\dsti_goodreads_rating_predictions\\goodreads_predictor_kedro\\Lib\\site-packages\\kedro\\ipython\\__init__.py#142\u001b\\\u001b[2m142\u001b[0m\u001b]8;;\u001b\\\n",
       "\u001b[2;36m                    \u001b[0m         \u001b[32m'pipelines'\u001b[0m                                                            \u001b[2m               \u001b[0m\n"
      ]
     },
     "metadata": {},
     "output_type": "display_data"
    },
    {
     "data": {
      "text/html": [
       "<pre style=\"white-space:pre;overflow-x:auto;line-height:normal;font-family:Menlo,'DejaVu Sans Mono',consolas,'Courier New',monospace\"><span style=\"color: #7fbfbf; text-decoration-color: #7fbfbf\">                    </span><span style=\"color: #000080; text-decoration-color: #000080\">INFO    </span> Registered line magic <span style=\"color: #008000; text-decoration-color: #008000\">'run_viz'</span>                                        <a href=\"file://c:\\repos\\dsti_goodreads_rating_predictions\\dsti_goodreads_rating_predictions\\goodreads_predictor_kedro\\Lib\\site-packages\\kedro\\ipython\\__init__.py\" target=\"_blank\"><span style=\"color: #7f7f7f; text-decoration-color: #7f7f7f\">__init__.py</span></a><span style=\"color: #7f7f7f; text-decoration-color: #7f7f7f\">:</span><a href=\"file://c:\\repos\\dsti_goodreads_rating_predictions\\dsti_goodreads_rating_predictions\\goodreads_predictor_kedro\\Lib\\site-packages\\kedro\\ipython\\__init__.py#148\" target=\"_blank\"><span style=\"color: #7f7f7f; text-decoration-color: #7f7f7f\">148</span></a>\n",
       "</pre>\n"
      ],
      "text/plain": [
       "\u001b[2;36m                   \u001b[0m\u001b[2;36m \u001b[0m\u001b[34mINFO    \u001b[0m Registered line magic \u001b[32m'run_viz'\u001b[0m                                        \u001b]8;id=128969;file://c:\\repos\\dsti_goodreads_rating_predictions\\dsti_goodreads_rating_predictions\\goodreads_predictor_kedro\\Lib\\site-packages\\kedro\\ipython\\__init__.py\u001b\\\u001b[2m__init__.py\u001b[0m\u001b]8;;\u001b\\\u001b[2m:\u001b[0m\u001b]8;id=400353;file://c:\\repos\\dsti_goodreads_rating_predictions\\dsti_goodreads_rating_predictions\\goodreads_predictor_kedro\\Lib\\site-packages\\kedro\\ipython\\__init__.py#148\u001b\\\u001b[2m148\u001b[0m\u001b]8;;\u001b\\\n"
      ]
     },
     "metadata": {},
     "output_type": "display_data"
    }
   ],
   "source": [
    "import pandas as pd\n",
    "import numpy as np\n",
    "import matplotlib.pyplot as plt\n",
    "\n",
    "from flaml import AutoML\n",
    "import lightgbm as lgb\n",
    "import xgboost as xgb\n",
    "\n",
    "%reload_ext kedro.ipython\n",
    "%reload_kedro\n",
    "%matplotlib inline"
   ]
  },
  {
   "cell_type": "code",
   "execution_count": 12,
   "metadata": {},
   "outputs": [
    {
     "data": {
      "text/html": [
       "<pre style=\"white-space:pre;overflow-x:auto;line-height:normal;font-family:Menlo,'DejaVu Sans Mono',consolas,'Courier New',monospace\"><span style=\"color: #7fbfbf; text-decoration-color: #7fbfbf\">                    </span><span style=\"color: #000080; text-decoration-color: #000080\">INFO    </span> Loading data from <span style=\"color: #ff8700; text-decoration-color: #ff8700\">model_train</span> <span style=\"font-weight: bold\">(</span>ParquetDataset<span style=\"font-weight: bold\">)</span><span style=\"color: #808000; text-decoration-color: #808000\">...</span>                  <a href=\"file://c:\\repos\\dsti_goodreads_rating_predictions\\dsti_goodreads_rating_predictions\\goodreads_predictor_kedro\\Lib\\site-packages\\kedro\\io\\data_catalog.py\" target=\"_blank\"><span style=\"color: #7f7f7f; text-decoration-color: #7f7f7f\">data_catalog.py</span></a><span style=\"color: #7f7f7f; text-decoration-color: #7f7f7f\">:</span><a href=\"file://c:\\repos\\dsti_goodreads_rating_predictions\\dsti_goodreads_rating_predictions\\goodreads_predictor_kedro\\Lib\\site-packages\\kedro\\io\\data_catalog.py#508\" target=\"_blank\"><span style=\"color: #7f7f7f; text-decoration-color: #7f7f7f\">508</span></a>\n",
       "</pre>\n"
      ],
      "text/plain": [
       "\u001b[2;36m                   \u001b[0m\u001b[2;36m \u001b[0m\u001b[34mINFO    \u001b[0m Loading data from \u001b[38;5;208mmodel_train\u001b[0m \u001b[1m(\u001b[0mParquetDataset\u001b[1m)\u001b[0m\u001b[33m...\u001b[0m                  \u001b]8;id=827407;file://c:\\repos\\dsti_goodreads_rating_predictions\\dsti_goodreads_rating_predictions\\goodreads_predictor_kedro\\Lib\\site-packages\\kedro\\io\\data_catalog.py\u001b\\\u001b[2mdata_catalog.py\u001b[0m\u001b]8;;\u001b\\\u001b[2m:\u001b[0m\u001b]8;id=987086;file://c:\\repos\\dsti_goodreads_rating_predictions\\dsti_goodreads_rating_predictions\\goodreads_predictor_kedro\\Lib\\site-packages\\kedro\\io\\data_catalog.py#508\u001b\\\u001b[2m508\u001b[0m\u001b]8;;\u001b\\\n"
      ]
     },
     "metadata": {},
     "output_type": "display_data"
    },
    {
     "data": {
      "text/html": [
       "<pre style=\"white-space:pre;overflow-x:auto;line-height:normal;font-family:Menlo,'DejaVu Sans Mono',consolas,'Courier New',monospace\"><span style=\"color: #7fbfbf; text-decoration-color: #7fbfbf\">                    </span><span style=\"color: #000080; text-decoration-color: #000080\">INFO    </span> Loading data from <span style=\"color: #ff8700; text-decoration-color: #ff8700\">model_test</span> <span style=\"font-weight: bold\">(</span>ParquetDataset<span style=\"font-weight: bold\">)</span><span style=\"color: #808000; text-decoration-color: #808000\">...</span>                   <a href=\"file://c:\\repos\\dsti_goodreads_rating_predictions\\dsti_goodreads_rating_predictions\\goodreads_predictor_kedro\\Lib\\site-packages\\kedro\\io\\data_catalog.py\" target=\"_blank\"><span style=\"color: #7f7f7f; text-decoration-color: #7f7f7f\">data_catalog.py</span></a><span style=\"color: #7f7f7f; text-decoration-color: #7f7f7f\">:</span><a href=\"file://c:\\repos\\dsti_goodreads_rating_predictions\\dsti_goodreads_rating_predictions\\goodreads_predictor_kedro\\Lib\\site-packages\\kedro\\io\\data_catalog.py#508\" target=\"_blank\"><span style=\"color: #7f7f7f; text-decoration-color: #7f7f7f\">508</span></a>\n",
       "</pre>\n"
      ],
      "text/plain": [
       "\u001b[2;36m                   \u001b[0m\u001b[2;36m \u001b[0m\u001b[34mINFO    \u001b[0m Loading data from \u001b[38;5;208mmodel_test\u001b[0m \u001b[1m(\u001b[0mParquetDataset\u001b[1m)\u001b[0m\u001b[33m...\u001b[0m                   \u001b]8;id=898711;file://c:\\repos\\dsti_goodreads_rating_predictions\\dsti_goodreads_rating_predictions\\goodreads_predictor_kedro\\Lib\\site-packages\\kedro\\io\\data_catalog.py\u001b\\\u001b[2mdata_catalog.py\u001b[0m\u001b]8;;\u001b\\\u001b[2m:\u001b[0m\u001b]8;id=190214;file://c:\\repos\\dsti_goodreads_rating_predictions\\dsti_goodreads_rating_predictions\\goodreads_predictor_kedro\\Lib\\site-packages\\kedro\\io\\data_catalog.py#508\u001b\\\u001b[2m508\u001b[0m\u001b]8;;\u001b\\\n"
      ]
     },
     "metadata": {},
     "output_type": "display_data"
    },
    {
     "data": {
      "text/html": [
       "<pre style=\"white-space:pre;overflow-x:auto;line-height:normal;font-family:Menlo,'DejaVu Sans Mono',consolas,'Courier New',monospace\"><span style=\"color: #7fbfbf; text-decoration-color: #7fbfbf\">                    </span><span style=\"color: #000080; text-decoration-color: #000080\">INFO    </span> Loading data from <span style=\"color: #ff8700; text-decoration-color: #ff8700\">model_valid</span> <span style=\"font-weight: bold\">(</span>ParquetDataset<span style=\"font-weight: bold\">)</span><span style=\"color: #808000; text-decoration-color: #808000\">...</span>                  <a href=\"file://c:\\repos\\dsti_goodreads_rating_predictions\\dsti_goodreads_rating_predictions\\goodreads_predictor_kedro\\Lib\\site-packages\\kedro\\io\\data_catalog.py\" target=\"_blank\"><span style=\"color: #7f7f7f; text-decoration-color: #7f7f7f\">data_catalog.py</span></a><span style=\"color: #7f7f7f; text-decoration-color: #7f7f7f\">:</span><a href=\"file://c:\\repos\\dsti_goodreads_rating_predictions\\dsti_goodreads_rating_predictions\\goodreads_predictor_kedro\\Lib\\site-packages\\kedro\\io\\data_catalog.py#508\" target=\"_blank\"><span style=\"color: #7f7f7f; text-decoration-color: #7f7f7f\">508</span></a>\n",
       "</pre>\n"
      ],
      "text/plain": [
       "\u001b[2;36m                   \u001b[0m\u001b[2;36m \u001b[0m\u001b[34mINFO    \u001b[0m Loading data from \u001b[38;5;208mmodel_valid\u001b[0m \u001b[1m(\u001b[0mParquetDataset\u001b[1m)\u001b[0m\u001b[33m...\u001b[0m                  \u001b]8;id=895534;file://c:\\repos\\dsti_goodreads_rating_predictions\\dsti_goodreads_rating_predictions\\goodreads_predictor_kedro\\Lib\\site-packages\\kedro\\io\\data_catalog.py\u001b\\\u001b[2mdata_catalog.py\u001b[0m\u001b]8;;\u001b\\\u001b[2m:\u001b[0m\u001b]8;id=628205;file://c:\\repos\\dsti_goodreads_rating_predictions\\dsti_goodreads_rating_predictions\\goodreads_predictor_kedro\\Lib\\site-packages\\kedro\\io\\data_catalog.py#508\u001b\\\u001b[2m508\u001b[0m\u001b]8;;\u001b\\\n"
      ]
     },
     "metadata": {},
     "output_type": "display_data"
    }
   ],
   "source": [
    "train_data = catalog.load(\"model_train\")\n",
    "test_data = catalog.load(\"model_test\")\n",
    "valid_data = catalog.load(\"model_valid\")"
   ]
  },
  {
   "cell_type": "code",
   "execution_count": null,
   "metadata": {},
   "outputs": [],
   "source": []
  },
  {
   "cell_type": "code",
   "execution_count": null,
   "metadata": {},
   "outputs": [],
   "source": []
  },
  {
   "cell_type": "code",
   "execution_count": null,
   "metadata": {},
   "outputs": [],
   "source": []
  },
  {
   "cell_type": "code",
   "execution_count": null,
   "metadata": {},
   "outputs": [],
   "source": []
  },
  {
   "cell_type": "code",
   "execution_count": 17,
   "metadata": {},
   "outputs": [],
   "source": [
    "FEATURES = ['most_common_author', 'publisher', 'language_code', 'num_pages', 'ratings_count', 'text_reviews_count', 'Price', 'genre']\n",
    "TARGET = 'average_rating'\n",
    "\n",
    "X_train = train_data[FEATURES]\n",
    "y_train = train_data[TARGET]\n",
    "\n",
    "X_valid = valid_data[FEATURES]\n",
    "y_valid = valid_data[TARGET]\n",
    "\n",
    "X_test = test_data[FEATURES]\n",
    "y_test = test_data[TARGET]"
   ]
  },
  {
   "cell_type": "code",
   "execution_count": 18,
   "metadata": {},
   "outputs": [
    {
     "name": "stdout",
     "output_type": "stream",
     "text": [
      "[flaml.automl.logger: 08-15 13:19:48] {1680} INFO - task = regression\n",
      "[flaml.automl.logger: 08-15 13:19:48] {1688} INFO - Data split method: uniform\n",
      "[flaml.automl.logger: 08-15 13:19:48] {1691} INFO - Evaluation method: holdout\n",
      "[flaml.automl.logger: 08-15 13:19:48] {1789} INFO - Minimizing error metric: 1-r2\n",
      "[flaml.automl.logger: 08-15 13:19:48] {1901} INFO - List of ML learners in AutoML Run: ['lgbm', 'xgb_limitdepth']\n",
      "[flaml.automl.logger: 08-15 13:19:48] {2219} INFO - iteration 0, current learner lgbm\n",
      "[flaml.automl.logger: 08-15 13:19:48] {2345} INFO - Estimated sufficient time budget=367s. Estimated necessary time budget=2s.\n",
      "[flaml.automl.logger: 08-15 13:19:48] {2392} INFO -  at 0.1s,\testimator lgbm's best error=0.9382,\tbest estimator lgbm's best error=0.9382\n",
      "[flaml.automl.logger: 08-15 13:19:48] {2219} INFO - iteration 1, current learner lgbm\n",
      "[flaml.automl.logger: 08-15 13:19:48] {2392} INFO -  at 0.1s,\testimator lgbm's best error=0.9382,\tbest estimator lgbm's best error=0.9382\n",
      "[flaml.automl.logger: 08-15 13:19:48] {2219} INFO - iteration 2, current learner lgbm\n",
      "[flaml.automl.logger: 08-15 13:19:48] {2392} INFO -  at 0.1s,\testimator lgbm's best error=0.8791,\tbest estimator lgbm's best error=0.8791\n",
      "[flaml.automl.logger: 08-15 13:19:48] {2219} INFO - iteration 3, current learner lgbm\n",
      "[flaml.automl.logger: 08-15 13:19:48] {2392} INFO -  at 0.2s,\testimator lgbm's best error=0.8507,\tbest estimator lgbm's best error=0.8507\n",
      "[flaml.automl.logger: 08-15 13:19:48] {2219} INFO - iteration 4, current learner lgbm\n",
      "[flaml.automl.logger: 08-15 13:19:48] {2392} INFO -  at 0.2s,\testimator lgbm's best error=0.8507,\tbest estimator lgbm's best error=0.8507\n",
      "[flaml.automl.logger: 08-15 13:19:48] {2219} INFO - iteration 5, current learner lgbm\n",
      "[flaml.automl.logger: 08-15 13:19:48] {2392} INFO -  at 0.3s,\testimator lgbm's best error=0.8408,\tbest estimator lgbm's best error=0.8408\n",
      "[flaml.automl.logger: 08-15 13:19:48] {2219} INFO - iteration 6, current learner lgbm\n",
      "[flaml.automl.logger: 08-15 13:19:48] {2392} INFO -  at 0.4s,\testimator lgbm's best error=0.8408,\tbest estimator lgbm's best error=0.8408\n",
      "[flaml.automl.logger: 08-15 13:19:48] {2219} INFO - iteration 7, current learner lgbm\n",
      "[flaml.automl.logger: 08-15 13:19:48] {2392} INFO -  at 0.4s,\testimator lgbm's best error=0.8408,\tbest estimator lgbm's best error=0.8408\n",
      "[flaml.automl.logger: 08-15 13:19:48] {2219} INFO - iteration 8, current learner lgbm\n",
      "[flaml.automl.logger: 08-15 13:19:48] {2392} INFO -  at 0.6s,\testimator lgbm's best error=0.8187,\tbest estimator lgbm's best error=0.8187\n",
      "[flaml.automl.logger: 08-15 13:19:48] {2219} INFO - iteration 9, current learner lgbm\n",
      "[flaml.automl.logger: 08-15 13:19:48] {2392} INFO -  at 0.6s,\testimator lgbm's best error=0.8187,\tbest estimator lgbm's best error=0.8187\n",
      "[flaml.automl.logger: 08-15 13:19:48] {2219} INFO - iteration 10, current learner lgbm\n",
      "[flaml.automl.logger: 08-15 13:19:49] {2392} INFO -  at 1.1s,\testimator lgbm's best error=0.8187,\tbest estimator lgbm's best error=0.8187\n",
      "[flaml.automl.logger: 08-15 13:19:49] {2219} INFO - iteration 11, current learner lgbm\n",
      "[flaml.automl.logger: 08-15 13:19:49] {2392} INFO -  at 1.3s,\testimator lgbm's best error=0.8187,\tbest estimator lgbm's best error=0.8187\n",
      "[flaml.automl.logger: 08-15 13:19:49] {2219} INFO - iteration 12, current learner lgbm\n",
      "[flaml.automl.logger: 08-15 13:19:49] {2392} INFO -  at 1.4s,\testimator lgbm's best error=0.8187,\tbest estimator lgbm's best error=0.8187\n",
      "[flaml.automl.logger: 08-15 13:19:49] {2219} INFO - iteration 13, current learner lgbm\n",
      "[flaml.automl.logger: 08-15 13:19:49] {2392} INFO -  at 1.7s,\testimator lgbm's best error=0.8187,\tbest estimator lgbm's best error=0.8187\n",
      "[flaml.automl.logger: 08-15 13:19:49] {2219} INFO - iteration 14, current learner lgbm\n",
      "[flaml.automl.logger: 08-15 13:19:50] {2392} INFO -  at 1.8s,\testimator lgbm's best error=0.8187,\tbest estimator lgbm's best error=0.8187\n",
      "[flaml.automl.logger: 08-15 13:19:50] {2219} INFO - iteration 15, current learner lgbm\n",
      "[flaml.automl.logger: 08-15 13:19:50] {2392} INFO -  at 2.0s,\testimator lgbm's best error=0.8187,\tbest estimator lgbm's best error=0.8187\n",
      "[flaml.automl.logger: 08-15 13:19:50] {2219} INFO - iteration 16, current learner lgbm\n",
      "[flaml.automl.logger: 08-15 13:19:50] {2392} INFO -  at 2.1s,\testimator lgbm's best error=0.8187,\tbest estimator lgbm's best error=0.8187\n",
      "[flaml.automl.logger: 08-15 13:19:50] {2219} INFO - iteration 17, current learner lgbm\n",
      "[flaml.automl.logger: 08-15 13:19:50] {2392} INFO -  at 2.3s,\testimator lgbm's best error=0.8187,\tbest estimator lgbm's best error=0.8187\n",
      "[flaml.automl.logger: 08-15 13:19:50] {2219} INFO - iteration 18, current learner lgbm\n",
      "[flaml.automl.logger: 08-15 13:19:50] {2392} INFO -  at 2.5s,\testimator lgbm's best error=0.8187,\tbest estimator lgbm's best error=0.8187\n",
      "[flaml.automl.logger: 08-15 13:19:50] {2219} INFO - iteration 19, current learner lgbm\n",
      "[flaml.automl.logger: 08-15 13:19:50] {2392} INFO -  at 2.6s,\testimator lgbm's best error=0.8187,\tbest estimator lgbm's best error=0.8187\n",
      "[flaml.automl.logger: 08-15 13:19:50] {2219} INFO - iteration 20, current learner lgbm\n",
      "[flaml.automl.logger: 08-15 13:19:51] {2392} INFO -  at 2.9s,\testimator lgbm's best error=0.8187,\tbest estimator lgbm's best error=0.8187\n",
      "[flaml.automl.logger: 08-15 13:19:51] {2219} INFO - iteration 21, current learner lgbm\n",
      "[flaml.automl.logger: 08-15 13:19:51] {2392} INFO -  at 3.1s,\testimator lgbm's best error=0.8187,\tbest estimator lgbm's best error=0.8187\n",
      "[flaml.automl.logger: 08-15 13:19:51] {2219} INFO - iteration 22, current learner xgb_limitdepth\n",
      "[flaml.automl.logger: 08-15 13:19:51] {2392} INFO -  at 3.2s,\testimator xgb_limitdepth's best error=0.8286,\tbest estimator lgbm's best error=0.8187\n",
      "[flaml.automl.logger: 08-15 13:19:51] {2219} INFO - iteration 23, current learner xgb_limitdepth\n",
      "[flaml.automl.logger: 08-15 13:19:51] {2392} INFO -  at 3.3s,\testimator xgb_limitdepth's best error=0.8286,\tbest estimator lgbm's best error=0.8187\n",
      "[flaml.automl.logger: 08-15 13:19:51] {2219} INFO - iteration 24, current learner xgb_limitdepth\n",
      "[flaml.automl.logger: 08-15 13:19:51] {2392} INFO -  at 3.3s,\testimator xgb_limitdepth's best error=0.8286,\tbest estimator lgbm's best error=0.8187\n",
      "[flaml.automl.logger: 08-15 13:19:51] {2219} INFO - iteration 25, current learner xgb_limitdepth\n",
      "[flaml.automl.logger: 08-15 13:19:51] {2392} INFO -  at 3.4s,\testimator xgb_limitdepth's best error=0.8286,\tbest estimator lgbm's best error=0.8187\n",
      "[flaml.automl.logger: 08-15 13:19:51] {2219} INFO - iteration 26, current learner xgb_limitdepth\n",
      "[flaml.automl.logger: 08-15 13:19:51] {2392} INFO -  at 3.5s,\testimator xgb_limitdepth's best error=0.8286,\tbest estimator lgbm's best error=0.8187\n",
      "[flaml.automl.logger: 08-15 13:19:51] {2219} INFO - iteration 27, current learner xgb_limitdepth\n",
      "[flaml.automl.logger: 08-15 13:19:51] {2392} INFO -  at 3.5s,\testimator xgb_limitdepth's best error=0.8286,\tbest estimator lgbm's best error=0.8187\n",
      "[flaml.automl.logger: 08-15 13:19:51] {2219} INFO - iteration 28, current learner lgbm\n",
      "[flaml.automl.logger: 08-15 13:19:51] {2392} INFO -  at 3.6s,\testimator lgbm's best error=0.8187,\tbest estimator lgbm's best error=0.8187\n",
      "[flaml.automl.logger: 08-15 13:19:51] {2219} INFO - iteration 29, current learner lgbm\n",
      "[flaml.automl.logger: 08-15 13:19:52] {2392} INFO -  at 3.8s,\testimator lgbm's best error=0.8175,\tbest estimator lgbm's best error=0.8175\n",
      "[flaml.automl.logger: 08-15 13:19:52] {2219} INFO - iteration 30, current learner xgb_limitdepth\n",
      "[flaml.automl.logger: 08-15 13:19:52] {2392} INFO -  at 3.9s,\testimator xgb_limitdepth's best error=0.8286,\tbest estimator lgbm's best error=0.8175\n",
      "[flaml.automl.logger: 08-15 13:19:52] {2219} INFO - iteration 31, current learner xgb_limitdepth\n",
      "[flaml.automl.logger: 08-15 13:19:52] {2392} INFO -  at 4.0s,\testimator xgb_limitdepth's best error=0.8286,\tbest estimator lgbm's best error=0.8175\n",
      "[flaml.automl.logger: 08-15 13:19:52] {2219} INFO - iteration 32, current learner lgbm\n",
      "[flaml.automl.logger: 08-15 13:19:52] {2392} INFO -  at 4.2s,\testimator lgbm's best error=0.8175,\tbest estimator lgbm's best error=0.8175\n",
      "[flaml.automl.logger: 08-15 13:19:52] {2219} INFO - iteration 33, current learner xgb_limitdepth\n",
      "[flaml.automl.logger: 08-15 13:19:52] {2392} INFO -  at 4.2s,\testimator xgb_limitdepth's best error=0.8286,\tbest estimator lgbm's best error=0.8175\n",
      "[flaml.automl.logger: 08-15 13:19:52] {2219} INFO - iteration 34, current learner xgb_limitdepth\n",
      "[flaml.automl.logger: 08-15 13:19:52] {2392} INFO -  at 4.3s,\testimator xgb_limitdepth's best error=0.8286,\tbest estimator lgbm's best error=0.8175\n",
      "[flaml.automl.logger: 08-15 13:19:52] {2219} INFO - iteration 35, current learner xgb_limitdepth\n",
      "[flaml.automl.logger: 08-15 13:19:52] {2392} INFO -  at 4.4s,\testimator xgb_limitdepth's best error=0.8286,\tbest estimator lgbm's best error=0.8175\n",
      "[flaml.automl.logger: 08-15 13:19:52] {2219} INFO - iteration 36, current learner xgb_limitdepth\n",
      "[flaml.automl.logger: 08-15 13:19:52] {2392} INFO -  at 4.4s,\testimator xgb_limitdepth's best error=0.8286,\tbest estimator lgbm's best error=0.8175\n",
      "[flaml.automl.logger: 08-15 13:19:52] {2219} INFO - iteration 37, current learner xgb_limitdepth\n",
      "[flaml.automl.logger: 08-15 13:19:52] {2392} INFO -  at 4.5s,\testimator xgb_limitdepth's best error=0.8286,\tbest estimator lgbm's best error=0.8175\n",
      "[flaml.automl.logger: 08-15 13:19:52] {2219} INFO - iteration 38, current learner xgb_limitdepth\n",
      "[flaml.automl.logger: 08-15 13:19:52] {2392} INFO -  at 4.6s,\testimator xgb_limitdepth's best error=0.8286,\tbest estimator lgbm's best error=0.8175\n",
      "[flaml.automl.logger: 08-15 13:19:52] {2219} INFO - iteration 39, current learner xgb_limitdepth\n",
      "[flaml.automl.logger: 08-15 13:19:52] {2392} INFO -  at 4.7s,\testimator xgb_limitdepth's best error=0.8286,\tbest estimator lgbm's best error=0.8175\n",
      "[flaml.automl.logger: 08-15 13:19:52] {2219} INFO - iteration 40, current learner lgbm\n",
      "[flaml.automl.logger: 08-15 13:19:53] {2392} INFO -  at 4.9s,\testimator lgbm's best error=0.8113,\tbest estimator lgbm's best error=0.8113\n",
      "[flaml.automl.logger: 08-15 13:19:53] {2219} INFO - iteration 41, current learner lgbm\n",
      "[flaml.automl.logger: 08-15 13:19:53] {2392} INFO -  at 5.1s,\testimator lgbm's best error=0.8113,\tbest estimator lgbm's best error=0.8113\n",
      "[flaml.automl.logger: 08-15 13:19:53] {2219} INFO - iteration 42, current learner xgb_limitdepth\n",
      "[flaml.automl.logger: 08-15 13:19:53] {2392} INFO -  at 5.1s,\testimator xgb_limitdepth's best error=0.8286,\tbest estimator lgbm's best error=0.8113\n",
      "[flaml.automl.logger: 08-15 13:19:53] {2219} INFO - iteration 43, current learner lgbm\n",
      "[flaml.automl.logger: 08-15 13:19:53] {2392} INFO -  at 5.4s,\testimator lgbm's best error=0.8113,\tbest estimator lgbm's best error=0.8113\n",
      "[flaml.automl.logger: 08-15 13:19:53] {2219} INFO - iteration 44, current learner lgbm\n",
      "[flaml.automl.logger: 08-15 13:19:53] {2392} INFO -  at 5.5s,\testimator lgbm's best error=0.8113,\tbest estimator lgbm's best error=0.8113\n",
      "[flaml.automl.logger: 08-15 13:19:53] {2219} INFO - iteration 45, current learner xgb_limitdepth\n",
      "[flaml.automl.logger: 08-15 13:19:53] {2392} INFO -  at 5.6s,\testimator xgb_limitdepth's best error=0.8286,\tbest estimator lgbm's best error=0.8113\n",
      "[flaml.automl.logger: 08-15 13:19:53] {2219} INFO - iteration 46, current learner lgbm\n",
      "[flaml.automl.logger: 08-15 13:19:53] {2392} INFO -  at 5.7s,\testimator lgbm's best error=0.8113,\tbest estimator lgbm's best error=0.8113\n",
      "[flaml.automl.logger: 08-15 13:19:53] {2219} INFO - iteration 47, current learner lgbm\n",
      "[flaml.automl.logger: 08-15 13:19:54] {2392} INFO -  at 5.9s,\testimator lgbm's best error=0.8113,\tbest estimator lgbm's best error=0.8113\n",
      "[flaml.automl.logger: 08-15 13:19:54] {2219} INFO - iteration 48, current learner xgb_limitdepth\n",
      "[flaml.automl.logger: 08-15 13:19:54] {2392} INFO -  at 6.0s,\testimator xgb_limitdepth's best error=0.8286,\tbest estimator lgbm's best error=0.8113\n",
      "[flaml.automl.logger: 08-15 13:19:54] {2219} INFO - iteration 49, current learner lgbm\n",
      "[flaml.automl.logger: 08-15 13:19:54] {2392} INFO -  at 6.1s,\testimator lgbm's best error=0.8113,\tbest estimator lgbm's best error=0.8113\n",
      "[flaml.automl.logger: 08-15 13:19:54] {2219} INFO - iteration 50, current learner lgbm\n",
      "[flaml.automl.logger: 08-15 13:19:54] {2392} INFO -  at 6.4s,\testimator lgbm's best error=0.8113,\tbest estimator lgbm's best error=0.8113\n",
      "[flaml.automl.logger: 08-15 13:19:54] {2219} INFO - iteration 51, current learner lgbm\n",
      "[flaml.automl.logger: 08-15 13:19:54] {2392} INFO -  at 6.5s,\testimator lgbm's best error=0.8113,\tbest estimator lgbm's best error=0.8113\n",
      "[flaml.automl.logger: 08-15 13:19:54] {2219} INFO - iteration 52, current learner lgbm\n",
      "[flaml.automl.logger: 08-15 13:19:54] {2392} INFO -  at 6.7s,\testimator lgbm's best error=0.8113,\tbest estimator lgbm's best error=0.8113\n",
      "[flaml.automl.logger: 08-15 13:19:54] {2219} INFO - iteration 53, current learner xgb_limitdepth\n",
      "[flaml.automl.logger: 08-15 13:19:55] {2392} INFO -  at 6.8s,\testimator xgb_limitdepth's best error=0.8286,\tbest estimator lgbm's best error=0.8113\n",
      "[flaml.automl.logger: 08-15 13:19:55] {2219} INFO - iteration 54, current learner lgbm\n",
      "[flaml.automl.logger: 08-15 13:19:55] {2392} INFO -  at 7.4s,\testimator lgbm's best error=0.8113,\tbest estimator lgbm's best error=0.8113\n",
      "[flaml.automl.logger: 08-15 13:19:55] {2219} INFO - iteration 55, current learner lgbm\n",
      "[flaml.automl.logger: 08-15 13:19:55] {2392} INFO -  at 7.4s,\testimator lgbm's best error=0.8113,\tbest estimator lgbm's best error=0.8113\n",
      "[flaml.automl.logger: 08-15 13:19:55] {2219} INFO - iteration 56, current learner xgb_limitdepth\n",
      "[flaml.automl.logger: 08-15 13:19:55] {2392} INFO -  at 7.5s,\testimator xgb_limitdepth's best error=0.8286,\tbest estimator lgbm's best error=0.8113\n",
      "[flaml.automl.logger: 08-15 13:19:55] {2219} INFO - iteration 57, current learner lgbm\n",
      "[flaml.automl.logger: 08-15 13:19:56] {2392} INFO -  at 7.7s,\testimator lgbm's best error=0.8113,\tbest estimator lgbm's best error=0.8113\n",
      "[flaml.automl.logger: 08-15 13:19:56] {2219} INFO - iteration 58, current learner xgb_limitdepth\n",
      "[flaml.automl.logger: 08-15 13:19:56] {2392} INFO -  at 7.9s,\testimator xgb_limitdepth's best error=0.8286,\tbest estimator lgbm's best error=0.8113\n",
      "[flaml.automl.logger: 08-15 13:19:56] {2219} INFO - iteration 59, current learner lgbm\n",
      "[flaml.automl.logger: 08-15 13:19:56] {2392} INFO -  at 8.0s,\testimator lgbm's best error=0.8113,\tbest estimator lgbm's best error=0.8113\n",
      "[flaml.automl.logger: 08-15 13:19:56] {2219} INFO - iteration 60, current learner xgb_limitdepth\n",
      "[flaml.automl.logger: 08-15 13:19:56] {2392} INFO -  at 8.0s,\testimator xgb_limitdepth's best error=0.8286,\tbest estimator lgbm's best error=0.8113\n",
      "[flaml.automl.logger: 08-15 13:19:56] {2219} INFO - iteration 61, current learner xgb_limitdepth\n",
      "[flaml.automl.logger: 08-15 13:19:56] {2392} INFO -  at 8.1s,\testimator xgb_limitdepth's best error=0.8286,\tbest estimator lgbm's best error=0.8113\n",
      "[flaml.automl.logger: 08-15 13:19:56] {2219} INFO - iteration 62, current learner lgbm\n",
      "[flaml.automl.logger: 08-15 13:19:56] {2392} INFO -  at 8.6s,\testimator lgbm's best error=0.8113,\tbest estimator lgbm's best error=0.8113\n",
      "[flaml.automl.logger: 08-15 13:19:56] {2219} INFO - iteration 63, current learner xgb_limitdepth\n",
      "[flaml.automl.logger: 08-15 13:19:56] {2392} INFO -  at 8.6s,\testimator xgb_limitdepth's best error=0.8286,\tbest estimator lgbm's best error=0.8113\n",
      "[flaml.automl.logger: 08-15 13:19:56] {2219} INFO - iteration 64, current learner xgb_limitdepth\n",
      "[flaml.automl.logger: 08-15 13:19:57] {2392} INFO -  at 8.8s,\testimator xgb_limitdepth's best error=0.8286,\tbest estimator lgbm's best error=0.8113\n",
      "[flaml.automl.logger: 08-15 13:19:57] {2219} INFO - iteration 65, current learner xgb_limitdepth\n",
      "[flaml.automl.logger: 08-15 13:19:57] {2392} INFO -  at 8.8s,\testimator xgb_limitdepth's best error=0.8286,\tbest estimator lgbm's best error=0.8113\n",
      "[flaml.automl.logger: 08-15 13:19:57] {2219} INFO - iteration 66, current learner lgbm\n",
      "[flaml.automl.logger: 08-15 13:19:57] {2392} INFO -  at 8.9s,\testimator lgbm's best error=0.8113,\tbest estimator lgbm's best error=0.8113\n",
      "[flaml.automl.logger: 08-15 13:19:57] {2219} INFO - iteration 67, current learner xgb_limitdepth\n",
      "[flaml.automl.logger: 08-15 13:19:57] {2392} INFO -  at 9.1s,\testimator xgb_limitdepth's best error=0.8286,\tbest estimator lgbm's best error=0.8113\n",
      "[flaml.automl.logger: 08-15 13:19:57] {2219} INFO - iteration 68, current learner xgb_limitdepth\n",
      "[flaml.automl.logger: 08-15 13:19:57] {2392} INFO -  at 9.1s,\testimator xgb_limitdepth's best error=0.8286,\tbest estimator lgbm's best error=0.8113\n",
      "[flaml.automl.logger: 08-15 13:19:57] {2219} INFO - iteration 69, current learner xgb_limitdepth\n",
      "[flaml.automl.logger: 08-15 13:19:57] {2392} INFO -  at 9.2s,\testimator xgb_limitdepth's best error=0.8286,\tbest estimator lgbm's best error=0.8113\n",
      "[flaml.automl.logger: 08-15 13:19:57] {2219} INFO - iteration 70, current learner xgb_limitdepth\n",
      "[flaml.automl.logger: 08-15 13:19:57] {2392} INFO -  at 9.2s,\testimator xgb_limitdepth's best error=0.8286,\tbest estimator lgbm's best error=0.8113\n",
      "[flaml.automl.logger: 08-15 13:19:57] {2219} INFO - iteration 71, current learner xgb_limitdepth\n",
      "[flaml.automl.logger: 08-15 13:19:57] {2392} INFO -  at 9.4s,\testimator xgb_limitdepth's best error=0.8286,\tbest estimator lgbm's best error=0.8113\n",
      "[flaml.automl.logger: 08-15 13:19:57] {2219} INFO - iteration 72, current learner xgb_limitdepth\n",
      "[flaml.automl.logger: 08-15 13:19:57] {2392} INFO -  at 9.5s,\testimator xgb_limitdepth's best error=0.8286,\tbest estimator lgbm's best error=0.8113\n",
      "[flaml.automl.logger: 08-15 13:19:57] {2219} INFO - iteration 73, current learner lgbm\n",
      "[flaml.automl.logger: 08-15 13:19:57] {2392} INFO -  at 9.5s,\testimator lgbm's best error=0.8113,\tbest estimator lgbm's best error=0.8113\n",
      "[flaml.automl.logger: 08-15 13:19:57] {2219} INFO - iteration 74, current learner lgbm\n",
      "[flaml.automl.logger: 08-15 13:19:58] {2392} INFO -  at 10.1s,\testimator lgbm's best error=0.8095,\tbest estimator lgbm's best error=0.8095\n",
      "[flaml.automl.logger: 08-15 13:19:58] {2219} INFO - iteration 75, current learner xgb_limitdepth\n",
      "[flaml.automl.logger: 08-15 13:19:58] {2392} INFO -  at 10.2s,\testimator xgb_limitdepth's best error=0.8286,\tbest estimator lgbm's best error=0.8095\n",
      "[flaml.automl.logger: 08-15 13:19:58] {2219} INFO - iteration 76, current learner lgbm\n",
      "[flaml.automl.logger: 08-15 13:19:59] {2392} INFO -  at 11.1s,\testimator lgbm's best error=0.8095,\tbest estimator lgbm's best error=0.8095\n",
      "[flaml.automl.logger: 08-15 13:19:59] {2219} INFO - iteration 77, current learner lgbm\n",
      "[flaml.automl.logger: 08-15 13:19:59] {2392} INFO -  at 11.4s,\testimator lgbm's best error=0.8095,\tbest estimator lgbm's best error=0.8095\n",
      "[flaml.automl.logger: 08-15 13:19:59] {2219} INFO - iteration 78, current learner xgb_limitdepth\n",
      "[flaml.automl.logger: 08-15 13:19:59] {2392} INFO -  at 11.5s,\testimator xgb_limitdepth's best error=0.8286,\tbest estimator lgbm's best error=0.8095\n",
      "[flaml.automl.logger: 08-15 13:19:59] {2219} INFO - iteration 79, current learner lgbm\n",
      "[flaml.automl.logger: 08-15 13:19:59] {2392} INFO -  at 11.7s,\testimator lgbm's best error=0.8095,\tbest estimator lgbm's best error=0.8095\n",
      "[flaml.automl.logger: 08-15 13:19:59] {2219} INFO - iteration 80, current learner xgb_limitdepth\n",
      "[flaml.automl.logger: 08-15 13:20:00] {2392} INFO -  at 11.7s,\testimator xgb_limitdepth's best error=0.8286,\tbest estimator lgbm's best error=0.8095\n",
      "[flaml.automl.logger: 08-15 13:20:00] {2219} INFO - iteration 81, current learner xgb_limitdepth\n",
      "[flaml.automl.logger: 08-15 13:20:00] {2392} INFO -  at 12.0s,\testimator xgb_limitdepth's best error=0.8286,\tbest estimator lgbm's best error=0.8095\n",
      "[flaml.automl.logger: 08-15 13:20:00] {2219} INFO - iteration 82, current learner xgb_limitdepth\n",
      "[flaml.automl.logger: 08-15 13:20:00] {2392} INFO -  at 12.1s,\testimator xgb_limitdepth's best error=0.8286,\tbest estimator lgbm's best error=0.8095\n",
      "[flaml.automl.logger: 08-15 13:20:00] {2219} INFO - iteration 83, current learner xgb_limitdepth\n",
      "[flaml.automl.logger: 08-15 13:20:00] {2392} INFO -  at 12.1s,\testimator xgb_limitdepth's best error=0.8286,\tbest estimator lgbm's best error=0.8095\n",
      "[flaml.automl.logger: 08-15 13:20:00] {2219} INFO - iteration 84, current learner xgb_limitdepth\n",
      "[flaml.automl.logger: 08-15 13:20:00] {2392} INFO -  at 12.2s,\testimator xgb_limitdepth's best error=0.8286,\tbest estimator lgbm's best error=0.8095\n",
      "[flaml.automl.logger: 08-15 13:20:00] {2219} INFO - iteration 85, current learner lgbm\n",
      "[flaml.automl.logger: 08-15 13:20:02] {2392} INFO -  at 14.0s,\testimator lgbm's best error=0.8095,\tbest estimator lgbm's best error=0.8095\n",
      "[flaml.automl.logger: 08-15 13:20:02] {2219} INFO - iteration 86, current learner lgbm\n",
      "[flaml.automl.logger: 08-15 13:20:02] {2392} INFO -  at 14.1s,\testimator lgbm's best error=0.8095,\tbest estimator lgbm's best error=0.8095\n",
      "[flaml.automl.logger: 08-15 13:20:02] {2219} INFO - iteration 87, current learner xgb_limitdepth\n",
      "[flaml.automl.logger: 08-15 13:20:02] {2392} INFO -  at 14.2s,\testimator xgb_limitdepth's best error=0.8286,\tbest estimator lgbm's best error=0.8095\n",
      "[flaml.automl.logger: 08-15 13:20:02] {2219} INFO - iteration 88, current learner lgbm\n",
      "[flaml.automl.logger: 08-15 13:20:04] {2392} INFO -  at 16.4s,\testimator lgbm's best error=0.8095,\tbest estimator lgbm's best error=0.8095\n",
      "[flaml.automl.logger: 08-15 13:20:04] {2219} INFO - iteration 89, current learner xgb_limitdepth\n",
      "[flaml.automl.logger: 08-15 13:20:04] {2392} INFO -  at 16.5s,\testimator xgb_limitdepth's best error=0.8286,\tbest estimator lgbm's best error=0.8095\n",
      "[flaml.automl.logger: 08-15 13:20:04] {2219} INFO - iteration 90, current learner xgb_limitdepth\n",
      "[flaml.automl.logger: 08-15 13:20:04] {2392} INFO -  at 16.6s,\testimator xgb_limitdepth's best error=0.8286,\tbest estimator lgbm's best error=0.8095\n",
      "[flaml.automl.logger: 08-15 13:20:04] {2219} INFO - iteration 91, current learner xgb_limitdepth\n",
      "[flaml.automl.logger: 08-15 13:20:04] {2392} INFO -  at 16.7s,\testimator xgb_limitdepth's best error=0.8286,\tbest estimator lgbm's best error=0.8095\n",
      "[flaml.automl.logger: 08-15 13:20:04] {2219} INFO - iteration 92, current learner lgbm\n",
      "[flaml.automl.logger: 08-15 13:20:05] {2392} INFO -  at 16.8s,\testimator lgbm's best error=0.8095,\tbest estimator lgbm's best error=0.8095\n",
      "[flaml.automl.logger: 08-15 13:20:05] {2219} INFO - iteration 93, current learner xgb_limitdepth\n",
      "[flaml.automl.logger: 08-15 13:20:05] {2392} INFO -  at 16.9s,\testimator xgb_limitdepth's best error=0.8286,\tbest estimator lgbm's best error=0.8095\n",
      "[flaml.automl.logger: 08-15 13:20:05] {2219} INFO - iteration 94, current learner xgb_limitdepth\n",
      "[flaml.automl.logger: 08-15 13:20:05] {2392} INFO -  at 17.0s,\testimator xgb_limitdepth's best error=0.8286,\tbest estimator lgbm's best error=0.8095\n",
      "[flaml.automl.logger: 08-15 13:20:05] {2219} INFO - iteration 95, current learner xgb_limitdepth\n",
      "[flaml.automl.logger: 08-15 13:20:05] {2392} INFO -  at 17.1s,\testimator xgb_limitdepth's best error=0.8286,\tbest estimator lgbm's best error=0.8095\n",
      "[flaml.automl.logger: 08-15 13:20:05] {2219} INFO - iteration 96, current learner xgb_limitdepth\n",
      "[flaml.automl.logger: 08-15 13:20:05] {2392} INFO -  at 17.1s,\testimator xgb_limitdepth's best error=0.8286,\tbest estimator lgbm's best error=0.8095\n",
      "[flaml.automl.logger: 08-15 13:20:05] {2219} INFO - iteration 97, current learner lgbm\n",
      "[flaml.automl.logger: 08-15 13:20:08] {2392} INFO -  at 19.8s,\testimator lgbm's best error=0.8095,\tbest estimator lgbm's best error=0.8095\n",
      "[flaml.automl.logger: 08-15 13:20:08] {2219} INFO - iteration 98, current learner xgb_limitdepth\n",
      "[flaml.automl.logger: 08-15 13:20:08] {2392} INFO -  at 19.8s,\testimator xgb_limitdepth's best error=0.8286,\tbest estimator lgbm's best error=0.8095\n",
      "[flaml.automl.logger: 08-15 13:20:08] {2219} INFO - iteration 99, current learner xgb_limitdepth\n",
      "[flaml.automl.logger: 08-15 13:20:08] {2392} INFO -  at 19.9s,\testimator xgb_limitdepth's best error=0.8286,\tbest estimator lgbm's best error=0.8095\n",
      "[flaml.automl.logger: 08-15 13:20:08] {2219} INFO - iteration 100, current learner lgbm\n",
      "[flaml.automl.logger: 08-15 13:20:10] {2392} INFO -  at 22.2s,\testimator lgbm's best error=0.8095,\tbest estimator lgbm's best error=0.8095\n",
      "[flaml.automl.logger: 08-15 13:20:10] {2219} INFO - iteration 101, current learner xgb_limitdepth\n",
      "[flaml.automl.logger: 08-15 13:20:10] {2392} INFO -  at 22.4s,\testimator xgb_limitdepth's best error=0.8286,\tbest estimator lgbm's best error=0.8095\n",
      "[flaml.automl.logger: 08-15 13:20:10] {2219} INFO - iteration 102, current learner xgb_limitdepth\n",
      "[flaml.automl.logger: 08-15 13:20:10] {2392} INFO -  at 22.4s,\testimator xgb_limitdepth's best error=0.8286,\tbest estimator lgbm's best error=0.8095\n",
      "[flaml.automl.logger: 08-15 13:20:10] {2219} INFO - iteration 103, current learner xgb_limitdepth\n",
      "[flaml.automl.logger: 08-15 13:20:10] {2392} INFO -  at 22.5s,\testimator xgb_limitdepth's best error=0.8286,\tbest estimator lgbm's best error=0.8095\n",
      "[flaml.automl.logger: 08-15 13:20:10] {2219} INFO - iteration 104, current learner xgb_limitdepth\n",
      "[flaml.automl.logger: 08-15 13:20:10] {2392} INFO -  at 22.6s,\testimator xgb_limitdepth's best error=0.8286,\tbest estimator lgbm's best error=0.8095\n",
      "[flaml.automl.logger: 08-15 13:20:10] {2219} INFO - iteration 105, current learner xgb_limitdepth\n",
      "[flaml.automl.logger: 08-15 13:20:10] {2392} INFO -  at 22.7s,\testimator xgb_limitdepth's best error=0.8286,\tbest estimator lgbm's best error=0.8095\n",
      "[flaml.automl.logger: 08-15 13:20:10] {2219} INFO - iteration 106, current learner xgb_limitdepth\n",
      "[flaml.automl.logger: 08-15 13:20:11] {2392} INFO -  at 22.7s,\testimator xgb_limitdepth's best error=0.8286,\tbest estimator lgbm's best error=0.8095\n",
      "[flaml.automl.logger: 08-15 13:20:11] {2219} INFO - iteration 107, current learner xgb_limitdepth\n",
      "[flaml.automl.logger: 08-15 13:20:11] {2392} INFO -  at 22.8s,\testimator xgb_limitdepth's best error=0.8286,\tbest estimator lgbm's best error=0.8095\n",
      "[flaml.automl.logger: 08-15 13:20:11] {2219} INFO - iteration 108, current learner lgbm\n",
      "[flaml.automl.logger: 08-15 13:20:11] {2392} INFO -  at 22.9s,\testimator lgbm's best error=0.8095,\tbest estimator lgbm's best error=0.8095\n",
      "[flaml.automl.logger: 08-15 13:20:11] {2219} INFO - iteration 109, current learner xgb_limitdepth\n",
      "[flaml.automl.logger: 08-15 13:20:11] {2392} INFO -  at 23.0s,\testimator xgb_limitdepth's best error=0.8286,\tbest estimator lgbm's best error=0.8095\n",
      "[flaml.automl.logger: 08-15 13:20:11] {2219} INFO - iteration 110, current learner xgb_limitdepth\n",
      "[flaml.automl.logger: 08-15 13:20:11] {2392} INFO -  at 23.1s,\testimator xgb_limitdepth's best error=0.8286,\tbest estimator lgbm's best error=0.8095\n",
      "[flaml.automl.logger: 08-15 13:20:11] {2219} INFO - iteration 111, current learner xgb_limitdepth\n",
      "[flaml.automl.logger: 08-15 13:20:11] {2392} INFO -  at 23.2s,\testimator xgb_limitdepth's best error=0.8232,\tbest estimator lgbm's best error=0.8095\n",
      "[flaml.automl.logger: 08-15 13:20:11] {2219} INFO - iteration 112, current learner lgbm\n",
      "[flaml.automl.logger: 08-15 13:20:13] {2392} INFO -  at 25.0s,\testimator lgbm's best error=0.8095,\tbest estimator lgbm's best error=0.8095\n",
      "[flaml.automl.logger: 08-15 13:20:13] {2219} INFO - iteration 113, current learner lgbm\n",
      "[flaml.automl.logger: 08-15 13:20:13] {2392} INFO -  at 25.2s,\testimator lgbm's best error=0.8095,\tbest estimator lgbm's best error=0.8095\n",
      "[flaml.automl.logger: 08-15 13:20:13] {2219} INFO - iteration 114, current learner xgb_limitdepth\n",
      "[flaml.automl.logger: 08-15 13:20:13] {2392} INFO -  at 25.2s,\testimator xgb_limitdepth's best error=0.8232,\tbest estimator lgbm's best error=0.8095\n",
      "[flaml.automl.logger: 08-15 13:20:13] {2219} INFO - iteration 115, current learner xgb_limitdepth\n",
      "[flaml.automl.logger: 08-15 13:20:13] {2392} INFO -  at 25.3s,\testimator xgb_limitdepth's best error=0.8232,\tbest estimator lgbm's best error=0.8095\n",
      "[flaml.automl.logger: 08-15 13:20:13] {2219} INFO - iteration 116, current learner lgbm\n",
      "[flaml.automl.logger: 08-15 13:20:14] {2392} INFO -  at 26.4s,\testimator lgbm's best error=0.8074,\tbest estimator lgbm's best error=0.8074\n",
      "[flaml.automl.logger: 08-15 13:20:14] {2219} INFO - iteration 117, current learner xgb_limitdepth\n",
      "[flaml.automl.logger: 08-15 13:20:14] {2392} INFO -  at 26.5s,\testimator xgb_limitdepth's best error=0.8158,\tbest estimator lgbm's best error=0.8074\n",
      "[flaml.automl.logger: 08-15 13:20:14] {2219} INFO - iteration 118, current learner xgb_limitdepth\n",
      "[flaml.automl.logger: 08-15 13:20:14] {2392} INFO -  at 26.5s,\testimator xgb_limitdepth's best error=0.8158,\tbest estimator lgbm's best error=0.8074\n",
      "[flaml.automl.logger: 08-15 13:20:14] {2219} INFO - iteration 119, current learner xgb_limitdepth\n",
      "[flaml.automl.logger: 08-15 13:20:14] {2392} INFO -  at 26.6s,\testimator xgb_limitdepth's best error=0.8158,\tbest estimator lgbm's best error=0.8074\n",
      "[flaml.automl.logger: 08-15 13:20:14] {2219} INFO - iteration 120, current learner xgb_limitdepth\n",
      "[flaml.automl.logger: 08-15 13:20:15] {2392} INFO -  at 26.7s,\testimator xgb_limitdepth's best error=0.8158,\tbest estimator lgbm's best error=0.8074\n",
      "[flaml.automl.logger: 08-15 13:20:15] {2219} INFO - iteration 121, current learner xgb_limitdepth\n",
      "[flaml.automl.logger: 08-15 13:20:15] {2392} INFO -  at 26.8s,\testimator xgb_limitdepth's best error=0.8158,\tbest estimator lgbm's best error=0.8074\n",
      "[flaml.automl.logger: 08-15 13:20:15] {2219} INFO - iteration 122, current learner lgbm\n",
      "[flaml.automl.logger: 08-15 13:20:15] {2392} INFO -  at 27.6s,\testimator lgbm's best error=0.8074,\tbest estimator lgbm's best error=0.8074\n",
      "[flaml.automl.logger: 08-15 13:20:15] {2219} INFO - iteration 123, current learner lgbm\n",
      "[flaml.automl.logger: 08-15 13:20:17] {2392} INFO -  at 29.1s,\testimator lgbm's best error=0.8052,\tbest estimator lgbm's best error=0.8052\n",
      "[flaml.automl.logger: 08-15 13:20:17] {2219} INFO - iteration 124, current learner lgbm\n",
      "[flaml.automl.logger: 08-15 13:20:18] {2392} INFO -  at 30.0s,\testimator lgbm's best error=0.8052,\tbest estimator lgbm's best error=0.8052\n",
      "[flaml.automl.logger: 08-15 13:20:18] {2219} INFO - iteration 125, current learner lgbm\n",
      "[flaml.automl.logger: 08-15 13:20:20] {2392} INFO -  at 32.5s,\testimator lgbm's best error=0.8052,\tbest estimator lgbm's best error=0.8052\n",
      "[flaml.automl.logger: 08-15 13:20:20] {2219} INFO - iteration 126, current learner xgb_limitdepth\n",
      "[flaml.automl.logger: 08-15 13:20:21] {2392} INFO -  at 32.8s,\testimator xgb_limitdepth's best error=0.8009,\tbest estimator xgb_limitdepth's best error=0.8009\n",
      "[flaml.automl.logger: 08-15 13:20:21] {2219} INFO - iteration 127, current learner xgb_limitdepth\n",
      "[flaml.automl.logger: 08-15 13:20:21] {2392} INFO -  at 33.1s,\testimator xgb_limitdepth's best error=0.7979,\tbest estimator xgb_limitdepth's best error=0.7979\n",
      "[flaml.automl.logger: 08-15 13:20:21] {2219} INFO - iteration 128, current learner xgb_limitdepth\n",
      "[flaml.automl.logger: 08-15 13:20:21] {2392} INFO -  at 33.4s,\testimator xgb_limitdepth's best error=0.7979,\tbest estimator xgb_limitdepth's best error=0.7979\n",
      "[flaml.automl.logger: 08-15 13:20:21] {2219} INFO - iteration 129, current learner xgb_limitdepth\n",
      "[flaml.automl.logger: 08-15 13:20:22] {2392} INFO -  at 33.9s,\testimator xgb_limitdepth's best error=0.7979,\tbest estimator xgb_limitdepth's best error=0.7979\n",
      "[flaml.automl.logger: 08-15 13:20:22] {2219} INFO - iteration 130, current learner xgb_limitdepth\n",
      "[flaml.automl.logger: 08-15 13:20:22] {2392} INFO -  at 34.1s,\testimator xgb_limitdepth's best error=0.7979,\tbest estimator xgb_limitdepth's best error=0.7979\n",
      "[flaml.automl.logger: 08-15 13:20:22] {2219} INFO - iteration 131, current learner xgb_limitdepth\n",
      "[flaml.automl.logger: 08-15 13:20:22] {2392} INFO -  at 34.6s,\testimator xgb_limitdepth's best error=0.7979,\tbest estimator xgb_limitdepth's best error=0.7979\n",
      "[flaml.automl.logger: 08-15 13:20:22] {2219} INFO - iteration 132, current learner xgb_limitdepth\n",
      "[flaml.automl.logger: 08-15 13:20:23] {2392} INFO -  at 34.8s,\testimator xgb_limitdepth's best error=0.7979,\tbest estimator xgb_limitdepth's best error=0.7979\n",
      "[flaml.automl.logger: 08-15 13:20:23] {2219} INFO - iteration 133, current learner xgb_limitdepth\n",
      "[flaml.automl.logger: 08-15 13:20:23] {2392} INFO -  at 35.2s,\testimator xgb_limitdepth's best error=0.7948,\tbest estimator xgb_limitdepth's best error=0.7948\n",
      "[flaml.automl.logger: 08-15 13:20:23] {2219} INFO - iteration 134, current learner xgb_limitdepth\n",
      "[flaml.automl.logger: 08-15 13:20:23] {2392} INFO -  at 35.5s,\testimator xgb_limitdepth's best error=0.7948,\tbest estimator xgb_limitdepth's best error=0.7948\n",
      "[flaml.automl.logger: 08-15 13:20:23] {2219} INFO - iteration 135, current learner lgbm\n",
      "[flaml.automl.logger: 08-15 13:20:29] {2392} INFO -  at 41.2s,\testimator lgbm's best error=0.8052,\tbest estimator xgb_limitdepth's best error=0.7948\n",
      "[flaml.automl.logger: 08-15 13:20:29] {2219} INFO - iteration 136, current learner xgb_limitdepth\n",
      "[flaml.automl.logger: 08-15 13:20:30] {2392} INFO -  at 41.8s,\testimator xgb_limitdepth's best error=0.7948,\tbest estimator xgb_limitdepth's best error=0.7948\n",
      "[flaml.automl.logger: 08-15 13:20:30] {2219} INFO - iteration 137, current learner xgb_limitdepth\n",
      "[flaml.automl.logger: 08-15 13:20:30] {2392} INFO -  at 42.0s,\testimator xgb_limitdepth's best error=0.7948,\tbest estimator xgb_limitdepth's best error=0.7948\n",
      "[flaml.automl.logger: 08-15 13:20:30] {2219} INFO - iteration 138, current learner xgb_limitdepth\n",
      "[flaml.automl.logger: 08-15 13:20:30] {2392} INFO -  at 42.6s,\testimator xgb_limitdepth's best error=0.7948,\tbest estimator xgb_limitdepth's best error=0.7948\n",
      "[flaml.automl.logger: 08-15 13:20:30] {2219} INFO - iteration 139, current learner xgb_limitdepth\n",
      "[flaml.automl.logger: 08-15 13:20:31] {2392} INFO -  at 42.8s,\testimator xgb_limitdepth's best error=0.7948,\tbest estimator xgb_limitdepth's best error=0.7948\n",
      "[flaml.automl.logger: 08-15 13:20:31] {2219} INFO - iteration 140, current learner xgb_limitdepth\n",
      "[flaml.automl.logger: 08-15 13:20:31] {2392} INFO -  at 43.3s,\testimator xgb_limitdepth's best error=0.7948,\tbest estimator xgb_limitdepth's best error=0.7948\n",
      "[flaml.automl.logger: 08-15 13:20:31] {2219} INFO - iteration 141, current learner xgb_limitdepth\n",
      "[flaml.automl.logger: 08-15 13:20:31] {2392} INFO -  at 43.5s,\testimator xgb_limitdepth's best error=0.7948,\tbest estimator xgb_limitdepth's best error=0.7948\n",
      "[flaml.automl.logger: 08-15 13:20:31] {2219} INFO - iteration 142, current learner xgb_limitdepth\n",
      "[flaml.automl.logger: 08-15 13:20:31] {2392} INFO -  at 43.7s,\testimator xgb_limitdepth's best error=0.7948,\tbest estimator xgb_limitdepth's best error=0.7948\n",
      "[flaml.automl.logger: 08-15 13:20:31] {2219} INFO - iteration 143, current learner xgb_limitdepth\n",
      "[flaml.automl.logger: 08-15 13:20:32] {2392} INFO -  at 44.4s,\testimator xgb_limitdepth's best error=0.7948,\tbest estimator xgb_limitdepth's best error=0.7948\n",
      "[flaml.automl.logger: 08-15 13:20:32] {2219} INFO - iteration 144, current learner xgb_limitdepth\n",
      "[flaml.automl.logger: 08-15 13:20:33] {2392} INFO -  at 45.0s,\testimator xgb_limitdepth's best error=0.7948,\tbest estimator xgb_limitdepth's best error=0.7948\n",
      "[flaml.automl.logger: 08-15 13:20:33] {2219} INFO - iteration 145, current learner xgb_limitdepth\n",
      "[flaml.automl.logger: 08-15 13:20:33] {2392} INFO -  at 45.2s,\testimator xgb_limitdepth's best error=0.7948,\tbest estimator xgb_limitdepth's best error=0.7948\n",
      "[flaml.automl.logger: 08-15 13:20:33] {2219} INFO - iteration 146, current learner xgb_limitdepth\n",
      "[flaml.automl.logger: 08-15 13:20:33] {2392} INFO -  at 45.5s,\testimator xgb_limitdepth's best error=0.7930,\tbest estimator xgb_limitdepth's best error=0.7930\n",
      "[flaml.automl.logger: 08-15 13:20:33] {2219} INFO - iteration 147, current learner xgb_limitdepth\n",
      "[flaml.automl.logger: 08-15 13:20:34] {2392} INFO -  at 45.9s,\testimator xgb_limitdepth's best error=0.7922,\tbest estimator xgb_limitdepth's best error=0.7922\n",
      "[flaml.automl.logger: 08-15 13:20:34] {2219} INFO - iteration 148, current learner xgb_limitdepth\n",
      "[flaml.automl.logger: 08-15 13:20:34] {2392} INFO -  at 46.5s,\testimator xgb_limitdepth's best error=0.7922,\tbest estimator xgb_limitdepth's best error=0.7922\n",
      "[flaml.automl.logger: 08-15 13:20:34] {2219} INFO - iteration 149, current learner xgb_limitdepth\n",
      "[flaml.automl.logger: 08-15 13:20:34] {2392} INFO -  at 46.7s,\testimator xgb_limitdepth's best error=0.7922,\tbest estimator xgb_limitdepth's best error=0.7922\n",
      "[flaml.automl.logger: 08-15 13:20:34] {2219} INFO - iteration 150, current learner xgb_limitdepth\n",
      "[flaml.automl.logger: 08-15 13:20:35] {2392} INFO -  at 47.2s,\testimator xgb_limitdepth's best error=0.7922,\tbest estimator xgb_limitdepth's best error=0.7922\n",
      "[flaml.automl.logger: 08-15 13:20:35] {2219} INFO - iteration 151, current learner xgb_limitdepth\n",
      "[flaml.automl.logger: 08-15 13:20:35] {2392} INFO -  at 47.4s,\testimator xgb_limitdepth's best error=0.7922,\tbest estimator xgb_limitdepth's best error=0.7922\n",
      "[flaml.automl.logger: 08-15 13:20:35] {2219} INFO - iteration 152, current learner xgb_limitdepth\n",
      "[flaml.automl.logger: 08-15 13:20:36] {2392} INFO -  at 47.7s,\testimator xgb_limitdepth's best error=0.7922,\tbest estimator xgb_limitdepth's best error=0.7922\n",
      "[flaml.automl.logger: 08-15 13:20:36] {2219} INFO - iteration 153, current learner xgb_limitdepth\n",
      "[flaml.automl.logger: 08-15 13:20:36] {2392} INFO -  at 48.1s,\testimator xgb_limitdepth's best error=0.7922,\tbest estimator xgb_limitdepth's best error=0.7922\n",
      "[flaml.automl.logger: 08-15 13:20:36] {2219} INFO - iteration 154, current learner xgb_limitdepth\n",
      "[flaml.automl.logger: 08-15 13:20:36] {2392} INFO -  at 48.3s,\testimator xgb_limitdepth's best error=0.7922,\tbest estimator xgb_limitdepth's best error=0.7922\n",
      "[flaml.automl.logger: 08-15 13:20:36] {2219} INFO - iteration 155, current learner xgb_limitdepth\n",
      "[flaml.automl.logger: 08-15 13:20:37] {2392} INFO -  at 48.9s,\testimator xgb_limitdepth's best error=0.7922,\tbest estimator xgb_limitdepth's best error=0.7922\n",
      "[flaml.automl.logger: 08-15 13:20:37] {2219} INFO - iteration 156, current learner xgb_limitdepth\n",
      "[flaml.automl.logger: 08-15 13:20:37] {2392} INFO -  at 49.7s,\testimator xgb_limitdepth's best error=0.7922,\tbest estimator xgb_limitdepth's best error=0.7922\n",
      "[flaml.automl.logger: 08-15 13:20:37] {2219} INFO - iteration 157, current learner xgb_limitdepth\n",
      "[flaml.automl.logger: 08-15 13:20:38] {2392} INFO -  at 49.8s,\testimator xgb_limitdepth's best error=0.7922,\tbest estimator xgb_limitdepth's best error=0.7922\n",
      "[flaml.automl.logger: 08-15 13:20:38] {2219} INFO - iteration 158, current learner xgb_limitdepth\n",
      "[flaml.automl.logger: 08-15 13:20:38] {2392} INFO -  at 50.1s,\testimator xgb_limitdepth's best error=0.7922,\tbest estimator xgb_limitdepth's best error=0.7922\n",
      "[flaml.automl.logger: 08-15 13:20:38] {2219} INFO - iteration 159, current learner xgb_limitdepth\n",
      "[flaml.automl.logger: 08-15 13:20:38] {2392} INFO -  at 50.5s,\testimator xgb_limitdepth's best error=0.7922,\tbest estimator xgb_limitdepth's best error=0.7922\n",
      "[flaml.automl.logger: 08-15 13:20:38] {2219} INFO - iteration 160, current learner xgb_limitdepth\n",
      "[flaml.automl.logger: 08-15 13:20:39] {2392} INFO -  at 51.5s,\testimator xgb_limitdepth's best error=0.7922,\tbest estimator xgb_limitdepth's best error=0.7922\n",
      "[flaml.automl.logger: 08-15 13:20:39] {2219} INFO - iteration 161, current learner xgb_limitdepth\n",
      "[flaml.automl.logger: 08-15 13:20:39] {2392} INFO -  at 51.6s,\testimator xgb_limitdepth's best error=0.7922,\tbest estimator xgb_limitdepth's best error=0.7922\n",
      "[flaml.automl.logger: 08-15 13:20:39] {2219} INFO - iteration 162, current learner xgb_limitdepth\n",
      "[flaml.automl.logger: 08-15 13:20:40] {2392} INFO -  at 52.3s,\testimator xgb_limitdepth's best error=0.7922,\tbest estimator xgb_limitdepth's best error=0.7922\n",
      "[flaml.automl.logger: 08-15 13:20:40] {2219} INFO - iteration 163, current learner xgb_limitdepth\n",
      "[flaml.automl.logger: 08-15 13:20:40] {2392} INFO -  at 52.5s,\testimator xgb_limitdepth's best error=0.7922,\tbest estimator xgb_limitdepth's best error=0.7922\n",
      "[flaml.automl.logger: 08-15 13:20:40] {2219} INFO - iteration 164, current learner xgb_limitdepth\n",
      "[flaml.automl.logger: 08-15 13:20:41] {2392} INFO -  at 52.8s,\testimator xgb_limitdepth's best error=0.7912,\tbest estimator xgb_limitdepth's best error=0.7912\n",
      "[flaml.automl.logger: 08-15 13:20:41] {2219} INFO - iteration 165, current learner xgb_limitdepth\n",
      "[flaml.automl.logger: 08-15 13:20:41] {2392} INFO -  at 53.1s,\testimator xgb_limitdepth's best error=0.7912,\tbest estimator xgb_limitdepth's best error=0.7912\n",
      "[flaml.automl.logger: 08-15 13:20:41] {2219} INFO - iteration 166, current learner xgb_limitdepth\n",
      "[flaml.automl.logger: 08-15 13:20:41] {2392} INFO -  at 53.4s,\testimator xgb_limitdepth's best error=0.7912,\tbest estimator xgb_limitdepth's best error=0.7912\n",
      "[flaml.automl.logger: 08-15 13:20:41] {2219} INFO - iteration 167, current learner lgbm\n",
      "[flaml.automl.logger: 08-15 13:20:42] {2392} INFO -  at 53.7s,\testimator lgbm's best error=0.8052,\tbest estimator xgb_limitdepth's best error=0.7912\n",
      "[flaml.automl.logger: 08-15 13:20:42] {2219} INFO - iteration 168, current learner xgb_limitdepth\n",
      "[flaml.automl.logger: 08-15 13:20:42] {2392} INFO -  at 54.2s,\testimator xgb_limitdepth's best error=0.7912,\tbest estimator xgb_limitdepth's best error=0.7912\n",
      "[flaml.automl.logger: 08-15 13:20:42] {2219} INFO - iteration 169, current learner xgb_limitdepth\n",
      "[flaml.automl.logger: 08-15 13:20:42] {2392} INFO -  at 54.5s,\testimator xgb_limitdepth's best error=0.7912,\tbest estimator xgb_limitdepth's best error=0.7912\n",
      "[flaml.automl.logger: 08-15 13:20:42] {2219} INFO - iteration 170, current learner xgb_limitdepth\n",
      "[flaml.automl.logger: 08-15 13:20:43] {2392} INFO -  at 54.9s,\testimator xgb_limitdepth's best error=0.7912,\tbest estimator xgb_limitdepth's best error=0.7912\n",
      "[flaml.automl.logger: 08-15 13:20:43] {2219} INFO - iteration 171, current learner xgb_limitdepth\n",
      "[flaml.automl.logger: 08-15 13:20:43] {2392} INFO -  at 55.1s,\testimator xgb_limitdepth's best error=0.7912,\tbest estimator xgb_limitdepth's best error=0.7912\n",
      "[flaml.automl.logger: 08-15 13:20:43] {2219} INFO - iteration 172, current learner xgb_limitdepth\n",
      "[flaml.automl.logger: 08-15 13:20:43] {2392} INFO -  at 55.5s,\testimator xgb_limitdepth's best error=0.7912,\tbest estimator xgb_limitdepth's best error=0.7912\n",
      "[flaml.automl.logger: 08-15 13:20:43] {2219} INFO - iteration 173, current learner xgb_limitdepth\n",
      "[flaml.automl.logger: 08-15 13:20:43] {2392} INFO -  at 55.6s,\testimator xgb_limitdepth's best error=0.7912,\tbest estimator xgb_limitdepth's best error=0.7912\n",
      "[flaml.automl.logger: 08-15 13:20:43] {2219} INFO - iteration 174, current learner xgb_limitdepth\n",
      "[flaml.automl.logger: 08-15 13:20:45] {2392} INFO -  at 57.0s,\testimator xgb_limitdepth's best error=0.7912,\tbest estimator xgb_limitdepth's best error=0.7912\n",
      "[flaml.automl.logger: 08-15 13:20:45] {2219} INFO - iteration 175, current learner xgb_limitdepth\n",
      "[flaml.automl.logger: 08-15 13:20:46] {2392} INFO -  at 58.5s,\testimator xgb_limitdepth's best error=0.7912,\tbest estimator xgb_limitdepth's best error=0.7912\n",
      "[flaml.automl.logger: 08-15 13:20:46] {2219} INFO - iteration 176, current learner xgb_limitdepth\n",
      "[flaml.automl.logger: 08-15 13:20:46] {2392} INFO -  at 58.6s,\testimator xgb_limitdepth's best error=0.7912,\tbest estimator xgb_limitdepth's best error=0.7912\n",
      "[flaml.automl.logger: 08-15 13:20:46] {2219} INFO - iteration 177, current learner xgb_limitdepth\n",
      "[flaml.automl.logger: 08-15 13:20:47] {2392} INFO -  at 58.7s,\testimator xgb_limitdepth's best error=0.7912,\tbest estimator xgb_limitdepth's best error=0.7912\n",
      "[flaml.automl.logger: 08-15 13:20:47] {2219} INFO - iteration 178, current learner xgb_limitdepth\n",
      "[flaml.automl.logger: 08-15 13:20:47] {2392} INFO -  at 59.3s,\testimator xgb_limitdepth's best error=0.7912,\tbest estimator xgb_limitdepth's best error=0.7912\n",
      "[flaml.automl.logger: 08-15 13:20:47] {2219} INFO - iteration 179, current learner xgb_limitdepth\n",
      "[flaml.automl.logger: 08-15 13:20:47] {2392} INFO -  at 59.6s,\testimator xgb_limitdepth's best error=0.7912,\tbest estimator xgb_limitdepth's best error=0.7912\n",
      "[flaml.automl.logger: 08-15 13:20:47] {2219} INFO - iteration 180, current learner xgb_limitdepth\n",
      "[flaml.automl.logger: 08-15 13:20:48] {2392} INFO -  at 60.1s,\testimator xgb_limitdepth's best error=0.7912,\tbest estimator xgb_limitdepth's best error=0.7912\n",
      "[flaml.automl.logger: 08-15 13:20:48] {2219} INFO - iteration 181, current learner xgb_limitdepth\n",
      "[flaml.automl.logger: 08-15 13:20:48] {2392} INFO -  at 60.2s,\testimator xgb_limitdepth's best error=0.7912,\tbest estimator xgb_limitdepth's best error=0.7912\n",
      "[flaml.automl.logger: 08-15 13:20:48] {2219} INFO - iteration 182, current learner xgb_limitdepth\n",
      "[flaml.automl.logger: 08-15 13:20:49] {2392} INFO -  at 61.3s,\testimator xgb_limitdepth's best error=0.7912,\tbest estimator xgb_limitdepth's best error=0.7912\n",
      "[flaml.automl.logger: 08-15 13:20:49] {2219} INFO - iteration 183, current learner xgb_limitdepth\n",
      "[flaml.automl.logger: 08-15 13:20:49] {2392} INFO -  at 61.4s,\testimator xgb_limitdepth's best error=0.7912,\tbest estimator xgb_limitdepth's best error=0.7912\n",
      "[flaml.automl.logger: 08-15 13:20:49] {2219} INFO - iteration 184, current learner xgb_limitdepth\n",
      "[flaml.automl.logger: 08-15 13:20:50] {2392} INFO -  at 62.2s,\testimator xgb_limitdepth's best error=0.7912,\tbest estimator xgb_limitdepth's best error=0.7912\n",
      "[flaml.automl.logger: 08-15 13:20:50] {2219} INFO - iteration 185, current learner xgb_limitdepth\n",
      "[flaml.automl.logger: 08-15 13:20:50] {2392} INFO -  at 62.5s,\testimator xgb_limitdepth's best error=0.7912,\tbest estimator xgb_limitdepth's best error=0.7912\n",
      "[flaml.automl.logger: 08-15 13:20:50] {2219} INFO - iteration 186, current learner xgb_limitdepth\n",
      "[flaml.automl.logger: 08-15 13:20:51] {2392} INFO -  at 62.9s,\testimator xgb_limitdepth's best error=0.7912,\tbest estimator xgb_limitdepth's best error=0.7912\n",
      "[flaml.automl.logger: 08-15 13:20:51] {2219} INFO - iteration 187, current learner xgb_limitdepth\n",
      "[flaml.automl.logger: 08-15 13:20:51] {2392} INFO -  at 63.1s,\testimator xgb_limitdepth's best error=0.7912,\tbest estimator xgb_limitdepth's best error=0.7912\n",
      "[flaml.automl.logger: 08-15 13:20:51] {2219} INFO - iteration 188, current learner xgb_limitdepth\n",
      "[flaml.automl.logger: 08-15 13:20:52] {2392} INFO -  at 63.9s,\testimator xgb_limitdepth's best error=0.7912,\tbest estimator xgb_limitdepth's best error=0.7912\n",
      "[flaml.automl.logger: 08-15 13:20:52] {2219} INFO - iteration 189, current learner xgb_limitdepth\n",
      "[flaml.automl.logger: 08-15 13:20:52] {2392} INFO -  at 64.1s,\testimator xgb_limitdepth's best error=0.7912,\tbest estimator xgb_limitdepth's best error=0.7912\n",
      "[flaml.automl.logger: 08-15 13:20:52] {2219} INFO - iteration 190, current learner xgb_limitdepth\n",
      "[flaml.automl.logger: 08-15 13:20:52] {2392} INFO -  at 64.7s,\testimator xgb_limitdepth's best error=0.7912,\tbest estimator xgb_limitdepth's best error=0.7912\n",
      "[flaml.automl.logger: 08-15 13:20:52] {2219} INFO - iteration 191, current learner xgb_limitdepth\n",
      "[flaml.automl.logger: 08-15 13:20:53] {2392} INFO -  at 64.8s,\testimator xgb_limitdepth's best error=0.7912,\tbest estimator xgb_limitdepth's best error=0.7912\n",
      "[flaml.automl.logger: 08-15 13:20:53] {2219} INFO - iteration 192, current learner xgb_limitdepth\n",
      "[flaml.automl.logger: 08-15 13:20:54] {2392} INFO -  at 66.1s,\testimator xgb_limitdepth's best error=0.7912,\tbest estimator xgb_limitdepth's best error=0.7912\n",
      "[flaml.automl.logger: 08-15 13:20:54] {2219} INFO - iteration 193, current learner lgbm\n",
      "[flaml.automl.logger: 08-15 13:20:56] {2392} INFO -  at 68.0s,\testimator lgbm's best error=0.8052,\tbest estimator xgb_limitdepth's best error=0.7912\n",
      "[flaml.automl.logger: 08-15 13:20:56] {2219} INFO - iteration 194, current learner xgb_limitdepth\n",
      "[flaml.automl.logger: 08-15 13:20:56] {2392} INFO -  at 68.5s,\testimator xgb_limitdepth's best error=0.7912,\tbest estimator xgb_limitdepth's best error=0.7912\n",
      "[flaml.automl.logger: 08-15 13:20:56] {2219} INFO - iteration 195, current learner xgb_limitdepth\n",
      "[flaml.automl.logger: 08-15 13:20:57] {2392} INFO -  at 68.9s,\testimator xgb_limitdepth's best error=0.7912,\tbest estimator xgb_limitdepth's best error=0.7912\n",
      "[flaml.automl.logger: 08-15 13:20:57] {2219} INFO - iteration 196, current learner xgb_limitdepth\n",
      "[flaml.automl.logger: 08-15 13:20:57] {2392} INFO -  at 69.0s,\testimator xgb_limitdepth's best error=0.7912,\tbest estimator xgb_limitdepth's best error=0.7912\n",
      "[flaml.automl.logger: 08-15 13:20:57] {2219} INFO - iteration 197, current learner xgb_limitdepth\n",
      "[flaml.automl.logger: 08-15 13:20:58] {2392} INFO -  at 69.7s,\testimator xgb_limitdepth's best error=0.7912,\tbest estimator xgb_limitdepth's best error=0.7912\n",
      "[flaml.automl.logger: 08-15 13:20:58] {2219} INFO - iteration 198, current learner lgbm\n",
      "[flaml.automl.logger: 08-15 13:20:59] {2392} INFO -  at 71.3s,\testimator lgbm's best error=0.8052,\tbest estimator xgb_limitdepth's best error=0.7912\n",
      "[flaml.automl.logger: 08-15 13:20:59] {2219} INFO - iteration 199, current learner xgb_limitdepth\n",
      "[flaml.automl.logger: 08-15 13:20:59] {2392} INFO -  at 71.5s,\testimator xgb_limitdepth's best error=0.7912,\tbest estimator xgb_limitdepth's best error=0.7912\n",
      "[flaml.automl.logger: 08-15 13:20:59] {2219} INFO - iteration 200, current learner xgb_limitdepth\n",
      "[flaml.automl.logger: 08-15 13:21:00] {2392} INFO -  at 72.2s,\testimator xgb_limitdepth's best error=0.7912,\tbest estimator xgb_limitdepth's best error=0.7912\n",
      "[flaml.automl.logger: 08-15 13:21:00] {2219} INFO - iteration 201, current learner xgb_limitdepth\n",
      "[flaml.automl.logger: 08-15 13:21:01] {2392} INFO -  at 72.8s,\testimator xgb_limitdepth's best error=0.7912,\tbest estimator xgb_limitdepth's best error=0.7912\n",
      "[flaml.automl.logger: 08-15 13:21:01] {2219} INFO - iteration 202, current learner xgb_limitdepth\n",
      "[flaml.automl.logger: 08-15 13:21:01] {2392} INFO -  at 73.0s,\testimator xgb_limitdepth's best error=0.7912,\tbest estimator xgb_limitdepth's best error=0.7912\n",
      "[flaml.automl.logger: 08-15 13:21:01] {2219} INFO - iteration 203, current learner xgb_limitdepth\n",
      "[flaml.automl.logger: 08-15 13:21:01] {2392} INFO -  at 73.2s,\testimator xgb_limitdepth's best error=0.7912,\tbest estimator xgb_limitdepth's best error=0.7912\n",
      "[flaml.automl.logger: 08-15 13:21:01] {2219} INFO - iteration 204, current learner xgb_limitdepth\n",
      "[flaml.automl.logger: 08-15 13:21:02] {2392} INFO -  at 73.7s,\testimator xgb_limitdepth's best error=0.7912,\tbest estimator xgb_limitdepth's best error=0.7912\n",
      "[flaml.automl.logger: 08-15 13:21:02] {2219} INFO - iteration 205, current learner xgb_limitdepth\n",
      "[flaml.automl.logger: 08-15 13:21:03] {2392} INFO -  at 74.8s,\testimator xgb_limitdepth's best error=0.7912,\tbest estimator xgb_limitdepth's best error=0.7912\n",
      "[flaml.automl.logger: 08-15 13:21:03] {2219} INFO - iteration 206, current learner xgb_limitdepth\n",
      "[flaml.automl.logger: 08-15 13:21:03] {2392} INFO -  at 74.9s,\testimator xgb_limitdepth's best error=0.7912,\tbest estimator xgb_limitdepth's best error=0.7912\n",
      "[flaml.automl.logger: 08-15 13:21:03] {2219} INFO - iteration 207, current learner xgb_limitdepth\n",
      "[flaml.automl.logger: 08-15 13:21:03] {2392} INFO -  at 75.1s,\testimator xgb_limitdepth's best error=0.7912,\tbest estimator xgb_limitdepth's best error=0.7912\n",
      "[flaml.automl.logger: 08-15 13:21:03] {2219} INFO - iteration 208, current learner xgb_limitdepth\n",
      "[flaml.automl.logger: 08-15 13:21:04] {2392} INFO -  at 75.8s,\testimator xgb_limitdepth's best error=0.7912,\tbest estimator xgb_limitdepth's best error=0.7912\n",
      "[flaml.automl.logger: 08-15 13:21:04] {2219} INFO - iteration 209, current learner xgb_limitdepth\n",
      "[flaml.automl.logger: 08-15 13:21:04] {2392} INFO -  at 76.2s,\testimator xgb_limitdepth's best error=0.7912,\tbest estimator xgb_limitdepth's best error=0.7912\n",
      "[flaml.automl.logger: 08-15 13:21:04] {2219} INFO - iteration 210, current learner xgb_limitdepth\n",
      "[flaml.automl.logger: 08-15 13:21:04] {2392} INFO -  at 76.5s,\testimator xgb_limitdepth's best error=0.7912,\tbest estimator xgb_limitdepth's best error=0.7912\n",
      "[flaml.automl.logger: 08-15 13:21:04] {2219} INFO - iteration 211, current learner xgb_limitdepth\n",
      "[flaml.automl.logger: 08-15 13:21:05] {2392} INFO -  at 76.9s,\testimator xgb_limitdepth's best error=0.7912,\tbest estimator xgb_limitdepth's best error=0.7912\n",
      "[flaml.automl.logger: 08-15 13:21:05] {2219} INFO - iteration 212, current learner xgb_limitdepth\n",
      "[flaml.automl.logger: 08-15 13:21:05] {2392} INFO -  at 77.2s,\testimator xgb_limitdepth's best error=0.7912,\tbest estimator xgb_limitdepth's best error=0.7912\n",
      "[flaml.automl.logger: 08-15 13:21:05] {2219} INFO - iteration 213, current learner xgb_limitdepth\n",
      "[flaml.automl.logger: 08-15 13:21:05] {2392} INFO -  at 77.6s,\testimator xgb_limitdepth's best error=0.7912,\tbest estimator xgb_limitdepth's best error=0.7912\n",
      "[flaml.automl.logger: 08-15 13:21:05] {2219} INFO - iteration 214, current learner xgb_limitdepth\n",
      "[flaml.automl.logger: 08-15 13:21:06] {2392} INFO -  at 77.9s,\testimator xgb_limitdepth's best error=0.7912,\tbest estimator xgb_limitdepth's best error=0.7912\n",
      "[flaml.automl.logger: 08-15 13:21:06] {2219} INFO - iteration 215, current learner xgb_limitdepth\n",
      "[flaml.automl.logger: 08-15 13:21:06] {2392} INFO -  at 78.4s,\testimator xgb_limitdepth's best error=0.7909,\tbest estimator xgb_limitdepth's best error=0.7909\n",
      "[flaml.automl.logger: 08-15 13:21:06] {2219} INFO - iteration 216, current learner xgb_limitdepth\n",
      "[flaml.automl.logger: 08-15 13:21:06] {2392} INFO -  at 78.7s,\testimator xgb_limitdepth's best error=0.7909,\tbest estimator xgb_limitdepth's best error=0.7909\n",
      "[flaml.automl.logger: 08-15 13:21:06] {2219} INFO - iteration 217, current learner xgb_limitdepth\n",
      "[flaml.automl.logger: 08-15 13:21:07] {2392} INFO -  at 78.8s,\testimator xgb_limitdepth's best error=0.7909,\tbest estimator xgb_limitdepth's best error=0.7909\n",
      "[flaml.automl.logger: 08-15 13:21:07] {2219} INFO - iteration 218, current learner lgbm\n",
      "[flaml.automl.logger: 08-15 13:21:09] {2392} INFO -  at 81.4s,\testimator lgbm's best error=0.8052,\tbest estimator xgb_limitdepth's best error=0.7909\n",
      "[flaml.automl.logger: 08-15 13:21:09] {2219} INFO - iteration 219, current learner xgb_limitdepth\n",
      "[flaml.automl.logger: 08-15 13:21:11] {2392} INFO -  at 82.9s,\testimator xgb_limitdepth's best error=0.7909,\tbest estimator xgb_limitdepth's best error=0.7909\n",
      "[flaml.automl.logger: 08-15 13:21:11] {2219} INFO - iteration 220, current learner xgb_limitdepth\n",
      "[flaml.automl.logger: 08-15 13:21:11] {2392} INFO -  at 83.2s,\testimator xgb_limitdepth's best error=0.7909,\tbest estimator xgb_limitdepth's best error=0.7909\n",
      "[flaml.automl.logger: 08-15 13:21:11] {2219} INFO - iteration 221, current learner lgbm\n",
      "[flaml.automl.logger: 08-15 13:21:12] {2392} INFO -  at 84.0s,\testimator lgbm's best error=0.8052,\tbest estimator xgb_limitdepth's best error=0.7909\n",
      "[flaml.automl.logger: 08-15 13:21:12] {2219} INFO - iteration 222, current learner xgb_limitdepth\n",
      "[flaml.automl.logger: 08-15 13:21:12] {2392} INFO -  at 84.7s,\testimator xgb_limitdepth's best error=0.7909,\tbest estimator xgb_limitdepth's best error=0.7909\n",
      "[flaml.automl.logger: 08-15 13:21:12] {2219} INFO - iteration 223, current learner xgb_limitdepth\n",
      "[flaml.automl.logger: 08-15 13:21:13] {2392} INFO -  at 85.3s,\testimator xgb_limitdepth's best error=0.7909,\tbest estimator xgb_limitdepth's best error=0.7909\n",
      "[flaml.automl.logger: 08-15 13:21:13] {2219} INFO - iteration 224, current learner xgb_limitdepth\n",
      "[flaml.automl.logger: 08-15 13:21:13] {2392} INFO -  at 85.5s,\testimator xgb_limitdepth's best error=0.7909,\tbest estimator xgb_limitdepth's best error=0.7909\n",
      "[flaml.automl.logger: 08-15 13:21:13] {2219} INFO - iteration 225, current learner xgb_limitdepth\n",
      "[flaml.automl.logger: 08-15 13:21:14] {2392} INFO -  at 86.4s,\testimator xgb_limitdepth's best error=0.7909,\tbest estimator xgb_limitdepth's best error=0.7909\n",
      "[flaml.automl.logger: 08-15 13:21:14] {2219} INFO - iteration 226, current learner xgb_limitdepth\n",
      "[flaml.automl.logger: 08-15 13:21:14] {2392} INFO -  at 86.6s,\testimator xgb_limitdepth's best error=0.7909,\tbest estimator xgb_limitdepth's best error=0.7909\n",
      "[flaml.automl.logger: 08-15 13:21:14] {2219} INFO - iteration 227, current learner xgb_limitdepth\n",
      "[flaml.automl.logger: 08-15 13:21:15] {2392} INFO -  at 87.1s,\testimator xgb_limitdepth's best error=0.7909,\tbest estimator xgb_limitdepth's best error=0.7909\n",
      "[flaml.automl.logger: 08-15 13:21:15] {2219} INFO - iteration 228, current learner xgb_limitdepth\n",
      "[flaml.automl.logger: 08-15 13:21:15] {2392} INFO -  at 87.4s,\testimator xgb_limitdepth's best error=0.7909,\tbest estimator xgb_limitdepth's best error=0.7909\n",
      "[flaml.automl.logger: 08-15 13:21:15] {2219} INFO - iteration 229, current learner xgb_limitdepth\n",
      "[flaml.automl.logger: 08-15 13:21:16] {2392} INFO -  at 88.6s,\testimator xgb_limitdepth's best error=0.7895,\tbest estimator xgb_limitdepth's best error=0.7895\n",
      "[flaml.automl.logger: 08-15 13:21:16] {2219} INFO - iteration 230, current learner xgb_limitdepth\n",
      "[flaml.automl.logger: 08-15 13:21:17] {2392} INFO -  at 89.0s,\testimator xgb_limitdepth's best error=0.7895,\tbest estimator xgb_limitdepth's best error=0.7895\n",
      "[flaml.automl.logger: 08-15 13:21:17] {2219} INFO - iteration 231, current learner xgb_limitdepth\n",
      "[flaml.automl.logger: 08-15 13:21:18] {2392} INFO -  at 90.5s,\testimator xgb_limitdepth's best error=0.7895,\tbest estimator xgb_limitdepth's best error=0.7895\n",
      "[flaml.automl.logger: 08-15 13:21:18] {2219} INFO - iteration 232, current learner xgb_limitdepth\n",
      "[flaml.automl.logger: 08-15 13:21:19] {2392} INFO -  at 91.3s,\testimator xgb_limitdepth's best error=0.7895,\tbest estimator xgb_limitdepth's best error=0.7895\n",
      "[flaml.automl.logger: 08-15 13:21:19] {2219} INFO - iteration 233, current learner xgb_limitdepth\n",
      "[flaml.automl.logger: 08-15 13:21:20] {2392} INFO -  at 92.1s,\testimator xgb_limitdepth's best error=0.7895,\tbest estimator xgb_limitdepth's best error=0.7895\n",
      "[flaml.automl.logger: 08-15 13:21:20] {2219} INFO - iteration 234, current learner xgb_limitdepth\n",
      "[flaml.automl.logger: 08-15 13:21:21] {2392} INFO -  at 93.6s,\testimator xgb_limitdepth's best error=0.7895,\tbest estimator xgb_limitdepth's best error=0.7895\n",
      "[flaml.automl.logger: 08-15 13:21:21] {2219} INFO - iteration 235, current learner xgb_limitdepth\n",
      "[flaml.automl.logger: 08-15 13:21:23] {2392} INFO -  at 94.7s,\testimator xgb_limitdepth's best error=0.7895,\tbest estimator xgb_limitdepth's best error=0.7895\n",
      "[flaml.automl.logger: 08-15 13:21:23] {2219} INFO - iteration 236, current learner xgb_limitdepth\n",
      "[flaml.automl.logger: 08-15 13:21:24] {2392} INFO -  at 95.9s,\testimator xgb_limitdepth's best error=0.7895,\tbest estimator xgb_limitdepth's best error=0.7895\n",
      "[flaml.automl.logger: 08-15 13:21:24] {2219} INFO - iteration 237, current learner xgb_limitdepth\n",
      "[flaml.automl.logger: 08-15 13:21:24] {2392} INFO -  at 96.6s,\testimator xgb_limitdepth's best error=0.7895,\tbest estimator xgb_limitdepth's best error=0.7895\n",
      "[flaml.automl.logger: 08-15 13:21:24] {2219} INFO - iteration 238, current learner lgbm\n",
      "[flaml.automl.logger: 08-15 13:21:26] {2392} INFO -  at 98.1s,\testimator lgbm's best error=0.8052,\tbest estimator xgb_limitdepth's best error=0.7895\n",
      "[flaml.automl.logger: 08-15 13:21:26] {2219} INFO - iteration 239, current learner xgb_limitdepth\n",
      "[flaml.automl.logger: 08-15 13:21:28] {2392} INFO -  at 100.3s,\testimator xgb_limitdepth's best error=0.7895,\tbest estimator xgb_limitdepth's best error=0.7895\n",
      "[flaml.automl.logger: 08-15 13:21:28] {2219} INFO - iteration 240, current learner xgb_limitdepth\n",
      "[flaml.automl.logger: 08-15 13:21:30] {2392} INFO -  at 101.7s,\testimator xgb_limitdepth's best error=0.7895,\tbest estimator xgb_limitdepth's best error=0.7895\n",
      "[flaml.automl.logger: 08-15 13:21:30] {2219} INFO - iteration 241, current learner xgb_limitdepth\n",
      "[flaml.automl.logger: 08-15 13:21:31] {2392} INFO -  at 102.7s,\testimator xgb_limitdepth's best error=0.7895,\tbest estimator xgb_limitdepth's best error=0.7895\n",
      "[flaml.automl.logger: 08-15 13:21:31] {2219} INFO - iteration 242, current learner xgb_limitdepth\n",
      "[flaml.automl.logger: 08-15 13:21:32] {2392} INFO -  at 104.4s,\testimator xgb_limitdepth's best error=0.7895,\tbest estimator xgb_limitdepth's best error=0.7895\n",
      "[flaml.automl.logger: 08-15 13:21:32] {2219} INFO - iteration 243, current learner xgb_limitdepth\n",
      "[flaml.automl.logger: 08-15 13:21:33] {2392} INFO -  at 105.2s,\testimator xgb_limitdepth's best error=0.7895,\tbest estimator xgb_limitdepth's best error=0.7895\n",
      "[flaml.automl.logger: 08-15 13:21:33] {2219} INFO - iteration 244, current learner xgb_limitdepth\n",
      "[flaml.automl.logger: 08-15 13:21:34] {2392} INFO -  at 106.2s,\testimator xgb_limitdepth's best error=0.7895,\tbest estimator xgb_limitdepth's best error=0.7895\n",
      "[flaml.automl.logger: 08-15 13:21:34] {2219} INFO - iteration 245, current learner xgb_limitdepth\n",
      "[flaml.automl.logger: 08-15 13:21:35] {2392} INFO -  at 107.5s,\testimator xgb_limitdepth's best error=0.7895,\tbest estimator xgb_limitdepth's best error=0.7895\n",
      "[flaml.automl.logger: 08-15 13:21:35] {2219} INFO - iteration 246, current learner xgb_limitdepth\n",
      "[flaml.automl.logger: 08-15 13:21:36] {2392} INFO -  at 108.6s,\testimator xgb_limitdepth's best error=0.7895,\tbest estimator xgb_limitdepth's best error=0.7895\n",
      "[flaml.automl.logger: 08-15 13:21:36] {2219} INFO - iteration 247, current learner xgb_limitdepth\n",
      "[flaml.automl.logger: 08-15 13:21:38] {2392} INFO -  at 109.7s,\testimator xgb_limitdepth's best error=0.7895,\tbest estimator xgb_limitdepth's best error=0.7895\n",
      "[flaml.automl.logger: 08-15 13:21:38] {2219} INFO - iteration 248, current learner lgbm\n",
      "[flaml.automl.logger: 08-15 13:21:39] {2392} INFO -  at 111.5s,\testimator lgbm's best error=0.8052,\tbest estimator xgb_limitdepth's best error=0.7895\n",
      "[flaml.automl.logger: 08-15 13:21:39] {2219} INFO - iteration 249, current learner xgb_limitdepth\n",
      "[flaml.automl.logger: 08-15 13:21:41] {2392} INFO -  at 113.2s,\testimator xgb_limitdepth's best error=0.7895,\tbest estimator xgb_limitdepth's best error=0.7895\n",
      "[flaml.automl.logger: 08-15 13:21:41] {2219} INFO - iteration 250, current learner xgb_limitdepth\n",
      "[flaml.automl.logger: 08-15 13:21:42] {2392} INFO -  at 114.0s,\testimator xgb_limitdepth's best error=0.7895,\tbest estimator xgb_limitdepth's best error=0.7895\n",
      "[flaml.automl.logger: 08-15 13:21:42] {2219} INFO - iteration 251, current learner xgb_limitdepth\n",
      "[flaml.automl.logger: 08-15 13:21:44] {2392} INFO -  at 116.0s,\testimator xgb_limitdepth's best error=0.7895,\tbest estimator xgb_limitdepth's best error=0.7895\n",
      "[flaml.automl.logger: 08-15 13:21:44] {2219} INFO - iteration 252, current learner lgbm\n",
      "[flaml.automl.logger: 08-15 13:21:51] {2392} INFO -  at 123.2s,\testimator lgbm's best error=0.8052,\tbest estimator xgb_limitdepth's best error=0.7895\n",
      "[flaml.automl.logger: 08-15 13:21:51] {2219} INFO - iteration 253, current learner xgb_limitdepth\n",
      "[flaml.automl.logger: 08-15 13:21:52] {2392} INFO -  at 123.8s,\testimator xgb_limitdepth's best error=0.7895,\tbest estimator xgb_limitdepth's best error=0.7895\n",
      "[flaml.automl.logger: 08-15 13:21:52] {2219} INFO - iteration 254, current learner xgb_limitdepth\n",
      "[flaml.automl.logger: 08-15 13:21:52] {2392} INFO -  at 124.1s,\testimator xgb_limitdepth's best error=0.7895,\tbest estimator xgb_limitdepth's best error=0.7895\n",
      "[flaml.automl.logger: 08-15 13:21:52] {2219} INFO - iteration 255, current learner xgb_limitdepth\n",
      "[flaml.automl.logger: 08-15 13:21:56] {2392} INFO -  at 127.8s,\testimator xgb_limitdepth's best error=0.7895,\tbest estimator xgb_limitdepth's best error=0.7895\n",
      "[flaml.automl.logger: 08-15 13:21:56] {2219} INFO - iteration 256, current learner xgb_limitdepth\n",
      "[flaml.automl.logger: 08-15 13:21:57] {2392} INFO -  at 129.0s,\testimator xgb_limitdepth's best error=0.7895,\tbest estimator xgb_limitdepth's best error=0.7895\n",
      "[flaml.automl.logger: 08-15 13:21:57] {2219} INFO - iteration 257, current learner xgb_limitdepth\n",
      "[flaml.automl.logger: 08-15 13:21:58] {2392} INFO -  at 129.9s,\testimator xgb_limitdepth's best error=0.7895,\tbest estimator xgb_limitdepth's best error=0.7895\n",
      "[flaml.automl.logger: 08-15 13:21:58] {2219} INFO - iteration 258, current learner xgb_limitdepth\n",
      "[flaml.automl.logger: 08-15 13:22:02] {2392} INFO -  at 134.6s,\testimator xgb_limitdepth's best error=0.7895,\tbest estimator xgb_limitdepth's best error=0.7895\n",
      "[flaml.automl.logger: 08-15 13:22:02] {2219} INFO - iteration 259, current learner xgb_limitdepth\n",
      "[flaml.automl.logger: 08-15 13:22:03] {2392} INFO -  at 134.9s,\testimator xgb_limitdepth's best error=0.7895,\tbest estimator xgb_limitdepth's best error=0.7895\n",
      "[flaml.automl.logger: 08-15 13:22:03] {2219} INFO - iteration 260, current learner xgb_limitdepth\n",
      "[flaml.automl.logger: 08-15 13:22:03] {2392} INFO -  at 135.7s,\testimator xgb_limitdepth's best error=0.7895,\tbest estimator xgb_limitdepth's best error=0.7895\n",
      "[flaml.automl.logger: 08-15 13:22:03] {2219} INFO - iteration 261, current learner xgb_limitdepth\n",
      "[flaml.automl.logger: 08-15 13:22:05] {2392} INFO -  at 137.1s,\testimator xgb_limitdepth's best error=0.7895,\tbest estimator xgb_limitdepth's best error=0.7895\n",
      "[flaml.automl.logger: 08-15 13:22:05] {2219} INFO - iteration 262, current learner xgb_limitdepth\n",
      "[flaml.automl.logger: 08-15 13:22:06] {2392} INFO -  at 137.7s,\testimator xgb_limitdepth's best error=0.7895,\tbest estimator xgb_limitdepth's best error=0.7895\n",
      "[flaml.automl.logger: 08-15 13:22:06] {2219} INFO - iteration 263, current learner xgb_limitdepth\n",
      "[flaml.automl.logger: 08-15 13:22:07] {2392} INFO -  at 139.7s,\testimator xgb_limitdepth's best error=0.7895,\tbest estimator xgb_limitdepth's best error=0.7895\n",
      "[flaml.automl.logger: 08-15 13:22:07] {2219} INFO - iteration 264, current learner xgb_limitdepth\n",
      "[flaml.automl.logger: 08-15 13:22:09] {2392} INFO -  at 141.0s,\testimator xgb_limitdepth's best error=0.7895,\tbest estimator xgb_limitdepth's best error=0.7895\n",
      "[flaml.automl.logger: 08-15 13:22:09] {2219} INFO - iteration 265, current learner xgb_limitdepth\n",
      "[flaml.automl.logger: 08-15 13:22:10] {2392} INFO -  at 141.9s,\testimator xgb_limitdepth's best error=0.7895,\tbest estimator xgb_limitdepth's best error=0.7895\n",
      "[flaml.automl.logger: 08-15 13:22:10] {2219} INFO - iteration 266, current learner xgb_limitdepth\n",
      "[flaml.automl.logger: 08-15 13:22:11] {2392} INFO -  at 143.1s,\testimator xgb_limitdepth's best error=0.7895,\tbest estimator xgb_limitdepth's best error=0.7895\n",
      "[flaml.automl.logger: 08-15 13:22:11] {2219} INFO - iteration 267, current learner xgb_limitdepth\n",
      "[flaml.automl.logger: 08-15 13:22:12] {2392} INFO -  at 144.0s,\testimator xgb_limitdepth's best error=0.7895,\tbest estimator xgb_limitdepth's best error=0.7895\n",
      "[flaml.automl.logger: 08-15 13:22:12] {2219} INFO - iteration 268, current learner xgb_limitdepth\n",
      "[flaml.automl.logger: 08-15 13:22:13] {2392} INFO -  at 144.9s,\testimator xgb_limitdepth's best error=0.7895,\tbest estimator xgb_limitdepth's best error=0.7895\n",
      "[flaml.automl.logger: 08-15 13:22:13] {2219} INFO - iteration 269, current learner xgb_limitdepth\n",
      "[flaml.automl.logger: 08-15 13:22:14] {2392} INFO -  at 146.3s,\testimator xgb_limitdepth's best error=0.7895,\tbest estimator xgb_limitdepth's best error=0.7895\n",
      "[flaml.automl.logger: 08-15 13:22:14] {2219} INFO - iteration 270, current learner xgb_limitdepth\n",
      "[flaml.automl.logger: 08-15 13:22:16] {2392} INFO -  at 148.4s,\testimator xgb_limitdepth's best error=0.7895,\tbest estimator xgb_limitdepth's best error=0.7895\n",
      "[flaml.automl.logger: 08-15 13:22:16] {2219} INFO - iteration 271, current learner xgb_limitdepth\n",
      "[flaml.automl.logger: 08-15 13:22:17] {2392} INFO -  at 148.9s,\testimator xgb_limitdepth's best error=0.7895,\tbest estimator xgb_limitdepth's best error=0.7895\n",
      "[flaml.automl.logger: 08-15 13:22:17] {2219} INFO - iteration 272, current learner xgb_limitdepth\n",
      "[flaml.automl.logger: 08-15 13:22:17] {2392} INFO -  at 149.5s,\testimator xgb_limitdepth's best error=0.7895,\tbest estimator xgb_limitdepth's best error=0.7895\n",
      "[flaml.automl.logger: 08-15 13:22:17] {2219} INFO - iteration 273, current learner xgb_limitdepth\n",
      "[flaml.automl.logger: 08-15 13:22:19] {2392} INFO -  at 151.6s,\testimator xgb_limitdepth's best error=0.7895,\tbest estimator xgb_limitdepth's best error=0.7895\n",
      "[flaml.automl.logger: 08-15 13:22:19] {2219} INFO - iteration 274, current learner xgb_limitdepth\n",
      "[flaml.automl.logger: 08-15 13:22:20] {2392} INFO -  at 152.3s,\testimator xgb_limitdepth's best error=0.7895,\tbest estimator xgb_limitdepth's best error=0.7895\n",
      "[flaml.automl.logger: 08-15 13:22:20] {2219} INFO - iteration 275, current learner xgb_limitdepth\n",
      "[flaml.automl.logger: 08-15 13:22:22] {2392} INFO -  at 153.9s,\testimator xgb_limitdepth's best error=0.7895,\tbest estimator xgb_limitdepth's best error=0.7895\n",
      "[flaml.automl.logger: 08-15 13:22:22] {2219} INFO - iteration 276, current learner xgb_limitdepth\n",
      "[flaml.automl.logger: 08-15 13:22:23] {2392} INFO -  at 155.0s,\testimator xgb_limitdepth's best error=0.7895,\tbest estimator xgb_limitdepth's best error=0.7895\n",
      "[flaml.automl.logger: 08-15 13:22:23] {2219} INFO - iteration 277, current learner xgb_limitdepth\n",
      "[flaml.automl.logger: 08-15 13:22:24] {2392} INFO -  at 156.0s,\testimator xgb_limitdepth's best error=0.7895,\tbest estimator xgb_limitdepth's best error=0.7895\n",
      "[flaml.automl.logger: 08-15 13:22:24] {2219} INFO - iteration 278, current learner xgb_limitdepth\n",
      "[flaml.automl.logger: 08-15 13:22:25] {2392} INFO -  at 157.5s,\testimator xgb_limitdepth's best error=0.7895,\tbest estimator xgb_limitdepth's best error=0.7895\n",
      "[flaml.automl.logger: 08-15 13:22:25] {2219} INFO - iteration 279, current learner xgb_limitdepth\n",
      "[flaml.automl.logger: 08-15 13:22:26] {2392} INFO -  at 158.3s,\testimator xgb_limitdepth's best error=0.7895,\tbest estimator xgb_limitdepth's best error=0.7895\n",
      "[flaml.automl.logger: 08-15 13:22:26] {2219} INFO - iteration 280, current learner xgb_limitdepth\n",
      "[flaml.automl.logger: 08-15 13:22:28] {2392} INFO -  at 160.6s,\testimator xgb_limitdepth's best error=0.7895,\tbest estimator xgb_limitdepth's best error=0.7895\n",
      "[flaml.automl.logger: 08-15 13:22:28] {2219} INFO - iteration 281, current learner xgb_limitdepth\n",
      "[flaml.automl.logger: 08-15 13:22:29] {2392} INFO -  at 161.1s,\testimator xgb_limitdepth's best error=0.7895,\tbest estimator xgb_limitdepth's best error=0.7895\n",
      "[flaml.automl.logger: 08-15 13:22:29] {2219} INFO - iteration 282, current learner xgb_limitdepth\n",
      "[flaml.automl.logger: 08-15 13:22:30] {2392} INFO -  at 161.7s,\testimator xgb_limitdepth's best error=0.7895,\tbest estimator xgb_limitdepth's best error=0.7895\n",
      "[flaml.automl.logger: 08-15 13:22:30] {2219} INFO - iteration 283, current learner xgb_limitdepth\n",
      "[flaml.automl.logger: 08-15 13:22:31] {2392} INFO -  at 163.7s,\testimator xgb_limitdepth's best error=0.7895,\tbest estimator xgb_limitdepth's best error=0.7895\n",
      "[flaml.automl.logger: 08-15 13:22:31] {2219} INFO - iteration 284, current learner xgb_limitdepth\n",
      "[flaml.automl.logger: 08-15 13:22:33] {2392} INFO -  at 165.7s,\testimator xgb_limitdepth's best error=0.7892,\tbest estimator xgb_limitdepth's best error=0.7892\n",
      "[flaml.automl.logger: 08-15 13:22:33] {2219} INFO - iteration 285, current learner xgb_limitdepth\n",
      "[flaml.automl.logger: 08-15 13:22:35] {2392} INFO -  at 166.9s,\testimator xgb_limitdepth's best error=0.7892,\tbest estimator xgb_limitdepth's best error=0.7892\n",
      "[flaml.automl.logger: 08-15 13:22:35] {2219} INFO - iteration 286, current learner xgb_limitdepth\n",
      "[flaml.automl.logger: 08-15 13:22:36] {2392} INFO -  at 167.9s,\testimator xgb_limitdepth's best error=0.7892,\tbest estimator xgb_limitdepth's best error=0.7892\n",
      "[flaml.automl.logger: 08-15 13:22:36] {2219} INFO - iteration 287, current learner xgb_limitdepth\n",
      "[flaml.automl.logger: 08-15 13:22:39] {2392} INFO -  at 171.4s,\testimator xgb_limitdepth's best error=0.7892,\tbest estimator xgb_limitdepth's best error=0.7892\n",
      "[flaml.automl.logger: 08-15 13:22:39] {2219} INFO - iteration 288, current learner xgb_limitdepth\n",
      "[flaml.automl.logger: 08-15 13:22:43] {2392} INFO -  at 174.7s,\testimator xgb_limitdepth's best error=0.7892,\tbest estimator xgb_limitdepth's best error=0.7892\n",
      "[flaml.automl.logger: 08-15 13:22:43] {2219} INFO - iteration 289, current learner xgb_limitdepth\n",
      "[flaml.automl.logger: 08-15 13:22:44] {2392} INFO -  at 175.8s,\testimator xgb_limitdepth's best error=0.7892,\tbest estimator xgb_limitdepth's best error=0.7892\n",
      "[flaml.automl.logger: 08-15 13:22:44] {2219} INFO - iteration 290, current learner xgb_limitdepth\n",
      "[flaml.automl.logger: 08-15 13:22:45] {2392} INFO -  at 176.9s,\testimator xgb_limitdepth's best error=0.7892,\tbest estimator xgb_limitdepth's best error=0.7892\n",
      "[flaml.automl.logger: 08-15 13:22:45] {2219} INFO - iteration 291, current learner xgb_limitdepth\n",
      "[flaml.automl.logger: 08-15 13:22:48] {2392} INFO -  at 180.0s,\testimator xgb_limitdepth's best error=0.7892,\tbest estimator xgb_limitdepth's best error=0.7892\n",
      "[flaml.automl.logger: 08-15 13:22:48] {2219} INFO - iteration 292, current learner xgb_limitdepth\n",
      "[flaml.automl.logger: 08-15 13:22:50] {2392} INFO -  at 182.0s,\testimator xgb_limitdepth's best error=0.7892,\tbest estimator xgb_limitdepth's best error=0.7892\n",
      "[flaml.automl.logger: 08-15 13:22:50] {2219} INFO - iteration 293, current learner xgb_limitdepth\n",
      "[flaml.automl.logger: 08-15 13:22:51] {2392} INFO -  at 183.7s,\testimator xgb_limitdepth's best error=0.7892,\tbest estimator xgb_limitdepth's best error=0.7892\n",
      "[flaml.automl.logger: 08-15 13:22:51] {2219} INFO - iteration 294, current learner xgb_limitdepth\n",
      "[flaml.automl.logger: 08-15 13:23:00] {2392} INFO -  at 192.6s,\testimator xgb_limitdepth's best error=0.7892,\tbest estimator xgb_limitdepth's best error=0.7892\n",
      "[flaml.automl.logger: 08-15 13:23:00] {2219} INFO - iteration 295, current learner xgb_limitdepth\n",
      "[flaml.automl.logger: 08-15 13:23:01] {2392} INFO -  at 193.0s,\testimator xgb_limitdepth's best error=0.7892,\tbest estimator xgb_limitdepth's best error=0.7892\n",
      "[flaml.automl.logger: 08-15 13:23:01] {2219} INFO - iteration 296, current learner xgb_limitdepth\n",
      "[flaml.automl.logger: 08-15 13:23:05] {2392} INFO -  at 197.3s,\testimator xgb_limitdepth's best error=0.7892,\tbest estimator xgb_limitdepth's best error=0.7892\n",
      "[flaml.automl.logger: 08-15 13:23:05] {2219} INFO - iteration 297, current learner lgbm\n",
      "[flaml.automl.logger: 08-15 13:23:05] {2392} INFO -  at 197.6s,\testimator lgbm's best error=0.8052,\tbest estimator xgb_limitdepth's best error=0.7892\n",
      "[flaml.automl.logger: 08-15 13:23:05] {2219} INFO - iteration 298, current learner xgb_limitdepth\n",
      "[flaml.automl.logger: 08-15 13:23:06] {2392} INFO -  at 198.4s,\testimator xgb_limitdepth's best error=0.7892,\tbest estimator xgb_limitdepth's best error=0.7892\n",
      "[flaml.automl.logger: 08-15 13:23:06] {2219} INFO - iteration 299, current learner lgbm\n",
      "[flaml.automl.logger: 08-15 13:23:08] {2392} INFO -  at 200.4s,\testimator lgbm's best error=0.8052,\tbest estimator xgb_limitdepth's best error=0.7892\n",
      "[flaml.automl.logger: 08-15 13:23:08] {2219} INFO - iteration 300, current learner xgb_limitdepth\n",
      "[flaml.automl.logger: 08-15 13:23:12] {2392} INFO -  at 203.8s,\testimator xgb_limitdepth's best error=0.7892,\tbest estimator xgb_limitdepth's best error=0.7892\n",
      "[flaml.automl.logger: 08-15 13:23:12] {2219} INFO - iteration 301, current learner xgb_limitdepth\n",
      "[flaml.automl.logger: 08-15 13:23:13] {2392} INFO -  at 204.9s,\testimator xgb_limitdepth's best error=0.7892,\tbest estimator xgb_limitdepth's best error=0.7892\n",
      "[flaml.automl.logger: 08-15 13:23:13] {2219} INFO - iteration 302, current learner xgb_limitdepth\n",
      "[flaml.automl.logger: 08-15 13:23:17] {2392} INFO -  at 209.5s,\testimator xgb_limitdepth's best error=0.7892,\tbest estimator xgb_limitdepth's best error=0.7892\n",
      "[flaml.automl.logger: 08-15 13:23:17] {2219} INFO - iteration 303, current learner xgb_limitdepth\n",
      "[flaml.automl.logger: 08-15 13:23:18] {2392} INFO -  at 210.3s,\testimator xgb_limitdepth's best error=0.7892,\tbest estimator xgb_limitdepth's best error=0.7892\n",
      "[flaml.automl.logger: 08-15 13:23:18] {2219} INFO - iteration 304, current learner xgb_limitdepth\n",
      "[flaml.automl.logger: 08-15 13:23:20] {2392} INFO -  at 212.7s,\testimator xgb_limitdepth's best error=0.7892,\tbest estimator xgb_limitdepth's best error=0.7892\n",
      "[flaml.automl.logger: 08-15 13:23:20] {2219} INFO - iteration 305, current learner xgb_limitdepth\n",
      "[flaml.automl.logger: 08-15 13:23:22] {2392} INFO -  at 214.3s,\testimator xgb_limitdepth's best error=0.7892,\tbest estimator xgb_limitdepth's best error=0.7892\n",
      "[flaml.automl.logger: 08-15 13:23:22] {2219} INFO - iteration 306, current learner xgb_limitdepth\n",
      "[flaml.automl.logger: 08-15 13:23:24] {2392} INFO -  at 216.2s,\testimator xgb_limitdepth's best error=0.7892,\tbest estimator xgb_limitdepth's best error=0.7892\n",
      "[flaml.automl.logger: 08-15 13:23:24] {2219} INFO - iteration 307, current learner xgb_limitdepth\n",
      "[flaml.automl.logger: 08-15 13:23:26] {2392} INFO -  at 218.1s,\testimator xgb_limitdepth's best error=0.7892,\tbest estimator xgb_limitdepth's best error=0.7892\n",
      "[flaml.automl.logger: 08-15 13:23:26] {2219} INFO - iteration 308, current learner xgb_limitdepth\n",
      "[flaml.automl.logger: 08-15 13:23:27] {2392} INFO -  at 219.2s,\testimator xgb_limitdepth's best error=0.7892,\tbest estimator xgb_limitdepth's best error=0.7892\n",
      "[flaml.automl.logger: 08-15 13:23:27] {2219} INFO - iteration 309, current learner xgb_limitdepth\n",
      "[flaml.automl.logger: 08-15 13:23:30] {2392} INFO -  at 222.3s,\testimator xgb_limitdepth's best error=0.7892,\tbest estimator xgb_limitdepth's best error=0.7892\n",
      "[flaml.automl.logger: 08-15 13:23:30] {2219} INFO - iteration 310, current learner xgb_limitdepth\n",
      "[flaml.automl.logger: 08-15 13:23:31] {2392} INFO -  at 222.9s,\testimator xgb_limitdepth's best error=0.7892,\tbest estimator xgb_limitdepth's best error=0.7892\n",
      "[flaml.automl.logger: 08-15 13:23:31] {2219} INFO - iteration 311, current learner xgb_limitdepth\n",
      "[flaml.automl.logger: 08-15 13:23:37] {2392} INFO -  at 229.2s,\testimator xgb_limitdepth's best error=0.7892,\tbest estimator xgb_limitdepth's best error=0.7892\n",
      "[flaml.automl.logger: 08-15 13:23:37] {2219} INFO - iteration 312, current learner xgb_limitdepth\n",
      "[flaml.automl.logger: 08-15 13:23:38] {2392} INFO -  at 230.1s,\testimator xgb_limitdepth's best error=0.7892,\tbest estimator xgb_limitdepth's best error=0.7892\n",
      "[flaml.automl.logger: 08-15 13:23:38] {2219} INFO - iteration 313, current learner xgb_limitdepth\n",
      "[flaml.automl.logger: 08-15 13:23:43] {2392} INFO -  at 234.8s,\testimator xgb_limitdepth's best error=0.7892,\tbest estimator xgb_limitdepth's best error=0.7892\n",
      "[flaml.automl.logger: 08-15 13:23:43] {2219} INFO - iteration 314, current learner xgb_limitdepth\n",
      "[flaml.automl.logger: 08-15 13:23:44] {2392} INFO -  at 236.1s,\testimator xgb_limitdepth's best error=0.7892,\tbest estimator xgb_limitdepth's best error=0.7892\n",
      "[flaml.automl.logger: 08-15 13:23:44] {2219} INFO - iteration 315, current learner lgbm\n",
      "[flaml.automl.logger: 08-15 13:23:45] {2392} INFO -  at 237.3s,\testimator lgbm's best error=0.8052,\tbest estimator xgb_limitdepth's best error=0.7892\n",
      "[flaml.automl.logger: 08-15 13:23:45] {2219} INFO - iteration 316, current learner xgb_limitdepth\n",
      "[flaml.automl.logger: 08-15 13:23:48] {2392} INFO -  at 239.9s,\testimator xgb_limitdepth's best error=0.7892,\tbest estimator xgb_limitdepth's best error=0.7892\n",
      "[flaml.automl.logger: 08-15 13:23:48] {2219} INFO - iteration 317, current learner xgb_limitdepth\n",
      "[flaml.automl.logger: 08-15 13:23:51] {2392} INFO -  at 243.3s,\testimator xgb_limitdepth's best error=0.7892,\tbest estimator xgb_limitdepth's best error=0.7892\n",
      "[flaml.automl.logger: 08-15 13:23:51] {2219} INFO - iteration 318, current learner xgb_limitdepth\n",
      "[flaml.automl.logger: 08-15 13:23:52] {2392} INFO -  at 244.5s,\testimator xgb_limitdepth's best error=0.7892,\tbest estimator xgb_limitdepth's best error=0.7892\n",
      "[flaml.automl.logger: 08-15 13:23:52] {2219} INFO - iteration 319, current learner xgb_limitdepth\n",
      "[flaml.automl.logger: 08-15 13:23:55] {2392} INFO -  at 247.6s,\testimator xgb_limitdepth's best error=0.7892,\tbest estimator xgb_limitdepth's best error=0.7892\n",
      "[flaml.automl.logger: 08-15 13:23:55] {2219} INFO - iteration 320, current learner xgb_limitdepth\n",
      "[flaml.automl.logger: 08-15 13:23:57] {2392} INFO -  at 248.7s,\testimator xgb_limitdepth's best error=0.7892,\tbest estimator xgb_limitdepth's best error=0.7892\n",
      "[flaml.automl.logger: 08-15 13:23:57] {2219} INFO - iteration 321, current learner xgb_limitdepth\n",
      "[flaml.automl.logger: 08-15 13:23:57] {2392} INFO -  at 249.5s,\testimator xgb_limitdepth's best error=0.7892,\tbest estimator xgb_limitdepth's best error=0.7892\n",
      "[flaml.automl.logger: 08-15 13:23:57] {2219} INFO - iteration 322, current learner xgb_limitdepth\n",
      "[flaml.automl.logger: 08-15 13:24:02] {2392} INFO -  at 254.2s,\testimator xgb_limitdepth's best error=0.7892,\tbest estimator xgb_limitdepth's best error=0.7892\n",
      "[flaml.automl.logger: 08-15 13:24:02] {2219} INFO - iteration 323, current learner xgb_limitdepth\n",
      "[flaml.automl.logger: 08-15 13:24:04] {2392} INFO -  at 256.1s,\testimator xgb_limitdepth's best error=0.7892,\tbest estimator xgb_limitdepth's best error=0.7892\n",
      "[flaml.automl.logger: 08-15 13:24:04] {2219} INFO - iteration 324, current learner xgb_limitdepth\n",
      "[flaml.automl.logger: 08-15 13:24:06] {2392} INFO -  at 257.9s,\testimator xgb_limitdepth's best error=0.7892,\tbest estimator xgb_limitdepth's best error=0.7892\n",
      "[flaml.automl.logger: 08-15 13:24:06] {2219} INFO - iteration 325, current learner lgbm\n",
      "[flaml.automl.logger: 08-15 13:24:06] {2392} INFO -  at 258.3s,\testimator lgbm's best error=0.8052,\tbest estimator xgb_limitdepth's best error=0.7892\n",
      "[flaml.automl.logger: 08-15 13:24:06] {2219} INFO - iteration 326, current learner xgb_limitdepth\n",
      "[flaml.automl.logger: 08-15 13:24:07] {2392} INFO -  at 259.2s,\testimator xgb_limitdepth's best error=0.7892,\tbest estimator xgb_limitdepth's best error=0.7892\n",
      "[flaml.automl.logger: 08-15 13:24:07] {2219} INFO - iteration 327, current learner xgb_limitdepth\n",
      "[flaml.automl.logger: 08-15 13:24:11] {2392} INFO -  at 263.0s,\testimator xgb_limitdepth's best error=0.7892,\tbest estimator xgb_limitdepth's best error=0.7892\n",
      "[flaml.automl.logger: 08-15 13:24:11] {2219} INFO - iteration 328, current learner lgbm\n",
      "[flaml.automl.logger: 08-15 13:24:16] {2392} INFO -  at 267.8s,\testimator lgbm's best error=0.8052,\tbest estimator xgb_limitdepth's best error=0.7892\n",
      "[flaml.automl.logger: 08-15 13:24:16] {2219} INFO - iteration 329, current learner xgb_limitdepth\n",
      "[flaml.automl.logger: 08-15 13:24:17] {2392} INFO -  at 268.9s,\testimator xgb_limitdepth's best error=0.7892,\tbest estimator xgb_limitdepth's best error=0.7892\n",
      "[flaml.automl.logger: 08-15 13:24:17] {2219} INFO - iteration 330, current learner xgb_limitdepth\n",
      "[flaml.automl.logger: 08-15 13:24:20] {2392} INFO -  at 272.0s,\testimator xgb_limitdepth's best error=0.7892,\tbest estimator xgb_limitdepth's best error=0.7892\n",
      "[flaml.automl.logger: 08-15 13:24:20] {2219} INFO - iteration 331, current learner xgb_limitdepth\n",
      "[flaml.automl.logger: 08-15 13:24:21] {2392} INFO -  at 272.8s,\testimator xgb_limitdepth's best error=0.7892,\tbest estimator xgb_limitdepth's best error=0.7892\n",
      "[flaml.automl.logger: 08-15 13:24:21] {2219} INFO - iteration 332, current learner lgbm\n",
      "[flaml.automl.logger: 08-15 13:24:25] {2392} INFO -  at 276.9s,\testimator lgbm's best error=0.8052,\tbest estimator xgb_limitdepth's best error=0.7892\n",
      "[flaml.automl.logger: 08-15 13:24:25] {2219} INFO - iteration 333, current learner xgb_limitdepth\n",
      "[flaml.automl.logger: 08-15 13:24:29] {2392} INFO -  at 281.3s,\testimator xgb_limitdepth's best error=0.7892,\tbest estimator xgb_limitdepth's best error=0.7892\n",
      "[flaml.automl.logger: 08-15 13:24:29] {2219} INFO - iteration 334, current learner xgb_limitdepth\n",
      "[flaml.automl.logger: 08-15 13:24:31] {2392} INFO -  at 282.7s,\testimator xgb_limitdepth's best error=0.7892,\tbest estimator xgb_limitdepth's best error=0.7892\n",
      "[flaml.automl.logger: 08-15 13:24:31] {2219} INFO - iteration 335, current learner xgb_limitdepth\n",
      "[flaml.automl.logger: 08-15 13:24:33] {2392} INFO -  at 285.0s,\testimator xgb_limitdepth's best error=0.7892,\tbest estimator xgb_limitdepth's best error=0.7892\n",
      "[flaml.automl.logger: 08-15 13:24:33] {2219} INFO - iteration 336, current learner xgb_limitdepth\n",
      "[flaml.automl.logger: 08-15 13:24:34] {2392} INFO -  at 286.0s,\testimator xgb_limitdepth's best error=0.7892,\tbest estimator xgb_limitdepth's best error=0.7892\n",
      "[flaml.automl.logger: 08-15 13:24:34] {2219} INFO - iteration 337, current learner lgbm\n",
      "[flaml.automl.logger: 08-15 13:24:34] {2392} INFO -  at 286.5s,\testimator lgbm's best error=0.8052,\tbest estimator xgb_limitdepth's best error=0.7892\n",
      "[flaml.automl.logger: 08-15 13:24:34] {2219} INFO - iteration 338, current learner xgb_limitdepth\n",
      "[flaml.automl.logger: 08-15 13:24:38] {2392} INFO -  at 290.1s,\testimator xgb_limitdepth's best error=0.7892,\tbest estimator xgb_limitdepth's best error=0.7892\n",
      "[flaml.automl.logger: 08-15 13:24:38] {2219} INFO - iteration 339, current learner xgb_limitdepth\n",
      "[flaml.automl.logger: 08-15 13:24:41] {2392} INFO -  at 292.8s,\testimator xgb_limitdepth's best error=0.7892,\tbest estimator xgb_limitdepth's best error=0.7892\n",
      "[flaml.automl.logger: 08-15 13:24:41] {2219} INFO - iteration 340, current learner xgb_limitdepth\n",
      "[flaml.automl.logger: 08-15 13:24:42] {2392} INFO -  at 294.1s,\testimator xgb_limitdepth's best error=0.7892,\tbest estimator xgb_limitdepth's best error=0.7892\n",
      "[flaml.automl.logger: 08-15 13:24:42] {2219} INFO - iteration 341, current learner xgb_limitdepth\n",
      "[flaml.automl.logger: 08-15 13:24:42] {2392} INFO -  at 294.5s,\testimator xgb_limitdepth's best error=0.7892,\tbest estimator xgb_limitdepth's best error=0.7892\n",
      "[flaml.automl.logger: 08-15 13:24:42] {2219} INFO - iteration 342, current learner xgb_limitdepth\n",
      "[flaml.automl.logger: 08-15 13:24:48] {2392} INFO -  at 300.1s,\testimator xgb_limitdepth's best error=0.7892,\tbest estimator xgb_limitdepth's best error=0.7892\n",
      "[flaml.automl.logger: 08-15 13:24:48] {2494} INFO - selected model: XGBRegressor(base_score=None, booster=None, callbacks=[],\n",
      "             colsample_bylevel=0.9995533909636082, colsample_bynode=None,\n",
      "             colsample_bytree=0.7943086204214976, device=None,\n",
      "             early_stopping_rounds=None, enable_categorical=False,\n",
      "             eval_metric=None, feature_types=None, gamma=None, grow_policy=None,\n",
      "             importance_type=None, interaction_constraints=None,\n",
      "             learning_rate=0.033716151785616516, max_bin=None,\n",
      "             max_cat_threshold=None, max_cat_to_onehot=None,\n",
      "             max_delta_step=None, max_depth=7, max_leaves=None,\n",
      "             min_child_weight=70.08943688610074, missing=nan,\n",
      "             monotone_constraints=None, multi_strategy=None, n_estimators=374,\n",
      "             n_jobs=-1, num_parallel_tree=None, random_state=None, ...)\n",
      "[flaml.automl.logger: 08-15 13:24:48] {1931} INFO - fit succeeded\n",
      "[flaml.automl.logger: 08-15 13:24:48] {1932} INFO - Time taken to find the best model: 165.70693945884705\n"
     ]
    }
   ],
   "source": [
    "automl = AutoML()\n",
    "\n",
    "TRAIN_MINUTES = 5\n",
    "\n",
    "settings = {\n",
    "    \"time_budget\": 60 * TRAIN_MINUTES,\n",
    "    \"metric\": \"r2\",\n",
    "    \"task\": \"regression\",\n",
    "    'estimator_list': ['lgbm', 'xgb_limitdepth'],\n",
    "}\n",
    "\n",
    "automl.fit(X_train, y_train, X_val = X_valid, y_val = y_valid, **settings)"
   ]
  },
  {
   "cell_type": "code",
   "execution_count": 19,
   "metadata": {},
   "outputs": [
    {
     "name": "stdout",
     "output_type": "stream",
     "text": [
      "xgb_limitdepth\n"
     ]
    },
    {
     "data": {
      "text/html": [
       "<pre style=\"white-space:pre;overflow-x:auto;line-height:normal;font-family:Menlo,'DejaVu Sans Mono',consolas,'Courier New',monospace\"></pre>\n"
      ],
      "text/plain": []
     },
     "metadata": {},
     "output_type": "display_data"
    },
    {
     "data": {
      "text/plain": [
       "\n",
       "\u001b[1m{\u001b[0m\n",
       "    \u001b[32m'n_estimators'\u001b[0m: \u001b[1;36m374\u001b[0m,\n",
       "    \u001b[32m'max_depth'\u001b[0m: \u001b[1;36m7\u001b[0m,\n",
       "    \u001b[32m'min_child_weight'\u001b[0m: \u001b[1;36m70.08943688610074\u001b[0m,\n",
       "    \u001b[32m'learning_rate'\u001b[0m: \u001b[1;36m0.033716151785616516\u001b[0m,\n",
       "    \u001b[32m'subsample'\u001b[0m: \u001b[1;36m0.5846019043920297\u001b[0m,\n",
       "    \u001b[32m'colsample_bylevel'\u001b[0m: \u001b[1;36m0.9995533909636082\u001b[0m,\n",
       "    \u001b[32m'colsample_bytree'\u001b[0m: \u001b[1;36m0.7943086204214976\u001b[0m,\n",
       "    \u001b[32m'reg_alpha'\u001b[0m: \u001b[1;36m0.26338261080653946\u001b[0m,\n",
       "    \u001b[32m'reg_lambda'\u001b[0m: \u001b[1;36m5.618939558236503\u001b[0m\n",
       "\u001b[1m}\u001b[0m"
      ]
     },
     "execution_count": 19,
     "metadata": {},
     "output_type": "execute_result"
    }
   ],
   "source": [
    "print(automl.best_estimator)\n",
    "automl.best_config"
   ]
  },
  {
   "cell_type": "code",
   "execution_count": 20,
   "metadata": {},
   "outputs": [
    {
     "data": {
      "text/html": [
       "<pre style=\"white-space:pre;overflow-x:auto;line-height:normal;font-family:Menlo,'DejaVu Sans Mono',consolas,'Courier New',monospace\"></pre>\n"
      ],
      "text/plain": []
     },
     "metadata": {},
     "output_type": "display_data"
    },
    {
     "data": {
      "text/html": [
       "<div>\n",
       "<style scoped>\n",
       "    .dataframe tbody tr th:only-of-type {\n",
       "        vertical-align: middle;\n",
       "    }\n",
       "\n",
       "    .dataframe tbody tr th {\n",
       "        vertical-align: top;\n",
       "    }\n",
       "\n",
       "    .dataframe thead th {\n",
       "        text-align: right;\n",
       "    }\n",
       "</style>\n",
       "<table border=\"1\" class=\"dataframe\">\n",
       "  <thead>\n",
       "    <tr style=\"text-align: right;\">\n",
       "      <th></th>\n",
       "      <th>Feature</th>\n",
       "      <th>Importance</th>\n",
       "    </tr>\n",
       "  </thead>\n",
       "  <tbody>\n",
       "    <tr>\n",
       "      <th>0</th>\n",
       "      <td>most_common_author</td>\n",
       "      <td>0.089440</td>\n",
       "    </tr>\n",
       "    <tr>\n",
       "      <th>1</th>\n",
       "      <td>publisher</td>\n",
       "      <td>0.086842</td>\n",
       "    </tr>\n",
       "    <tr>\n",
       "      <th>2</th>\n",
       "      <td>language_code</td>\n",
       "      <td>0.115225</td>\n",
       "    </tr>\n",
       "    <tr>\n",
       "      <th>3</th>\n",
       "      <td>genre</td>\n",
       "      <td>0.237917</td>\n",
       "    </tr>\n",
       "    <tr>\n",
       "      <th>4</th>\n",
       "      <td>num_pages</td>\n",
       "      <td>0.153841</td>\n",
       "    </tr>\n",
       "    <tr>\n",
       "      <th>5</th>\n",
       "      <td>ratings_count</td>\n",
       "      <td>0.118164</td>\n",
       "    </tr>\n",
       "    <tr>\n",
       "      <th>6</th>\n",
       "      <td>text_reviews_count</td>\n",
       "      <td>0.097633</td>\n",
       "    </tr>\n",
       "    <tr>\n",
       "      <th>7</th>\n",
       "      <td>Price</td>\n",
       "      <td>0.100937</td>\n",
       "    </tr>\n",
       "  </tbody>\n",
       "</table>\n",
       "</div>"
      ],
      "text/plain": [
       "\n",
       "              Feature  Importance\n",
       "\u001b[1;36m0\u001b[0m  most_common_author    \u001b[1;36m0.089440\u001b[0m\n",
       "\u001b[1;36m1\u001b[0m           publisher    \u001b[1;36m0.086842\u001b[0m\n",
       "\u001b[1;36m2\u001b[0m       language_code    \u001b[1;36m0.115225\u001b[0m\n",
       "\u001b[1;36m3\u001b[0m               genre    \u001b[1;36m0.237917\u001b[0m\n",
       "\u001b[1;36m4\u001b[0m           num_pages    \u001b[1;36m0.153841\u001b[0m\n",
       "\u001b[1;36m5\u001b[0m       ratings_count    \u001b[1;36m0.118164\u001b[0m\n",
       "\u001b[1;36m6\u001b[0m  text_reviews_count    \u001b[1;36m0.097633\u001b[0m\n",
       "\u001b[1;36m7\u001b[0m               Price    \u001b[1;36m0.100937\u001b[0m"
      ]
     },
     "execution_count": 20,
     "metadata": {},
     "output_type": "execute_result"
    }
   ],
   "source": [
    "pd.DataFrame([{\"Feature\": feat, \"Importance\": imp} for feat, imp in zip(automl.feature_names_in_, automl.feature_importances_)])"
   ]
  },
  {
   "cell_type": "code",
   "execution_count": 24,
   "metadata": {},
   "outputs": [
    {
     "data": {
      "text/html": [
       "<pre style=\"white-space:pre;overflow-x:auto;line-height:normal;font-family:Menlo,'DejaVu Sans Mono',consolas,'Courier New',monospace\"></pre>\n"
      ],
      "text/plain": []
     },
     "metadata": {},
     "output_type": "display_data"
    },
    {
     "data": {
      "text/plain": [
       "\u001b[1;36m0.3590289722783243\u001b[0m"
      ]
     },
     "execution_count": 24,
     "metadata": {},
     "output_type": "execute_result"
    }
   ],
   "source": [
    "automl.score(X_train, y_train)"
   ]
  },
  {
   "cell_type": "code",
   "execution_count": 22,
   "metadata": {},
   "outputs": [
    {
     "data": {
      "text/html": [
       "<pre style=\"white-space:pre;overflow-x:auto;line-height:normal;font-family:Menlo,'DejaVu Sans Mono',consolas,'Courier New',monospace\"></pre>\n"
      ],
      "text/plain": []
     },
     "metadata": {},
     "output_type": "display_data"
    },
    {
     "data": {
      "text/plain": [
       "\u001b[1;36m0.22236078700921158\u001b[0m"
      ]
     },
     "execution_count": 22,
     "metadata": {},
     "output_type": "execute_result"
    }
   ],
   "source": [
    "automl.score(X_test, y_test)"
   ]
  },
  {
   "cell_type": "code",
   "execution_count": 23,
   "metadata": {},
   "outputs": [
    {
     "data": {
      "text/html": [
       "<pre style=\"white-space:pre;overflow-x:auto;line-height:normal;font-family:Menlo,'DejaVu Sans Mono',consolas,'Courier New',monospace\"></pre>\n"
      ],
      "text/plain": []
     },
     "metadata": {},
     "output_type": "display_data"
    },
    {
     "data": {
      "text/plain": [
       "\u001b[1m<\u001b[0m\u001b[1;95mmatplotlib.collections.PathCollection\u001b[0m\u001b[39m object at \u001b[0m\u001b[1;36m0x000002630CB3F1D0\u001b[0m\u001b[1m>\u001b[0m"
      ]
     },
     "execution_count": 23,
     "metadata": {},
     "output_type": "execute_result"
    },
    {
     "data": {
      "text/html": [
       "<pre style=\"white-space:pre;overflow-x:auto;line-height:normal;font-family:Menlo,'DejaVu Sans Mono',consolas,'Courier New',monospace\"></pre>\n"
      ],
      "text/plain": []
     },
     "metadata": {},
     "output_type": "display_data"
    },
    {
     "data": {
      "image/png": "[encoded data removed]",
      "text/plain": [
       "\u001b[1m<\u001b[0m\u001b[1;95mFigure\u001b[0m\u001b[39m size 64\u001b[0m\u001b[1;36m0x480\u001b[0m\u001b[39m with \u001b[0m\u001b[1;36m1\u001b[0m\u001b[39m Axes\u001b[0m\u001b[1m>\u001b[0m"
      ]
     },
     "metadata": {},
     "output_type": "display_data"
    }
   ],
   "source": [
    "preds = automl.predict(X_test)\n",
    "plt.scatter(y_test, preds)"
   ]
  },
  {
   "cell_type": "code",
   "execution_count": null,
   "metadata": {},
   "outputs": [],
   "source": []
  }
 ],
 "metadata": {
  "kernelspec": {
   "display_name": "goodreads_predictor_kedro",
   "language": "python",
   "name": "python3"
  },
  "language_info": {
   "codemirror_mode": {
    "name": "ipython",
    "version": 3
   },
   "file_extension": ".py",
   "mimetype": "text/x-python",
   "name": "python",
   "nbconvert_exporter": "python",
   "pygments_lexer": "ipython3",
   "version": "3.11.9"
  }
 },
 "nbformat": 4,
 "nbformat_minor": 2
}
