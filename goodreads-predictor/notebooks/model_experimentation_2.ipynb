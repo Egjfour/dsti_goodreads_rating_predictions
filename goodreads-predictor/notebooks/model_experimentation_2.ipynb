{
 "cells": [
  {
   "cell_type": "code",
   "execution_count": 4,
   "metadata": {},
   "outputs": [
    {
     "data": {
      "text/html": [
       "<pre style=\"white-space:pre;overflow-x:auto;line-height:normal;font-family:Menlo,'DejaVu Sans Mono',consolas,'Courier New',monospace\"><span style=\"color: #7fbfbf; text-decoration-color: #7fbfbf\">[09/12/24 14:36:23] </span><span style=\"color: #000080; text-decoration-color: #000080\">INFO    </span> Registered line magic <span style=\"color: #008000; text-decoration-color: #008000\">'%reload_kedro'</span>                                   <a href=\"file://c:\\Users\\PC\\.conda\\envs\\goodread_env\\lib\\site-packages\\kedro\\ipython\\__init__.py\" target=\"_blank\"><span style=\"color: #7f7f7f; text-decoration-color: #7f7f7f\">__init__.py</span></a><span style=\"color: #7f7f7f; text-decoration-color: #7f7f7f\">:</span><a href=\"file://c:\\Users\\PC\\.conda\\envs\\goodread_env\\lib\\site-packages\\kedro\\ipython\\__init__.py#58\" target=\"_blank\"><span style=\"color: #7f7f7f; text-decoration-color: #7f7f7f\">58</span></a>\n",
       "</pre>\n"
      ],
      "text/plain": [
       "\u001b[2;36m[09/12/24 14:36:23]\u001b[0m\u001b[2;36m \u001b[0m\u001b[34mINFO    \u001b[0m Registered line magic \u001b[32m'%reload_kedro'\u001b[0m                                   \u001b]8;id=87244;file://c:\\Users\\PC\\.conda\\envs\\goodread_env\\lib\\site-packages\\kedro\\ipython\\__init__.py\u001b\\\u001b[2m__init__.py\u001b[0m\u001b]8;;\u001b\\\u001b[2m:\u001b[0m\u001b]8;id=883447;file://c:\\Users\\PC\\.conda\\envs\\goodread_env\\lib\\site-packages\\kedro\\ipython\\__init__.py#58\u001b\\\u001b[2m58\u001b[0m\u001b]8;;\u001b\\\n"
      ]
     },
     "metadata": {},
     "output_type": "display_data"
    },
    {
     "data": {
      "text/html": [
       "<pre style=\"white-space:pre;overflow-x:auto;line-height:normal;font-family:Menlo,'DejaVu Sans Mono',consolas,'Courier New',monospace\"><span style=\"color: #7fbfbf; text-decoration-color: #7fbfbf\">                    </span><span style=\"color: #000080; text-decoration-color: #000080\">INFO    </span> Registered line magic <span style=\"color: #008000; text-decoration-color: #008000\">'%load_node'</span>                                      <a href=\"file://c:\\Users\\PC\\.conda\\envs\\goodread_env\\lib\\site-packages\\kedro\\ipython\\__init__.py\" target=\"_blank\"><span style=\"color: #7f7f7f; text-decoration-color: #7f7f7f\">__init__.py</span></a><span style=\"color: #7f7f7f; text-decoration-color: #7f7f7f\">:</span><a href=\"file://c:\\Users\\PC\\.conda\\envs\\goodread_env\\lib\\site-packages\\kedro\\ipython\\__init__.py#60\" target=\"_blank\"><span style=\"color: #7f7f7f; text-decoration-color: #7f7f7f\">60</span></a>\n",
       "</pre>\n"
      ],
      "text/plain": [
       "\u001b[2;36m                   \u001b[0m\u001b[2;36m \u001b[0m\u001b[34mINFO    \u001b[0m Registered line magic \u001b[32m'%load_node'\u001b[0m                                      \u001b]8;id=542593;file://c:\\Users\\PC\\.conda\\envs\\goodread_env\\lib\\site-packages\\kedro\\ipython\\__init__.py\u001b\\\u001b[2m__init__.py\u001b[0m\u001b]8;;\u001b\\\u001b[2m:\u001b[0m\u001b]8;id=477252;file://c:\\Users\\PC\\.conda\\envs\\goodread_env\\lib\\site-packages\\kedro\\ipython\\__init__.py#60\u001b\\\u001b[2m60\u001b[0m\u001b]8;;\u001b\\\n"
      ]
     },
     "metadata": {},
     "output_type": "display_data"
    },
    {
     "data": {
      "text/html": [
       "<pre style=\"white-space:pre;overflow-x:auto;line-height:normal;font-family:Menlo,'DejaVu Sans Mono',consolas,'Courier New',monospace\"><span style=\"color: #7fbfbf; text-decoration-color: #7fbfbf\">                    </span><span style=\"color: #000080; text-decoration-color: #000080\">INFO    </span> Resolved project path as:                                              <a href=\"file://c:\\Users\\PC\\.conda\\envs\\goodread_env\\lib\\site-packages\\kedro\\ipython\\__init__.py\" target=\"_blank\"><span style=\"color: #7f7f7f; text-decoration-color: #7f7f7f\">__init__.py</span></a><span style=\"color: #7f7f7f; text-decoration-color: #7f7f7f\">:</span><a href=\"file://c:\\Users\\PC\\.conda\\envs\\goodread_env\\lib\\site-packages\\kedro\\ipython\\__init__.py#171\" target=\"_blank\"><span style=\"color: #7f7f7f; text-decoration-color: #7f7f7f\">171</span></a>\n",
       "<span style=\"color: #7fbfbf; text-decoration-color: #7fbfbf\">                    </span>         c:\\Users\\PC\\Desktop\\PRO-G\\ECOLE\\DSTI_goodreads\\goodreads-predictor.    <span style=\"color: #7f7f7f; text-decoration-color: #7f7f7f\">               </span>\n",
       "<span style=\"color: #7fbfbf; text-decoration-color: #7fbfbf\">                    </span>         To set a different path, run <span style=\"color: #008000; text-decoration-color: #008000\">'%reload_kedro &lt;project_root&gt;'</span>            <span style=\"color: #7f7f7f; text-decoration-color: #7f7f7f\">               </span>\n",
       "</pre>\n"
      ],
      "text/plain": [
       "\u001b[2;36m                   \u001b[0m\u001b[2;36m \u001b[0m\u001b[34mINFO    \u001b[0m Resolved project path as:                                              \u001b]8;id=570337;file://c:\\Users\\PC\\.conda\\envs\\goodread_env\\lib\\site-packages\\kedro\\ipython\\__init__.py\u001b\\\u001b[2m__init__.py\u001b[0m\u001b]8;;\u001b\\\u001b[2m:\u001b[0m\u001b]8;id=396688;file://c:\\Users\\PC\\.conda\\envs\\goodread_env\\lib\\site-packages\\kedro\\ipython\\__init__.py#171\u001b\\\u001b[2m171\u001b[0m\u001b]8;;\u001b\\\n",
       "\u001b[2;36m                    \u001b[0m         c:\\Users\\PC\\Desktop\\PRO-G\\ECOLE\\DSTI_goodreads\\goodreads-predictor.    \u001b[2m               \u001b[0m\n",
       "\u001b[2;36m                    \u001b[0m         To set a different path, run \u001b[32m'%reload_kedro \u001b[0m\u001b[32m<\u001b[0m\u001b[32mproject_root\u001b[0m\u001b[32m>\u001b[0m\u001b[32m'\u001b[0m            \u001b[2m               \u001b[0m\n"
      ]
     },
     "metadata": {},
     "output_type": "display_data"
    },
    {
     "data": {
      "text/html": [
       "<pre style=\"white-space:pre;overflow-x:auto;line-height:normal;font-family:Menlo,'DejaVu Sans Mono',consolas,'Courier New',monospace\"><span style=\"color: #7fbfbf; text-decoration-color: #7fbfbf\">[09/12/24 14:36:29] </span><span style=\"color: #000080; text-decoration-color: #000080\">INFO    </span> Kedro project goodreads-predictor                                      <a href=\"file://c:\\Users\\PC\\.conda\\envs\\goodread_env\\lib\\site-packages\\kedro\\ipython\\__init__.py\" target=\"_blank\"><span style=\"color: #7f7f7f; text-decoration-color: #7f7f7f\">__init__.py</span></a><span style=\"color: #7f7f7f; text-decoration-color: #7f7f7f\">:</span><a href=\"file://c:\\Users\\PC\\.conda\\envs\\goodread_env\\lib\\site-packages\\kedro\\ipython\\__init__.py#141\" target=\"_blank\"><span style=\"color: #7f7f7f; text-decoration-color: #7f7f7f\">141</span></a>\n",
       "</pre>\n"
      ],
      "text/plain": [
       "\u001b[2;36m[09/12/24 14:36:29]\u001b[0m\u001b[2;36m \u001b[0m\u001b[34mINFO    \u001b[0m Kedro project goodreads-predictor                                      \u001b]8;id=786718;file://c:\\Users\\PC\\.conda\\envs\\goodread_env\\lib\\site-packages\\kedro\\ipython\\__init__.py\u001b\\\u001b[2m__init__.py\u001b[0m\u001b]8;;\u001b\\\u001b[2m:\u001b[0m\u001b]8;id=215323;file://c:\\Users\\PC\\.conda\\envs\\goodread_env\\lib\\site-packages\\kedro\\ipython\\__init__.py#141\u001b\\\u001b[2m141\u001b[0m\u001b]8;;\u001b\\\n"
      ]
     },
     "metadata": {},
     "output_type": "display_data"
    },
    {
     "data": {
      "text/html": [
       "<pre style=\"white-space:pre;overflow-x:auto;line-height:normal;font-family:Menlo,'DejaVu Sans Mono',consolas,'Courier New',monospace\"><span style=\"color: #7fbfbf; text-decoration-color: #7fbfbf\">                    </span><span style=\"color: #000080; text-decoration-color: #000080\">INFO    </span> Defined global variable <span style=\"color: #008000; text-decoration-color: #008000\">'context'</span>, <span style=\"color: #008000; text-decoration-color: #008000\">'session'</span>, <span style=\"color: #008000; text-decoration-color: #008000\">'catalog'</span> and            <a href=\"file://c:\\Users\\PC\\.conda\\envs\\goodread_env\\lib\\site-packages\\kedro\\ipython\\__init__.py\" target=\"_blank\"><span style=\"color: #7f7f7f; text-decoration-color: #7f7f7f\">__init__.py</span></a><span style=\"color: #7f7f7f; text-decoration-color: #7f7f7f\">:</span><a href=\"file://c:\\Users\\PC\\.conda\\envs\\goodread_env\\lib\\site-packages\\kedro\\ipython\\__init__.py#142\" target=\"_blank\"><span style=\"color: #7f7f7f; text-decoration-color: #7f7f7f\">142</span></a>\n",
       "<span style=\"color: #7fbfbf; text-decoration-color: #7fbfbf\">                    </span>         <span style=\"color: #008000; text-decoration-color: #008000\">'pipelines'</span>                                                            <span style=\"color: #7f7f7f; text-decoration-color: #7f7f7f\">               </span>\n",
       "</pre>\n"
      ],
      "text/plain": [
       "\u001b[2;36m                   \u001b[0m\u001b[2;36m \u001b[0m\u001b[34mINFO    \u001b[0m Defined global variable \u001b[32m'context'\u001b[0m, \u001b[32m'session'\u001b[0m, \u001b[32m'catalog'\u001b[0m and            \u001b]8;id=332445;file://c:\\Users\\PC\\.conda\\envs\\goodread_env\\lib\\site-packages\\kedro\\ipython\\__init__.py\u001b\\\u001b[2m__init__.py\u001b[0m\u001b]8;;\u001b\\\u001b[2m:\u001b[0m\u001b]8;id=163197;file://c:\\Users\\PC\\.conda\\envs\\goodread_env\\lib\\site-packages\\kedro\\ipython\\__init__.py#142\u001b\\\u001b[2m142\u001b[0m\u001b]8;;\u001b\\\n",
       "\u001b[2;36m                    \u001b[0m         \u001b[32m'pipelines'\u001b[0m                                                            \u001b[2m               \u001b[0m\n"
      ]
     },
     "metadata": {},
     "output_type": "display_data"
    },
    {
     "data": {
      "text/html": [
       "<pre style=\"white-space:pre;overflow-x:auto;line-height:normal;font-family:Menlo,'DejaVu Sans Mono',consolas,'Courier New',monospace\"><span style=\"color: #7fbfbf; text-decoration-color: #7fbfbf\">[09/12/24 14:36:31] </span><span style=\"color: #000080; text-decoration-color: #000080\">INFO    </span> Registered line magic <span style=\"color: #008000; text-decoration-color: #008000\">'run_viz'</span>                                        <a href=\"file://c:\\Users\\PC\\.conda\\envs\\goodread_env\\lib\\site-packages\\kedro\\ipython\\__init__.py\" target=\"_blank\"><span style=\"color: #7f7f7f; text-decoration-color: #7f7f7f\">__init__.py</span></a><span style=\"color: #7f7f7f; text-decoration-color: #7f7f7f\">:</span><a href=\"file://c:\\Users\\PC\\.conda\\envs\\goodread_env\\lib\\site-packages\\kedro\\ipython\\__init__.py#148\" target=\"_blank\"><span style=\"color: #7f7f7f; text-decoration-color: #7f7f7f\">148</span></a>\n",
       "</pre>\n"
      ],
      "text/plain": [
       "\u001b[2;36m[09/12/24 14:36:31]\u001b[0m\u001b[2;36m \u001b[0m\u001b[34mINFO    \u001b[0m Registered line magic \u001b[32m'run_viz'\u001b[0m                                        \u001b]8;id=534901;file://c:\\Users\\PC\\.conda\\envs\\goodread_env\\lib\\site-packages\\kedro\\ipython\\__init__.py\u001b\\\u001b[2m__init__.py\u001b[0m\u001b]8;;\u001b\\\u001b[2m:\u001b[0m\u001b]8;id=589459;file://c:\\Users\\PC\\.conda\\envs\\goodread_env\\lib\\site-packages\\kedro\\ipython\\__init__.py#148\u001b\\\u001b[2m148\u001b[0m\u001b]8;;\u001b\\\n"
      ]
     },
     "metadata": {},
     "output_type": "display_data"
    },
    {
     "data": {
      "text/html": [
       "<pre style=\"white-space:pre;overflow-x:auto;line-height:normal;font-family:Menlo,'DejaVu Sans Mono',consolas,'Courier New',monospace\"><span style=\"color: #7fbfbf; text-decoration-color: #7fbfbf\">                    </span><span style=\"color: #000080; text-decoration-color: #000080\">INFO    </span> Resolved project path as:                                              <a href=\"file://c:\\Users\\PC\\.conda\\envs\\goodread_env\\lib\\site-packages\\kedro\\ipython\\__init__.py\" target=\"_blank\"><span style=\"color: #7f7f7f; text-decoration-color: #7f7f7f\">__init__.py</span></a><span style=\"color: #7f7f7f; text-decoration-color: #7f7f7f\">:</span><a href=\"file://c:\\Users\\PC\\.conda\\envs\\goodread_env\\lib\\site-packages\\kedro\\ipython\\__init__.py#171\" target=\"_blank\"><span style=\"color: #7f7f7f; text-decoration-color: #7f7f7f\">171</span></a>\n",
       "<span style=\"color: #7fbfbf; text-decoration-color: #7fbfbf\">                    </span>         C:\\Users\\PC\\Desktop\\PRO-G\\ECOLE\\DSTI_goodreads\\goodreads-predictor.    <span style=\"color: #7f7f7f; text-decoration-color: #7f7f7f\">               </span>\n",
       "<span style=\"color: #7fbfbf; text-decoration-color: #7fbfbf\">                    </span>         To set a different path, run <span style=\"color: #008000; text-decoration-color: #008000\">'%reload_kedro &lt;project_root&gt;'</span>            <span style=\"color: #7f7f7f; text-decoration-color: #7f7f7f\">               </span>\n",
       "</pre>\n"
      ],
      "text/plain": [
       "\u001b[2;36m                   \u001b[0m\u001b[2;36m \u001b[0m\u001b[34mINFO    \u001b[0m Resolved project path as:                                              \u001b]8;id=346490;file://c:\\Users\\PC\\.conda\\envs\\goodread_env\\lib\\site-packages\\kedro\\ipython\\__init__.py\u001b\\\u001b[2m__init__.py\u001b[0m\u001b]8;;\u001b\\\u001b[2m:\u001b[0m\u001b]8;id=596406;file://c:\\Users\\PC\\.conda\\envs\\goodread_env\\lib\\site-packages\\kedro\\ipython\\__init__.py#171\u001b\\\u001b[2m171\u001b[0m\u001b]8;;\u001b\\\n",
       "\u001b[2;36m                    \u001b[0m         C:\\Users\\PC\\Desktop\\PRO-G\\ECOLE\\DSTI_goodreads\\goodreads-predictor.    \u001b[2m               \u001b[0m\n",
       "\u001b[2;36m                    \u001b[0m         To set a different path, run \u001b[32m'%reload_kedro \u001b[0m\u001b[32m<\u001b[0m\u001b[32mproject_root\u001b[0m\u001b[32m>\u001b[0m\u001b[32m'\u001b[0m            \u001b[2m               \u001b[0m\n"
      ]
     },
     "metadata": {},
     "output_type": "display_data"
    },
    {
     "data": {
      "text/html": [
       "<pre style=\"white-space:pre;overflow-x:auto;line-height:normal;font-family:Menlo,'DejaVu Sans Mono',consolas,'Courier New',monospace\"><span style=\"color: #7fbfbf; text-decoration-color: #7fbfbf\">[09/12/24 14:36:32] </span><span style=\"color: #000080; text-decoration-color: #000080\">INFO    </span> Kedro project goodreads-predictor                                      <a href=\"file://c:\\Users\\PC\\.conda\\envs\\goodread_env\\lib\\site-packages\\kedro\\ipython\\__init__.py\" target=\"_blank\"><span style=\"color: #7f7f7f; text-decoration-color: #7f7f7f\">__init__.py</span></a><span style=\"color: #7f7f7f; text-decoration-color: #7f7f7f\">:</span><a href=\"file://c:\\Users\\PC\\.conda\\envs\\goodread_env\\lib\\site-packages\\kedro\\ipython\\__init__.py#141\" target=\"_blank\"><span style=\"color: #7f7f7f; text-decoration-color: #7f7f7f\">141</span></a>\n",
       "</pre>\n"
      ],
      "text/plain": [
       "\u001b[2;36m[09/12/24 14:36:32]\u001b[0m\u001b[2;36m \u001b[0m\u001b[34mINFO    \u001b[0m Kedro project goodreads-predictor                                      \u001b]8;id=952235;file://c:\\Users\\PC\\.conda\\envs\\goodread_env\\lib\\site-packages\\kedro\\ipython\\__init__.py\u001b\\\u001b[2m__init__.py\u001b[0m\u001b]8;;\u001b\\\u001b[2m:\u001b[0m\u001b]8;id=715773;file://c:\\Users\\PC\\.conda\\envs\\goodread_env\\lib\\site-packages\\kedro\\ipython\\__init__.py#141\u001b\\\u001b[2m141\u001b[0m\u001b]8;;\u001b\\\n"
      ]
     },
     "metadata": {},
     "output_type": "display_data"
    },
    {
     "data": {
      "text/html": [
       "<pre style=\"white-space:pre;overflow-x:auto;line-height:normal;font-family:Menlo,'DejaVu Sans Mono',consolas,'Courier New',monospace\"><span style=\"color: #7fbfbf; text-decoration-color: #7fbfbf\">                    </span><span style=\"color: #000080; text-decoration-color: #000080\">INFO    </span> Defined global variable <span style=\"color: #008000; text-decoration-color: #008000\">'context'</span>, <span style=\"color: #008000; text-decoration-color: #008000\">'session'</span>, <span style=\"color: #008000; text-decoration-color: #008000\">'catalog'</span> and            <a href=\"file://c:\\Users\\PC\\.conda\\envs\\goodread_env\\lib\\site-packages\\kedro\\ipython\\__init__.py\" target=\"_blank\"><span style=\"color: #7f7f7f; text-decoration-color: #7f7f7f\">__init__.py</span></a><span style=\"color: #7f7f7f; text-decoration-color: #7f7f7f\">:</span><a href=\"file://c:\\Users\\PC\\.conda\\envs\\goodread_env\\lib\\site-packages\\kedro\\ipython\\__init__.py#142\" target=\"_blank\"><span style=\"color: #7f7f7f; text-decoration-color: #7f7f7f\">142</span></a>\n",
       "<span style=\"color: #7fbfbf; text-decoration-color: #7fbfbf\">                    </span>         <span style=\"color: #008000; text-decoration-color: #008000\">'pipelines'</span>                                                            <span style=\"color: #7f7f7f; text-decoration-color: #7f7f7f\">               </span>\n",
       "</pre>\n"
      ],
      "text/plain": [
       "\u001b[2;36m                   \u001b[0m\u001b[2;36m \u001b[0m\u001b[34mINFO    \u001b[0m Defined global variable \u001b[32m'context'\u001b[0m, \u001b[32m'session'\u001b[0m, \u001b[32m'catalog'\u001b[0m and            \u001b]8;id=508179;file://c:\\Users\\PC\\.conda\\envs\\goodread_env\\lib\\site-packages\\kedro\\ipython\\__init__.py\u001b\\\u001b[2m__init__.py\u001b[0m\u001b]8;;\u001b\\\u001b[2m:\u001b[0m\u001b]8;id=664791;file://c:\\Users\\PC\\.conda\\envs\\goodread_env\\lib\\site-packages\\kedro\\ipython\\__init__.py#142\u001b\\\u001b[2m142\u001b[0m\u001b]8;;\u001b\\\n",
       "\u001b[2;36m                    \u001b[0m         \u001b[32m'pipelines'\u001b[0m                                                            \u001b[2m               \u001b[0m\n"
      ]
     },
     "metadata": {},
     "output_type": "display_data"
    },
    {
     "data": {
      "text/html": [
       "<pre style=\"white-space:pre;overflow-x:auto;line-height:normal;font-family:Menlo,'DejaVu Sans Mono',consolas,'Courier New',monospace\"><span style=\"color: #7fbfbf; text-decoration-color: #7fbfbf\">                    </span><span style=\"color: #000080; text-decoration-color: #000080\">INFO    </span> Registered line magic <span style=\"color: #008000; text-decoration-color: #008000\">'run_viz'</span>                                        <a href=\"file://c:\\Users\\PC\\.conda\\envs\\goodread_env\\lib\\site-packages\\kedro\\ipython\\__init__.py\" target=\"_blank\"><span style=\"color: #7f7f7f; text-decoration-color: #7f7f7f\">__init__.py</span></a><span style=\"color: #7f7f7f; text-decoration-color: #7f7f7f\">:</span><a href=\"file://c:\\Users\\PC\\.conda\\envs\\goodread_env\\lib\\site-packages\\kedro\\ipython\\__init__.py#148\" target=\"_blank\"><span style=\"color: #7f7f7f; text-decoration-color: #7f7f7f\">148</span></a>\n",
       "</pre>\n"
      ],
      "text/plain": [
       "\u001b[2;36m                   \u001b[0m\u001b[2;36m \u001b[0m\u001b[34mINFO    \u001b[0m Registered line magic \u001b[32m'run_viz'\u001b[0m                                        \u001b]8;id=420511;file://c:\\Users\\PC\\.conda\\envs\\goodread_env\\lib\\site-packages\\kedro\\ipython\\__init__.py\u001b\\\u001b[2m__init__.py\u001b[0m\u001b]8;;\u001b\\\u001b[2m:\u001b[0m\u001b]8;id=850159;file://c:\\Users\\PC\\.conda\\envs\\goodread_env\\lib\\site-packages\\kedro\\ipython\\__init__.py#148\u001b\\\u001b[2m148\u001b[0m\u001b]8;;\u001b\\\n"
      ]
     },
     "metadata": {},
     "output_type": "display_data"
    },
    {
     "data": {
      "text/html": [
       "<pre style=\"white-space:pre;overflow-x:auto;line-height:normal;font-family:Menlo,'DejaVu Sans Mono',consolas,'Courier New',monospace\"></pre>\n"
      ],
      "text/plain": []
     },
     "metadata": {},
     "output_type": "display_data"
    },
    {
     "data": {
      "text/plain": [
       "\n",
       "\u001b[1m[\u001b[0m\n",
       "    \u001b[32m'books_raw'\u001b[0m,\n",
       "    \u001b[32m'books_loaded'\u001b[0m,\n",
       "    \u001b[32m'publisher_consolidation'\u001b[0m,\n",
       "    \u001b[32m'price_by_isbn_input'\u001b[0m,\n",
       "    \u001b[32m'price_by_isbn'\u001b[0m,\n",
       "    \u001b[32m'book_genres'\u001b[0m,\n",
       "    \u001b[32m'title_embeddings_original'\u001b[0m,\n",
       "    \u001b[32m'authors_embeddings'\u001b[0m,\n",
       "    \u001b[32m'description_embeddings'\u001b[0m,\n",
       "    \u001b[32m'open_library_book_api_info_input'\u001b[0m,\n",
       "    \u001b[32m'open_library_book_api_info'\u001b[0m,\n",
       "    \u001b[32m'filtered_books'\u001b[0m,\n",
       "    \u001b[32m'exclusions_summary'\u001b[0m,\n",
       "    \u001b[32m'scope_waterfall_plot'\u001b[0m,\n",
       "    \u001b[32m'books_features'\u001b[0m,\n",
       "    \u001b[32m'feature_cutoffs'\u001b[0m,\n",
       "    \u001b[32m'factor_lumper'\u001b[0m,\n",
       "    \u001b[32m'model_train'\u001b[0m,\n",
       "    \u001b[32m'model_valid'\u001b[0m,\n",
       "    \u001b[32m'model_test'\u001b[0m,\n",
       "    \u001b[32m'flaml_model_trained'\u001b[0m,\n",
       "    \u001b[32m'flaml_model_test_results'\u001b[0m,\n",
       "    \u001b[32m'flaml_regressor_scatterplot'\u001b[0m,\n",
       "    \u001b[32m'all_model_results'\u001b[0m,\n",
       "    \u001b[32m'parameters'\u001b[0m,\n",
       "    \u001b[32m'params:title_column'\u001b[0m,\n",
       "    \u001b[32m'params:author_column'\u001b[0m,\n",
       "    \u001b[32m'params:description_column'\u001b[0m,\n",
       "    \u001b[32m'params:original_data_key_column'\u001b[0m,\n",
       "    \u001b[32m'params:experiment_names'\u001b[0m,\n",
       "    \u001b[32m'params:target_col'\u001b[0m,\n",
       "    \u001b[32m'params:threshold'\u001b[0m,\n",
       "    \u001b[32m'params:is_top_n'\u001b[0m,\n",
       "    \u001b[32m'params:is_percentage'\u001b[0m,\n",
       "    \u001b[32m'params:test_size'\u001b[0m,\n",
       "    \u001b[32m'params:author_book_count_bin_min_vals'\u001b[0m,\n",
       "    \u001b[32m'params:FEATURES'\u001b[0m,\n",
       "    \u001b[32m'params:TARGET'\u001b[0m,\n",
       "    \u001b[32m'params:model_config'\u001b[0m,\n",
       "    \u001b[32m'params:model_config.time_budget'\u001b[0m,\n",
       "    \u001b[32m'params:model_config.metric'\u001b[0m,\n",
       "    \u001b[32m'params:model_config.task'\u001b[0m,\n",
       "    \u001b[32m'params:model_config.estimator_list'\u001b[0m,\n",
       "    \u001b[32m'params:color_gr_brown'\u001b[0m,\n",
       "    \u001b[32m'params:color_gr_purple'\u001b[0m,\n",
       "    \u001b[32m'params:color_gr_green'\u001b[0m,\n",
       "    \u001b[32m'params:color_gr_tan_background'\u001b[0m,\n",
       "    \u001b[32m'params:coolors_dark_green'\u001b[0m,\n",
       "    \u001b[32m'params:coolors_blue'\u001b[0m,\n",
       "    \u001b[32m'params:coolors_dark_cyan'\u001b[0m,\n",
       "    \u001b[32m'params:coolors_orange'\u001b[0m,\n",
       "    \u001b[32m'params:coolors_yellow'\u001b[0m\n",
       "\u001b[1m]\u001b[0m"
      ]
     },
     "execution_count": 4,
     "metadata": {},
     "output_type": "execute_result"
    }
   ],
   "source": [
    "%load_ext kedro.ipython\n",
    "%reload_kedro\n",
    "catalog.list()"
   ]
  },
  {
   "cell_type": "code",
   "execution_count": 5,
   "metadata": {},
   "outputs": [],
   "source": [
    "# Import libraries\n",
    "import pandas as pd\n",
    "from sklearn.preprocessing import OneHotEncoder\n",
    "from sklearn.linear_model import BayesianRidge, Ridge,ElasticNet\n",
    "from sklearn.model_selection import GridSearchCV, RandomizedSearchCV, RepeatedKFold\n",
    "import scipy \n",
    "from scipy.stats import uniform, loguniform\n",
    "\n"
   ]
  },
  {
   "attachments": {
    "image.png": {
     "image/png": "[encoded data removed]"
    }
   },
   "cell_type": "markdown",
   "metadata": {},
   "source": [
    "# Purpose of the NB\n",
    "\n",
    "## Testing models and hyperparameters tuning\n",
    "\n",
    "![image.png](attachment:image.png)"
   ]
  },
  {
   "cell_type": "markdown",
   "metadata": {},
   "source": [
    "# DATA MANIPULATION"
   ]
  },
  {
   "cell_type": "code",
   "execution_count": 6,
   "metadata": {},
   "outputs": [
    {
     "data": {
      "text/html": [
       "<pre style=\"white-space:pre;overflow-x:auto;line-height:normal;font-family:Menlo,'DejaVu Sans Mono',consolas,'Courier New',monospace\"><span style=\"color: #7fbfbf; text-decoration-color: #7fbfbf\">                    </span><span style=\"color: #000080; text-decoration-color: #000080\">INFO    </span> Loading data from <span style=\"color: #ff8700; text-decoration-color: #ff8700\">model_train</span> <span style=\"font-weight: bold\">(</span>ParquetDataset<span style=\"font-weight: bold\">)</span><span style=\"color: #808000; text-decoration-color: #808000\">...</span>                  <a href=\"file://c:\\Users\\PC\\.conda\\envs\\goodread_env\\lib\\site-packages\\kedro\\io\\data_catalog.py\" target=\"_blank\"><span style=\"color: #7f7f7f; text-decoration-color: #7f7f7f\">data_catalog.py</span></a><span style=\"color: #7f7f7f; text-decoration-color: #7f7f7f\">:</span><a href=\"file://c:\\Users\\PC\\.conda\\envs\\goodread_env\\lib\\site-packages\\kedro\\io\\data_catalog.py#508\" target=\"_blank\"><span style=\"color: #7f7f7f; text-decoration-color: #7f7f7f\">508</span></a>\n",
       "</pre>\n"
      ],
      "text/plain": [
       "\u001b[2;36m                   \u001b[0m\u001b[2;36m \u001b[0m\u001b[34mINFO    \u001b[0m Loading data from \u001b[38;5;208mmodel_train\u001b[0m \u001b[1m(\u001b[0mParquetDataset\u001b[1m)\u001b[0m\u001b[33m...\u001b[0m                  \u001b]8;id=178947;file://c:\\Users\\PC\\.conda\\envs\\goodread_env\\lib\\site-packages\\kedro\\io\\data_catalog.py\u001b\\\u001b[2mdata_catalog.py\u001b[0m\u001b]8;;\u001b\\\u001b[2m:\u001b[0m\u001b]8;id=431012;file://c:\\Users\\PC\\.conda\\envs\\goodread_env\\lib\\site-packages\\kedro\\io\\data_catalog.py#508\u001b\\\u001b[2m508\u001b[0m\u001b]8;;\u001b\\\n"
      ]
     },
     "metadata": {},
     "output_type": "display_data"
    },
    {
     "data": {
      "text/html": [
       "<pre style=\"white-space:pre;overflow-x:auto;line-height:normal;font-family:Menlo,'DejaVu Sans Mono',consolas,'Courier New',monospace\"><span style=\"color: #7fbfbf; text-decoration-color: #7fbfbf\">[09/12/24 14:36:33] </span><span style=\"color: #000080; text-decoration-color: #000080\">INFO    </span> Loading data from <span style=\"color: #ff8700; text-decoration-color: #ff8700\">model_test</span> <span style=\"font-weight: bold\">(</span>ParquetDataset<span style=\"font-weight: bold\">)</span><span style=\"color: #808000; text-decoration-color: #808000\">...</span>                   <a href=\"file://c:\\Users\\PC\\.conda\\envs\\goodread_env\\lib\\site-packages\\kedro\\io\\data_catalog.py\" target=\"_blank\"><span style=\"color: #7f7f7f; text-decoration-color: #7f7f7f\">data_catalog.py</span></a><span style=\"color: #7f7f7f; text-decoration-color: #7f7f7f\">:</span><a href=\"file://c:\\Users\\PC\\.conda\\envs\\goodread_env\\lib\\site-packages\\kedro\\io\\data_catalog.py#508\" target=\"_blank\"><span style=\"color: #7f7f7f; text-decoration-color: #7f7f7f\">508</span></a>\n",
       "</pre>\n"
      ],
      "text/plain": [
       "\u001b[2;36m[09/12/24 14:36:33]\u001b[0m\u001b[2;36m \u001b[0m\u001b[34mINFO    \u001b[0m Loading data from \u001b[38;5;208mmodel_test\u001b[0m \u001b[1m(\u001b[0mParquetDataset\u001b[1m)\u001b[0m\u001b[33m...\u001b[0m                   \u001b]8;id=485916;file://c:\\Users\\PC\\.conda\\envs\\goodread_env\\lib\\site-packages\\kedro\\io\\data_catalog.py\u001b\\\u001b[2mdata_catalog.py\u001b[0m\u001b]8;;\u001b\\\u001b[2m:\u001b[0m\u001b]8;id=657749;file://c:\\Users\\PC\\.conda\\envs\\goodread_env\\lib\\site-packages\\kedro\\io\\data_catalog.py#508\u001b\\\u001b[2m508\u001b[0m\u001b]8;;\u001b\\\n"
      ]
     },
     "metadata": {},
     "output_type": "display_data"
    },
    {
     "data": {
      "text/html": [
       "<pre style=\"white-space:pre;overflow-x:auto;line-height:normal;font-family:Menlo,'DejaVu Sans Mono',consolas,'Courier New',monospace\"><span style=\"color: #7fbfbf; text-decoration-color: #7fbfbf\">                    </span><span style=\"color: #000080; text-decoration-color: #000080\">INFO    </span> Loading data from <span style=\"color: #ff8700; text-decoration-color: #ff8700\">model_valid</span> <span style=\"font-weight: bold\">(</span>ParquetDataset<span style=\"font-weight: bold\">)</span><span style=\"color: #808000; text-decoration-color: #808000\">...</span>                  <a href=\"file://c:\\Users\\PC\\.conda\\envs\\goodread_env\\lib\\site-packages\\kedro\\io\\data_catalog.py\" target=\"_blank\"><span style=\"color: #7f7f7f; text-decoration-color: #7f7f7f\">data_catalog.py</span></a><span style=\"color: #7f7f7f; text-decoration-color: #7f7f7f\">:</span><a href=\"file://c:\\Users\\PC\\.conda\\envs\\goodread_env\\lib\\site-packages\\kedro\\io\\data_catalog.py#508\" target=\"_blank\"><span style=\"color: #7f7f7f; text-decoration-color: #7f7f7f\">508</span></a>\n",
       "</pre>\n"
      ],
      "text/plain": [
       "\u001b[2;36m                   \u001b[0m\u001b[2;36m \u001b[0m\u001b[34mINFO    \u001b[0m Loading data from \u001b[38;5;208mmodel_valid\u001b[0m \u001b[1m(\u001b[0mParquetDataset\u001b[1m)\u001b[0m\u001b[33m...\u001b[0m                  \u001b]8;id=843062;file://c:\\Users\\PC\\.conda\\envs\\goodread_env\\lib\\site-packages\\kedro\\io\\data_catalog.py\u001b\\\u001b[2mdata_catalog.py\u001b[0m\u001b]8;;\u001b\\\u001b[2m:\u001b[0m\u001b]8;id=62888;file://c:\\Users\\PC\\.conda\\envs\\goodread_env\\lib\\site-packages\\kedro\\io\\data_catalog.py#508\u001b\\\u001b[2m508\u001b[0m\u001b]8;;\u001b\\\n"
      ]
     },
     "metadata": {},
     "output_type": "display_data"
    }
   ],
   "source": [
    "# Load data \n",
    "train_data = catalog.load(\"model_train\")\n",
    "\n",
    "test_data = catalog.load(\"model_test\")\n",
    "\n",
    "valid_data = catalog.load(\"model_valid\")"
   ]
  },
  {
   "cell_type": "code",
   "execution_count": 7,
   "metadata": {},
   "outputs": [
    {
     "data": {
      "text/html": [
       "<pre style=\"white-space:pre;overflow-x:auto;line-height:normal;font-family:Menlo,'DejaVu Sans Mono',consolas,'Courier New',monospace\"></pre>\n"
      ],
      "text/plain": []
     },
     "metadata": {},
     "output_type": "display_data"
    },
    {
     "data": {
      "text/html": [
       "<div>\n",
       "<style scoped>\n",
       "    .dataframe tbody tr th:only-of-type {\n",
       "        vertical-align: middle;\n",
       "    }\n",
       "\n",
       "    .dataframe tbody tr th {\n",
       "        vertical-align: top;\n",
       "    }\n",
       "\n",
       "    .dataframe thead th {\n",
       "        text-align: right;\n",
       "    }\n",
       "</style>\n",
       "<table border=\"1\" class=\"dataframe\">\n",
       "  <thead>\n",
       "    <tr style=\"text-align: right;\">\n",
       "      <th></th>\n",
       "      <th>title</th>\n",
       "      <th>isbn</th>\n",
       "      <th>most_common_author</th>\n",
       "      <th>publisher</th>\n",
       "      <th>language_code</th>\n",
       "      <th>Description</th>\n",
       "      <th>genre</th>\n",
       "      <th>AuthorFameLevel</th>\n",
       "      <th>book_count_category</th>\n",
       "      <th>publisher_book_count_category</th>\n",
       "      <th>...</th>\n",
       "      <th>ratings_count</th>\n",
       "      <th>text_reviews_count</th>\n",
       "      <th>Price</th>\n",
       "      <th>DescriptionISBN</th>\n",
       "      <th>isbn13_y</th>\n",
       "      <th>cluster</th>\n",
       "      <th>UMAP1</th>\n",
       "      <th>UMAP2</th>\n",
       "      <th>text_reviews_percentage</th>\n",
       "      <th>stratify_col</th>\n",
       "    </tr>\n",
       "  </thead>\n",
       "  <tbody>\n",
       "    <tr>\n",
       "      <th>0</th>\n",
       "      <td>other</td>\n",
       "      <td>other</td>\n",
       "      <td>other</td>\n",
       "      <td>other</td>\n",
       "      <td>eng</td>\n",
       "      <td>other</td>\n",
       "      <td>non-fiction</td>\n",
       "      <td>4 - popular</td>\n",
       "      <td>3 - many books written</td>\n",
       "      <td>3 - many books published</td>\n",
       "      <td>...</td>\n",
       "      <td>2717</td>\n",
       "      <td>232</td>\n",
       "      <td>20.500000</td>\n",
       "      <td>9780674639270</td>\n",
       "      <td>9780674639270</td>\n",
       "      <td>3</td>\n",
       "      <td>10.773099</td>\n",
       "      <td>7.143039</td>\n",
       "      <td>0.085388</td>\n",
       "      <td>True</td>\n",
       "    </tr>\n",
       "    <tr>\n",
       "      <th>1</th>\n",
       "      <td>other</td>\n",
       "      <td>other</td>\n",
       "      <td>other</td>\n",
       "      <td>other</td>\n",
       "      <td>eng</td>\n",
       "      <td>other</td>\n",
       "      <td>fantasy, paranormal</td>\n",
       "      <td>5 - semi-famous</td>\n",
       "      <td>3 - many books written</td>\n",
       "      <td>3 - many books published</td>\n",
       "      <td>...</td>\n",
       "      <td>26237</td>\n",
       "      <td>240</td>\n",
       "      <td>9.990000</td>\n",
       "      <td>9780142501528</td>\n",
       "      <td>9780142501528</td>\n",
       "      <td>6</td>\n",
       "      <td>11.991917</td>\n",
       "      <td>-0.779016</td>\n",
       "      <td>0.009147</td>\n",
       "      <td>True</td>\n",
       "    </tr>\n",
       "    <tr>\n",
       "      <th>2</th>\n",
       "      <td>other</td>\n",
       "      <td>other</td>\n",
       "      <td>other</td>\n",
       "      <td>pocket books</td>\n",
       "      <td>eng</td>\n",
       "      <td>other</td>\n",
       "      <td>mystery, thriller, crime</td>\n",
       "      <td>5 - semi-famous</td>\n",
       "      <td>1 - few books written</td>\n",
       "      <td>3 - many books published</td>\n",
       "      <td>...</td>\n",
       "      <td>1353</td>\n",
       "      <td>53</td>\n",
       "      <td>7.990000</td>\n",
       "      <td>9780671793562</td>\n",
       "      <td>9780671793562</td>\n",
       "      <td>7</td>\n",
       "      <td>8.704370</td>\n",
       "      <td>8.494351</td>\n",
       "      <td>0.039172</td>\n",
       "      <td>True</td>\n",
       "    </tr>\n",
       "    <tr>\n",
       "      <th>3</th>\n",
       "      <td>other</td>\n",
       "      <td>other</td>\n",
       "      <td>other</td>\n",
       "      <td>other</td>\n",
       "      <td>eng</td>\n",
       "      <td>other</td>\n",
       "      <td>history, historical fiction, biography</td>\n",
       "      <td>1 - very low exposure</td>\n",
       "      <td>1 - few books written</td>\n",
       "      <td>3 - many books published</td>\n",
       "      <td>...</td>\n",
       "      <td>26</td>\n",
       "      <td>1</td>\n",
       "      <td>16.950000</td>\n",
       "      <td>9780486285610</td>\n",
       "      <td>9780486285610</td>\n",
       "      <td>2</td>\n",
       "      <td>11.446075</td>\n",
       "      <td>5.444993</td>\n",
       "      <td>0.038462</td>\n",
       "      <td>False</td>\n",
       "    </tr>\n",
       "    <tr>\n",
       "      <th>4</th>\n",
       "      <td>other</td>\n",
       "      <td>other</td>\n",
       "      <td>other</td>\n",
       "      <td>other</td>\n",
       "      <td>eng</td>\n",
       "      <td>other</td>\n",
       "      <td>non-fiction</td>\n",
       "      <td>1 - very low exposure</td>\n",
       "      <td>1 - few books written</td>\n",
       "      <td>1 - few books published</td>\n",
       "      <td>...</td>\n",
       "      <td>82</td>\n",
       "      <td>13</td>\n",
       "      <td>15.950000</td>\n",
       "      <td>9780735200302</td>\n",
       "      <td>9780735200302</td>\n",
       "      <td>1</td>\n",
       "      <td>9.463834</td>\n",
       "      <td>8.225148</td>\n",
       "      <td>0.158537</td>\n",
       "      <td>False</td>\n",
       "    </tr>\n",
       "    <tr>\n",
       "      <th>...</th>\n",
       "      <td>...</td>\n",
       "      <td>...</td>\n",
       "      <td>...</td>\n",
       "      <td>...</td>\n",
       "      <td>...</td>\n",
       "      <td>...</td>\n",
       "      <td>...</td>\n",
       "      <td>...</td>\n",
       "      <td>...</td>\n",
       "      <td>...</td>\n",
       "      <td>...</td>\n",
       "      <td>...</td>\n",
       "      <td>...</td>\n",
       "      <td>...</td>\n",
       "      <td>...</td>\n",
       "      <td>...</td>\n",
       "      <td>...</td>\n",
       "      <td>...</td>\n",
       "      <td>...</td>\n",
       "      <td>...</td>\n",
       "      <td>...</td>\n",
       "    </tr>\n",
       "    <tr>\n",
       "      <th>5863</th>\n",
       "      <td>other</td>\n",
       "      <td>other</td>\n",
       "      <td>other</td>\n",
       "      <td>other</td>\n",
       "      <td>eng</td>\n",
       "      <td>other</td>\n",
       "      <td>fiction</td>\n",
       "      <td>3 - well-known</td>\n",
       "      <td>1 - few books written</td>\n",
       "      <td>3 - many books published</td>\n",
       "      <td>...</td>\n",
       "      <td>744</td>\n",
       "      <td>9</td>\n",
       "      <td>3.980000</td>\n",
       "      <td>9780441581054</td>\n",
       "      <td>9780441581054</td>\n",
       "      <td>7</td>\n",
       "      <td>7.793371</td>\n",
       "      <td>10.453768</td>\n",
       "      <td>0.012097</td>\n",
       "      <td>True</td>\n",
       "    </tr>\n",
       "    <tr>\n",
       "      <th>5864</th>\n",
       "      <td>other</td>\n",
       "      <td>other</td>\n",
       "      <td>other</td>\n",
       "      <td>other</td>\n",
       "      <td>eng</td>\n",
       "      <td>other</td>\n",
       "      <td>history, historical fiction, biography</td>\n",
       "      <td>4 - popular</td>\n",
       "      <td>2 - some books written</td>\n",
       "      <td>1 - few books published</td>\n",
       "      <td>...</td>\n",
       "      <td>4799</td>\n",
       "      <td>88</td>\n",
       "      <td>6.213333</td>\n",
       "      <td>9780064409902</td>\n",
       "      <td>9780064409902</td>\n",
       "      <td>0</td>\n",
       "      <td>14.945441</td>\n",
       "      <td>-0.366986</td>\n",
       "      <td>0.018337</td>\n",
       "      <td>True</td>\n",
       "    </tr>\n",
       "    <tr>\n",
       "      <th>5865</th>\n",
       "      <td>other</td>\n",
       "      <td>other</td>\n",
       "      <td>laurell k. hamilton</td>\n",
       "      <td>berkley</td>\n",
       "      <td>eng</td>\n",
       "      <td>other</td>\n",
       "      <td>fantasy, paranormal</td>\n",
       "      <td>6 - famous</td>\n",
       "      <td>3 - many books written</td>\n",
       "      <td>3 - many books published</td>\n",
       "      <td>...</td>\n",
       "      <td>67686</td>\n",
       "      <td>1409</td>\n",
       "      <td>22.000000</td>\n",
       "      <td>9780425204665</td>\n",
       "      <td>9780425204665</td>\n",
       "      <td>0</td>\n",
       "      <td>12.722993</td>\n",
       "      <td>-1.087720</td>\n",
       "      <td>0.020817</td>\n",
       "      <td>True</td>\n",
       "    </tr>\n",
       "    <tr>\n",
       "      <th>5866</th>\n",
       "      <td>other</td>\n",
       "      <td>other</td>\n",
       "      <td>other</td>\n",
       "      <td>other</td>\n",
       "      <td>eng</td>\n",
       "      <td>other</td>\n",
       "      <td>non-fiction</td>\n",
       "      <td>5 - semi-famous</td>\n",
       "      <td>2 - some books written</td>\n",
       "      <td>3 - many books published</td>\n",
       "      <td>...</td>\n",
       "      <td>106493</td>\n",
       "      <td>6561</td>\n",
       "      <td>18.000000</td>\n",
       "      <td>9780812971064</td>\n",
       "      <td>9780812971064</td>\n",
       "      <td>5</td>\n",
       "      <td>14.428804</td>\n",
       "      <td>1.181401</td>\n",
       "      <td>0.061610</td>\n",
       "      <td>False</td>\n",
       "    </tr>\n",
       "    <tr>\n",
       "      <th>5867</th>\n",
       "      <td>other</td>\n",
       "      <td>other</td>\n",
       "      <td>other</td>\n",
       "      <td>other</td>\n",
       "      <td>eng</td>\n",
       "      <td>other</td>\n",
       "      <td>mystery, thriller, crime</td>\n",
       "      <td>5 - semi-famous</td>\n",
       "      <td>1 - few books written</td>\n",
       "      <td>3 - many books published</td>\n",
       "      <td>...</td>\n",
       "      <td>23318</td>\n",
       "      <td>1704</td>\n",
       "      <td>17.000000</td>\n",
       "      <td>9780312426217</td>\n",
       "      <td>9780312426217</td>\n",
       "      <td>0</td>\n",
       "      <td>13.880761</td>\n",
       "      <td>-0.145341</td>\n",
       "      <td>0.073077</td>\n",
       "      <td>True</td>\n",
       "    </tr>\n",
       "  </tbody>\n",
       "</table>\n",
       "<p>5868 rows × 26 columns</p>\n",
       "</div>"
      ],
      "text/plain": [
       "\n",
       "      title   isbn   most_common_author     publisher language_code  \\\n",
       "\u001b[1;36m0\u001b[0m     other  other                other         other           eng   \n",
       "\u001b[1;36m1\u001b[0m     other  other                other         other           eng   \n",
       "\u001b[1;36m2\u001b[0m     other  other                other  pocket books           eng   \n",
       "\u001b[1;36m3\u001b[0m     other  other                other         other           eng   \n",
       "\u001b[1;36m4\u001b[0m     other  other                other         other           eng   \n",
       "\u001b[33m...\u001b[0m     \u001b[33m...\u001b[0m    \u001b[33m...\u001b[0m                  \u001b[33m...\u001b[0m           \u001b[33m...\u001b[0m           \u001b[33m...\u001b[0m   \n",
       "\u001b[1;36m5863\u001b[0m  other  other                other         other           eng   \n",
       "\u001b[1;36m5864\u001b[0m  other  other                other         other           eng   \n",
       "\u001b[1;36m5865\u001b[0m  other  other  laurell k. hamilton       berkley           eng   \n",
       "\u001b[1;36m5866\u001b[0m  other  other                other         other           eng   \n",
       "\u001b[1;36m5867\u001b[0m  other  other                other         other           eng   \n",
       "\n",
       "     Description                                   genre  \\\n",
       "\u001b[1;36m0\u001b[0m          other                             non-fiction   \n",
       "\u001b[1;36m1\u001b[0m          other                     fantasy, paranormal   \n",
       "\u001b[1;36m2\u001b[0m          other                mystery, thriller, crime   \n",
       "\u001b[1;36m3\u001b[0m          other  history, historical fiction, biography   \n",
       "\u001b[1;36m4\u001b[0m          other                             non-fiction   \n",
       "\u001b[33m...\u001b[0m          \u001b[33m...\u001b[0m                                     \u001b[33m...\u001b[0m   \n",
       "\u001b[1;36m5863\u001b[0m       other                                 fiction   \n",
       "\u001b[1;36m5864\u001b[0m       other  history, historical fiction, biography   \n",
       "\u001b[1;36m5865\u001b[0m       other                     fantasy, paranormal   \n",
       "\u001b[1;36m5866\u001b[0m       other                             non-fiction   \n",
       "\u001b[1;36m5867\u001b[0m       other                mystery, thriller, crime   \n",
       "\n",
       "            AuthorFameLevel     book_count_category  \\\n",
       "\u001b[1;36m0\u001b[0m               \u001b[1;36m4\u001b[0m - popular  \u001b[1;36m3\u001b[0m - many books written   \n",
       "\u001b[1;36m1\u001b[0m           \u001b[1;36m5\u001b[0m - semi-famous  \u001b[1;36m3\u001b[0m - many books written   \n",
       "\u001b[1;36m2\u001b[0m           \u001b[1;36m5\u001b[0m - semi-famous   \u001b[1;36m1\u001b[0m - few books written   \n",
       "\u001b[1;36m3\u001b[0m     \u001b[1;36m1\u001b[0m - very low exposure   \u001b[1;36m1\u001b[0m - few books written   \n",
       "\u001b[1;36m4\u001b[0m     \u001b[1;36m1\u001b[0m - very low exposure   \u001b[1;36m1\u001b[0m - few books written   \n",
       "\u001b[33m...\u001b[0m                     \u001b[33m...\u001b[0m                     \u001b[33m...\u001b[0m   \n",
       "\u001b[1;36m5863\u001b[0m         \u001b[1;36m3\u001b[0m - well-known   \u001b[1;36m1\u001b[0m - few books written   \n",
       "\u001b[1;36m5864\u001b[0m            \u001b[1;36m4\u001b[0m - popular  \u001b[1;36m2\u001b[0m - some books written   \n",
       "\u001b[1;36m5865\u001b[0m             \u001b[1;36m6\u001b[0m - famous  \u001b[1;36m3\u001b[0m - many books written   \n",
       "\u001b[1;36m5866\u001b[0m        \u001b[1;36m5\u001b[0m - semi-famous  \u001b[1;36m2\u001b[0m - some books written   \n",
       "\u001b[1;36m5867\u001b[0m        \u001b[1;36m5\u001b[0m - semi-famous   \u001b[1;36m1\u001b[0m - few books written   \n",
       "\n",
       "     publisher_book_count_category  \u001b[33m...\u001b[0m ratings_count text_reviews_count  \\\n",
       "\u001b[1;36m0\u001b[0m         \u001b[1;36m3\u001b[0m - many books published  \u001b[33m...\u001b[0m          \u001b[1;36m2717\u001b[0m                \u001b[1;36m232\u001b[0m   \n",
       "\u001b[1;36m1\u001b[0m         \u001b[1;36m3\u001b[0m - many books published  \u001b[33m...\u001b[0m         \u001b[1;36m26237\u001b[0m                \u001b[1;36m240\u001b[0m   \n",
       "\u001b[1;36m2\u001b[0m         \u001b[1;36m3\u001b[0m - many books published  \u001b[33m...\u001b[0m          \u001b[1;36m1353\u001b[0m                 \u001b[1;36m53\u001b[0m   \n",
       "\u001b[1;36m3\u001b[0m         \u001b[1;36m3\u001b[0m - many books published  \u001b[33m...\u001b[0m            \u001b[1;36m26\u001b[0m                  \u001b[1;36m1\u001b[0m   \n",
       "\u001b[1;36m4\u001b[0m          \u001b[1;36m1\u001b[0m - few books published  \u001b[33m...\u001b[0m            \u001b[1;36m82\u001b[0m                 \u001b[1;36m13\u001b[0m   \n",
       "\u001b[33m...\u001b[0m                            \u001b[33m...\u001b[0m  \u001b[33m...\u001b[0m           \u001b[33m...\u001b[0m                \u001b[33m...\u001b[0m   \n",
       "\u001b[1;36m5863\u001b[0m      \u001b[1;36m3\u001b[0m - many books published  \u001b[33m...\u001b[0m           \u001b[1;36m744\u001b[0m                  \u001b[1;36m9\u001b[0m   \n",
       "\u001b[1;36m5864\u001b[0m       \u001b[1;36m1\u001b[0m - few books published  \u001b[33m...\u001b[0m          \u001b[1;36m4799\u001b[0m                 \u001b[1;36m88\u001b[0m   \n",
       "\u001b[1;36m5865\u001b[0m      \u001b[1;36m3\u001b[0m - many books published  \u001b[33m...\u001b[0m         \u001b[1;36m67686\u001b[0m               \u001b[1;36m1409\u001b[0m   \n",
       "\u001b[1;36m5866\u001b[0m      \u001b[1;36m3\u001b[0m - many books published  \u001b[33m...\u001b[0m        \u001b[1;36m106493\u001b[0m               \u001b[1;36m6561\u001b[0m   \n",
       "\u001b[1;36m5867\u001b[0m      \u001b[1;36m3\u001b[0m - many books published  \u001b[33m...\u001b[0m         \u001b[1;36m23318\u001b[0m               \u001b[1;36m1704\u001b[0m   \n",
       "\n",
       "          Price  DescriptionISBN       isbn13_y  cluster      UMAP1  \\\n",
       "\u001b[1;36m0\u001b[0m     \u001b[1;36m20.500000\u001b[0m    \u001b[1;36m9780674639270\u001b[0m  \u001b[1;36m9780674639270\u001b[0m        \u001b[1;36m3\u001b[0m  \u001b[1;36m10.773099\u001b[0m   \n",
       "\u001b[1;36m1\u001b[0m      \u001b[1;36m9.990000\u001b[0m    \u001b[1;36m9780142501528\u001b[0m  \u001b[1;36m9780142501528\u001b[0m        \u001b[1;36m6\u001b[0m  \u001b[1;36m11.991917\u001b[0m   \n",
       "\u001b[1;36m2\u001b[0m      \u001b[1;36m7.990000\u001b[0m    \u001b[1;36m9780671793562\u001b[0m  \u001b[1;36m9780671793562\u001b[0m        \u001b[1;36m7\u001b[0m   \u001b[1;36m8.704370\u001b[0m   \n",
       "\u001b[1;36m3\u001b[0m     \u001b[1;36m16.950000\u001b[0m    \u001b[1;36m9780486285610\u001b[0m  \u001b[1;36m9780486285610\u001b[0m        \u001b[1;36m2\u001b[0m  \u001b[1;36m11.446075\u001b[0m   \n",
       "\u001b[1;36m4\u001b[0m     \u001b[1;36m15.950000\u001b[0m    \u001b[1;36m9780735200302\u001b[0m  \u001b[1;36m9780735200302\u001b[0m        \u001b[1;36m1\u001b[0m   \u001b[1;36m9.463834\u001b[0m   \n",
       "\u001b[33m...\u001b[0m         \u001b[33m...\u001b[0m              \u001b[33m...\u001b[0m            \u001b[33m...\u001b[0m      \u001b[33m...\u001b[0m        \u001b[33m...\u001b[0m   \n",
       "\u001b[1;36m5863\u001b[0m   \u001b[1;36m3.980000\u001b[0m    \u001b[1;36m9780441581054\u001b[0m  \u001b[1;36m9780441581054\u001b[0m        \u001b[1;36m7\u001b[0m   \u001b[1;36m7.793371\u001b[0m   \n",
       "\u001b[1;36m5864\u001b[0m   \u001b[1;36m6.213333\u001b[0m    \u001b[1;36m9780064409902\u001b[0m  \u001b[1;36m9780064409902\u001b[0m        \u001b[1;36m0\u001b[0m  \u001b[1;36m14.945441\u001b[0m   \n",
       "\u001b[1;36m5865\u001b[0m  \u001b[1;36m22.000000\u001b[0m    \u001b[1;36m9780425204665\u001b[0m  \u001b[1;36m9780425204665\u001b[0m        \u001b[1;36m0\u001b[0m  \u001b[1;36m12.722993\u001b[0m   \n",
       "\u001b[1;36m5866\u001b[0m  \u001b[1;36m18.000000\u001b[0m    \u001b[1;36m9780812971064\u001b[0m  \u001b[1;36m9780812971064\u001b[0m        \u001b[1;36m5\u001b[0m  \u001b[1;36m14.428804\u001b[0m   \n",
       "\u001b[1;36m5867\u001b[0m  \u001b[1;36m17.000000\u001b[0m    \u001b[1;36m9780312426217\u001b[0m  \u001b[1;36m9780312426217\u001b[0m        \u001b[1;36m0\u001b[0m  \u001b[1;36m13.880761\u001b[0m   \n",
       "\n",
       "          UMAP2  text_reviews_percentage  stratify_col  \n",
       "\u001b[1;36m0\u001b[0m      \u001b[1;36m7.143039\u001b[0m                 \u001b[1;36m0.085388\u001b[0m          \u001b[3;92mTrue\u001b[0m  \n",
       "\u001b[1;36m1\u001b[0m     \u001b[1;36m-0.779016\u001b[0m                 \u001b[1;36m0.009147\u001b[0m          \u001b[3;92mTrue\u001b[0m  \n",
       "\u001b[1;36m2\u001b[0m      \u001b[1;36m8.494351\u001b[0m                 \u001b[1;36m0.039172\u001b[0m          \u001b[3;92mTrue\u001b[0m  \n",
       "\u001b[1;36m3\u001b[0m      \u001b[1;36m5.444993\u001b[0m                 \u001b[1;36m0.038462\u001b[0m         \u001b[3;91mFalse\u001b[0m  \n",
       "\u001b[1;36m4\u001b[0m      \u001b[1;36m8.225148\u001b[0m                 \u001b[1;36m0.158537\u001b[0m         \u001b[3;91mFalse\u001b[0m  \n",
       "\u001b[33m...\u001b[0m         \u001b[33m...\u001b[0m                      \u001b[33m...\u001b[0m           \u001b[33m...\u001b[0m  \n",
       "\u001b[1;36m5863\u001b[0m  \u001b[1;36m10.453768\u001b[0m                 \u001b[1;36m0.012097\u001b[0m          \u001b[3;92mTrue\u001b[0m  \n",
       "\u001b[1;36m5864\u001b[0m  \u001b[1;36m-0.366986\u001b[0m                 \u001b[1;36m0.018337\u001b[0m          \u001b[3;92mTrue\u001b[0m  \n",
       "\u001b[1;36m5865\u001b[0m  \u001b[1;36m-1.087720\u001b[0m                 \u001b[1;36m0.020817\u001b[0m          \u001b[3;92mTrue\u001b[0m  \n",
       "\u001b[1;36m5866\u001b[0m   \u001b[1;36m1.181401\u001b[0m                 \u001b[1;36m0.061610\u001b[0m         \u001b[3;91mFalse\u001b[0m  \n",
       "\u001b[1;36m5867\u001b[0m  \u001b[1;36m-0.145341\u001b[0m                 \u001b[1;36m0.073077\u001b[0m          \u001b[3;92mTrue\u001b[0m  \n",
       "\n",
       "\u001b[1m[\u001b[0m\u001b[1;36m5868\u001b[0m rows x \u001b[1;36m26\u001b[0m columns\u001b[1m]\u001b[0m"
      ]
     },
     "execution_count": 7,
     "metadata": {},
     "output_type": "execute_result"
    }
   ],
   "source": [
    "train_data"
   ]
  },
  {
   "cell_type": "code",
   "execution_count": 8,
   "metadata": {},
   "outputs": [],
   "source": [
    "# Dropping the 'title' column from the train_data \n",
    "train_data = train_data.drop('title', axis=1)\n",
    "\n",
    "# Storing the features from train data inside a variable\n",
    "features = ['most_common_author', 'publisher', 'AuthorFameLevel', 'book_length_category', 'genre', 'Price', 'cluster', 'engagement_level']\n",
    "\n",
    "# Feature selection\n",
    "y_train = train_data['average_rating']\n",
    "X_train = train_data[features]\n",
    "\n",
    "# Setup a one hot encoder to encode the categorical features from X_train\n",
    "\n",
    "encoder = OneHotEncoder(handle_unknown='ignore')\n",
    "encoder.fit(X_train)\n",
    "# Transform the categorical features from X_train\n",
    "X_train_encoded = encoder.transform(X_train)\n",
    "# Convert the encoded features into a dataframe\n",
    "X_train_encoded = pd.DataFrame(X_train_encoded.toarray(), columns=encoder.get_feature_names_out())\n"
   ]
  },
  {
   "cell_type": "markdown",
   "metadata": {},
   "source": [
    "# MODEL 1"
   ]
  },
  {
   "cell_type": "code",
   "execution_count": 10,
   "metadata": {},
   "outputs": [
    {
     "name": "stdout",
     "output_type": "stream",
     "text": [
      "Best parameters found by the random search:  {'alpha_1': 7.672290184186796e-05, 'alpha_2': 0.0009116510241437176, 'alpha_init': 2.8331716611212512e-05, 'lambda_1': 0.017918568349691386, 'lambda_2': 0.0770500450348967, 'lambda_init': 0.0051699973172927354, 'tol': 5.937281208438848}\n",
      "Best score found by the random search:  0.19762387003687557\n"
     ]
    }
   ],
   "source": [
    "\n",
    "\n",
    "# Setup a BayesianRidge model\n",
    "model = BayesianRidge()\n",
    "\n",
    "# Define a search space for random search over a BayesianRidge model\n",
    "param_distributions = {\n",
    "    'alpha_1': loguniform(1e-5, 1e5),\n",
    "    'alpha_2': loguniform(1e-5, 1e5),\n",
    "    'lambda_1': loguniform(1e-5, 1e5),\n",
    "    'lambda_2': loguniform(1e-5, 1e5),\n",
    "    'alpha_init': loguniform(1e-5, 1e5),\n",
    "    'lambda_init': loguniform(1e-5, 1e5),\n",
    "    'tol': loguniform(1e-10, 1e3)\n",
    "}\n",
    "\n",
    "# Define cv as a 10 folds, 3 repeat RepeatedKFold\n",
    "\n",
    "cv = RepeatedKFold(n_splits=10, n_repeats=3, random_state=1)\n",
    "\n",
    "# Define a random search over a BayesianRidge model\n",
    "random_search = RandomizedSearchCV(model, param_distributions, cv=cv, scoring='r2', n_jobs=2, random_state=42)\n",
    "\n",
    "# Fit the random search over a BayesianRidge model\n",
    "result = random_search.fit(X_train_encoded, y_train)\n",
    "\n",
    "# Print the best parameters found by the random search\n",
    "print(\"Best parameters found by the random search: \", result.best_params_)\n",
    "\n",
    "# Print the best score found by the random search\n",
    "print(\"Best score found by the random search: \", result.best_score_)\n"
   ]
  },
  {
   "cell_type": "markdown",
   "metadata": {},
   "source": [
    "# MODEL 2"
   ]
  },
  {
   "cell_type": "code",
   "execution_count": 11,
   "metadata": {},
   "outputs": [
    {
     "name": "stdout",
     "output_type": "stream",
     "text": [
      "Best parameters found by the random search:  {'fit_intercept': True, 'alpha': 10}\n",
      "Best score found by the random search:  0.1976842703608107\n"
     ]
    }
   ],
   "source": [
    "# Setup a ridge model\n",
    "model_ridge = Ridge()\n",
    "\n",
    "# Define a parameter grid to search for the best hyperparameters\n",
    "param_grid = {\n",
    "    'alpha': [0.01, 0.1, 1, 10, 100],\n",
    "    'fit_intercept': [True, False]\n",
    "}\n",
    "\n",
    "search_ridge = RandomizedSearchCV(model_ridge, param_grid, cv=cv , scoring='r2', n_jobs=-1, random_state=42)\n",
    "\n",
    "# Fit the random search over a BayesianRidge model\n",
    "result_ridge = search_ridge.fit(X_train_encoded, y_train)\n",
    "\n",
    "# Print the best parameters found by the random search\n",
    "print(\"Best parameters found by the random search: \", result_ridge.best_params_)\n",
    "\n",
    "# Print the best score found by the random search\n",
    "print(\"Best score found by the random search: \", result_ridge.best_score_)"
   ]
  },
  {
   "cell_type": "markdown",
   "metadata": {},
   "source": [
    "# MODEL 3"
   ]
  },
  {
   "cell_type": "code",
   "execution_count": 12,
   "metadata": {},
   "outputs": [
    {
     "name": "stdout",
     "output_type": "stream",
     "text": [
      "Best Hyperparameters: {'l1_ratio': 0.1, 'alpha': 0.01}\n",
      "Best R2 Score: 0.16937052386968976\n"
     ]
    }
   ],
   "source": [
    "# Setup elasticnet model from sklearn\n",
    "\n",
    "\n",
    "model_elasticnet = ElasticNet()\n",
    "\n",
    "# Define a parameter grid to search for the best hyperparameters\n",
    "param_grid = {\n",
    "    'alpha': [0.01, 0.1, 1, 10],\n",
    "    'l1_ratio': [0.1, 0.5, 0.9]\n",
    "}\n",
    "\n",
    "search_elasticnet = RandomizedSearchCV(model_elasticnet, param_grid, cv=cv, scoring='r2')\n",
    "\n",
    "result_elastic = search_elasticnet.fit(X_train_encoded, y_train)\n",
    "\n",
    "# Print the best hyperparameters and the corresponding R2 score\n",
    "print(\"Best Hyperparameters:\", result_elastic.best_params_)\n",
    "print(\"Best R2 Score:\", result_elastic.best_score_)"
   ]
  }
 ],
 "metadata": {
  "kernelspec": {
   "display_name": "goodread_env",
   "language": "python",
   "name": "python3"
  },
  "language_info": {
   "codemirror_mode": {
    "name": "ipython",
    "version": 3
   },
   "file_extension": ".py",
   "mimetype": "text/x-python",
   "name": "python",
   "nbconvert_exporter": "python",
   "pygments_lexer": "ipython3",
   "version": "3.10.0"
  }
 },
 "nbformat": 4,
 "nbformat_minor": 2
}
