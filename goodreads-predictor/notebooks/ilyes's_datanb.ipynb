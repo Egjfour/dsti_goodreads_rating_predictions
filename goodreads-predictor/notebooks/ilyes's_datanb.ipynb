{
 "cells": [
  {
   "cell_type": "markdown",
   "metadata": {},
   "source": [
    "# KEDRO SETUP + IMPORT"
   ]
  },
  {
   "cell_type": "code",
   "execution_count": 56,
   "metadata": {},
   "outputs": [
    {
     "name": "stdout",
     "output_type": "stream",
     "text": [
      "The kedro.ipython extension is already loaded. To reload it, use:\n",
      "  %reload_ext kedro.ipython\n"
     ]
    }
   ],
   "source": [
    "%load_ext kedro.ipython"
   ]
  },
  {
   "cell_type": "code",
   "execution_count": 57,
   "metadata": {},
   "outputs": [
    {
     "data": {
      "text/html": [
       "<pre style=\"white-space:pre;overflow-x:auto;line-height:normal;font-family:Menlo,'DejaVu Sans Mono',consolas,'Courier New',monospace\"><span style=\"color: #7fbfbf; text-decoration-color: #7fbfbf\">[07/24/24 15:06:20] </span><span style=\"color: #000080; text-decoration-color: #000080\">INFO    </span> Resolved project path as:                                              <a href=\"file://c:\\Users\\PC\\.conda\\envs\\goodreadv2\\lib\\site-packages\\kedro\\ipython\\__init__.py\" target=\"_blank\"><span style=\"color: #7f7f7f; text-decoration-color: #7f7f7f\">__init__.py</span></a><span style=\"color: #7f7f7f; text-decoration-color: #7f7f7f\">:</span><a href=\"file://c:\\Users\\PC\\.conda\\envs\\goodreadv2\\lib\\site-packages\\kedro\\ipython\\__init__.py#171\" target=\"_blank\"><span style=\"color: #7f7f7f; text-decoration-color: #7f7f7f\">171</span></a>\n",
       "<span style=\"color: #7fbfbf; text-decoration-color: #7fbfbf\">                    </span>         C:\\Users\\PC\\Desktop\\PRO-G\\ECOLE\\DSTI_goodreads\\goodreads-predictor.    <span style=\"color: #7f7f7f; text-decoration-color: #7f7f7f\">               </span>\n",
       "<span style=\"color: #7fbfbf; text-decoration-color: #7fbfbf\">                    </span>         To set a different path, run <span style=\"color: #008000; text-decoration-color: #008000\">'%reload_kedro &lt;project_root&gt;'</span>            <span style=\"color: #7f7f7f; text-decoration-color: #7f7f7f\">               </span>\n",
       "</pre>\n"
      ],
      "text/plain": [
       "\u001b[2;36m[07/24/24 15:06:20]\u001b[0m\u001b[2;36m \u001b[0m\u001b[34mINFO    \u001b[0m Resolved project path as:                                              \u001b]8;id=802021;file://c:\\Users\\PC\\.conda\\envs\\goodreadv2\\lib\\site-packages\\kedro\\ipython\\__init__.py\u001b\\\u001b[2m__init__.py\u001b[0m\u001b]8;;\u001b\\\u001b[2m:\u001b[0m\u001b]8;id=150577;file://c:\\Users\\PC\\.conda\\envs\\goodreadv2\\lib\\site-packages\\kedro\\ipython\\__init__.py#171\u001b\\\u001b[2m171\u001b[0m\u001b]8;;\u001b\\\n",
       "\u001b[2;36m                    \u001b[0m         C:\\Users\\PC\\Desktop\\PRO-G\\ECOLE\\DSTI_goodreads\\goodreads-predictor.    \u001b[2m               \u001b[0m\n",
       "\u001b[2;36m                    \u001b[0m         To set a different path, run \u001b[32m'%reload_kedro \u001b[0m\u001b[32m<\u001b[0m\u001b[32mproject_root\u001b[0m\u001b[32m>\u001b[0m\u001b[32m'\u001b[0m            \u001b[2m               \u001b[0m\n"
      ]
     },
     "metadata": {},
     "output_type": "display_data"
    },
    {
     "data": {
      "text/html": [
       "<pre style=\"white-space:pre;overflow-x:auto;line-height:normal;font-family:Menlo,'DejaVu Sans Mono',consolas,'Courier New',monospace\"><span style=\"color: #7fbfbf; text-decoration-color: #7fbfbf\">[07/24/24 15:06:21] </span><span style=\"color: #000080; text-decoration-color: #000080\">INFO    </span> Kedro project goodreads-predictor                                      <a href=\"file://c:\\Users\\PC\\.conda\\envs\\goodreadv2\\lib\\site-packages\\kedro\\ipython\\__init__.py\" target=\"_blank\"><span style=\"color: #7f7f7f; text-decoration-color: #7f7f7f\">__init__.py</span></a><span style=\"color: #7f7f7f; text-decoration-color: #7f7f7f\">:</span><a href=\"file://c:\\Users\\PC\\.conda\\envs\\goodreadv2\\lib\\site-packages\\kedro\\ipython\\__init__.py#141\" target=\"_blank\"><span style=\"color: #7f7f7f; text-decoration-color: #7f7f7f\">141</span></a>\n",
       "</pre>\n"
      ],
      "text/plain": [
       "\u001b[2;36m[07/24/24 15:06:21]\u001b[0m\u001b[2;36m \u001b[0m\u001b[34mINFO    \u001b[0m Kedro project goodreads-predictor                                      \u001b]8;id=176464;file://c:\\Users\\PC\\.conda\\envs\\goodreadv2\\lib\\site-packages\\kedro\\ipython\\__init__.py\u001b\\\u001b[2m__init__.py\u001b[0m\u001b]8;;\u001b\\\u001b[2m:\u001b[0m\u001b]8;id=409522;file://c:\\Users\\PC\\.conda\\envs\\goodreadv2\\lib\\site-packages\\kedro\\ipython\\__init__.py#141\u001b\\\u001b[2m141\u001b[0m\u001b]8;;\u001b\\\n"
      ]
     },
     "metadata": {},
     "output_type": "display_data"
    },
    {
     "data": {
      "text/html": [
       "<pre style=\"white-space:pre;overflow-x:auto;line-height:normal;font-family:Menlo,'DejaVu Sans Mono',consolas,'Courier New',monospace\"><span style=\"color: #7fbfbf; text-decoration-color: #7fbfbf\">                    </span><span style=\"color: #000080; text-decoration-color: #000080\">INFO    </span> Defined global variable <span style=\"color: #008000; text-decoration-color: #008000\">'context'</span>, <span style=\"color: #008000; text-decoration-color: #008000\">'session'</span>, <span style=\"color: #008000; text-decoration-color: #008000\">'catalog'</span> and            <a href=\"file://c:\\Users\\PC\\.conda\\envs\\goodreadv2\\lib\\site-packages\\kedro\\ipython\\__init__.py\" target=\"_blank\"><span style=\"color: #7f7f7f; text-decoration-color: #7f7f7f\">__init__.py</span></a><span style=\"color: #7f7f7f; text-decoration-color: #7f7f7f\">:</span><a href=\"file://c:\\Users\\PC\\.conda\\envs\\goodreadv2\\lib\\site-packages\\kedro\\ipython\\__init__.py#142\" target=\"_blank\"><span style=\"color: #7f7f7f; text-decoration-color: #7f7f7f\">142</span></a>\n",
       "<span style=\"color: #7fbfbf; text-decoration-color: #7fbfbf\">                    </span>         <span style=\"color: #008000; text-decoration-color: #008000\">'pipelines'</span>                                                            <span style=\"color: #7f7f7f; text-decoration-color: #7f7f7f\">               </span>\n",
       "</pre>\n"
      ],
      "text/plain": [
       "\u001b[2;36m                   \u001b[0m\u001b[2;36m \u001b[0m\u001b[34mINFO    \u001b[0m Defined global variable \u001b[32m'context'\u001b[0m, \u001b[32m'session'\u001b[0m, \u001b[32m'catalog'\u001b[0m and            \u001b]8;id=635420;file://c:\\Users\\PC\\.conda\\envs\\goodreadv2\\lib\\site-packages\\kedro\\ipython\\__init__.py\u001b\\\u001b[2m__init__.py\u001b[0m\u001b]8;;\u001b\\\u001b[2m:\u001b[0m\u001b]8;id=290790;file://c:\\Users\\PC\\.conda\\envs\\goodreadv2\\lib\\site-packages\\kedro\\ipython\\__init__.py#142\u001b\\\u001b[2m142\u001b[0m\u001b]8;;\u001b\\\n",
       "\u001b[2;36m                    \u001b[0m         \u001b[32m'pipelines'\u001b[0m                                                            \u001b[2m               \u001b[0m\n"
      ]
     },
     "metadata": {},
     "output_type": "display_data"
    },
    {
     "data": {
      "text/html": [
       "<pre style=\"white-space:pre;overflow-x:auto;line-height:normal;font-family:Menlo,'DejaVu Sans Mono',consolas,'Courier New',monospace\"><span style=\"color: #7fbfbf; text-decoration-color: #7fbfbf\">                    </span><span style=\"color: #000080; text-decoration-color: #000080\">INFO    </span> Registered line magic <span style=\"color: #008000; text-decoration-color: #008000\">'run_viz'</span>                                        <a href=\"file://c:\\Users\\PC\\.conda\\envs\\goodreadv2\\lib\\site-packages\\kedro\\ipython\\__init__.py\" target=\"_blank\"><span style=\"color: #7f7f7f; text-decoration-color: #7f7f7f\">__init__.py</span></a><span style=\"color: #7f7f7f; text-decoration-color: #7f7f7f\">:</span><a href=\"file://c:\\Users\\PC\\.conda\\envs\\goodreadv2\\lib\\site-packages\\kedro\\ipython\\__init__.py#148\" target=\"_blank\"><span style=\"color: #7f7f7f; text-decoration-color: #7f7f7f\">148</span></a>\n",
       "</pre>\n"
      ],
      "text/plain": [
       "\u001b[2;36m                   \u001b[0m\u001b[2;36m \u001b[0m\u001b[34mINFO    \u001b[0m Registered line magic \u001b[32m'run_viz'\u001b[0m                                        \u001b]8;id=658480;file://c:\\Users\\PC\\.conda\\envs\\goodreadv2\\lib\\site-packages\\kedro\\ipython\\__init__.py\u001b\\\u001b[2m__init__.py\u001b[0m\u001b]8;;\u001b\\\u001b[2m:\u001b[0m\u001b]8;id=105186;file://c:\\Users\\PC\\.conda\\envs\\goodreadv2\\lib\\site-packages\\kedro\\ipython\\__init__.py#148\u001b\\\u001b[2m148\u001b[0m\u001b]8;;\u001b\\\n"
      ]
     },
     "metadata": {},
     "output_type": "display_data"
    }
   ],
   "source": [
    "%reload_kedro"
   ]
  },
  {
   "cell_type": "code",
   "execution_count": 58,
   "metadata": {},
   "outputs": [],
   "source": [
    "import pandas as pd\n",
    "import re\n",
    "import numpy as np\n",
    "import matplotlib.pyplot as plt\n",
    "import plotly.graph_objects as go # For the waterfall plot -- cannot easily do this in matplotlib\n",
    "from typing import List, Dict, Tuple, Any\n",
    "\n"
   ]
  },
  {
   "cell_type": "code",
   "execution_count": 59,
   "metadata": {},
   "outputs": [
    {
     "data": {
      "text/html": [
       "<pre style=\"white-space:pre;overflow-x:auto;line-height:normal;font-family:Menlo,'DejaVu Sans Mono',consolas,'Courier New',monospace\"></pre>\n"
      ],
      "text/plain": []
     },
     "metadata": {},
     "output_type": "display_data"
    },
    {
     "data": {
      "text/plain": [
       "\n",
       "\u001b[1m[\u001b[0m\n",
       "    \u001b[32m'books_raw'\u001b[0m,\n",
       "    \u001b[32m'books_loaded'\u001b[0m,\n",
       "    \u001b[32m'publisher_consolidation'\u001b[0m,\n",
       "    \u001b[32m'price_by_isbn_input'\u001b[0m,\n",
       "    \u001b[32m'price_by_isbn'\u001b[0m,\n",
       "    \u001b[32m'title_embeddings_original'\u001b[0m,\n",
       "    \u001b[32m'authors_embeddings'\u001b[0m,\n",
       "    \u001b[32m'description_embeddings'\u001b[0m,\n",
       "    \u001b[32m'open_library_book_api_info_input'\u001b[0m,\n",
       "    \u001b[32m'open_library_book_api_info'\u001b[0m,\n",
       "    \u001b[32m'filtered_books'\u001b[0m,\n",
       "    \u001b[32m'exclusions_summary'\u001b[0m,\n",
       "    \u001b[32m'scope_waterfall_plot'\u001b[0m,\n",
       "    \u001b[32m'parameters'\u001b[0m,\n",
       "    \u001b[32m'params:title_column'\u001b[0m,\n",
       "    \u001b[32m'params:author_column'\u001b[0m,\n",
       "    \u001b[32m'params:description_column'\u001b[0m,\n",
       "    \u001b[32m'params:original_data_key_column'\u001b[0m,\n",
       "    \u001b[32m'params:color_gr_brown'\u001b[0m,\n",
       "    \u001b[32m'params:color_gr_purple'\u001b[0m,\n",
       "    \u001b[32m'params:color_gr_green'\u001b[0m,\n",
       "    \u001b[32m'params:color_gr_tan_background'\u001b[0m\n",
       "\u001b[1m]\u001b[0m"
      ]
     },
     "execution_count": 59,
     "metadata": {},
     "output_type": "execute_result"
    }
   ],
   "source": [
    "context.catalog.list()"
   ]
  },
  {
   "cell_type": "markdown",
   "metadata": {},
   "source": [
    "# DATA IMPORT"
   ]
  },
  {
   "cell_type": "code",
   "execution_count": 60,
   "metadata": {},
   "outputs": [
    {
     "data": {
      "text/html": [
       "<pre style=\"white-space:pre;overflow-x:auto;line-height:normal;font-family:Menlo,'DejaVu Sans Mono',consolas,'Courier New',monospace\"><span style=\"color: #7fbfbf; text-decoration-color: #7fbfbf\">                    </span><span style=\"color: #000080; text-decoration-color: #000080\">INFO    </span> Loading data from <span style=\"color: #ff8700; text-decoration-color: #ff8700\">books_loaded</span> <span style=\"font-weight: bold\">(</span>ParquetDataset<span style=\"font-weight: bold\">)</span><span style=\"color: #808000; text-decoration-color: #808000\">...</span>                 <a href=\"file://c:\\Users\\PC\\.conda\\envs\\goodreadv2\\lib\\site-packages\\kedro\\io\\data_catalog.py\" target=\"_blank\"><span style=\"color: #7f7f7f; text-decoration-color: #7f7f7f\">data_catalog.py</span></a><span style=\"color: #7f7f7f; text-decoration-color: #7f7f7f\">:</span><a href=\"file://c:\\Users\\PC\\.conda\\envs\\goodreadv2\\lib\\site-packages\\kedro\\io\\data_catalog.py#508\" target=\"_blank\"><span style=\"color: #7f7f7f; text-decoration-color: #7f7f7f\">508</span></a>\n",
       "</pre>\n"
      ],
      "text/plain": [
       "\u001b[2;36m                   \u001b[0m\u001b[2;36m \u001b[0m\u001b[34mINFO    \u001b[0m Loading data from \u001b[38;5;208mbooks_loaded\u001b[0m \u001b[1m(\u001b[0mParquetDataset\u001b[1m)\u001b[0m\u001b[33m...\u001b[0m                 \u001b]8;id=62589;file://c:\\Users\\PC\\.conda\\envs\\goodreadv2\\lib\\site-packages\\kedro\\io\\data_catalog.py\u001b\\\u001b[2mdata_catalog.py\u001b[0m\u001b]8;;\u001b\\\u001b[2m:\u001b[0m\u001b]8;id=941039;file://c:\\Users\\PC\\.conda\\envs\\goodreadv2\\lib\\site-packages\\kedro\\io\\data_catalog.py#508\u001b\\\u001b[2m508\u001b[0m\u001b]8;;\u001b\\\n"
      ]
     },
     "metadata": {},
     "output_type": "display_data"
    },
    {
     "data": {
      "text/html": [
       "<pre style=\"white-space:pre;overflow-x:auto;line-height:normal;font-family:Menlo,'DejaVu Sans Mono',consolas,'Courier New',monospace\"><span style=\"color: #7fbfbf; text-decoration-color: #7fbfbf\">                    </span><span style=\"color: #000080; text-decoration-color: #000080\">INFO    </span> Loading data from <span style=\"color: #ff8700; text-decoration-color: #ff8700\">price_by_isbn</span> <span style=\"font-weight: bold\">(</span>ParquetDataset<span style=\"font-weight: bold\">)</span><span style=\"color: #808000; text-decoration-color: #808000\">...</span>                <a href=\"file://c:\\Users\\PC\\.conda\\envs\\goodreadv2\\lib\\site-packages\\kedro\\io\\data_catalog.py\" target=\"_blank\"><span style=\"color: #7f7f7f; text-decoration-color: #7f7f7f\">data_catalog.py</span></a><span style=\"color: #7f7f7f; text-decoration-color: #7f7f7f\">:</span><a href=\"file://c:\\Users\\PC\\.conda\\envs\\goodreadv2\\lib\\site-packages\\kedro\\io\\data_catalog.py#508\" target=\"_blank\"><span style=\"color: #7f7f7f; text-decoration-color: #7f7f7f\">508</span></a>\n",
       "</pre>\n"
      ],
      "text/plain": [
       "\u001b[2;36m                   \u001b[0m\u001b[2;36m \u001b[0m\u001b[34mINFO    \u001b[0m Loading data from \u001b[38;5;208mprice_by_isbn\u001b[0m \u001b[1m(\u001b[0mParquetDataset\u001b[1m)\u001b[0m\u001b[33m...\u001b[0m                \u001b]8;id=333859;file://c:\\Users\\PC\\.conda\\envs\\goodreadv2\\lib\\site-packages\\kedro\\io\\data_catalog.py\u001b\\\u001b[2mdata_catalog.py\u001b[0m\u001b]8;;\u001b\\\u001b[2m:\u001b[0m\u001b]8;id=861246;file://c:\\Users\\PC\\.conda\\envs\\goodreadv2\\lib\\site-packages\\kedro\\io\\data_catalog.py#508\u001b\\\u001b[2m508\u001b[0m\u001b]8;;\u001b\\\n"
      ]
     },
     "metadata": {},
     "output_type": "display_data"
    },
    {
     "data": {
      "text/html": [
       "<pre style=\"white-space:pre;overflow-x:auto;line-height:normal;font-family:Menlo,'DejaVu Sans Mono',consolas,'Courier New',monospace\"><span style=\"color: #7fbfbf; text-decoration-color: #7fbfbf\">                    </span><span style=\"color: #000080; text-decoration-color: #000080\">INFO    </span> Loading data from <span style=\"color: #ff8700; text-decoration-color: #ff8700\">title_embeddings_original</span> <span style=\"font-weight: bold\">(</span>ParquetDataset<span style=\"font-weight: bold\">)</span><span style=\"color: #808000; text-decoration-color: #808000\">...</span>    <a href=\"file://c:\\Users\\PC\\.conda\\envs\\goodreadv2\\lib\\site-packages\\kedro\\io\\data_catalog.py\" target=\"_blank\"><span style=\"color: #7f7f7f; text-decoration-color: #7f7f7f\">data_catalog.py</span></a><span style=\"color: #7f7f7f; text-decoration-color: #7f7f7f\">:</span><a href=\"file://c:\\Users\\PC\\.conda\\envs\\goodreadv2\\lib\\site-packages\\kedro\\io\\data_catalog.py#508\" target=\"_blank\"><span style=\"color: #7f7f7f; text-decoration-color: #7f7f7f\">508</span></a>\n",
       "</pre>\n"
      ],
      "text/plain": [
       "\u001b[2;36m                   \u001b[0m\u001b[2;36m \u001b[0m\u001b[34mINFO    \u001b[0m Loading data from \u001b[38;5;208mtitle_embeddings_original\u001b[0m \u001b[1m(\u001b[0mParquetDataset\u001b[1m)\u001b[0m\u001b[33m...\u001b[0m    \u001b]8;id=869080;file://c:\\Users\\PC\\.conda\\envs\\goodreadv2\\lib\\site-packages\\kedro\\io\\data_catalog.py\u001b\\\u001b[2mdata_catalog.py\u001b[0m\u001b]8;;\u001b\\\u001b[2m:\u001b[0m\u001b]8;id=668944;file://c:\\Users\\PC\\.conda\\envs\\goodreadv2\\lib\\site-packages\\kedro\\io\\data_catalog.py#508\u001b\\\u001b[2m508\u001b[0m\u001b]8;;\u001b\\\n"
      ]
     },
     "metadata": {},
     "output_type": "display_data"
    },
    {
     "data": {
      "text/html": [
       "<pre style=\"white-space:pre;overflow-x:auto;line-height:normal;font-family:Menlo,'DejaVu Sans Mono',consolas,'Courier New',monospace\"><span style=\"color: #7fbfbf; text-decoration-color: #7fbfbf\">                    </span><span style=\"color: #000080; text-decoration-color: #000080\">INFO    </span> Loading data from <span style=\"color: #ff8700; text-decoration-color: #ff8700\">open_library_book_api_info</span> <span style=\"font-weight: bold\">(</span>PickleDataset<span style=\"font-weight: bold\">)</span><span style=\"color: #808000; text-decoration-color: #808000\">...</span>    <a href=\"file://c:\\Users\\PC\\.conda\\envs\\goodreadv2\\lib\\site-packages\\kedro\\io\\data_catalog.py\" target=\"_blank\"><span style=\"color: #7f7f7f; text-decoration-color: #7f7f7f\">data_catalog.py</span></a><span style=\"color: #7f7f7f; text-decoration-color: #7f7f7f\">:</span><a href=\"file://c:\\Users\\PC\\.conda\\envs\\goodreadv2\\lib\\site-packages\\kedro\\io\\data_catalog.py#508\" target=\"_blank\"><span style=\"color: #7f7f7f; text-decoration-color: #7f7f7f\">508</span></a>\n",
       "</pre>\n"
      ],
      "text/plain": [
       "\u001b[2;36m                   \u001b[0m\u001b[2;36m \u001b[0m\u001b[34mINFO    \u001b[0m Loading data from \u001b[38;5;208mopen_library_book_api_info\u001b[0m \u001b[1m(\u001b[0mPickleDataset\u001b[1m)\u001b[0m\u001b[33m...\u001b[0m    \u001b]8;id=450612;file://c:\\Users\\PC\\.conda\\envs\\goodreadv2\\lib\\site-packages\\kedro\\io\\data_catalog.py\u001b\\\u001b[2mdata_catalog.py\u001b[0m\u001b]8;;\u001b\\\u001b[2m:\u001b[0m\u001b]8;id=789172;file://c:\\Users\\PC\\.conda\\envs\\goodreadv2\\lib\\site-packages\\kedro\\io\\data_catalog.py#508\u001b\\\u001b[2m508\u001b[0m\u001b]8;;\u001b\\\n"
      ]
     },
     "metadata": {},
     "output_type": "display_data"
    },
    {
     "data": {
      "text/html": [
       "<pre style=\"white-space:pre;overflow-x:auto;line-height:normal;font-family:Menlo,'DejaVu Sans Mono',consolas,'Courier New',monospace\"><span style=\"color: #7fbfbf; text-decoration-color: #7fbfbf\">[07/24/24 15:06:22] </span><span style=\"color: #000080; text-decoration-color: #000080\">INFO    </span> Loading data from <span style=\"color: #ff8700; text-decoration-color: #ff8700\">authors_embeddings</span> <span style=\"font-weight: bold\">(</span>ParquetDataset<span style=\"font-weight: bold\">)</span><span style=\"color: #808000; text-decoration-color: #808000\">...</span>           <a href=\"file://c:\\Users\\PC\\.conda\\envs\\goodreadv2\\lib\\site-packages\\kedro\\io\\data_catalog.py\" target=\"_blank\"><span style=\"color: #7f7f7f; text-decoration-color: #7f7f7f\">data_catalog.py</span></a><span style=\"color: #7f7f7f; text-decoration-color: #7f7f7f\">:</span><a href=\"file://c:\\Users\\PC\\.conda\\envs\\goodreadv2\\lib\\site-packages\\kedro\\io\\data_catalog.py#508\" target=\"_blank\"><span style=\"color: #7f7f7f; text-decoration-color: #7f7f7f\">508</span></a>\n",
       "</pre>\n"
      ],
      "text/plain": [
       "\u001b[2;36m[07/24/24 15:06:22]\u001b[0m\u001b[2;36m \u001b[0m\u001b[34mINFO    \u001b[0m Loading data from \u001b[38;5;208mauthors_embeddings\u001b[0m \u001b[1m(\u001b[0mParquetDataset\u001b[1m)\u001b[0m\u001b[33m...\u001b[0m           \u001b]8;id=412360;file://c:\\Users\\PC\\.conda\\envs\\goodreadv2\\lib\\site-packages\\kedro\\io\\data_catalog.py\u001b\\\u001b[2mdata_catalog.py\u001b[0m\u001b]8;;\u001b\\\u001b[2m:\u001b[0m\u001b]8;id=60819;file://c:\\Users\\PC\\.conda\\envs\\goodreadv2\\lib\\site-packages\\kedro\\io\\data_catalog.py#508\u001b\\\u001b[2m508\u001b[0m\u001b]8;;\u001b\\\n"
      ]
     },
     "metadata": {},
     "output_type": "display_data"
    },
    {
     "data": {
      "text/html": [
       "<pre style=\"white-space:pre;overflow-x:auto;line-height:normal;font-family:Menlo,'DejaVu Sans Mono',consolas,'Courier New',monospace\"><span style=\"color: #7fbfbf; text-decoration-color: #7fbfbf\">                    </span><span style=\"color: #000080; text-decoration-color: #000080\">INFO    </span> Loading data from <span style=\"color: #ff8700; text-decoration-color: #ff8700\">params:color_gr_brown</span> <span style=\"font-weight: bold\">(</span>MemoryDataset<span style=\"font-weight: bold\">)</span><span style=\"color: #808000; text-decoration-color: #808000\">...</span>         <a href=\"file://c:\\Users\\PC\\.conda\\envs\\goodreadv2\\lib\\site-packages\\kedro\\io\\data_catalog.py\" target=\"_blank\"><span style=\"color: #7f7f7f; text-decoration-color: #7f7f7f\">data_catalog.py</span></a><span style=\"color: #7f7f7f; text-decoration-color: #7f7f7f\">:</span><a href=\"file://c:\\Users\\PC\\.conda\\envs\\goodreadv2\\lib\\site-packages\\kedro\\io\\data_catalog.py#508\" target=\"_blank\"><span style=\"color: #7f7f7f; text-decoration-color: #7f7f7f\">508</span></a>\n",
       "</pre>\n"
      ],
      "text/plain": [
       "\u001b[2;36m                   \u001b[0m\u001b[2;36m \u001b[0m\u001b[34mINFO    \u001b[0m Loading data from \u001b[38;5;208mparams:color_gr_brown\u001b[0m \u001b[1m(\u001b[0mMemoryDataset\u001b[1m)\u001b[0m\u001b[33m...\u001b[0m         \u001b]8;id=167283;file://c:\\Users\\PC\\.conda\\envs\\goodreadv2\\lib\\site-packages\\kedro\\io\\data_catalog.py\u001b\\\u001b[2mdata_catalog.py\u001b[0m\u001b]8;;\u001b\\\u001b[2m:\u001b[0m\u001b]8;id=761513;file://c:\\Users\\PC\\.conda\\envs\\goodreadv2\\lib\\site-packages\\kedro\\io\\data_catalog.py#508\u001b\\\u001b[2m508\u001b[0m\u001b]8;;\u001b\\\n"
      ]
     },
     "metadata": {},
     "output_type": "display_data"
    },
    {
     "data": {
      "text/html": [
       "<pre style=\"white-space:pre;overflow-x:auto;line-height:normal;font-family:Menlo,'DejaVu Sans Mono',consolas,'Courier New',monospace\"><span style=\"color: #7fbfbf; text-decoration-color: #7fbfbf\">                    </span><span style=\"color: #000080; text-decoration-color: #000080\">INFO    </span> Loading data from <span style=\"color: #ff8700; text-decoration-color: #ff8700\">params:color_gr_purple</span> <span style=\"font-weight: bold\">(</span>MemoryDataset<span style=\"font-weight: bold\">)</span><span style=\"color: #808000; text-decoration-color: #808000\">...</span>        <a href=\"file://c:\\Users\\PC\\.conda\\envs\\goodreadv2\\lib\\site-packages\\kedro\\io\\data_catalog.py\" target=\"_blank\"><span style=\"color: #7f7f7f; text-decoration-color: #7f7f7f\">data_catalog.py</span></a><span style=\"color: #7f7f7f; text-decoration-color: #7f7f7f\">:</span><a href=\"file://c:\\Users\\PC\\.conda\\envs\\goodreadv2\\lib\\site-packages\\kedro\\io\\data_catalog.py#508\" target=\"_blank\"><span style=\"color: #7f7f7f; text-decoration-color: #7f7f7f\">508</span></a>\n",
       "</pre>\n"
      ],
      "text/plain": [
       "\u001b[2;36m                   \u001b[0m\u001b[2;36m \u001b[0m\u001b[34mINFO    \u001b[0m Loading data from \u001b[38;5;208mparams:color_gr_purple\u001b[0m \u001b[1m(\u001b[0mMemoryDataset\u001b[1m)\u001b[0m\u001b[33m...\u001b[0m        \u001b]8;id=153651;file://c:\\Users\\PC\\.conda\\envs\\goodreadv2\\lib\\site-packages\\kedro\\io\\data_catalog.py\u001b\\\u001b[2mdata_catalog.py\u001b[0m\u001b]8;;\u001b\\\u001b[2m:\u001b[0m\u001b]8;id=91075;file://c:\\Users\\PC\\.conda\\envs\\goodreadv2\\lib\\site-packages\\kedro\\io\\data_catalog.py#508\u001b\\\u001b[2m508\u001b[0m\u001b]8;;\u001b\\\n"
      ]
     },
     "metadata": {},
     "output_type": "display_data"
    },
    {
     "data": {
      "text/html": [
       "<pre style=\"white-space:pre;overflow-x:auto;line-height:normal;font-family:Menlo,'DejaVu Sans Mono',consolas,'Courier New',monospace\"><span style=\"color: #7fbfbf; text-decoration-color: #7fbfbf\">                    </span><span style=\"color: #000080; text-decoration-color: #000080\">INFO    </span> Loading data from <span style=\"color: #ff8700; text-decoration-color: #ff8700\">params:color_gr_green</span> <span style=\"font-weight: bold\">(</span>MemoryDataset<span style=\"font-weight: bold\">)</span><span style=\"color: #808000; text-decoration-color: #808000\">...</span>         <a href=\"file://c:\\Users\\PC\\.conda\\envs\\goodreadv2\\lib\\site-packages\\kedro\\io\\data_catalog.py\" target=\"_blank\"><span style=\"color: #7f7f7f; text-decoration-color: #7f7f7f\">data_catalog.py</span></a><span style=\"color: #7f7f7f; text-decoration-color: #7f7f7f\">:</span><a href=\"file://c:\\Users\\PC\\.conda\\envs\\goodreadv2\\lib\\site-packages\\kedro\\io\\data_catalog.py#508\" target=\"_blank\"><span style=\"color: #7f7f7f; text-decoration-color: #7f7f7f\">508</span></a>\n",
       "</pre>\n"
      ],
      "text/plain": [
       "\u001b[2;36m                   \u001b[0m\u001b[2;36m \u001b[0m\u001b[34mINFO    \u001b[0m Loading data from \u001b[38;5;208mparams:color_gr_green\u001b[0m \u001b[1m(\u001b[0mMemoryDataset\u001b[1m)\u001b[0m\u001b[33m...\u001b[0m         \u001b]8;id=304856;file://c:\\Users\\PC\\.conda\\envs\\goodreadv2\\lib\\site-packages\\kedro\\io\\data_catalog.py\u001b\\\u001b[2mdata_catalog.py\u001b[0m\u001b]8;;\u001b\\\u001b[2m:\u001b[0m\u001b]8;id=553282;file://c:\\Users\\PC\\.conda\\envs\\goodreadv2\\lib\\site-packages\\kedro\\io\\data_catalog.py#508\u001b\\\u001b[2m508\u001b[0m\u001b]8;;\u001b\\\n"
      ]
     },
     "metadata": {},
     "output_type": "display_data"
    },
    {
     "data": {
      "text/html": [
       "<pre style=\"white-space:pre;overflow-x:auto;line-height:normal;font-family:Menlo,'DejaVu Sans Mono',consolas,'Courier New',monospace\"><span style=\"color: #7fbfbf; text-decoration-color: #7fbfbf\">                    </span><span style=\"color: #000080; text-decoration-color: #000080\">INFO    </span> Loading data from <span style=\"color: #ff8700; text-decoration-color: #ff8700\">params:color_gr_tan_background</span>                   <a href=\"file://c:\\Users\\PC\\.conda\\envs\\goodreadv2\\lib\\site-packages\\kedro\\io\\data_catalog.py\" target=\"_blank\"><span style=\"color: #7f7f7f; text-decoration-color: #7f7f7f\">data_catalog.py</span></a><span style=\"color: #7f7f7f; text-decoration-color: #7f7f7f\">:</span><a href=\"file://c:\\Users\\PC\\.conda\\envs\\goodreadv2\\lib\\site-packages\\kedro\\io\\data_catalog.py#508\" target=\"_blank\"><span style=\"color: #7f7f7f; text-decoration-color: #7f7f7f\">508</span></a>\n",
       "<span style=\"color: #7fbfbf; text-decoration-color: #7fbfbf\">                    </span>         <span style=\"font-weight: bold\">(</span>MemoryDataset<span style=\"font-weight: bold\">)</span><span style=\"color: #808000; text-decoration-color: #808000\">...</span>                                                 <span style=\"color: #7f7f7f; text-decoration-color: #7f7f7f\">                   </span>\n",
       "</pre>\n"
      ],
      "text/plain": [
       "\u001b[2;36m                   \u001b[0m\u001b[2;36m \u001b[0m\u001b[34mINFO    \u001b[0m Loading data from \u001b[38;5;208mparams:color_gr_tan_background\u001b[0m                   \u001b]8;id=474039;file://c:\\Users\\PC\\.conda\\envs\\goodreadv2\\lib\\site-packages\\kedro\\io\\data_catalog.py\u001b\\\u001b[2mdata_catalog.py\u001b[0m\u001b]8;;\u001b\\\u001b[2m:\u001b[0m\u001b]8;id=166131;file://c:\\Users\\PC\\.conda\\envs\\goodreadv2\\lib\\site-packages\\kedro\\io\\data_catalog.py#508\u001b\\\u001b[2m508\u001b[0m\u001b]8;;\u001b\\\n",
       "\u001b[2;36m                    \u001b[0m         \u001b[1m(\u001b[0mMemoryDataset\u001b[1m)\u001b[0m\u001b[33m...\u001b[0m                                                 \u001b[2m                   \u001b[0m\n"
      ]
     },
     "metadata": {},
     "output_type": "display_data"
    }
   ],
   "source": [
    "books_input = catalog.load('books_loaded')\n",
    "price_by_isbn = catalog.load('price_by_isbn')\n",
    "title_embeddings = catalog.load('title_embeddings_original')\n",
    "book_api_data = catalog.load('open_library_book_api_info')\n",
    "authors_embeddings = catalog.load('authors_embeddings')\n",
    "\n",
    "# Get the color values\n",
    "color_gr_brown = catalog.load(\"params:color_gr_brown\")\n",
    "color_gr_purple = catalog.load(\"params:color_gr_purple\")\n",
    "color_gr_green = catalog.load(\"params:color_gr_green\")\n",
    "color_gr_tan_background = catalog.load(\"params:color_gr_tan_background\")\n",
    "\n",
    "# Add in the price data\n",
    "books_input = books_input.merge(price_by_isbn, on='isbn13', how='left')"
   ]
  },
  {
   "cell_type": "code",
   "execution_count": 61,
   "metadata": {},
   "outputs": [],
   "source": [
    "data = books_input"
   ]
  },
  {
   "cell_type": "code",
   "execution_count": 62,
   "metadata": {},
   "outputs": [],
   "source": [
    "df = data.merge(title_embeddings)\n"
   ]
  },
  {
   "cell_type": "code",
   "execution_count": 63,
   "metadata": {},
   "outputs": [],
   "source": [
    "df = data.merge(authors_embeddings)"
   ]
  },
  {
   "cell_type": "markdown",
   "metadata": {},
   "source": [
    "# ANALYSIS & VIZUALISATION"
   ]
  },
  {
   "cell_type": "markdown",
   "metadata": {},
   "source": [
    "## *INTRO*"
   ]
  },
  {
   "cell_type": "code",
   "execution_count": 64,
   "metadata": {},
   "outputs": [
    {
     "data": {
      "text/html": [
       "<pre style=\"white-space:pre;overflow-x:auto;line-height:normal;font-family:Menlo,'DejaVu Sans Mono',consolas,'Courier New',monospace\"></pre>\n"
      ],
      "text/plain": []
     },
     "metadata": {},
     "output_type": "display_data"
    },
    {
     "data": {
      "text/html": [
       "<div>\n",
       "<style scoped>\n",
       "    .dataframe tbody tr th:only-of-type {\n",
       "        vertical-align: middle;\n",
       "    }\n",
       "\n",
       "    .dataframe tbody tr th {\n",
       "        vertical-align: top;\n",
       "    }\n",
       "\n",
       "    .dataframe thead th {\n",
       "        text-align: right;\n",
       "    }\n",
       "</style>\n",
       "<table border=\"1\" class=\"dataframe\">\n",
       "  <thead>\n",
       "    <tr style=\"text-align: right;\">\n",
       "      <th></th>\n",
       "      <th>bookID</th>\n",
       "      <th>title</th>\n",
       "      <th>authors</th>\n",
       "      <th>average_rating</th>\n",
       "      <th>isbn</th>\n",
       "      <th>isbn13</th>\n",
       "      <th>language_code</th>\n",
       "      <th>num_pages</th>\n",
       "      <th>ratings_count</th>\n",
       "      <th>text_reviews_count</th>\n",
       "      <th>publication_date</th>\n",
       "      <th>publisher</th>\n",
       "      <th>Price</th>\n",
       "      <th>PriceStrategy</th>\n",
       "      <th>authors_embedding</th>\n",
       "    </tr>\n",
       "  </thead>\n",
       "  <tbody>\n",
       "    <tr>\n",
       "      <th>0</th>\n",
       "      <td>1</td>\n",
       "      <td>Harry Potter and the Half-Blood Prince (Harry ...</td>\n",
       "      <td>J.K. Rowling/Mary GrandPré</td>\n",
       "      <td>4.57</td>\n",
       "      <td>0439785960</td>\n",
       "      <td>9780439785969</td>\n",
       "      <td>eng</td>\n",
       "      <td>652</td>\n",
       "      <td>2095690</td>\n",
       "      <td>27591</td>\n",
       "      <td>9/16/2006</td>\n",
       "      <td>Scholastic Inc.</td>\n",
       "      <td>12.99</td>\n",
       "      <td>LIST_PRICE</td>\n",
       "      <td>[-0.30315670371055603, 0.11502666771411896, -0...</td>\n",
       "    </tr>\n",
       "    <tr>\n",
       "      <th>1</th>\n",
       "      <td>2</td>\n",
       "      <td>Harry Potter and the Order of the Phoenix (Har...</td>\n",
       "      <td>J.K. Rowling/Mary GrandPré</td>\n",
       "      <td>4.49</td>\n",
       "      <td>0439358078</td>\n",
       "      <td>9780439358071</td>\n",
       "      <td>eng</td>\n",
       "      <td>870</td>\n",
       "      <td>2153167</td>\n",
       "      <td>29221</td>\n",
       "      <td>9/1/2004</td>\n",
       "      <td>Scholastic Inc.</td>\n",
       "      <td>99.99</td>\n",
       "      <td>LIST_PRICE</td>\n",
       "      <td>[-0.30315670371055603, 0.11502666771411896, -0...</td>\n",
       "    </tr>\n",
       "    <tr>\n",
       "      <th>2</th>\n",
       "      <td>4</td>\n",
       "      <td>Harry Potter and the Chamber of Secrets (Harry...</td>\n",
       "      <td>J.K. Rowling</td>\n",
       "      <td>4.42</td>\n",
       "      <td>0439554896</td>\n",
       "      <td>9780439554893</td>\n",
       "      <td>eng</td>\n",
       "      <td>352</td>\n",
       "      <td>6333</td>\n",
       "      <td>244</td>\n",
       "      <td>11/1/2003</td>\n",
       "      <td>Scholastic</td>\n",
       "      <td>24.95</td>\n",
       "      <td>LIST_PRICE</td>\n",
       "      <td>[-0.22978533804416656, 0.1457509994506836, -0....</td>\n",
       "    </tr>\n",
       "    <tr>\n",
       "      <th>3</th>\n",
       "      <td>5</td>\n",
       "      <td>Harry Potter and the Prisoner of Azkaban (Harr...</td>\n",
       "      <td>J.K. Rowling/Mary GrandPré</td>\n",
       "      <td>4.56</td>\n",
       "      <td>043965548X</td>\n",
       "      <td>9780439655484</td>\n",
       "      <td>eng</td>\n",
       "      <td>435</td>\n",
       "      <td>2339585</td>\n",
       "      <td>36325</td>\n",
       "      <td>5/1/2004</td>\n",
       "      <td>Scholastic Inc.</td>\n",
       "      <td>7.99</td>\n",
       "      <td>LIST_PRICE</td>\n",
       "      <td>[-0.30315670371055603, 0.11502666771411896, -0...</td>\n",
       "    </tr>\n",
       "    <tr>\n",
       "      <th>4</th>\n",
       "      <td>8</td>\n",
       "      <td>Harry Potter Boxed Set  Books 1-5 (Harry Potte...</td>\n",
       "      <td>J.K. Rowling/Mary GrandPré</td>\n",
       "      <td>4.78</td>\n",
       "      <td>0439682584</td>\n",
       "      <td>9780439682589</td>\n",
       "      <td>eng</td>\n",
       "      <td>2690</td>\n",
       "      <td>41428</td>\n",
       "      <td>164</td>\n",
       "      <td>9/13/2004</td>\n",
       "      <td>Scholastic</td>\n",
       "      <td>40.95</td>\n",
       "      <td>LIST_PRICE</td>\n",
       "      <td>[-0.30315670371055603, 0.11502666771411896, -0...</td>\n",
       "    </tr>\n",
       "  </tbody>\n",
       "</table>\n",
       "</div>"
      ],
      "text/plain": [
       "\n",
       "   bookID                                              title  \\\n",
       "\u001b[1;36m0\u001b[0m       \u001b[1;36m1\u001b[0m  Harry Potter and the Half-Blood Prince \u001b[1m(\u001b[0mHarry \u001b[33m...\u001b[0m   \n",
       "\u001b[1;36m1\u001b[0m       \u001b[1;36m2\u001b[0m  Harry Potter and the Order of the Phoenix \u001b[1m(\u001b[0mHar\u001b[33m...\u001b[0m   \n",
       "\u001b[1;36m2\u001b[0m       \u001b[1;36m4\u001b[0m  Harry Potter and the Chamber of Secrets \u001b[1m(\u001b[0mHarry\u001b[33m...\u001b[0m   \n",
       "\u001b[1;36m3\u001b[0m       \u001b[1;36m5\u001b[0m  Harry Potter and the Prisoner of Azkaban \u001b[1m(\u001b[0mHarr\u001b[33m...\u001b[0m   \n",
       "\u001b[1;36m4\u001b[0m       \u001b[1;36m8\u001b[0m  Harry Potter Boxed Set  Books \u001b[1;36m1\u001b[0m-\u001b[1;36m5\u001b[0m \u001b[1m(\u001b[0mHarry Potte\u001b[33m...\u001b[0m   \n",
       "\n",
       "                      authors  average_rating        isbn         isbn13  \\\n",
       "\u001b[1;36m0\u001b[0m  J.K. Rowling/Mary GrandPré            \u001b[1;36m4.57\u001b[0m  \u001b[1;36m0439785960\u001b[0m  \u001b[1;36m9780439785969\u001b[0m   \n",
       "\u001b[1;36m1\u001b[0m  J.K. Rowling/Mary GrandPré            \u001b[1;36m4.49\u001b[0m  \u001b[1;36m0439358078\u001b[0m  \u001b[1;36m9780439358071\u001b[0m   \n",
       "\u001b[1;36m2\u001b[0m                J.K. Rowling            \u001b[1;36m4.42\u001b[0m  \u001b[1;36m0439554896\u001b[0m  \u001b[1;36m9780439554893\u001b[0m   \n",
       "\u001b[1;36m3\u001b[0m  J.K. Rowling/Mary GrandPré            \u001b[1;36m4.56\u001b[0m  043965548X  \u001b[1;36m9780439655484\u001b[0m   \n",
       "\u001b[1;36m4\u001b[0m  J.K. Rowling/Mary GrandPré            \u001b[1;36m4.78\u001b[0m  \u001b[1;36m0439682584\u001b[0m  \u001b[1;36m9780439682589\u001b[0m   \n",
       "\n",
       "  language_code    num_pages  ratings_count  text_reviews_count  \\\n",
       "\u001b[1;36m0\u001b[0m           eng          \u001b[1;36m652\u001b[0m        \u001b[1;36m2095690\u001b[0m               \u001b[1;36m27591\u001b[0m   \n",
       "\u001b[1;36m1\u001b[0m           eng          \u001b[1;36m870\u001b[0m        \u001b[1;36m2153167\u001b[0m               \u001b[1;36m29221\u001b[0m   \n",
       "\u001b[1;36m2\u001b[0m           eng          \u001b[1;36m352\u001b[0m           \u001b[1;36m6333\u001b[0m                 \u001b[1;36m244\u001b[0m   \n",
       "\u001b[1;36m3\u001b[0m           eng          \u001b[1;36m435\u001b[0m        \u001b[1;36m2339585\u001b[0m               \u001b[1;36m36325\u001b[0m   \n",
       "\u001b[1;36m4\u001b[0m           eng         \u001b[1;36m2690\u001b[0m          \u001b[1;36m41428\u001b[0m                 \u001b[1;36m164\u001b[0m   \n",
       "\n",
       "  publication_date        publisher  Price PriceStrategy  \\\n",
       "\u001b[1;36m0\u001b[0m        \u001b[1;36m9\u001b[0m/\u001b[1;36m16\u001b[0m/\u001b[1;36m2006\u001b[0m  Scholastic Inc.  \u001b[1;36m12.99\u001b[0m    LIST_PRICE   \n",
       "\u001b[1;36m1\u001b[0m         \u001b[1;36m9\u001b[0m/\u001b[1;36m1\u001b[0m/\u001b[1;36m2004\u001b[0m  Scholastic Inc.  \u001b[1;36m99.99\u001b[0m    LIST_PRICE   \n",
       "\u001b[1;36m2\u001b[0m        \u001b[1;36m11\u001b[0m/\u001b[1;36m1\u001b[0m/\u001b[1;36m2003\u001b[0m       Scholastic  \u001b[1;36m24.95\u001b[0m    LIST_PRICE   \n",
       "\u001b[1;36m3\u001b[0m         \u001b[1;36m5\u001b[0m/\u001b[1;36m1\u001b[0m/\u001b[1;36m2004\u001b[0m  Scholastic Inc.   \u001b[1;36m7.99\u001b[0m    LIST_PRICE   \n",
       "\u001b[1;36m4\u001b[0m        \u001b[1;36m9\u001b[0m/\u001b[1;36m13\u001b[0m/\u001b[1;36m2004\u001b[0m       Scholastic  \u001b[1;36m40.95\u001b[0m    LIST_PRICE   \n",
       "\n",
       "                                   authors_embedding  \n",
       "\u001b[1;36m0\u001b[0m  \u001b[1m[\u001b[0m\u001b[1;36m-0.30315670371055603\u001b[0m, \u001b[1;36m0.11502666771411896\u001b[0m, \u001b[1;36m-0\u001b[0m\u001b[33m...\u001b[0m  \n",
       "\u001b[1;36m1\u001b[0m  \u001b[1m[\u001b[0m\u001b[1;36m-0.30315670371055603\u001b[0m, \u001b[1;36m0.11502666771411896\u001b[0m, \u001b[1;36m-0\u001b[0m\u001b[33m...\u001b[0m  \n",
       "\u001b[1;36m2\u001b[0m  \u001b[1m[\u001b[0m\u001b[1;36m-0.22978533804416656\u001b[0m, \u001b[1;36m0.1457509994506836\u001b[0m, \u001b[1;36m-0\u001b[0m\u001b[33m...\u001b[0m.  \n",
       "\u001b[1;36m3\u001b[0m  \u001b[1m[\u001b[0m\u001b[1;36m-0.30315670371055603\u001b[0m, \u001b[1;36m0.11502666771411896\u001b[0m, \u001b[1;36m-0\u001b[0m\u001b[33m...\u001b[0m  \n",
       "\u001b[1;36m4\u001b[0m  \u001b[1m[\u001b[0m\u001b[1;36m-0.30315670371055603\u001b[0m, \u001b[1;36m0.11502666771411896\u001b[0m, \u001b[1;36m-0\u001b[0m\u001b[33m...\u001b[0m  "
      ]
     },
     "execution_count": 64,
     "metadata": {},
     "output_type": "execute_result"
    }
   ],
   "source": [
    "df.head(5)"
   ]
  },
  {
   "cell_type": "code",
   "execution_count": 65,
   "metadata": {},
   "outputs": [
    {
     "data": {
      "text/html": [
       "<pre style=\"white-space:pre;overflow-x:auto;line-height:normal;font-family:Menlo,'DejaVu Sans Mono',consolas,'Courier New',monospace\"></pre>\n"
      ],
      "text/plain": []
     },
     "metadata": {},
     "output_type": "display_data"
    },
    {
     "data": {
      "text/plain": [
       "\u001b[1;36m6639\u001b[0m"
      ]
     },
     "execution_count": 65,
     "metadata": {},
     "output_type": "execute_result"
    }
   ],
   "source": [
    "df['authors'].nunique()"
   ]
  },
  {
   "cell_type": "code",
   "execution_count": 66,
   "metadata": {},
   "outputs": [],
   "source": [
    "first_hypodf=df[['authors', 'average_rating', 'authors_embedding']]"
   ]
  },
  {
   "cell_type": "code",
   "execution_count": 67,
   "metadata": {},
   "outputs": [
    {
     "data": {
      "text/html": [
       "<pre style=\"white-space:pre;overflow-x:auto;line-height:normal;font-family:Menlo,'DejaVu Sans Mono',consolas,'Courier New',monospace\"></pre>\n"
      ],
      "text/plain": []
     },
     "metadata": {},
     "output_type": "display_data"
    },
    {
     "data": {
      "text/html": [
       "<div>\n",
       "<style scoped>\n",
       "    .dataframe tbody tr th:only-of-type {\n",
       "        vertical-align: middle;\n",
       "    }\n",
       "\n",
       "    .dataframe tbody tr th {\n",
       "        vertical-align: top;\n",
       "    }\n",
       "\n",
       "    .dataframe thead th {\n",
       "        text-align: right;\n",
       "    }\n",
       "</style>\n",
       "<table border=\"1\" class=\"dataframe\">\n",
       "  <thead>\n",
       "    <tr style=\"text-align: right;\">\n",
       "      <th></th>\n",
       "      <th>average_rating</th>\n",
       "    </tr>\n",
       "  </thead>\n",
       "  <tbody>\n",
       "    <tr>\n",
       "      <th>count</th>\n",
       "      <td>11123.000000</td>\n",
       "    </tr>\n",
       "    <tr>\n",
       "      <th>mean</th>\n",
       "      <td>3.934075</td>\n",
       "    </tr>\n",
       "    <tr>\n",
       "      <th>std</th>\n",
       "      <td>0.350485</td>\n",
       "    </tr>\n",
       "    <tr>\n",
       "      <th>min</th>\n",
       "      <td>0.000000</td>\n",
       "    </tr>\n",
       "    <tr>\n",
       "      <th>25%</th>\n",
       "      <td>3.770000</td>\n",
       "    </tr>\n",
       "    <tr>\n",
       "      <th>50%</th>\n",
       "      <td>3.960000</td>\n",
       "    </tr>\n",
       "    <tr>\n",
       "      <th>75%</th>\n",
       "      <td>4.140000</td>\n",
       "    </tr>\n",
       "    <tr>\n",
       "      <th>max</th>\n",
       "      <td>5.000000</td>\n",
       "    </tr>\n",
       "  </tbody>\n",
       "</table>\n",
       "</div>"
      ],
      "text/plain": [
       "\n",
       "       average_rating\n",
       "count    \u001b[1;36m11123.000000\u001b[0m\n",
       "mean         \u001b[1;36m3.934075\u001b[0m\n",
       "std          \u001b[1;36m0.350485\u001b[0m\n",
       "min          \u001b[1;36m0.000000\u001b[0m\n",
       "\u001b[1;36m25\u001b[0m%          \u001b[1;36m3.770000\u001b[0m\n",
       "\u001b[1;36m50\u001b[0m%          \u001b[1;36m3.960000\u001b[0m\n",
       "\u001b[1;36m75\u001b[0m%          \u001b[1;36m4.140000\u001b[0m\n",
       "max          \u001b[1;36m5.000000\u001b[0m"
      ]
     },
     "execution_count": 67,
     "metadata": {},
     "output_type": "execute_result"
    }
   ],
   "source": [
    "first_hypodf.describe()"
   ]
  },
  {
   "cell_type": "markdown",
   "metadata": {},
   "source": [
    "### FIRST THING NOTICED \n",
    "\n",
    "THE DATA IS BIASED BY TE QUALITY OF BOOKS, HAVING A MEAN OF 3.8 OUT OF 5 MEANS THAT WE DON'T HAVE ENOUGH EXAMPLES OF NOT SO GOOD BOOKS."
   ]
  },
  {
   "cell_type": "markdown",
   "metadata": {},
   "source": [
    "## *CATCHING SEMANTIC RELATIONS : DO EMBEDDINGS WORK ?*"
   ]
  },
  {
   "cell_type": "code",
   "execution_count": 68,
   "metadata": {},
   "outputs": [],
   "source": [
    "from sklearn.metrics.pairwise import cosine_similarity\n",
    "\"\"\"\n",
    "Trying to see if the embedding catches similarities between different instances of a same author\n",
    "\"\"\"\n",
    "\n",
    "one = first_hypodf['authors_embedding'].iloc[0]\n",
    "two = first_hypodf['authors_embedding'].iloc[2]\n",
    "\n",
    "one = one.reshape(1,-1)\n",
    "two = two.reshape(1,-1)\n",
    "\n"
   ]
  },
  {
   "cell_type": "code",
   "execution_count": 71,
   "metadata": {},
   "outputs": [
    {
     "data": {
      "text/html": [
       "<pre style=\"white-space:pre;overflow-x:auto;line-height:normal;font-family:Menlo,'DejaVu Sans Mono',consolas,'Courier New',monospace\"></pre>\n"
      ],
      "text/plain": []
     },
     "metadata": {},
     "output_type": "display_data"
    },
    {
     "data": {
      "text/plain": [
       "\u001b[1;35marray\u001b[0m\u001b[1m(\u001b[0m\u001b[1m[\u001b[0m\u001b[1m[\u001b[0m\u001b[1;36m0.75045805\u001b[0m\u001b[1m]\u001b[0m\u001b[1m]\u001b[0m\u001b[1m)\u001b[0m"
      ]
     },
     "execution_count": 71,
     "metadata": {},
     "output_type": "execute_result"
    }
   ],
   "source": [
    "cosine_similarity(one,two)"
   ]
  },
  {
   "cell_type": "markdown",
   "metadata": {},
   "source": [
    "A cosine similarity of 0.75 is very good for two instances fairly different. We can use this technique to merge names together. For example we can set a threshold of 70% and basically say that if the cosine similarity of two embeddings is greater or equal to 70 the author is the same or has some differences (a collaborator like the Mary GrandPré which is the illustrator of the latests HP books.)"
   ]
  },
  {
   "cell_type": "markdown",
   "metadata": {},
   "source": [
    "## *MERGING AUTHORS BASED ON THEIR EMBEDDINGS*"
   ]
  },
  {
   "cell_type": "code",
   "execution_count": 72,
   "metadata": {},
   "outputs": [],
   "source": [
    "# Basically converting all authors embedding to match a cosine computation\n",
    "\n",
    "first_hypodf.loc[:, 'authors_embedding'] = first_hypodf['authors_embedding'].apply(lambda x: x.reshape(1, -1))"
   ]
  },
  {
   "cell_type": "code",
   "execution_count": 75,
   "metadata": {},
   "outputs": [],
   "source": [
    "def standardize_author_names(df, threshold=0.72):\n",
    "    embeddings = first_hypodf['authors_embedding'].tolist()\n",
    "    authors = first_hypodf['authors'].tolist()\n",
    "    \n",
    "    \n",
    "    embeddings = [embedding.flatten() for embedding in embeddings]\n",
    "    \n",
    "    for i in range(len(embeddings)):\n",
    "        current_embedding = embeddings[i].reshape(1, -1)\n",
    "        similarities = cosine_similarity(current_embedding, embeddings)\n",
    "        \n",
    "        for j in range(len(similarities[0])):\n",
    "            if i != j and similarities[0][j] >= threshold:\n",
    "                authors[i] = authors[j]\n",
    "                break\n",
    "    \n",
    "    first_hypodf.loc[:, 'authors'] = authors"
   ]
  },
  {
   "cell_type": "code",
   "execution_count": 76,
   "metadata": {},
   "outputs": [],
   "source": [
    "standardize_author_names(first_hypodf)"
   ]
  },
  {
   "cell_type": "code",
   "execution_count": 77,
   "metadata": {},
   "outputs": [
    {
     "data": {
      "text/html": [
       "<pre style=\"white-space:pre;overflow-x:auto;line-height:normal;font-family:Menlo,'DejaVu Sans Mono',consolas,'Courier New',monospace\"></pre>\n"
      ],
      "text/plain": []
     },
     "metadata": {},
     "output_type": "display_data"
    },
    {
     "data": {
      "text/plain": [
       "\u001b[1;36m1567\u001b[0m"
      ]
     },
     "execution_count": 77,
     "metadata": {},
     "output_type": "execute_result"
    }
   ],
   "source": [
    "first_hypodf['authors'].nunique()"
   ]
  },
  {
   "cell_type": "markdown",
   "metadata": {},
   "source": [
    "We went from 6639 authors name to 1567 in a robust manner this is actually very good to analyse with ease "
   ]
  },
  {
   "cell_type": "markdown",
   "metadata": {},
   "source": [
    "# FHDF, STARTING TO WORK WITH THE DATA FOR MODELING"
   ]
  },
  {
   "cell_type": "code",
   "execution_count": 123,
   "metadata": {},
   "outputs": [],
   "source": [
    "fhdf=first_hypodf"
   ]
  },
  {
   "cell_type": "code",
   "execution_count": 124,
   "metadata": {},
   "outputs": [
    {
     "data": {
      "text/html": [
       "<pre style=\"white-space:pre;overflow-x:auto;line-height:normal;font-family:Menlo,'DejaVu Sans Mono',consolas,'Courier New',monospace\"></pre>\n"
      ],
      "text/plain": []
     },
     "metadata": {},
     "output_type": "display_data"
    },
    {
     "data": {
      "text/html": [
       "<div>\n",
       "<style scoped>\n",
       "    .dataframe tbody tr th:only-of-type {\n",
       "        vertical-align: middle;\n",
       "    }\n",
       "\n",
       "    .dataframe tbody tr th {\n",
       "        vertical-align: top;\n",
       "    }\n",
       "\n",
       "    .dataframe thead th {\n",
       "        text-align: right;\n",
       "    }\n",
       "</style>\n",
       "<table border=\"1\" class=\"dataframe\">\n",
       "  <thead>\n",
       "    <tr style=\"text-align: right;\">\n",
       "      <th></th>\n",
       "      <th>authors</th>\n",
       "      <th>average_rating</th>\n",
       "      <th>authors_embedding</th>\n",
       "      <th>title</th>\n",
       "      <th>isbn13</th>\n",
       "    </tr>\n",
       "  </thead>\n",
       "  <tbody>\n",
       "    <tr>\n",
       "      <th>0</th>\n",
       "      <td>J.K. Rowling/Mary GrandPré</td>\n",
       "      <td>4.57</td>\n",
       "      <td>[[-0.30315670371055603, 0.11502666771411896, -...</td>\n",
       "      <td>Harry Potter and the Half-Blood Prince (Harry ...</td>\n",
       "      <td>9780439785969</td>\n",
       "    </tr>\n",
       "    <tr>\n",
       "      <th>1</th>\n",
       "      <td>J.K. Rowling/Mary GrandPré</td>\n",
       "      <td>4.49</td>\n",
       "      <td>[[-0.30315670371055603, 0.11502666771411896, -...</td>\n",
       "      <td>Harry Potter and the Order of the Phoenix (Har...</td>\n",
       "      <td>9780439358071</td>\n",
       "    </tr>\n",
       "    <tr>\n",
       "      <th>2</th>\n",
       "      <td>J.K. Rowling/Mary GrandPré</td>\n",
       "      <td>4.42</td>\n",
       "      <td>[[-0.22978533804416656, 0.1457509994506836, -0...</td>\n",
       "      <td>Harry Potter and the Chamber of Secrets (Harry...</td>\n",
       "      <td>9780439554893</td>\n",
       "    </tr>\n",
       "    <tr>\n",
       "      <th>3</th>\n",
       "      <td>J.K. Rowling/Mary GrandPré</td>\n",
       "      <td>4.56</td>\n",
       "      <td>[[-0.30315670371055603, 0.11502666771411896, -...</td>\n",
       "      <td>Harry Potter and the Prisoner of Azkaban (Harr...</td>\n",
       "      <td>9780439655484</td>\n",
       "    </tr>\n",
       "    <tr>\n",
       "      <th>4</th>\n",
       "      <td>J.K. Rowling/Mary GrandPré</td>\n",
       "      <td>4.78</td>\n",
       "      <td>[[-0.30315670371055603, 0.11502666771411896, -...</td>\n",
       "      <td>Harry Potter Boxed Set  Books 1-5 (Harry Potte...</td>\n",
       "      <td>9780439682589</td>\n",
       "    </tr>\n",
       "    <tr>\n",
       "      <th>...</th>\n",
       "      <td>...</td>\n",
       "      <td>...</td>\n",
       "      <td>...</td>\n",
       "      <td>...</td>\n",
       "      <td>...</td>\n",
       "    </tr>\n",
       "    <tr>\n",
       "      <th>11118</th>\n",
       "      <td>John Milton/Merritt Y. Hughes/David Scott Kastan</td>\n",
       "      <td>4.06</td>\n",
       "      <td>[[-0.403737336397171, 0.2087896317243576, -0.1...</td>\n",
       "      <td>Expelled from Eden: A William T. Vollmann Reader</td>\n",
       "      <td>9781560254416</td>\n",
       "    </tr>\n",
       "    <tr>\n",
       "      <th>11119</th>\n",
       "      <td>Henry James/Gabriel Brownstein/Mary Cregan</td>\n",
       "      <td>4.08</td>\n",
       "      <td>[[-0.5178908705711365, 0.5561336278915405, -0....</td>\n",
       "      <td>You Bright and Risen Angels</td>\n",
       "      <td>9780140110876</td>\n",
       "    </tr>\n",
       "    <tr>\n",
       "      <th>11120</th>\n",
       "      <td>Henry James/Gabriel Brownstein/Mary Cregan</td>\n",
       "      <td>3.96</td>\n",
       "      <td>[[-0.5178909301757812, 0.5561334490776062, -0....</td>\n",
       "      <td>The Ice-Shirt (Seven Dreams #1)</td>\n",
       "      <td>9780140131963</td>\n",
       "    </tr>\n",
       "    <tr>\n",
       "      <th>11121</th>\n",
       "      <td>Henry James/Gabriel Brownstein/Mary Cregan</td>\n",
       "      <td>3.72</td>\n",
       "      <td>[[-0.5178908705711365, 0.5561336278915405, -0....</td>\n",
       "      <td>Poor People</td>\n",
       "      <td>9780060878825</td>\n",
       "    </tr>\n",
       "    <tr>\n",
       "      <th>11122</th>\n",
       "      <td>Mark Twain/Michael Prichard</td>\n",
       "      <td>3.91</td>\n",
       "      <td>[[0.33673834800720215, 0.24192380905151367, 0....</td>\n",
       "      <td>Las aventuras de Tom Sawyer</td>\n",
       "      <td>9788497646987</td>\n",
       "    </tr>\n",
       "  </tbody>\n",
       "</table>\n",
       "<p>11123 rows × 5 columns</p>\n",
       "</div>"
      ],
      "text/plain": [
       "\n",
       "                                                authors  average_rating  \\\n",
       "\u001b[1;36m0\u001b[0m                            J.K. Rowling/Mary GrandPré            \u001b[1;36m4.57\u001b[0m   \n",
       "\u001b[1;36m1\u001b[0m                            J.K. Rowling/Mary GrandPré            \u001b[1;36m4.49\u001b[0m   \n",
       "\u001b[1;36m2\u001b[0m                            J.K. Rowling/Mary GrandPré            \u001b[1;36m4.42\u001b[0m   \n",
       "\u001b[1;36m3\u001b[0m                            J.K. Rowling/Mary GrandPré            \u001b[1;36m4.56\u001b[0m   \n",
       "\u001b[1;36m4\u001b[0m                            J.K. Rowling/Mary GrandPré            \u001b[1;36m4.78\u001b[0m   \n",
       "\u001b[33m...\u001b[0m                                                 \u001b[33m...\u001b[0m             \u001b[33m...\u001b[0m   \n",
       "\u001b[1;36m11118\u001b[0m  John Milton/Merritt Y. Hughes/David Scott Kastan            \u001b[1;36m4.06\u001b[0m   \n",
       "\u001b[1;36m11119\u001b[0m        Henry James/Gabriel Brownstein/Mary Cregan            \u001b[1;36m4.08\u001b[0m   \n",
       "\u001b[1;36m11120\u001b[0m        Henry James/Gabriel Brownstein/Mary Cregan            \u001b[1;36m3.96\u001b[0m   \n",
       "\u001b[1;36m11121\u001b[0m        Henry James/Gabriel Brownstein/Mary Cregan            \u001b[1;36m3.72\u001b[0m   \n",
       "\u001b[1;36m11122\u001b[0m                       Mark Twain/Michael Prichard            \u001b[1;36m3.91\u001b[0m   \n",
       "\n",
       "                                       authors_embedding  \\\n",
       "\u001b[1;36m0\u001b[0m      \u001b[1m[\u001b[0m\u001b[1m[\u001b[0m\u001b[1;36m-0.30315670371055603\u001b[0m, \u001b[1;36m0.11502666771411896\u001b[0m, -\u001b[33m...\u001b[0m   \n",
       "\u001b[1;36m1\u001b[0m      \u001b[1m[\u001b[0m\u001b[1m[\u001b[0m\u001b[1;36m-0.30315670371055603\u001b[0m, \u001b[1;36m0.11502666771411896\u001b[0m, -\u001b[33m...\u001b[0m   \n",
       "\u001b[1;36m2\u001b[0m      \u001b[1m[\u001b[0m\u001b[1m[\u001b[0m\u001b[1;36m-0.22978533804416656\u001b[0m, \u001b[1;36m0.1457509994506836\u001b[0m, \u001b[1;36m-0\u001b[0m\u001b[33m...\u001b[0m   \n",
       "\u001b[1;36m3\u001b[0m      \u001b[1m[\u001b[0m\u001b[1m[\u001b[0m\u001b[1;36m-0.30315670371055603\u001b[0m, \u001b[1;36m0.11502666771411896\u001b[0m, -\u001b[33m...\u001b[0m   \n",
       "\u001b[1;36m4\u001b[0m      \u001b[1m[\u001b[0m\u001b[1m[\u001b[0m\u001b[1;36m-0.30315670371055603\u001b[0m, \u001b[1;36m0.11502666771411896\u001b[0m, -\u001b[33m...\u001b[0m   \n",
       "\u001b[33m...\u001b[0m                                                  \u001b[33m...\u001b[0m   \n",
       "\u001b[1;36m11118\u001b[0m  \u001b[1m[\u001b[0m\u001b[1m[\u001b[0m\u001b[1;36m-0.403737336397171\u001b[0m, \u001b[1;36m0.2087896317243576\u001b[0m, \u001b[1;36m-0.1\u001b[0m\u001b[33m...\u001b[0m   \n",
       "\u001b[1;36m11119\u001b[0m  \u001b[1m[\u001b[0m\u001b[1m[\u001b[0m\u001b[1;36m-0.5178908705711365\u001b[0m, \u001b[1;36m0.5561336278915405\u001b[0m, \u001b[1;36m-0\u001b[0m\u001b[33m...\u001b[0m.   \n",
       "\u001b[1;36m11120\u001b[0m  \u001b[1m[\u001b[0m\u001b[1m[\u001b[0m\u001b[1;36m-0.5178909301757812\u001b[0m, \u001b[1;36m0.5561334490776062\u001b[0m, \u001b[1;36m-0\u001b[0m\u001b[33m...\u001b[0m.   \n",
       "\u001b[1;36m11121\u001b[0m  \u001b[1m[\u001b[0m\u001b[1m[\u001b[0m\u001b[1;36m-0.5178908705711365\u001b[0m, \u001b[1;36m0.5561336278915405\u001b[0m, \u001b[1;36m-0\u001b[0m\u001b[33m...\u001b[0m.   \n",
       "\u001b[1;36m11122\u001b[0m  \u001b[1m[\u001b[0m\u001b[1m[\u001b[0m\u001b[1;36m0.33673834800720215\u001b[0m, \u001b[1;36m0.24192380905151367\u001b[0m, \u001b[1;36m0\u001b[0m\u001b[33m...\u001b[0m.   \n",
       "\n",
       "                                                   title         isbn13  \n",
       "\u001b[1;36m0\u001b[0m      Harry Potter and the Half-Blood Prince \u001b[1m(\u001b[0mHarry \u001b[33m...\u001b[0m  \u001b[1;36m9780439785969\u001b[0m  \n",
       "\u001b[1;36m1\u001b[0m      Harry Potter and the Order of the Phoenix \u001b[1m(\u001b[0mHar\u001b[33m...\u001b[0m  \u001b[1;36m9780439358071\u001b[0m  \n",
       "\u001b[1;36m2\u001b[0m      Harry Potter and the Chamber of Secrets \u001b[1m(\u001b[0mHarry\u001b[33m...\u001b[0m  \u001b[1;36m9780439554893\u001b[0m  \n",
       "\u001b[1;36m3\u001b[0m      Harry Potter and the Prisoner of Azkaban \u001b[1m(\u001b[0mHarr\u001b[33m...\u001b[0m  \u001b[1;36m9780439655484\u001b[0m  \n",
       "\u001b[1;36m4\u001b[0m      Harry Potter Boxed Set  Books \u001b[1;36m1\u001b[0m-\u001b[1;36m5\u001b[0m \u001b[1m(\u001b[0mHarry Potte\u001b[33m...\u001b[0m  \u001b[1;36m9780439682589\u001b[0m  \n",
       "\u001b[33m...\u001b[0m                                                  \u001b[33m...\u001b[0m            \u001b[33m...\u001b[0m  \n",
       "\u001b[1;36m11118\u001b[0m   Expelled from Eden: A William T. Vollmann Reader  \u001b[1;36m9781560254416\u001b[0m  \n",
       "\u001b[1;36m11119\u001b[0m                        You Bright and Risen Angels  \u001b[1;36m9780140110876\u001b[0m  \n",
       "\u001b[1;36m11120\u001b[0m                    The Ice-Shirt \u001b[1m(\u001b[0mSeven Dreams #\u001b[1;36m1\u001b[0m\u001b[1m)\u001b[0m  \u001b[1;36m9780140131963\u001b[0m  \n",
       "\u001b[1;36m11121\u001b[0m                                        Poor People  \u001b[1;36m9780060878825\u001b[0m  \n",
       "\u001b[1;36m11122\u001b[0m                        Las aventuras de Tom Sawyer  \u001b[1;36m9788497646987\u001b[0m  \n",
       "\n",
       "\u001b[1m[\u001b[0m\u001b[1;36m11123\u001b[0m rows x \u001b[1;36m5\u001b[0m columns\u001b[1m]\u001b[0m"
      ]
     },
     "execution_count": 124,
     "metadata": {},
     "output_type": "execute_result"
    }
   ],
   "source": [
    "fhdf"
   ]
  },
  {
   "cell_type": "code",
   "execution_count": 125,
   "metadata": {},
   "outputs": [],
   "source": [
    "fhdf.loc[:,'title']=df['title']"
   ]
  },
  {
   "cell_type": "code",
   "execution_count": 126,
   "metadata": {},
   "outputs": [
    {
     "data": {
      "text/html": [
       "<pre style=\"white-space:pre;overflow-x:auto;line-height:normal;font-family:Menlo,'DejaVu Sans Mono',consolas,'Courier New',monospace\"></pre>\n"
      ],
      "text/plain": []
     },
     "metadata": {},
     "output_type": "display_data"
    },
    {
     "data": {
      "text/html": [
       "<div>\n",
       "<style scoped>\n",
       "    .dataframe tbody tr th:only-of-type {\n",
       "        vertical-align: middle;\n",
       "    }\n",
       "\n",
       "    .dataframe tbody tr th {\n",
       "        vertical-align: top;\n",
       "    }\n",
       "\n",
       "    .dataframe thead th {\n",
       "        text-align: right;\n",
       "    }\n",
       "</style>\n",
       "<table border=\"1\" class=\"dataframe\">\n",
       "  <thead>\n",
       "    <tr style=\"text-align: right;\">\n",
       "      <th></th>\n",
       "      <th>isbn13</th>\n",
       "      <th>title_embedding</th>\n",
       "    </tr>\n",
       "  </thead>\n",
       "  <tbody>\n",
       "    <tr>\n",
       "      <th>0</th>\n",
       "      <td>9780439785969</td>\n",
       "      <td>[-0.15156979858875275, 0.4935136139392853, 0.0...</td>\n",
       "    </tr>\n",
       "    <tr>\n",
       "      <th>1</th>\n",
       "      <td>9780439358071</td>\n",
       "      <td>[-0.22418256103992462, 0.20987719297409058, 0....</td>\n",
       "    </tr>\n",
       "    <tr>\n",
       "      <th>2</th>\n",
       "      <td>9780439554893</td>\n",
       "      <td>[-0.054178591817617416, 0.22646689414978027, -...</td>\n",
       "    </tr>\n",
       "    <tr>\n",
       "      <th>3</th>\n",
       "      <td>9780439655484</td>\n",
       "      <td>[-0.2782197892665863, 0.261374831199646, -0.12...</td>\n",
       "    </tr>\n",
       "    <tr>\n",
       "      <th>4</th>\n",
       "      <td>9780439682589</td>\n",
       "      <td>[-0.16637001931667328, 0.2694065272808075, -0....</td>\n",
       "    </tr>\n",
       "    <tr>\n",
       "      <th>...</th>\n",
       "      <td>...</td>\n",
       "      <td>...</td>\n",
       "    </tr>\n",
       "    <tr>\n",
       "      <th>11118</th>\n",
       "      <td>9781560254416</td>\n",
       "      <td>[-0.13434666395187378, 0.08153267949819565, 0....</td>\n",
       "    </tr>\n",
       "    <tr>\n",
       "      <th>11119</th>\n",
       "      <td>9780140110876</td>\n",
       "      <td>[0.32915258407592773, 0.15614797174930573, 0.0...</td>\n",
       "    </tr>\n",
       "    <tr>\n",
       "      <th>11120</th>\n",
       "      <td>9780140131963</td>\n",
       "      <td>[-0.02630615048110485, 0.1311979591846466, -0....</td>\n",
       "    </tr>\n",
       "    <tr>\n",
       "      <th>11121</th>\n",
       "      <td>9780060878825</td>\n",
       "      <td>[-0.10792334377765656, 0.27181512117385864, -0...</td>\n",
       "    </tr>\n",
       "    <tr>\n",
       "      <th>11122</th>\n",
       "      <td>9788497646987</td>\n",
       "      <td>[0.0736294761300087, -0.2517438232898712, -0.2...</td>\n",
       "    </tr>\n",
       "  </tbody>\n",
       "</table>\n",
       "<p>11123 rows × 2 columns</p>\n",
       "</div>"
      ],
      "text/plain": [
       "\n",
       "              isbn13                                    title_embedding\n",
       "\u001b[1;36m0\u001b[0m      \u001b[1;36m9780439785969\u001b[0m  \u001b[1m[\u001b[0m\u001b[1;36m-0.15156979858875275\u001b[0m, \u001b[1;36m0.4935136139392853\u001b[0m, \u001b[1;36m0.0\u001b[0m\u001b[33m...\u001b[0m\n",
       "\u001b[1;36m1\u001b[0m      \u001b[1;36m9780439358071\u001b[0m  \u001b[1m[\u001b[0m\u001b[1;36m-0.22418256103992462\u001b[0m, \u001b[1;36m0.20987719297409058\u001b[0m, \u001b[1;36m0\u001b[0m\u001b[33m...\u001b[0m.\n",
       "\u001b[1;36m2\u001b[0m      \u001b[1;36m9780439554893\u001b[0m  \u001b[1m[\u001b[0m\u001b[1;36m-0.054178591817617416\u001b[0m, \u001b[1;36m0.22646689414978027\u001b[0m, -\u001b[33m...\u001b[0m\n",
       "\u001b[1;36m3\u001b[0m      \u001b[1;36m9780439655484\u001b[0m  \u001b[1m[\u001b[0m\u001b[1;36m-0.2782197892665863\u001b[0m, \u001b[1;36m0.261374831199646\u001b[0m, \u001b[1;36m-0.12\u001b[0m\u001b[33m...\u001b[0m\n",
       "\u001b[1;36m4\u001b[0m      \u001b[1;36m9780439682589\u001b[0m  \u001b[1m[\u001b[0m\u001b[1;36m-0.16637001931667328\u001b[0m, \u001b[1;36m0.2694065272808075\u001b[0m, \u001b[1;36m-0\u001b[0m\u001b[33m...\u001b[0m.\n",
       "\u001b[33m...\u001b[0m              \u001b[33m...\u001b[0m                                                \u001b[33m...\u001b[0m\n",
       "\u001b[1;36m11118\u001b[0m  \u001b[1;36m9781560254416\u001b[0m  \u001b[1m[\u001b[0m\u001b[1;36m-0.13434666395187378\u001b[0m, \u001b[1;36m0.08153267949819565\u001b[0m, \u001b[1;36m0\u001b[0m\u001b[33m...\u001b[0m.\n",
       "\u001b[1;36m11119\u001b[0m  \u001b[1;36m9780140110876\u001b[0m  \u001b[1m[\u001b[0m\u001b[1;36m0.32915258407592773\u001b[0m, \u001b[1;36m0.15614797174930573\u001b[0m, \u001b[1;36m0.0\u001b[0m\u001b[33m...\u001b[0m\n",
       "\u001b[1;36m11120\u001b[0m  \u001b[1;36m9780140131963\u001b[0m  \u001b[1m[\u001b[0m\u001b[1;36m-0.02630615048110485\u001b[0m, \u001b[1;36m0.1311979591846466\u001b[0m, \u001b[1;36m-0\u001b[0m\u001b[33m...\u001b[0m.\n",
       "\u001b[1;36m11121\u001b[0m  \u001b[1;36m9780060878825\u001b[0m  \u001b[1m[\u001b[0m\u001b[1;36m-0.10792334377765656\u001b[0m, \u001b[1;36m0.27181512117385864\u001b[0m, \u001b[1;36m-0\u001b[0m\u001b[33m...\u001b[0m\n",
       "\u001b[1;36m11122\u001b[0m  \u001b[1;36m9788497646987\u001b[0m  \u001b[1m[\u001b[0m\u001b[1;36m0.0736294761300087\u001b[0m, \u001b[1;36m-0.2517438232898712\u001b[0m, \u001b[1;36m-0.2\u001b[0m\u001b[33m...\u001b[0m\n",
       "\n",
       "\u001b[1m[\u001b[0m\u001b[1;36m11123\u001b[0m rows x \u001b[1;36m2\u001b[0m columns\u001b[1m]\u001b[0m"
      ]
     },
     "execution_count": 126,
     "metadata": {},
     "output_type": "execute_result"
    }
   ],
   "source": [
    "title_embeddings"
   ]
  },
  {
   "cell_type": "code",
   "execution_count": 127,
   "metadata": {},
   "outputs": [],
   "source": [
    "fhdf.loc[:,'isbn13'] = df['isbn13']\n",
    "fhdf = fhdf.merge(title_embeddings, on='isbn13', how='left')\n",
    "fhdf.loc[:,'publisher'] = df['publisher']\n",
    "fhdf.loc[:,'price'] = df['Price']"
   ]
  },
  {
   "cell_type": "code",
   "execution_count": 130,
   "metadata": {},
   "outputs": [
    {
     "data": {
      "text/html": [
       "<pre style=\"white-space:pre;overflow-x:auto;line-height:normal;font-family:Menlo,'DejaVu Sans Mono',consolas,'Courier New',monospace\"></pre>\n"
      ],
      "text/plain": []
     },
     "metadata": {},
     "output_type": "display_data"
    },
    {
     "data": {
      "text/html": [
       "<div>\n",
       "<style scoped>\n",
       "    .dataframe tbody tr th:only-of-type {\n",
       "        vertical-align: middle;\n",
       "    }\n",
       "\n",
       "    .dataframe tbody tr th {\n",
       "        vertical-align: top;\n",
       "    }\n",
       "\n",
       "    .dataframe thead th {\n",
       "        text-align: right;\n",
       "    }\n",
       "</style>\n",
       "<table border=\"1\" class=\"dataframe\">\n",
       "  <thead>\n",
       "    <tr style=\"text-align: right;\">\n",
       "      <th></th>\n",
       "      <th>authors</th>\n",
       "      <th>average_rating</th>\n",
       "      <th>authors_embedding</th>\n",
       "      <th>title</th>\n",
       "      <th>isbn13</th>\n",
       "      <th>title_embedding</th>\n",
       "      <th>publisher</th>\n",
       "      <th>price</th>\n",
       "    </tr>\n",
       "  </thead>\n",
       "  <tbody>\n",
       "    <tr>\n",
       "      <th>0</th>\n",
       "      <td>J.K. Rowling/Mary GrandPré</td>\n",
       "      <td>4.57</td>\n",
       "      <td>[[-0.30315670371055603, 0.11502666771411896, -...</td>\n",
       "      <td>Harry Potter and the Half-Blood Prince (Harry ...</td>\n",
       "      <td>9780439785969</td>\n",
       "      <td>[-0.15156979858875275, 0.4935136139392853, 0.0...</td>\n",
       "      <td>Scholastic Inc.</td>\n",
       "      <td>12.990</td>\n",
       "    </tr>\n",
       "    <tr>\n",
       "      <th>1</th>\n",
       "      <td>J.K. Rowling/Mary GrandPré</td>\n",
       "      <td>4.49</td>\n",
       "      <td>[[-0.30315670371055603, 0.11502666771411896, -...</td>\n",
       "      <td>Harry Potter and the Order of the Phoenix (Har...</td>\n",
       "      <td>9780439358071</td>\n",
       "      <td>[-0.22418256103992462, 0.20987719297409058, 0....</td>\n",
       "      <td>Scholastic Inc.</td>\n",
       "      <td>99.990</td>\n",
       "    </tr>\n",
       "    <tr>\n",
       "      <th>2</th>\n",
       "      <td>J.K. Rowling/Mary GrandPré</td>\n",
       "      <td>4.42</td>\n",
       "      <td>[[-0.22978533804416656, 0.1457509994506836, -0...</td>\n",
       "      <td>Harry Potter and the Chamber of Secrets (Harry...</td>\n",
       "      <td>9780439554893</td>\n",
       "      <td>[-0.054178591817617416, 0.22646689414978027, -...</td>\n",
       "      <td>Scholastic</td>\n",
       "      <td>24.950</td>\n",
       "    </tr>\n",
       "    <tr>\n",
       "      <th>3</th>\n",
       "      <td>J.K. Rowling/Mary GrandPré</td>\n",
       "      <td>4.56</td>\n",
       "      <td>[[-0.30315670371055603, 0.11502666771411896, -...</td>\n",
       "      <td>Harry Potter and the Prisoner of Azkaban (Harr...</td>\n",
       "      <td>9780439655484</td>\n",
       "      <td>[-0.2782197892665863, 0.261374831199646, -0.12...</td>\n",
       "      <td>Scholastic Inc.</td>\n",
       "      <td>7.990</td>\n",
       "    </tr>\n",
       "    <tr>\n",
       "      <th>4</th>\n",
       "      <td>J.K. Rowling/Mary GrandPré</td>\n",
       "      <td>4.78</td>\n",
       "      <td>[[-0.30315670371055603, 0.11502666771411896, -...</td>\n",
       "      <td>Harry Potter Boxed Set  Books 1-5 (Harry Potte...</td>\n",
       "      <td>9780439682589</td>\n",
       "      <td>[-0.16637001931667328, 0.2694065272808075, -0....</td>\n",
       "      <td>Scholastic</td>\n",
       "      <td>40.950</td>\n",
       "    </tr>\n",
       "    <tr>\n",
       "      <th>...</th>\n",
       "      <td>...</td>\n",
       "      <td>...</td>\n",
       "      <td>...</td>\n",
       "      <td>...</td>\n",
       "      <td>...</td>\n",
       "      <td>...</td>\n",
       "      <td>...</td>\n",
       "      <td>...</td>\n",
       "    </tr>\n",
       "    <tr>\n",
       "      <th>11118</th>\n",
       "      <td>John Milton/Merritt Y. Hughes/David Scott Kastan</td>\n",
       "      <td>4.06</td>\n",
       "      <td>[[-0.403737336397171, 0.2087896317243576, -0.1...</td>\n",
       "      <td>Expelled from Eden: A William T. Vollmann Reader</td>\n",
       "      <td>9781560254416</td>\n",
       "      <td>[-0.13434666395187378, 0.08153267949819565, 0....</td>\n",
       "      <td>Da Capo Press</td>\n",
       "      <td>22.990</td>\n",
       "    </tr>\n",
       "    <tr>\n",
       "      <th>11119</th>\n",
       "      <td>Henry James/Gabriel Brownstein/Mary Cregan</td>\n",
       "      <td>4.08</td>\n",
       "      <td>[[-0.5178908705711365, 0.5561336278915405, -0....</td>\n",
       "      <td>You Bright and Risen Angels</td>\n",
       "      <td>9780140110876</td>\n",
       "      <td>[0.32915258407592773, 0.15614797174930573, 0.0...</td>\n",
       "      <td>Penguin Books</td>\n",
       "      <td>25.000</td>\n",
       "    </tr>\n",
       "    <tr>\n",
       "      <th>11120</th>\n",
       "      <td>Henry James/Gabriel Brownstein/Mary Cregan</td>\n",
       "      <td>3.96</td>\n",
       "      <td>[[-0.5178909301757812, 0.5561334490776062, -0....</td>\n",
       "      <td>The Ice-Shirt (Seven Dreams #1)</td>\n",
       "      <td>9780140131963</td>\n",
       "      <td>[-0.02630615048110485, 0.1311979591846466, -0....</td>\n",
       "      <td>Penguin Books</td>\n",
       "      <td>24.000</td>\n",
       "    </tr>\n",
       "    <tr>\n",
       "      <th>11121</th>\n",
       "      <td>Henry James/Gabriel Brownstein/Mary Cregan</td>\n",
       "      <td>3.72</td>\n",
       "      <td>[[-0.5178908705711365, 0.5561336278915405, -0....</td>\n",
       "      <td>Poor People</td>\n",
       "      <td>9780060878825</td>\n",
       "      <td>[-0.10792334377765656, 0.27181512117385864, -0...</td>\n",
       "      <td>Ecco</td>\n",
       "      <td>29.950</td>\n",
       "    </tr>\n",
       "    <tr>\n",
       "      <th>11122</th>\n",
       "      <td>Mark Twain/Michael Prichard</td>\n",
       "      <td>3.91</td>\n",
       "      <td>[[0.33673834800720215, 0.24192380905151367, 0....</td>\n",
       "      <td>Las aventuras de Tom Sawyer</td>\n",
       "      <td>9788497646987</td>\n",
       "      <td>[0.0736294761300087, -0.2517438232898712, -0.2...</td>\n",
       "      <td>Edimat Libros</td>\n",
       "      <td>5.305</td>\n",
       "    </tr>\n",
       "  </tbody>\n",
       "</table>\n",
       "<p>11123 rows × 8 columns</p>\n",
       "</div>"
      ],
      "text/plain": [
       "\n",
       "                                                authors  average_rating  \\\n",
       "\u001b[1;36m0\u001b[0m                            J.K. Rowling/Mary GrandPré            \u001b[1;36m4.57\u001b[0m   \n",
       "\u001b[1;36m1\u001b[0m                            J.K. Rowling/Mary GrandPré            \u001b[1;36m4.49\u001b[0m   \n",
       "\u001b[1;36m2\u001b[0m                            J.K. Rowling/Mary GrandPré            \u001b[1;36m4.42\u001b[0m   \n",
       "\u001b[1;36m3\u001b[0m                            J.K. Rowling/Mary GrandPré            \u001b[1;36m4.56\u001b[0m   \n",
       "\u001b[1;36m4\u001b[0m                            J.K. Rowling/Mary GrandPré            \u001b[1;36m4.78\u001b[0m   \n",
       "\u001b[33m...\u001b[0m                                                 \u001b[33m...\u001b[0m             \u001b[33m...\u001b[0m   \n",
       "\u001b[1;36m11118\u001b[0m  John Milton/Merritt Y. Hughes/David Scott Kastan            \u001b[1;36m4.06\u001b[0m   \n",
       "\u001b[1;36m11119\u001b[0m        Henry James/Gabriel Brownstein/Mary Cregan            \u001b[1;36m4.08\u001b[0m   \n",
       "\u001b[1;36m11120\u001b[0m        Henry James/Gabriel Brownstein/Mary Cregan            \u001b[1;36m3.96\u001b[0m   \n",
       "\u001b[1;36m11121\u001b[0m        Henry James/Gabriel Brownstein/Mary Cregan            \u001b[1;36m3.72\u001b[0m   \n",
       "\u001b[1;36m11122\u001b[0m                       Mark Twain/Michael Prichard            \u001b[1;36m3.91\u001b[0m   \n",
       "\n",
       "                                       authors_embedding  \\\n",
       "\u001b[1;36m0\u001b[0m      \u001b[1m[\u001b[0m\u001b[1m[\u001b[0m\u001b[1;36m-0.30315670371055603\u001b[0m, \u001b[1;36m0.11502666771411896\u001b[0m, -\u001b[33m...\u001b[0m   \n",
       "\u001b[1;36m1\u001b[0m      \u001b[1m[\u001b[0m\u001b[1m[\u001b[0m\u001b[1;36m-0.30315670371055603\u001b[0m, \u001b[1;36m0.11502666771411896\u001b[0m, -\u001b[33m...\u001b[0m   \n",
       "\u001b[1;36m2\u001b[0m      \u001b[1m[\u001b[0m\u001b[1m[\u001b[0m\u001b[1;36m-0.22978533804416656\u001b[0m, \u001b[1;36m0.1457509994506836\u001b[0m, \u001b[1;36m-0\u001b[0m\u001b[33m...\u001b[0m   \n",
       "\u001b[1;36m3\u001b[0m      \u001b[1m[\u001b[0m\u001b[1m[\u001b[0m\u001b[1;36m-0.30315670371055603\u001b[0m, \u001b[1;36m0.11502666771411896\u001b[0m, -\u001b[33m...\u001b[0m   \n",
       "\u001b[1;36m4\u001b[0m      \u001b[1m[\u001b[0m\u001b[1m[\u001b[0m\u001b[1;36m-0.30315670371055603\u001b[0m, \u001b[1;36m0.11502666771411896\u001b[0m, -\u001b[33m...\u001b[0m   \n",
       "\u001b[33m...\u001b[0m                                                  \u001b[33m...\u001b[0m   \n",
       "\u001b[1;36m11118\u001b[0m  \u001b[1m[\u001b[0m\u001b[1m[\u001b[0m\u001b[1;36m-0.403737336397171\u001b[0m, \u001b[1;36m0.2087896317243576\u001b[0m, \u001b[1;36m-0.1\u001b[0m\u001b[33m...\u001b[0m   \n",
       "\u001b[1;36m11119\u001b[0m  \u001b[1m[\u001b[0m\u001b[1m[\u001b[0m\u001b[1;36m-0.5178908705711365\u001b[0m, \u001b[1;36m0.5561336278915405\u001b[0m, \u001b[1;36m-0\u001b[0m\u001b[33m...\u001b[0m.   \n",
       "\u001b[1;36m11120\u001b[0m  \u001b[1m[\u001b[0m\u001b[1m[\u001b[0m\u001b[1;36m-0.5178909301757812\u001b[0m, \u001b[1;36m0.5561334490776062\u001b[0m, \u001b[1;36m-0\u001b[0m\u001b[33m...\u001b[0m.   \n",
       "\u001b[1;36m11121\u001b[0m  \u001b[1m[\u001b[0m\u001b[1m[\u001b[0m\u001b[1;36m-0.5178908705711365\u001b[0m, \u001b[1;36m0.5561336278915405\u001b[0m, \u001b[1;36m-0\u001b[0m\u001b[33m...\u001b[0m.   \n",
       "\u001b[1;36m11122\u001b[0m  \u001b[1m[\u001b[0m\u001b[1m[\u001b[0m\u001b[1;36m0.33673834800720215\u001b[0m, \u001b[1;36m0.24192380905151367\u001b[0m, \u001b[1;36m0\u001b[0m\u001b[33m...\u001b[0m.   \n",
       "\n",
       "                                                   title         isbn13  \\\n",
       "\u001b[1;36m0\u001b[0m      Harry Potter and the Half-Blood Prince \u001b[1m(\u001b[0mHarry \u001b[33m...\u001b[0m  \u001b[1;36m9780439785969\u001b[0m   \n",
       "\u001b[1;36m1\u001b[0m      Harry Potter and the Order of the Phoenix \u001b[1m(\u001b[0mHar\u001b[33m...\u001b[0m  \u001b[1;36m9780439358071\u001b[0m   \n",
       "\u001b[1;36m2\u001b[0m      Harry Potter and the Chamber of Secrets \u001b[1m(\u001b[0mHarry\u001b[33m...\u001b[0m  \u001b[1;36m9780439554893\u001b[0m   \n",
       "\u001b[1;36m3\u001b[0m      Harry Potter and the Prisoner of Azkaban \u001b[1m(\u001b[0mHarr\u001b[33m...\u001b[0m  \u001b[1;36m9780439655484\u001b[0m   \n",
       "\u001b[1;36m4\u001b[0m      Harry Potter Boxed Set  Books \u001b[1;36m1\u001b[0m-\u001b[1;36m5\u001b[0m \u001b[1m(\u001b[0mHarry Potte\u001b[33m...\u001b[0m  \u001b[1;36m9780439682589\u001b[0m   \n",
       "\u001b[33m...\u001b[0m                                                  \u001b[33m...\u001b[0m            \u001b[33m...\u001b[0m   \n",
       "\u001b[1;36m11118\u001b[0m   Expelled from Eden: A William T. Vollmann Reader  \u001b[1;36m9781560254416\u001b[0m   \n",
       "\u001b[1;36m11119\u001b[0m                        You Bright and Risen Angels  \u001b[1;36m9780140110876\u001b[0m   \n",
       "\u001b[1;36m11120\u001b[0m                    The Ice-Shirt \u001b[1m(\u001b[0mSeven Dreams #\u001b[1;36m1\u001b[0m\u001b[1m)\u001b[0m  \u001b[1;36m9780140131963\u001b[0m   \n",
       "\u001b[1;36m11121\u001b[0m                                        Poor People  \u001b[1;36m9780060878825\u001b[0m   \n",
       "\u001b[1;36m11122\u001b[0m                        Las aventuras de Tom Sawyer  \u001b[1;36m9788497646987\u001b[0m   \n",
       "\n",
       "                                         title_embedding        publisher  \\\n",
       "\u001b[1;36m0\u001b[0m      \u001b[1m[\u001b[0m\u001b[1;36m-0.15156979858875275\u001b[0m, \u001b[1;36m0.4935136139392853\u001b[0m, \u001b[1;36m0.0\u001b[0m\u001b[33m...\u001b[0m  Scholastic Inc.   \n",
       "\u001b[1;36m1\u001b[0m      \u001b[1m[\u001b[0m\u001b[1;36m-0.22418256103992462\u001b[0m, \u001b[1;36m0.20987719297409058\u001b[0m, \u001b[1;36m0\u001b[0m\u001b[33m...\u001b[0m.  Scholastic Inc.   \n",
       "\u001b[1;36m2\u001b[0m      \u001b[1m[\u001b[0m\u001b[1;36m-0.054178591817617416\u001b[0m, \u001b[1;36m0.22646689414978027\u001b[0m, -\u001b[33m...\u001b[0m       Scholastic   \n",
       "\u001b[1;36m3\u001b[0m      \u001b[1m[\u001b[0m\u001b[1;36m-0.2782197892665863\u001b[0m, \u001b[1;36m0.261374831199646\u001b[0m, \u001b[1;36m-0.12\u001b[0m\u001b[33m...\u001b[0m  Scholastic Inc.   \n",
       "\u001b[1;36m4\u001b[0m      \u001b[1m[\u001b[0m\u001b[1;36m-0.16637001931667328\u001b[0m, \u001b[1;36m0.2694065272808075\u001b[0m, \u001b[1;36m-0\u001b[0m\u001b[33m...\u001b[0m.       Scholastic   \n",
       "\u001b[33m...\u001b[0m                                                  \u001b[33m...\u001b[0m              \u001b[33m...\u001b[0m   \n",
       "\u001b[1;36m11118\u001b[0m  \u001b[1m[\u001b[0m\u001b[1;36m-0.13434666395187378\u001b[0m, \u001b[1;36m0.08153267949819565\u001b[0m, \u001b[1;36m0\u001b[0m\u001b[33m...\u001b[0m.    Da Capo Press   \n",
       "\u001b[1;36m11119\u001b[0m  \u001b[1m[\u001b[0m\u001b[1;36m0.32915258407592773\u001b[0m, \u001b[1;36m0.15614797174930573\u001b[0m, \u001b[1;36m0.0\u001b[0m\u001b[33m...\u001b[0m    Penguin Books   \n",
       "\u001b[1;36m11120\u001b[0m  \u001b[1m[\u001b[0m\u001b[1;36m-0.02630615048110485\u001b[0m, \u001b[1;36m0.1311979591846466\u001b[0m, \u001b[1;36m-0\u001b[0m\u001b[33m...\u001b[0m.    Penguin Books   \n",
       "\u001b[1;36m11121\u001b[0m  \u001b[1m[\u001b[0m\u001b[1;36m-0.10792334377765656\u001b[0m, \u001b[1;36m0.27181512117385864\u001b[0m, \u001b[1;36m-0\u001b[0m\u001b[33m...\u001b[0m             Ecco   \n",
       "\u001b[1;36m11122\u001b[0m  \u001b[1m[\u001b[0m\u001b[1;36m0.0736294761300087\u001b[0m, \u001b[1;36m-0.2517438232898712\u001b[0m, \u001b[1;36m-0.2\u001b[0m\u001b[33m...\u001b[0m    Edimat Libros   \n",
       "\n",
       "        price  \n",
       "\u001b[1;36m0\u001b[0m      \u001b[1;36m12.990\u001b[0m  \n",
       "\u001b[1;36m1\u001b[0m      \u001b[1;36m99.990\u001b[0m  \n",
       "\u001b[1;36m2\u001b[0m      \u001b[1;36m24.950\u001b[0m  \n",
       "\u001b[1;36m3\u001b[0m       \u001b[1;36m7.990\u001b[0m  \n",
       "\u001b[1;36m4\u001b[0m      \u001b[1;36m40.950\u001b[0m  \n",
       "\u001b[33m...\u001b[0m       \u001b[33m...\u001b[0m  \n",
       "\u001b[1;36m11118\u001b[0m  \u001b[1;36m22.990\u001b[0m  \n",
       "\u001b[1;36m11119\u001b[0m  \u001b[1;36m25.000\u001b[0m  \n",
       "\u001b[1;36m11120\u001b[0m  \u001b[1;36m24.000\u001b[0m  \n",
       "\u001b[1;36m11121\u001b[0m  \u001b[1;36m29.950\u001b[0m  \n",
       "\u001b[1;36m11122\u001b[0m   \u001b[1;36m5.305\u001b[0m  \n",
       "\n",
       "\u001b[1m[\u001b[0m\u001b[1;36m11123\u001b[0m rows x \u001b[1;36m8\u001b[0m columns\u001b[1m]\u001b[0m"
      ]
     },
     "execution_count": 130,
     "metadata": {},
     "output_type": "execute_result"
    }
   ],
   "source": [
    "fhdf"
   ]
  },
  {
   "cell_type": "markdown",
   "metadata": {},
   "source": [
    "# CORR COEF BETWEEN FEATURES"
   ]
  },
  {
   "cell_type": "code",
   "execution_count": 133,
   "metadata": {},
   "outputs": [],
   "source": [
    "\"\"\"\n",
    "Flattening the embedding to be able to work with them from now on!\n",
    "\"\"\"\n",
    "fhdf['authors_embedding'] = [np.array(embedding).flatten() for embedding in fhdf['authors_embedding']]"
   ]
  },
  {
   "cell_type": "code",
   "execution_count": 134,
   "metadata": {},
   "outputs": [
    {
     "data": {
      "text/html": [
       "<pre style=\"white-space:pre;overflow-x:auto;line-height:normal;font-family:Menlo,'DejaVu Sans Mono',consolas,'Courier New',monospace\"></pre>\n"
      ],
      "text/plain": []
     },
     "metadata": {},
     "output_type": "display_data"
    },
    {
     "data": {
      "text/html": [
       "<div>\n",
       "<style scoped>\n",
       "    .dataframe tbody tr th:only-of-type {\n",
       "        vertical-align: middle;\n",
       "    }\n",
       "\n",
       "    .dataframe tbody tr th {\n",
       "        vertical-align: top;\n",
       "    }\n",
       "\n",
       "    .dataframe thead th {\n",
       "        text-align: right;\n",
       "    }\n",
       "</style>\n",
       "<table border=\"1\" class=\"dataframe\">\n",
       "  <thead>\n",
       "    <tr style=\"text-align: right;\">\n",
       "      <th></th>\n",
       "      <th>authors</th>\n",
       "      <th>average_rating</th>\n",
       "      <th>authors_embedding</th>\n",
       "      <th>title</th>\n",
       "      <th>isbn13</th>\n",
       "      <th>title_embedding</th>\n",
       "      <th>publisher</th>\n",
       "      <th>price</th>\n",
       "    </tr>\n",
       "  </thead>\n",
       "  <tbody>\n",
       "    <tr>\n",
       "      <th>0</th>\n",
       "      <td>J.K. Rowling/Mary GrandPré</td>\n",
       "      <td>4.57</td>\n",
       "      <td>[-0.30315670371055603, 0.11502666771411896, -0...</td>\n",
       "      <td>Harry Potter and the Half-Blood Prince (Harry ...</td>\n",
       "      <td>9780439785969</td>\n",
       "      <td>[-0.15156979858875275, 0.4935136139392853, 0.0...</td>\n",
       "      <td>Scholastic Inc.</td>\n",
       "      <td>12.990</td>\n",
       "    </tr>\n",
       "    <tr>\n",
       "      <th>1</th>\n",
       "      <td>J.K. Rowling/Mary GrandPré</td>\n",
       "      <td>4.49</td>\n",
       "      <td>[-0.30315670371055603, 0.11502666771411896, -0...</td>\n",
       "      <td>Harry Potter and the Order of the Phoenix (Har...</td>\n",
       "      <td>9780439358071</td>\n",
       "      <td>[-0.22418256103992462, 0.20987719297409058, 0....</td>\n",
       "      <td>Scholastic Inc.</td>\n",
       "      <td>99.990</td>\n",
       "    </tr>\n",
       "    <tr>\n",
       "      <th>2</th>\n",
       "      <td>J.K. Rowling/Mary GrandPré</td>\n",
       "      <td>4.42</td>\n",
       "      <td>[-0.22978533804416656, 0.1457509994506836, -0....</td>\n",
       "      <td>Harry Potter and the Chamber of Secrets (Harry...</td>\n",
       "      <td>9780439554893</td>\n",
       "      <td>[-0.054178591817617416, 0.22646689414978027, -...</td>\n",
       "      <td>Scholastic</td>\n",
       "      <td>24.950</td>\n",
       "    </tr>\n",
       "    <tr>\n",
       "      <th>3</th>\n",
       "      <td>J.K. Rowling/Mary GrandPré</td>\n",
       "      <td>4.56</td>\n",
       "      <td>[-0.30315670371055603, 0.11502666771411896, -0...</td>\n",
       "      <td>Harry Potter and the Prisoner of Azkaban (Harr...</td>\n",
       "      <td>9780439655484</td>\n",
       "      <td>[-0.2782197892665863, 0.261374831199646, -0.12...</td>\n",
       "      <td>Scholastic Inc.</td>\n",
       "      <td>7.990</td>\n",
       "    </tr>\n",
       "    <tr>\n",
       "      <th>4</th>\n",
       "      <td>J.K. Rowling/Mary GrandPré</td>\n",
       "      <td>4.78</td>\n",
       "      <td>[-0.30315670371055603, 0.11502666771411896, -0...</td>\n",
       "      <td>Harry Potter Boxed Set  Books 1-5 (Harry Potte...</td>\n",
       "      <td>9780439682589</td>\n",
       "      <td>[-0.16637001931667328, 0.2694065272808075, -0....</td>\n",
       "      <td>Scholastic</td>\n",
       "      <td>40.950</td>\n",
       "    </tr>\n",
       "    <tr>\n",
       "      <th>...</th>\n",
       "      <td>...</td>\n",
       "      <td>...</td>\n",
       "      <td>...</td>\n",
       "      <td>...</td>\n",
       "      <td>...</td>\n",
       "      <td>...</td>\n",
       "      <td>...</td>\n",
       "      <td>...</td>\n",
       "    </tr>\n",
       "    <tr>\n",
       "      <th>11118</th>\n",
       "      <td>John Milton/Merritt Y. Hughes/David Scott Kastan</td>\n",
       "      <td>4.06</td>\n",
       "      <td>[-0.403737336397171, 0.2087896317243576, -0.12...</td>\n",
       "      <td>Expelled from Eden: A William T. Vollmann Reader</td>\n",
       "      <td>9781560254416</td>\n",
       "      <td>[-0.13434666395187378, 0.08153267949819565, 0....</td>\n",
       "      <td>Da Capo Press</td>\n",
       "      <td>22.990</td>\n",
       "    </tr>\n",
       "    <tr>\n",
       "      <th>11119</th>\n",
       "      <td>Henry James/Gabriel Brownstein/Mary Cregan</td>\n",
       "      <td>4.08</td>\n",
       "      <td>[-0.5178908705711365, 0.5561336278915405, -0.0...</td>\n",
       "      <td>You Bright and Risen Angels</td>\n",
       "      <td>9780140110876</td>\n",
       "      <td>[0.32915258407592773, 0.15614797174930573, 0.0...</td>\n",
       "      <td>Penguin Books</td>\n",
       "      <td>25.000</td>\n",
       "    </tr>\n",
       "    <tr>\n",
       "      <th>11120</th>\n",
       "      <td>Henry James/Gabriel Brownstein/Mary Cregan</td>\n",
       "      <td>3.96</td>\n",
       "      <td>[-0.5178909301757812, 0.5561334490776062, -0.0...</td>\n",
       "      <td>The Ice-Shirt (Seven Dreams #1)</td>\n",
       "      <td>9780140131963</td>\n",
       "      <td>[-0.02630615048110485, 0.1311979591846466, -0....</td>\n",
       "      <td>Penguin Books</td>\n",
       "      <td>24.000</td>\n",
       "    </tr>\n",
       "    <tr>\n",
       "      <th>11121</th>\n",
       "      <td>Henry James/Gabriel Brownstein/Mary Cregan</td>\n",
       "      <td>3.72</td>\n",
       "      <td>[-0.5178908705711365, 0.5561336278915405, -0.0...</td>\n",
       "      <td>Poor People</td>\n",
       "      <td>9780060878825</td>\n",
       "      <td>[-0.10792334377765656, 0.27181512117385864, -0...</td>\n",
       "      <td>Ecco</td>\n",
       "      <td>29.950</td>\n",
       "    </tr>\n",
       "    <tr>\n",
       "      <th>11122</th>\n",
       "      <td>Mark Twain/Michael Prichard</td>\n",
       "      <td>3.91</td>\n",
       "      <td>[0.33673834800720215, 0.24192380905151367, 0.0...</td>\n",
       "      <td>Las aventuras de Tom Sawyer</td>\n",
       "      <td>9788497646987</td>\n",
       "      <td>[0.0736294761300087, -0.2517438232898712, -0.2...</td>\n",
       "      <td>Edimat Libros</td>\n",
       "      <td>5.305</td>\n",
       "    </tr>\n",
       "  </tbody>\n",
       "</table>\n",
       "<p>11123 rows × 8 columns</p>\n",
       "</div>"
      ],
      "text/plain": [
       "\n",
       "                                                authors  average_rating  \\\n",
       "\u001b[1;36m0\u001b[0m                            J.K. Rowling/Mary GrandPré            \u001b[1;36m4.57\u001b[0m   \n",
       "\u001b[1;36m1\u001b[0m                            J.K. Rowling/Mary GrandPré            \u001b[1;36m4.49\u001b[0m   \n",
       "\u001b[1;36m2\u001b[0m                            J.K. Rowling/Mary GrandPré            \u001b[1;36m4.42\u001b[0m   \n",
       "\u001b[1;36m3\u001b[0m                            J.K. Rowling/Mary GrandPré            \u001b[1;36m4.56\u001b[0m   \n",
       "\u001b[1;36m4\u001b[0m                            J.K. Rowling/Mary GrandPré            \u001b[1;36m4.78\u001b[0m   \n",
       "\u001b[33m...\u001b[0m                                                 \u001b[33m...\u001b[0m             \u001b[33m...\u001b[0m   \n",
       "\u001b[1;36m11118\u001b[0m  John Milton/Merritt Y. Hughes/David Scott Kastan            \u001b[1;36m4.06\u001b[0m   \n",
       "\u001b[1;36m11119\u001b[0m        Henry James/Gabriel Brownstein/Mary Cregan            \u001b[1;36m4.08\u001b[0m   \n",
       "\u001b[1;36m11120\u001b[0m        Henry James/Gabriel Brownstein/Mary Cregan            \u001b[1;36m3.96\u001b[0m   \n",
       "\u001b[1;36m11121\u001b[0m        Henry James/Gabriel Brownstein/Mary Cregan            \u001b[1;36m3.72\u001b[0m   \n",
       "\u001b[1;36m11122\u001b[0m                       Mark Twain/Michael Prichard            \u001b[1;36m3.91\u001b[0m   \n",
       "\n",
       "                                       authors_embedding  \\\n",
       "\u001b[1;36m0\u001b[0m      \u001b[1m[\u001b[0m\u001b[1;36m-0.30315670371055603\u001b[0m, \u001b[1;36m0.11502666771411896\u001b[0m, \u001b[1;36m-0\u001b[0m\u001b[33m...\u001b[0m   \n",
       "\u001b[1;36m1\u001b[0m      \u001b[1m[\u001b[0m\u001b[1;36m-0.30315670371055603\u001b[0m, \u001b[1;36m0.11502666771411896\u001b[0m, \u001b[1;36m-0\u001b[0m\u001b[33m...\u001b[0m   \n",
       "\u001b[1;36m2\u001b[0m      \u001b[1m[\u001b[0m\u001b[1;36m-0.22978533804416656\u001b[0m, \u001b[1;36m0.1457509994506836\u001b[0m, \u001b[1;36m-0\u001b[0m\u001b[33m...\u001b[0m.   \n",
       "\u001b[1;36m3\u001b[0m      \u001b[1m[\u001b[0m\u001b[1;36m-0.30315670371055603\u001b[0m, \u001b[1;36m0.11502666771411896\u001b[0m, \u001b[1;36m-0\u001b[0m\u001b[33m...\u001b[0m   \n",
       "\u001b[1;36m4\u001b[0m      \u001b[1m[\u001b[0m\u001b[1;36m-0.30315670371055603\u001b[0m, \u001b[1;36m0.11502666771411896\u001b[0m, \u001b[1;36m-0\u001b[0m\u001b[33m...\u001b[0m   \n",
       "\u001b[33m...\u001b[0m                                                  \u001b[33m...\u001b[0m   \n",
       "\u001b[1;36m11118\u001b[0m  \u001b[1m[\u001b[0m\u001b[1;36m-0.403737336397171\u001b[0m, \u001b[1;36m0.2087896317243576\u001b[0m, \u001b[1;36m-0.12\u001b[0m\u001b[33m...\u001b[0m   \n",
       "\u001b[1;36m11119\u001b[0m  \u001b[1m[\u001b[0m\u001b[1;36m-0.5178908705711365\u001b[0m, \u001b[1;36m0.5561336278915405\u001b[0m, \u001b[1;36m-0.0\u001b[0m\u001b[33m...\u001b[0m   \n",
       "\u001b[1;36m11120\u001b[0m  \u001b[1m[\u001b[0m\u001b[1;36m-0.5178909301757812\u001b[0m, \u001b[1;36m0.5561334490776062\u001b[0m, \u001b[1;36m-0.0\u001b[0m\u001b[33m...\u001b[0m   \n",
       "\u001b[1;36m11121\u001b[0m  \u001b[1m[\u001b[0m\u001b[1;36m-0.5178908705711365\u001b[0m, \u001b[1;36m0.5561336278915405\u001b[0m, \u001b[1;36m-0.0\u001b[0m\u001b[33m...\u001b[0m   \n",
       "\u001b[1;36m11122\u001b[0m  \u001b[1m[\u001b[0m\u001b[1;36m0.33673834800720215\u001b[0m, \u001b[1;36m0.24192380905151367\u001b[0m, \u001b[1;36m0.0\u001b[0m\u001b[33m...\u001b[0m   \n",
       "\n",
       "                                                   title         isbn13  \\\n",
       "\u001b[1;36m0\u001b[0m      Harry Potter and the Half-Blood Prince \u001b[1m(\u001b[0mHarry \u001b[33m...\u001b[0m  \u001b[1;36m9780439785969\u001b[0m   \n",
       "\u001b[1;36m1\u001b[0m      Harry Potter and the Order of the Phoenix \u001b[1m(\u001b[0mHar\u001b[33m...\u001b[0m  \u001b[1;36m9780439358071\u001b[0m   \n",
       "\u001b[1;36m2\u001b[0m      Harry Potter and the Chamber of Secrets \u001b[1m(\u001b[0mHarry\u001b[33m...\u001b[0m  \u001b[1;36m9780439554893\u001b[0m   \n",
       "\u001b[1;36m3\u001b[0m      Harry Potter and the Prisoner of Azkaban \u001b[1m(\u001b[0mHarr\u001b[33m...\u001b[0m  \u001b[1;36m9780439655484\u001b[0m   \n",
       "\u001b[1;36m4\u001b[0m      Harry Potter Boxed Set  Books \u001b[1;36m1\u001b[0m-\u001b[1;36m5\u001b[0m \u001b[1m(\u001b[0mHarry Potte\u001b[33m...\u001b[0m  \u001b[1;36m9780439682589\u001b[0m   \n",
       "\u001b[33m...\u001b[0m                                                  \u001b[33m...\u001b[0m            \u001b[33m...\u001b[0m   \n",
       "\u001b[1;36m11118\u001b[0m   Expelled from Eden: A William T. Vollmann Reader  \u001b[1;36m9781560254416\u001b[0m   \n",
       "\u001b[1;36m11119\u001b[0m                        You Bright and Risen Angels  \u001b[1;36m9780140110876\u001b[0m   \n",
       "\u001b[1;36m11120\u001b[0m                    The Ice-Shirt \u001b[1m(\u001b[0mSeven Dreams #\u001b[1;36m1\u001b[0m\u001b[1m)\u001b[0m  \u001b[1;36m9780140131963\u001b[0m   \n",
       "\u001b[1;36m11121\u001b[0m                                        Poor People  \u001b[1;36m9780060878825\u001b[0m   \n",
       "\u001b[1;36m11122\u001b[0m                        Las aventuras de Tom Sawyer  \u001b[1;36m9788497646987\u001b[0m   \n",
       "\n",
       "                                         title_embedding        publisher  \\\n",
       "\u001b[1;36m0\u001b[0m      \u001b[1m[\u001b[0m\u001b[1;36m-0.15156979858875275\u001b[0m, \u001b[1;36m0.4935136139392853\u001b[0m, \u001b[1;36m0.0\u001b[0m\u001b[33m...\u001b[0m  Scholastic Inc.   \n",
       "\u001b[1;36m1\u001b[0m      \u001b[1m[\u001b[0m\u001b[1;36m-0.22418256103992462\u001b[0m, \u001b[1;36m0.20987719297409058\u001b[0m, \u001b[1;36m0\u001b[0m\u001b[33m...\u001b[0m.  Scholastic Inc.   \n",
       "\u001b[1;36m2\u001b[0m      \u001b[1m[\u001b[0m\u001b[1;36m-0.054178591817617416\u001b[0m, \u001b[1;36m0.22646689414978027\u001b[0m, -\u001b[33m...\u001b[0m       Scholastic   \n",
       "\u001b[1;36m3\u001b[0m      \u001b[1m[\u001b[0m\u001b[1;36m-0.2782197892665863\u001b[0m, \u001b[1;36m0.261374831199646\u001b[0m, \u001b[1;36m-0.12\u001b[0m\u001b[33m...\u001b[0m  Scholastic Inc.   \n",
       "\u001b[1;36m4\u001b[0m      \u001b[1m[\u001b[0m\u001b[1;36m-0.16637001931667328\u001b[0m, \u001b[1;36m0.2694065272808075\u001b[0m, \u001b[1;36m-0\u001b[0m\u001b[33m...\u001b[0m.       Scholastic   \n",
       "\u001b[33m...\u001b[0m                                                  \u001b[33m...\u001b[0m              \u001b[33m...\u001b[0m   \n",
       "\u001b[1;36m11118\u001b[0m  \u001b[1m[\u001b[0m\u001b[1;36m-0.13434666395187378\u001b[0m, \u001b[1;36m0.08153267949819565\u001b[0m, \u001b[1;36m0\u001b[0m\u001b[33m...\u001b[0m.    Da Capo Press   \n",
       "\u001b[1;36m11119\u001b[0m  \u001b[1m[\u001b[0m\u001b[1;36m0.32915258407592773\u001b[0m, \u001b[1;36m0.15614797174930573\u001b[0m, \u001b[1;36m0.0\u001b[0m\u001b[33m...\u001b[0m    Penguin Books   \n",
       "\u001b[1;36m11120\u001b[0m  \u001b[1m[\u001b[0m\u001b[1;36m-0.02630615048110485\u001b[0m, \u001b[1;36m0.1311979591846466\u001b[0m, \u001b[1;36m-0\u001b[0m\u001b[33m...\u001b[0m.    Penguin Books   \n",
       "\u001b[1;36m11121\u001b[0m  \u001b[1m[\u001b[0m\u001b[1;36m-0.10792334377765656\u001b[0m, \u001b[1;36m0.27181512117385864\u001b[0m, \u001b[1;36m-0\u001b[0m\u001b[33m...\u001b[0m             Ecco   \n",
       "\u001b[1;36m11122\u001b[0m  \u001b[1m[\u001b[0m\u001b[1;36m0.0736294761300087\u001b[0m, \u001b[1;36m-0.2517438232898712\u001b[0m, \u001b[1;36m-0.2\u001b[0m\u001b[33m...\u001b[0m    Edimat Libros   \n",
       "\n",
       "        price  \n",
       "\u001b[1;36m0\u001b[0m      \u001b[1;36m12.990\u001b[0m  \n",
       "\u001b[1;36m1\u001b[0m      \u001b[1;36m99.990\u001b[0m  \n",
       "\u001b[1;36m2\u001b[0m      \u001b[1;36m24.950\u001b[0m  \n",
       "\u001b[1;36m3\u001b[0m       \u001b[1;36m7.990\u001b[0m  \n",
       "\u001b[1;36m4\u001b[0m      \u001b[1;36m40.950\u001b[0m  \n",
       "\u001b[33m...\u001b[0m       \u001b[33m...\u001b[0m  \n",
       "\u001b[1;36m11118\u001b[0m  \u001b[1;36m22.990\u001b[0m  \n",
       "\u001b[1;36m11119\u001b[0m  \u001b[1;36m25.000\u001b[0m  \n",
       "\u001b[1;36m11120\u001b[0m  \u001b[1;36m24.000\u001b[0m  \n",
       "\u001b[1;36m11121\u001b[0m  \u001b[1;36m29.950\u001b[0m  \n",
       "\u001b[1;36m11122\u001b[0m   \u001b[1;36m5.305\u001b[0m  \n",
       "\n",
       "\u001b[1m[\u001b[0m\u001b[1;36m11123\u001b[0m rows x \u001b[1;36m8\u001b[0m columns\u001b[1m]\u001b[0m"
      ]
     },
     "execution_count": 134,
     "metadata": {},
     "output_type": "execute_result"
    }
   ],
   "source": [
    "fhdf"
   ]
  },
  {
   "cell_type": "markdown",
   "metadata": {},
   "source": [
    "-> To correlate things together we should turn the embedding into a scalar"
   ]
  },
  {
   "cell_type": "code",
   "execution_count": 135,
   "metadata": {},
   "outputs": [],
   "source": [
    "fhdf['mean_author_embedding'] = fhdf['authors_embedding'].apply(np.mean)\n",
    "fhdf['mean_title_embedding'] = fhdf['title_embedding'].apply(np.mean)"
   ]
  },
  {
   "cell_type": "code",
   "execution_count": 136,
   "metadata": {},
   "outputs": [
    {
     "data": {
      "text/html": [
       "<pre style=\"white-space:pre;overflow-x:auto;line-height:normal;font-family:Menlo,'DejaVu Sans Mono',consolas,'Courier New',monospace\"></pre>\n"
      ],
      "text/plain": []
     },
     "metadata": {},
     "output_type": "display_data"
    },
    {
     "data": {
      "text/plain": [
       "\u001b[1;36m-0.05092749661907622\u001b[0m"
      ]
     },
     "execution_count": 136,
     "metadata": {},
     "output_type": "execute_result"
    }
   ],
   "source": [
    "fhdf['mean_author_embedding'].corr(fhdf['average_rating'])"
   ]
  },
  {
   "cell_type": "markdown",
   "metadata": {},
   "source": [
    "# DATA PREP FOR MODELING"
   ]
  },
  {
   "cell_type": "code",
   "execution_count": 287,
   "metadata": {},
   "outputs": [],
   "source": [
    "encoded_df = fhdf[[\"mean_author_embedding\",\"authors_embedding\", \"price\", 'publisher']]"
   ]
  },
  {
   "cell_type": "code",
   "execution_count": 288,
   "metadata": {},
   "outputs": [
    {
     "data": {
      "text/html": [
       "<pre style=\"white-space:pre;overflow-x:auto;line-height:normal;font-family:Menlo,'DejaVu Sans Mono',consolas,'Courier New',monospace\"></pre>\n"
      ],
      "text/plain": []
     },
     "metadata": {},
     "output_type": "display_data"
    },
    {
     "data": {
      "text/html": [
       "<div>\n",
       "<style scoped>\n",
       "    .dataframe tbody tr th:only-of-type {\n",
       "        vertical-align: middle;\n",
       "    }\n",
       "\n",
       "    .dataframe tbody tr th {\n",
       "        vertical-align: top;\n",
       "    }\n",
       "\n",
       "    .dataframe thead th {\n",
       "        text-align: right;\n",
       "    }\n",
       "</style>\n",
       "<table border=\"1\" class=\"dataframe\">\n",
       "  <thead>\n",
       "    <tr style=\"text-align: right;\">\n",
       "      <th></th>\n",
       "      <th>mean_author_embedding</th>\n",
       "      <th>authors_embedding</th>\n",
       "      <th>price</th>\n",
       "      <th>publisher</th>\n",
       "    </tr>\n",
       "  </thead>\n",
       "  <tbody>\n",
       "    <tr>\n",
       "      <th>0</th>\n",
       "      <td>-0.001366</td>\n",
       "      <td>[-0.30315670371055603, 0.11502666771411896, -0...</td>\n",
       "      <td>12.990</td>\n",
       "      <td>Scholastic Inc.</td>\n",
       "    </tr>\n",
       "    <tr>\n",
       "      <th>1</th>\n",
       "      <td>-0.001366</td>\n",
       "      <td>[-0.30315670371055603, 0.11502666771411896, -0...</td>\n",
       "      <td>99.990</td>\n",
       "      <td>Scholastic Inc.</td>\n",
       "    </tr>\n",
       "    <tr>\n",
       "      <th>2</th>\n",
       "      <td>-0.000989</td>\n",
       "      <td>[-0.22978533804416656, 0.1457509994506836, -0....</td>\n",
       "      <td>24.950</td>\n",
       "      <td>Scholastic</td>\n",
       "    </tr>\n",
       "    <tr>\n",
       "      <th>3</th>\n",
       "      <td>-0.001366</td>\n",
       "      <td>[-0.30315670371055603, 0.11502666771411896, -0...</td>\n",
       "      <td>7.990</td>\n",
       "      <td>Scholastic Inc.</td>\n",
       "    </tr>\n",
       "    <tr>\n",
       "      <th>4</th>\n",
       "      <td>-0.001366</td>\n",
       "      <td>[-0.30315670371055603, 0.11502666771411896, -0...</td>\n",
       "      <td>40.950</td>\n",
       "      <td>Scholastic</td>\n",
       "    </tr>\n",
       "    <tr>\n",
       "      <th>...</th>\n",
       "      <td>...</td>\n",
       "      <td>...</td>\n",
       "      <td>...</td>\n",
       "      <td>...</td>\n",
       "    </tr>\n",
       "    <tr>\n",
       "      <th>11118</th>\n",
       "      <td>0.000349</td>\n",
       "      <td>[-0.403737336397171, 0.2087896317243576, -0.12...</td>\n",
       "      <td>22.990</td>\n",
       "      <td>Da Capo Press</td>\n",
       "    </tr>\n",
       "    <tr>\n",
       "      <th>11119</th>\n",
       "      <td>-0.000150</td>\n",
       "      <td>[-0.5178908705711365, 0.5561336278915405, -0.0...</td>\n",
       "      <td>25.000</td>\n",
       "      <td>Penguin Books</td>\n",
       "    </tr>\n",
       "    <tr>\n",
       "      <th>11120</th>\n",
       "      <td>-0.000150</td>\n",
       "      <td>[-0.5178909301757812, 0.5561334490776062, -0.0...</td>\n",
       "      <td>24.000</td>\n",
       "      <td>Penguin Books</td>\n",
       "    </tr>\n",
       "    <tr>\n",
       "      <th>11121</th>\n",
       "      <td>-0.000150</td>\n",
       "      <td>[-0.5178908705711365, 0.5561336278915405, -0.0...</td>\n",
       "      <td>29.950</td>\n",
       "      <td>Ecco</td>\n",
       "    </tr>\n",
       "    <tr>\n",
       "      <th>11122</th>\n",
       "      <td>-0.001303</td>\n",
       "      <td>[0.33673834800720215, 0.24192380905151367, 0.0...</td>\n",
       "      <td>5.305</td>\n",
       "      <td>Edimat Libros</td>\n",
       "    </tr>\n",
       "  </tbody>\n",
       "</table>\n",
       "<p>11123 rows × 4 columns</p>\n",
       "</div>"
      ],
      "text/plain": [
       "\n",
       "       mean_author_embedding  \\\n",
       "\u001b[1;36m0\u001b[0m                  \u001b[1;36m-0.001366\u001b[0m   \n",
       "\u001b[1;36m1\u001b[0m                  \u001b[1;36m-0.001366\u001b[0m   \n",
       "\u001b[1;36m2\u001b[0m                  \u001b[1;36m-0.000989\u001b[0m   \n",
       "\u001b[1;36m3\u001b[0m                  \u001b[1;36m-0.001366\u001b[0m   \n",
       "\u001b[1;36m4\u001b[0m                  \u001b[1;36m-0.001366\u001b[0m   \n",
       "\u001b[33m...\u001b[0m                      \u001b[33m...\u001b[0m   \n",
       "\u001b[1;36m11118\u001b[0m               \u001b[1;36m0.000349\u001b[0m   \n",
       "\u001b[1;36m11119\u001b[0m              \u001b[1;36m-0.000150\u001b[0m   \n",
       "\u001b[1;36m11120\u001b[0m              \u001b[1;36m-0.000150\u001b[0m   \n",
       "\u001b[1;36m11121\u001b[0m              \u001b[1;36m-0.000150\u001b[0m   \n",
       "\u001b[1;36m11122\u001b[0m              \u001b[1;36m-0.001303\u001b[0m   \n",
       "\n",
       "                                       authors_embedding   price  \\\n",
       "\u001b[1;36m0\u001b[0m      \u001b[1m[\u001b[0m\u001b[1;36m-0.30315670371055603\u001b[0m, \u001b[1;36m0.11502666771411896\u001b[0m, \u001b[1;36m-0\u001b[0m\u001b[33m...\u001b[0m  \u001b[1;36m12.990\u001b[0m   \n",
       "\u001b[1;36m1\u001b[0m      \u001b[1m[\u001b[0m\u001b[1;36m-0.30315670371055603\u001b[0m, \u001b[1;36m0.11502666771411896\u001b[0m, \u001b[1;36m-0\u001b[0m\u001b[33m...\u001b[0m  \u001b[1;36m99.990\u001b[0m   \n",
       "\u001b[1;36m2\u001b[0m      \u001b[1m[\u001b[0m\u001b[1;36m-0.22978533804416656\u001b[0m, \u001b[1;36m0.1457509994506836\u001b[0m, \u001b[1;36m-0\u001b[0m\u001b[33m...\u001b[0m.  \u001b[1;36m24.950\u001b[0m   \n",
       "\u001b[1;36m3\u001b[0m      \u001b[1m[\u001b[0m\u001b[1;36m-0.30315670371055603\u001b[0m, \u001b[1;36m0.11502666771411896\u001b[0m, \u001b[1;36m-0\u001b[0m\u001b[33m...\u001b[0m   \u001b[1;36m7.990\u001b[0m   \n",
       "\u001b[1;36m4\u001b[0m      \u001b[1m[\u001b[0m\u001b[1;36m-0.30315670371055603\u001b[0m, \u001b[1;36m0.11502666771411896\u001b[0m, \u001b[1;36m-0\u001b[0m\u001b[33m...\u001b[0m  \u001b[1;36m40.950\u001b[0m   \n",
       "\u001b[33m...\u001b[0m                                                  \u001b[33m...\u001b[0m     \u001b[33m...\u001b[0m   \n",
       "\u001b[1;36m11118\u001b[0m  \u001b[1m[\u001b[0m\u001b[1;36m-0.403737336397171\u001b[0m, \u001b[1;36m0.2087896317243576\u001b[0m, \u001b[1;36m-0.12\u001b[0m\u001b[33m...\u001b[0m  \u001b[1;36m22.990\u001b[0m   \n",
       "\u001b[1;36m11119\u001b[0m  \u001b[1m[\u001b[0m\u001b[1;36m-0.5178908705711365\u001b[0m, \u001b[1;36m0.5561336278915405\u001b[0m, \u001b[1;36m-0.0\u001b[0m\u001b[33m...\u001b[0m  \u001b[1;36m25.000\u001b[0m   \n",
       "\u001b[1;36m11120\u001b[0m  \u001b[1m[\u001b[0m\u001b[1;36m-0.5178909301757812\u001b[0m, \u001b[1;36m0.5561334490776062\u001b[0m, \u001b[1;36m-0.0\u001b[0m\u001b[33m...\u001b[0m  \u001b[1;36m24.000\u001b[0m   \n",
       "\u001b[1;36m11121\u001b[0m  \u001b[1m[\u001b[0m\u001b[1;36m-0.5178908705711365\u001b[0m, \u001b[1;36m0.5561336278915405\u001b[0m, \u001b[1;36m-0.0\u001b[0m\u001b[33m...\u001b[0m  \u001b[1;36m29.950\u001b[0m   \n",
       "\u001b[1;36m11122\u001b[0m  \u001b[1m[\u001b[0m\u001b[1;36m0.33673834800720215\u001b[0m, \u001b[1;36m0.24192380905151367\u001b[0m, \u001b[1;36m0.0\u001b[0m\u001b[33m...\u001b[0m   \u001b[1;36m5.305\u001b[0m   \n",
       "\n",
       "             publisher  \n",
       "\u001b[1;36m0\u001b[0m      Scholastic Inc.  \n",
       "\u001b[1;36m1\u001b[0m      Scholastic Inc.  \n",
       "\u001b[1;36m2\u001b[0m           Scholastic  \n",
       "\u001b[1;36m3\u001b[0m      Scholastic Inc.  \n",
       "\u001b[1;36m4\u001b[0m           Scholastic  \n",
       "\u001b[33m...\u001b[0m                \u001b[33m...\u001b[0m  \n",
       "\u001b[1;36m11118\u001b[0m    Da Capo Press  \n",
       "\u001b[1;36m11119\u001b[0m    Penguin Books  \n",
       "\u001b[1;36m11120\u001b[0m    Penguin Books  \n",
       "\u001b[1;36m11121\u001b[0m             Ecco  \n",
       "\u001b[1;36m11122\u001b[0m    Edimat Libros  \n",
       "\n",
       "\u001b[1m[\u001b[0m\u001b[1;36m11123\u001b[0m rows x \u001b[1;36m4\u001b[0m columns\u001b[1m]\u001b[0m"
      ]
     },
     "execution_count": 288,
     "metadata": {},
     "output_type": "execute_result"
    }
   ],
   "source": [
    "encoded_df"
   ]
  },
  {
   "cell_type": "code",
   "execution_count": 289,
   "metadata": {},
   "outputs": [],
   "source": [
    "\n",
    "#embeddings = np.array(encoded_df['authors_embedding'].tolist())\n",
    "#embeddings_df = pd.DataFrame(embeddings, columns=[f'emb_{i}' for i in range(embeddings.shape[1])])\n",
    "\n",
    "# Encodage One-Hot de la colonne 'publisher'\n",
    "publisher_df = pd.get_dummies(encoded_df, columns=['publisher'])\n",
    "publisher_df = publisher_df.drop(['authors_embedding', 'price', 'mean_author_embedding'], axis=1)\n",
    "\n",
    "# Combiner toutes les features\n",
    "features_df = pd.concat([encoded_df['mean_author_embedding'], encoded_df[['price']], publisher_df], axis=1)\n",
    "\n",
    "\n",
    "X = features_df\n",
    "y = fhdf['average_rating']\n"
   ]
  },
  {
   "cell_type": "code",
   "execution_count": 290,
   "metadata": {},
   "outputs": [],
   "source": [
    "X = features_df\n",
    "y = fhdf['average_rating']"
   ]
  },
  {
   "cell_type": "code",
   "execution_count": 291,
   "metadata": {},
   "outputs": [
    {
     "name": "stdout",
     "output_type": "stream",
     "text": [
      "Shape of X: (11123, 2292)\n",
      "Length of y: 11123\n"
     ]
    }
   ],
   "source": [
    "print(\"Shape of X:\", X.shape)\n",
    "print(\"Length of y:\", len(y))\n"
   ]
  },
  {
   "cell_type": "code",
   "execution_count": 292,
   "metadata": {},
   "outputs": [
    {
     "name": "stdout",
     "output_type": "stream",
     "text": [
      "Shape of X_cleaned: (11112, 2292)\n",
      "Shape of y_cleaned: (11112,)\n"
     ]
    }
   ],
   "source": [
    "# Convertir X et y en DataFrames\n",
    "X_df = pd.DataFrame(X)\n",
    "y_df = pd.DataFrame(y, columns=['average_rating'])\n",
    "\n",
    "# Identifier les lignes contenant des NaN dans X\n",
    "nan_indices = X_df[X_df.isna().any(axis=1)].index\n",
    "\n",
    "# Supprimer les lignes correspondantes de X et y\n",
    "X_df_cleaned = X_df.drop(nan_indices)\n",
    "y_df_cleaned = y_df.drop(nan_indices)\n",
    "\n",
    "# Assurez-vous que les indices sont maintenant alignés\n",
    "X_cleaned = X_df_cleaned.values\n",
    "y_cleaned = y_df_cleaned.values.ravel()\n",
    "\n",
    "# Vérifier les formes après nettoyage\n",
    "print(\"Shape of X_cleaned:\", X_cleaned.shape)\n",
    "print(\"Shape of y_cleaned:\", y_cleaned.shape)"
   ]
  },
  {
   "cell_type": "markdown",
   "metadata": {},
   "source": [
    "# MODELING"
   ]
  },
  {
   "cell_type": "code",
   "execution_count": 278,
   "metadata": {},
   "outputs": [],
   "source": [
    "import sklearn\n",
    "from sklearn.model_selection import train_test_split"
   ]
  },
  {
   "cell_type": "code",
   "execution_count": 293,
   "metadata": {},
   "outputs": [],
   "source": [
    "X_train, X_test, y_train, y_test = train_test_split(X_cleaned , y_cleaned , test_size=0.25)"
   ]
  },
  {
   "cell_type": "code",
   "execution_count": 294,
   "metadata": {},
   "outputs": [],
   "source": [
    "from sklearn.neighbors import KNeighborsRegressor"
   ]
  },
  {
   "cell_type": "code",
   "execution_count": 295,
   "metadata": {},
   "outputs": [],
   "source": [
    "reg = KNeighborsRegressor()"
   ]
  },
  {
   "cell_type": "code",
   "execution_count": 296,
   "metadata": {},
   "outputs": [],
   "source": [
    "model = reg.fit(X_train, y_train)"
   ]
  },
  {
   "cell_type": "code",
   "execution_count": 297,
   "metadata": {},
   "outputs": [
    {
     "data": {
      "text/html": [
       "<style>#sk-container-id-6 {\n",
       "  /* Definition of color scheme common for light and dark mode */\n",
       "  --sklearn-color-text: black;\n",
       "  --sklearn-color-line: gray;\n",
       "  /* Definition of color scheme for unfitted estimators */\n",
       "  --sklearn-color-unfitted-level-0: #fff5e6;\n",
       "  --sklearn-color-unfitted-level-1: #f6e4d2;\n",
       "  --sklearn-color-unfitted-level-2: #ffe0b3;\n",
       "  --sklearn-color-unfitted-level-3: chocolate;\n",
       "  /* Definition of color scheme for fitted estimators */\n",
       "  --sklearn-color-fitted-level-0: #f0f8ff;\n",
       "  --sklearn-color-fitted-level-1: #d4ebff;\n",
       "  --sklearn-color-fitted-level-2: #b3dbfd;\n",
       "  --sklearn-color-fitted-level-3: cornflowerblue;\n",
       "\n",
       "  /* Specific color for light theme */\n",
       "  --sklearn-color-text-on-default-background: var(--sg-text-color, var(--theme-code-foreground, var(--jp-content-font-color1, black)));\n",
       "  --sklearn-color-background: var(--sg-background-color, var(--theme-background, var(--jp-layout-color0, white)));\n",
       "  --sklearn-color-border-box: var(--sg-text-color, var(--theme-code-foreground, var(--jp-content-font-color1, black)));\n",
       "  --sklearn-color-icon: #696969;\n",
       "\n",
       "  @media (prefers-color-scheme: dark) {\n",
       "    /* Redefinition of color scheme for dark theme */\n",
       "    --sklearn-color-text-on-default-background: var(--sg-text-color, var(--theme-code-foreground, var(--jp-content-font-color1, white)));\n",
       "    --sklearn-color-background: var(--sg-background-color, var(--theme-background, var(--jp-layout-color0, #111)));\n",
       "    --sklearn-color-border-box: var(--sg-text-color, var(--theme-code-foreground, var(--jp-content-font-color1, white)));\n",
       "    --sklearn-color-icon: #878787;\n",
       "  }\n",
       "}\n",
       "\n",
       "#sk-container-id-6 {\n",
       "  color: var(--sklearn-color-text);\n",
       "}\n",
       "\n",
       "#sk-container-id-6 pre {\n",
       "  padding: 0;\n",
       "}\n",
       "\n",
       "#sk-container-id-6 input.sk-hidden--visually {\n",
       "  border: 0;\n",
       "  clip: rect(1px 1px 1px 1px);\n",
       "  clip: rect(1px, 1px, 1px, 1px);\n",
       "  height: 1px;\n",
       "  margin: -1px;\n",
       "  overflow: hidden;\n",
       "  padding: 0;\n",
       "  position: absolute;\n",
       "  width: 1px;\n",
       "}\n",
       "\n",
       "#sk-container-id-6 div.sk-dashed-wrapped {\n",
       "  border: 1px dashed var(--sklearn-color-line);\n",
       "  margin: 0 0.4em 0.5em 0.4em;\n",
       "  box-sizing: border-box;\n",
       "  padding-bottom: 0.4em;\n",
       "  background-color: var(--sklearn-color-background);\n",
       "}\n",
       "\n",
       "#sk-container-id-6 div.sk-container {\n",
       "  /* jupyter's `normalize.less` sets `[hidden] { display: none; }`\n",
       "     but bootstrap.min.css set `[hidden] { display: none !important; }`\n",
       "     so we also need the `!important` here to be able to override the\n",
       "     default hidden behavior on the sphinx rendered scikit-learn.org.\n",
       "     See: https://github.com/scikit-learn/scikit-learn/issues/21755 */\n",
       "  display: inline-block !important;\n",
       "  position: relative;\n",
       "}\n",
       "\n",
       "#sk-container-id-6 div.sk-text-repr-fallback {\n",
       "  display: none;\n",
       "}\n",
       "\n",
       "div.sk-parallel-item,\n",
       "div.sk-serial,\n",
       "div.sk-item {\n",
       "  /* draw centered vertical line to link estimators */\n",
       "  background-image: linear-gradient(var(--sklearn-color-text-on-default-background), var(--sklearn-color-text-on-default-background));\n",
       "  background-size: 2px 100%;\n",
       "  background-repeat: no-repeat;\n",
       "  background-position: center center;\n",
       "}\n",
       "\n",
       "/* Parallel-specific style estimator block */\n",
       "\n",
       "#sk-container-id-6 div.sk-parallel-item::after {\n",
       "  content: \"\";\n",
       "  width: 100%;\n",
       "  border-bottom: 2px solid var(--sklearn-color-text-on-default-background);\n",
       "  flex-grow: 1;\n",
       "}\n",
       "\n",
       "#sk-container-id-6 div.sk-parallel {\n",
       "  display: flex;\n",
       "  align-items: stretch;\n",
       "  justify-content: center;\n",
       "  background-color: var(--sklearn-color-background);\n",
       "  position: relative;\n",
       "}\n",
       "\n",
       "#sk-container-id-6 div.sk-parallel-item {\n",
       "  display: flex;\n",
       "  flex-direction: column;\n",
       "}\n",
       "\n",
       "#sk-container-id-6 div.sk-parallel-item:first-child::after {\n",
       "  align-self: flex-end;\n",
       "  width: 50%;\n",
       "}\n",
       "\n",
       "#sk-container-id-6 div.sk-parallel-item:last-child::after {\n",
       "  align-self: flex-start;\n",
       "  width: 50%;\n",
       "}\n",
       "\n",
       "#sk-container-id-6 div.sk-parallel-item:only-child::after {\n",
       "  width: 0;\n",
       "}\n",
       "\n",
       "/* Serial-specific style estimator block */\n",
       "\n",
       "#sk-container-id-6 div.sk-serial {\n",
       "  display: flex;\n",
       "  flex-direction: column;\n",
       "  align-items: center;\n",
       "  background-color: var(--sklearn-color-background);\n",
       "  padding-right: 1em;\n",
       "  padding-left: 1em;\n",
       "}\n",
       "\n",
       "\n",
       "/* Toggleable style: style used for estimator/Pipeline/ColumnTransformer box that is\n",
       "clickable and can be expanded/collapsed.\n",
       "- Pipeline and ColumnTransformer use this feature and define the default style\n",
       "- Estimators will overwrite some part of the style using the `sk-estimator` class\n",
       "*/\n",
       "\n",
       "/* Pipeline and ColumnTransformer style (default) */\n",
       "\n",
       "#sk-container-id-6 div.sk-toggleable {\n",
       "  /* Default theme specific background. It is overwritten whether we have a\n",
       "  specific estimator or a Pipeline/ColumnTransformer */\n",
       "  background-color: var(--sklearn-color-background);\n",
       "}\n",
       "\n",
       "/* Toggleable label */\n",
       "#sk-container-id-6 label.sk-toggleable__label {\n",
       "  cursor: pointer;\n",
       "  display: block;\n",
       "  width: 100%;\n",
       "  margin-bottom: 0;\n",
       "  padding: 0.5em;\n",
       "  box-sizing: border-box;\n",
       "  text-align: center;\n",
       "}\n",
       "\n",
       "#sk-container-id-6 label.sk-toggleable__label-arrow:before {\n",
       "  /* Arrow on the left of the label */\n",
       "  content: \"▸\";\n",
       "  float: left;\n",
       "  margin-right: 0.25em;\n",
       "  color: var(--sklearn-color-icon);\n",
       "}\n",
       "\n",
       "#sk-container-id-6 label.sk-toggleable__label-arrow:hover:before {\n",
       "  color: var(--sklearn-color-text);\n",
       "}\n",
       "\n",
       "/* Toggleable content - dropdown */\n",
       "\n",
       "#sk-container-id-6 div.sk-toggleable__content {\n",
       "  max-height: 0;\n",
       "  max-width: 0;\n",
       "  overflow: hidden;\n",
       "  text-align: left;\n",
       "  /* unfitted */\n",
       "  background-color: var(--sklearn-color-unfitted-level-0);\n",
       "}\n",
       "\n",
       "#sk-container-id-6 div.sk-toggleable__content.fitted {\n",
       "  /* fitted */\n",
       "  background-color: var(--sklearn-color-fitted-level-0);\n",
       "}\n",
       "\n",
       "#sk-container-id-6 div.sk-toggleable__content pre {\n",
       "  margin: 0.2em;\n",
       "  border-radius: 0.25em;\n",
       "  color: var(--sklearn-color-text);\n",
       "  /* unfitted */\n",
       "  background-color: var(--sklearn-color-unfitted-level-0);\n",
       "}\n",
       "\n",
       "#sk-container-id-6 div.sk-toggleable__content.fitted pre {\n",
       "  /* unfitted */\n",
       "  background-color: var(--sklearn-color-fitted-level-0);\n",
       "}\n",
       "\n",
       "#sk-container-id-6 input.sk-toggleable__control:checked~div.sk-toggleable__content {\n",
       "  /* Expand drop-down */\n",
       "  max-height: 200px;\n",
       "  max-width: 100%;\n",
       "  overflow: auto;\n",
       "}\n",
       "\n",
       "#sk-container-id-6 input.sk-toggleable__control:checked~label.sk-toggleable__label-arrow:before {\n",
       "  content: \"▾\";\n",
       "}\n",
       "\n",
       "/* Pipeline/ColumnTransformer-specific style */\n",
       "\n",
       "#sk-container-id-6 div.sk-label input.sk-toggleable__control:checked~label.sk-toggleable__label {\n",
       "  color: var(--sklearn-color-text);\n",
       "  background-color: var(--sklearn-color-unfitted-level-2);\n",
       "}\n",
       "\n",
       "#sk-container-id-6 div.sk-label.fitted input.sk-toggleable__control:checked~label.sk-toggleable__label {\n",
       "  background-color: var(--sklearn-color-fitted-level-2);\n",
       "}\n",
       "\n",
       "/* Estimator-specific style */\n",
       "\n",
       "/* Colorize estimator box */\n",
       "#sk-container-id-6 div.sk-estimator input.sk-toggleable__control:checked~label.sk-toggleable__label {\n",
       "  /* unfitted */\n",
       "  background-color: var(--sklearn-color-unfitted-level-2);\n",
       "}\n",
       "\n",
       "#sk-container-id-6 div.sk-estimator.fitted input.sk-toggleable__control:checked~label.sk-toggleable__label {\n",
       "  /* fitted */\n",
       "  background-color: var(--sklearn-color-fitted-level-2);\n",
       "}\n",
       "\n",
       "#sk-container-id-6 div.sk-label label.sk-toggleable__label,\n",
       "#sk-container-id-6 div.sk-label label {\n",
       "  /* The background is the default theme color */\n",
       "  color: var(--sklearn-color-text-on-default-background);\n",
       "}\n",
       "\n",
       "/* On hover, darken the color of the background */\n",
       "#sk-container-id-6 div.sk-label:hover label.sk-toggleable__label {\n",
       "  color: var(--sklearn-color-text);\n",
       "  background-color: var(--sklearn-color-unfitted-level-2);\n",
       "}\n",
       "\n",
       "/* Label box, darken color on hover, fitted */\n",
       "#sk-container-id-6 div.sk-label.fitted:hover label.sk-toggleable__label.fitted {\n",
       "  color: var(--sklearn-color-text);\n",
       "  background-color: var(--sklearn-color-fitted-level-2);\n",
       "}\n",
       "\n",
       "/* Estimator label */\n",
       "\n",
       "#sk-container-id-6 div.sk-label label {\n",
       "  font-family: monospace;\n",
       "  font-weight: bold;\n",
       "  display: inline-block;\n",
       "  line-height: 1.2em;\n",
       "}\n",
       "\n",
       "#sk-container-id-6 div.sk-label-container {\n",
       "  text-align: center;\n",
       "}\n",
       "\n",
       "/* Estimator-specific */\n",
       "#sk-container-id-6 div.sk-estimator {\n",
       "  font-family: monospace;\n",
       "  border: 1px dotted var(--sklearn-color-border-box);\n",
       "  border-radius: 0.25em;\n",
       "  box-sizing: border-box;\n",
       "  margin-bottom: 0.5em;\n",
       "  /* unfitted */\n",
       "  background-color: var(--sklearn-color-unfitted-level-0);\n",
       "}\n",
       "\n",
       "#sk-container-id-6 div.sk-estimator.fitted {\n",
       "  /* fitted */\n",
       "  background-color: var(--sklearn-color-fitted-level-0);\n",
       "}\n",
       "\n",
       "/* on hover */\n",
       "#sk-container-id-6 div.sk-estimator:hover {\n",
       "  /* unfitted */\n",
       "  background-color: var(--sklearn-color-unfitted-level-2);\n",
       "}\n",
       "\n",
       "#sk-container-id-6 div.sk-estimator.fitted:hover {\n",
       "  /* fitted */\n",
       "  background-color: var(--sklearn-color-fitted-level-2);\n",
       "}\n",
       "\n",
       "/* Specification for estimator info (e.g. \"i\" and \"?\") */\n",
       "\n",
       "/* Common style for \"i\" and \"?\" */\n",
       "\n",
       ".sk-estimator-doc-link,\n",
       "a:link.sk-estimator-doc-link,\n",
       "a:visited.sk-estimator-doc-link {\n",
       "  float: right;\n",
       "  font-size: smaller;\n",
       "  line-height: 1em;\n",
       "  font-family: monospace;\n",
       "  background-color: var(--sklearn-color-background);\n",
       "  border-radius: 1em;\n",
       "  height: 1em;\n",
       "  width: 1em;\n",
       "  text-decoration: none !important;\n",
       "  margin-left: 1ex;\n",
       "  /* unfitted */\n",
       "  border: var(--sklearn-color-unfitted-level-1) 1pt solid;\n",
       "  color: var(--sklearn-color-unfitted-level-1);\n",
       "}\n",
       "\n",
       ".sk-estimator-doc-link.fitted,\n",
       "a:link.sk-estimator-doc-link.fitted,\n",
       "a:visited.sk-estimator-doc-link.fitted {\n",
       "  /* fitted */\n",
       "  border: var(--sklearn-color-fitted-level-1) 1pt solid;\n",
       "  color: var(--sklearn-color-fitted-level-1);\n",
       "}\n",
       "\n",
       "/* On hover */\n",
       "div.sk-estimator:hover .sk-estimator-doc-link:hover,\n",
       ".sk-estimator-doc-link:hover,\n",
       "div.sk-label-container:hover .sk-estimator-doc-link:hover,\n",
       ".sk-estimator-doc-link:hover {\n",
       "  /* unfitted */\n",
       "  background-color: var(--sklearn-color-unfitted-level-3);\n",
       "  color: var(--sklearn-color-background);\n",
       "  text-decoration: none;\n",
       "}\n",
       "\n",
       "div.sk-estimator.fitted:hover .sk-estimator-doc-link.fitted:hover,\n",
       ".sk-estimator-doc-link.fitted:hover,\n",
       "div.sk-label-container:hover .sk-estimator-doc-link.fitted:hover,\n",
       ".sk-estimator-doc-link.fitted:hover {\n",
       "  /* fitted */\n",
       "  background-color: var(--sklearn-color-fitted-level-3);\n",
       "  color: var(--sklearn-color-background);\n",
       "  text-decoration: none;\n",
       "}\n",
       "\n",
       "/* Span, style for the box shown on hovering the info icon */\n",
       ".sk-estimator-doc-link span {\n",
       "  display: none;\n",
       "  z-index: 9999;\n",
       "  position: relative;\n",
       "  font-weight: normal;\n",
       "  right: .2ex;\n",
       "  padding: .5ex;\n",
       "  margin: .5ex;\n",
       "  width: min-content;\n",
       "  min-width: 20ex;\n",
       "  max-width: 50ex;\n",
       "  color: var(--sklearn-color-text);\n",
       "  box-shadow: 2pt 2pt 4pt #999;\n",
       "  /* unfitted */\n",
       "  background: var(--sklearn-color-unfitted-level-0);\n",
       "  border: .5pt solid var(--sklearn-color-unfitted-level-3);\n",
       "}\n",
       "\n",
       ".sk-estimator-doc-link.fitted span {\n",
       "  /* fitted */\n",
       "  background: var(--sklearn-color-fitted-level-0);\n",
       "  border: var(--sklearn-color-fitted-level-3);\n",
       "}\n",
       "\n",
       ".sk-estimator-doc-link:hover span {\n",
       "  display: block;\n",
       "}\n",
       "\n",
       "/* \"?\"-specific style due to the `<a>` HTML tag */\n",
       "\n",
       "#sk-container-id-6 a.estimator_doc_link {\n",
       "  float: right;\n",
       "  font-size: 1rem;\n",
       "  line-height: 1em;\n",
       "  font-family: monospace;\n",
       "  background-color: var(--sklearn-color-background);\n",
       "  border-radius: 1rem;\n",
       "  height: 1rem;\n",
       "  width: 1rem;\n",
       "  text-decoration: none;\n",
       "  /* unfitted */\n",
       "  color: var(--sklearn-color-unfitted-level-1);\n",
       "  border: var(--sklearn-color-unfitted-level-1) 1pt solid;\n",
       "}\n",
       "\n",
       "#sk-container-id-6 a.estimator_doc_link.fitted {\n",
       "  /* fitted */\n",
       "  border: var(--sklearn-color-fitted-level-1) 1pt solid;\n",
       "  color: var(--sklearn-color-fitted-level-1);\n",
       "}\n",
       "\n",
       "/* On hover */\n",
       "#sk-container-id-6 a.estimator_doc_link:hover {\n",
       "  /* unfitted */\n",
       "  background-color: var(--sklearn-color-unfitted-level-3);\n",
       "  color: var(--sklearn-color-background);\n",
       "  text-decoration: none;\n",
       "}\n",
       "\n",
       "#sk-container-id-6 a.estimator_doc_link.fitted:hover {\n",
       "  /* fitted */\n",
       "  background-color: var(--sklearn-color-fitted-level-3);\n",
       "}\n",
       "</style><div id=\"sk-container-id-6\" class=\"sk-top-container\"><div class=\"sk-text-repr-fallback\"><pre>KNeighborsRegressor()</pre><b>In a Jupyter environment, please rerun this cell to show the HTML representation or trust the notebook. <br />On GitHub, the HTML representation is unable to render, please try loading this page with nbviewer.org.</b></div><div class=\"sk-container\" hidden><div class=\"sk-item\"><div class=\"sk-estimator fitted sk-toggleable\"><input class=\"sk-toggleable__control sk-hidden--visually\" id=\"sk-estimator-id-6\" type=\"checkbox\" checked><label for=\"sk-estimator-id-6\" class=\"sk-toggleable__label fitted sk-toggleable__label-arrow fitted\">&nbsp;&nbsp;KNeighborsRegressor<a class=\"sk-estimator-doc-link fitted\" rel=\"noreferrer\" target=\"_blank\" href=\"https://scikit-learn.org/1.5/modules/generated/sklearn.neighbors.KNeighborsRegressor.html\">?<span>Documentation for KNeighborsRegressor</span></a><span class=\"sk-estimator-doc-link fitted\">i<span>Fitted</span></span></label><div class=\"sk-toggleable__content fitted\"><pre>KNeighborsRegressor()</pre></div> </div></div></div></div>"
      ],
      "text/plain": [
       "KNeighborsRegressor()"
      ]
     },
     "execution_count": 297,
     "metadata": {},
     "output_type": "execute_result"
    }
   ],
   "source": [
    "model"
   ]
  },
  {
   "cell_type": "code",
   "execution_count": 298,
   "metadata": {},
   "outputs": [],
   "source": [
    "y_pred = model.predict(X_test)"
   ]
  },
  {
   "cell_type": "markdown",
   "metadata": {},
   "source": [
    "# RESULTS (METRICS & COMMENTARIES)"
   ]
  },
  {
   "cell_type": "code",
   "execution_count": 299,
   "metadata": {},
   "outputs": [
    {
     "data": {
      "text/html": [
       "<pre style=\"white-space:pre;overflow-x:auto;line-height:normal;font-family:Menlo,'DejaVu Sans Mono',consolas,'Courier New',monospace\"></pre>\n"
      ],
      "text/plain": []
     },
     "metadata": {},
     "output_type": "display_data"
    },
    {
     "data": {
      "text/plain": [
       "\u001b[1m(\u001b[0m\u001b[1;36m1.1786912915166128\u001b[0m, \u001b[1;36m-0.09640319235479633\u001b[0m\u001b[1m)\u001b[0m"
      ]
     },
     "execution_count": 299,
     "metadata": {},
     "output_type": "execute_result"
    }
   ],
   "source": [
    "from sklearn.metrics import mean_squared_error, r2_score\n",
    "\n",
    "mean_squared_error(y_test, y_pred) , r2_score(y_test, y_pred)"
   ]
  },
  {
   "cell_type": "code",
   "execution_count": null,
   "metadata": {},
   "outputs": [],
   "source": []
  }
 ],
 "metadata": {
  "kernelspec": {
   "display_name": "goodread",
   "language": "python",
   "name": "python3"
  },
  "language_info": {
   "codemirror_mode": {
    "name": "ipython",
    "version": 3
   },
   "file_extension": ".py",
   "mimetype": "text/x-python",
   "name": "python",
   "nbconvert_exporter": "python",
   "pygments_lexer": "ipython3",
   "version": "3.10.0"
  }
 },
 "nbformat": 4,
 "nbformat_minor": 2
}
