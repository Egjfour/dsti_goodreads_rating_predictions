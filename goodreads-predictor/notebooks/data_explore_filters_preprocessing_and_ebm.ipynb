{
 "cells": [
  {
   "cell_type": "code",
   "execution_count": 2,
   "metadata": {},
   "outputs": [
    {
     "data": {
      "text/html": [
       "<pre style=\"white-space:pre;overflow-x:auto;line-height:normal;font-family:Menlo,'DejaVu Sans Mono',consolas,'Courier New',monospace\"><span style=\"color: #7fbfbf; text-decoration-color: #7fbfbf\">[08/01/24 22:11:55] </span><span style=\"color: #000080; text-decoration-color: #000080\">INFO    </span> Registered line magic <span style=\"color: #008000; text-decoration-color: #008000\">'%reload_kedro'</span>                                   <a href=\"file://c:\\Users\\benab\\AppData\\Local\\GitHubDesktop\\app-3.3.12\\dsti_goodreads_rating_predictions\\.venv\\Lib\\site-packages\\kedro\\ipython\\__init__.py\" target=\"_blank\"><span style=\"color: #7f7f7f; text-decoration-color: #7f7f7f\">__init__.py</span></a><span style=\"color: #7f7f7f; text-decoration-color: #7f7f7f\">:</span><a href=\"file://c:\\Users\\benab\\AppData\\Local\\GitHubDesktop\\app-3.3.12\\dsti_goodreads_rating_predictions\\.venv\\Lib\\site-packages\\kedro\\ipython\\__init__.py#58\" target=\"_blank\"><span style=\"color: #7f7f7f; text-decoration-color: #7f7f7f\">58</span></a>\n",
       "</pre>\n"
      ],
      "text/plain": [
       "\u001b[2;36m[08/01/24 22:11:55]\u001b[0m\u001b[2;36m \u001b[0m\u001b[34mINFO    \u001b[0m Registered line magic \u001b[32m'%reload_kedro'\u001b[0m                                   \u001b]8;id=110590;file://c:\\Users\\benab\\AppData\\Local\\GitHubDesktop\\app-3.3.12\\dsti_goodreads_rating_predictions\\.venv\\Lib\\site-packages\\kedro\\ipython\\__init__.py\u001b\\\u001b[2m__init__.py\u001b[0m\u001b]8;;\u001b\\\u001b[2m:\u001b[0m\u001b]8;id=398407;file://c:\\Users\\benab\\AppData\\Local\\GitHubDesktop\\app-3.3.12\\dsti_goodreads_rating_predictions\\.venv\\Lib\\site-packages\\kedro\\ipython\\__init__.py#58\u001b\\\u001b[2m58\u001b[0m\u001b]8;;\u001b\\\n"
      ]
     },
     "metadata": {},
     "output_type": "display_data"
    },
    {
     "data": {
      "text/html": [
       "<pre style=\"white-space:pre;overflow-x:auto;line-height:normal;font-family:Menlo,'DejaVu Sans Mono',consolas,'Courier New',monospace\"><span style=\"color: #7fbfbf; text-decoration-color: #7fbfbf\">                    </span><span style=\"color: #000080; text-decoration-color: #000080\">INFO    </span> Registered line magic <span style=\"color: #008000; text-decoration-color: #008000\">'%load_node'</span>                                      <a href=\"file://c:\\Users\\benab\\AppData\\Local\\GitHubDesktop\\app-3.3.12\\dsti_goodreads_rating_predictions\\.venv\\Lib\\site-packages\\kedro\\ipython\\__init__.py\" target=\"_blank\"><span style=\"color: #7f7f7f; text-decoration-color: #7f7f7f\">__init__.py</span></a><span style=\"color: #7f7f7f; text-decoration-color: #7f7f7f\">:</span><a href=\"file://c:\\Users\\benab\\AppData\\Local\\GitHubDesktop\\app-3.3.12\\dsti_goodreads_rating_predictions\\.venv\\Lib\\site-packages\\kedro\\ipython\\__init__.py#60\" target=\"_blank\"><span style=\"color: #7f7f7f; text-decoration-color: #7f7f7f\">60</span></a>\n",
       "</pre>\n"
      ],
      "text/plain": [
       "\u001b[2;36m                   \u001b[0m\u001b[2;36m \u001b[0m\u001b[34mINFO    \u001b[0m Registered line magic \u001b[32m'%load_node'\u001b[0m                                      \u001b]8;id=664694;file://c:\\Users\\benab\\AppData\\Local\\GitHubDesktop\\app-3.3.12\\dsti_goodreads_rating_predictions\\.venv\\Lib\\site-packages\\kedro\\ipython\\__init__.py\u001b\\\u001b[2m__init__.py\u001b[0m\u001b]8;;\u001b\\\u001b[2m:\u001b[0m\u001b]8;id=839457;file://c:\\Users\\benab\\AppData\\Local\\GitHubDesktop\\app-3.3.12\\dsti_goodreads_rating_predictions\\.venv\\Lib\\site-packages\\kedro\\ipython\\__init__.py#60\u001b\\\u001b[2m60\u001b[0m\u001b]8;;\u001b\\\n"
      ]
     },
     "metadata": {},
     "output_type": "display_data"
    },
    {
     "data": {
      "text/html": [
       "<pre style=\"white-space:pre;overflow-x:auto;line-height:normal;font-family:Menlo,'DejaVu Sans Mono',consolas,'Courier New',monospace\"><span style=\"color: #7fbfbf; text-decoration-color: #7fbfbf\">                    </span><span style=\"color: #000080; text-decoration-color: #000080\">INFO    </span> Resolved project path as:                                              <a href=\"file://c:\\Users\\benab\\AppData\\Local\\GitHubDesktop\\app-3.3.12\\dsti_goodreads_rating_predictions\\.venv\\Lib\\site-packages\\kedro\\ipython\\__init__.py\" target=\"_blank\"><span style=\"color: #7f7f7f; text-decoration-color: #7f7f7f\">__init__.py</span></a><span style=\"color: #7f7f7f; text-decoration-color: #7f7f7f\">:</span><a href=\"file://c:\\Users\\benab\\AppData\\Local\\GitHubDesktop\\app-3.3.12\\dsti_goodreads_rating_predictions\\.venv\\Lib\\site-packages\\kedro\\ipython\\__init__.py#171\" target=\"_blank\"><span style=\"color: #7f7f7f; text-decoration-color: #7f7f7f\">171</span></a>\n",
       "<span style=\"color: #7fbfbf; text-decoration-color: #7fbfbf\">                    </span>         c:\\Users\\benab\\AppData\\Local\\GitHubDesktop\\app-<span style=\"color: #008080; text-decoration-color: #008080; font-weight: bold\">3.3</span>.<span style=\"color: #008080; text-decoration-color: #008080; font-weight: bold\">12</span>\\dsti_goodreads_r <span style=\"color: #7f7f7f; text-decoration-color: #7f7f7f\">               </span>\n",
       "<span style=\"color: #7fbfbf; text-decoration-color: #7fbfbf\">                    </span>         ating_predictions\\goodreads-predictor.                                 <span style=\"color: #7f7f7f; text-decoration-color: #7f7f7f\">               </span>\n",
       "<span style=\"color: #7fbfbf; text-decoration-color: #7fbfbf\">                    </span>         To set a different path, run <span style=\"color: #008000; text-decoration-color: #008000\">'%reload_kedro &lt;project_root&gt;'</span>            <span style=\"color: #7f7f7f; text-decoration-color: #7f7f7f\">               </span>\n",
       "</pre>\n"
      ],
      "text/plain": [
       "\u001b[2;36m                   \u001b[0m\u001b[2;36m \u001b[0m\u001b[34mINFO    \u001b[0m Resolved project path as:                                              \u001b]8;id=198016;file://c:\\Users\\benab\\AppData\\Local\\GitHubDesktop\\app-3.3.12\\dsti_goodreads_rating_predictions\\.venv\\Lib\\site-packages\\kedro\\ipython\\__init__.py\u001b\\\u001b[2m__init__.py\u001b[0m\u001b]8;;\u001b\\\u001b[2m:\u001b[0m\u001b]8;id=937521;file://c:\\Users\\benab\\AppData\\Local\\GitHubDesktop\\app-3.3.12\\dsti_goodreads_rating_predictions\\.venv\\Lib\\site-packages\\kedro\\ipython\\__init__.py#171\u001b\\\u001b[2m171\u001b[0m\u001b]8;;\u001b\\\n",
       "\u001b[2;36m                    \u001b[0m         c:\\Users\\benab\\AppData\\Local\\GitHubDesktop\\app-\u001b[1;36m3.3\u001b[0m.\u001b[1;36m12\u001b[0m\\dsti_goodreads_r \u001b[2m               \u001b[0m\n",
       "\u001b[2;36m                    \u001b[0m         ating_predictions\\goodreads-predictor.                                 \u001b[2m               \u001b[0m\n",
       "\u001b[2;36m                    \u001b[0m         To set a different path, run \u001b[32m'%reload_kedro \u001b[0m\u001b[32m<\u001b[0m\u001b[32mproject_root\u001b[0m\u001b[32m>\u001b[0m\u001b[32m'\u001b[0m            \u001b[2m               \u001b[0m\n"
      ]
     },
     "metadata": {},
     "output_type": "display_data"
    },
    {
     "data": {
      "text/html": [
       "<pre style=\"white-space:pre;overflow-x:auto;line-height:normal;font-family:Menlo,'DejaVu Sans Mono',consolas,'Courier New',monospace\"><span style=\"color: #7fbfbf; text-decoration-color: #7fbfbf\">[08/01/24 22:11:58] </span><span style=\"color: #000080; text-decoration-color: #000080\">INFO    </span> Kedro project goodreads-predictor                                      <a href=\"file://c:\\Users\\benab\\AppData\\Local\\GitHubDesktop\\app-3.3.12\\dsti_goodreads_rating_predictions\\.venv\\Lib\\site-packages\\kedro\\ipython\\__init__.py\" target=\"_blank\"><span style=\"color: #7f7f7f; text-decoration-color: #7f7f7f\">__init__.py</span></a><span style=\"color: #7f7f7f; text-decoration-color: #7f7f7f\">:</span><a href=\"file://c:\\Users\\benab\\AppData\\Local\\GitHubDesktop\\app-3.3.12\\dsti_goodreads_rating_predictions\\.venv\\Lib\\site-packages\\kedro\\ipython\\__init__.py#141\" target=\"_blank\"><span style=\"color: #7f7f7f; text-decoration-color: #7f7f7f\">141</span></a>\n",
       "</pre>\n"
      ],
      "text/plain": [
       "\u001b[2;36m[08/01/24 22:11:58]\u001b[0m\u001b[2;36m \u001b[0m\u001b[34mINFO    \u001b[0m Kedro project goodreads-predictor                                      \u001b]8;id=854519;file://c:\\Users\\benab\\AppData\\Local\\GitHubDesktop\\app-3.3.12\\dsti_goodreads_rating_predictions\\.venv\\Lib\\site-packages\\kedro\\ipython\\__init__.py\u001b\\\u001b[2m__init__.py\u001b[0m\u001b]8;;\u001b\\\u001b[2m:\u001b[0m\u001b]8;id=169957;file://c:\\Users\\benab\\AppData\\Local\\GitHubDesktop\\app-3.3.12\\dsti_goodreads_rating_predictions\\.venv\\Lib\\site-packages\\kedro\\ipython\\__init__.py#141\u001b\\\u001b[2m141\u001b[0m\u001b]8;;\u001b\\\n"
      ]
     },
     "metadata": {},
     "output_type": "display_data"
    },
    {
     "data": {
      "text/html": [
       "<pre style=\"white-space:pre;overflow-x:auto;line-height:normal;font-family:Menlo,'DejaVu Sans Mono',consolas,'Courier New',monospace\"><span style=\"color: #7fbfbf; text-decoration-color: #7fbfbf\">                    </span><span style=\"color: #000080; text-decoration-color: #000080\">INFO    </span> Defined global variable <span style=\"color: #008000; text-decoration-color: #008000\">'context'</span>, <span style=\"color: #008000; text-decoration-color: #008000\">'session'</span>, <span style=\"color: #008000; text-decoration-color: #008000\">'catalog'</span> and            <a href=\"file://c:\\Users\\benab\\AppData\\Local\\GitHubDesktop\\app-3.3.12\\dsti_goodreads_rating_predictions\\.venv\\Lib\\site-packages\\kedro\\ipython\\__init__.py\" target=\"_blank\"><span style=\"color: #7f7f7f; text-decoration-color: #7f7f7f\">__init__.py</span></a><span style=\"color: #7f7f7f; text-decoration-color: #7f7f7f\">:</span><a href=\"file://c:\\Users\\benab\\AppData\\Local\\GitHubDesktop\\app-3.3.12\\dsti_goodreads_rating_predictions\\.venv\\Lib\\site-packages\\kedro\\ipython\\__init__.py#142\" target=\"_blank\"><span style=\"color: #7f7f7f; text-decoration-color: #7f7f7f\">142</span></a>\n",
       "<span style=\"color: #7fbfbf; text-decoration-color: #7fbfbf\">                    </span>         <span style=\"color: #008000; text-decoration-color: #008000\">'pipelines'</span>                                                            <span style=\"color: #7f7f7f; text-decoration-color: #7f7f7f\">               </span>\n",
       "</pre>\n"
      ],
      "text/plain": [
       "\u001b[2;36m                   \u001b[0m\u001b[2;36m \u001b[0m\u001b[34mINFO    \u001b[0m Defined global variable \u001b[32m'context'\u001b[0m, \u001b[32m'session'\u001b[0m, \u001b[32m'catalog'\u001b[0m and            \u001b]8;id=591946;file://c:\\Users\\benab\\AppData\\Local\\GitHubDesktop\\app-3.3.12\\dsti_goodreads_rating_predictions\\.venv\\Lib\\site-packages\\kedro\\ipython\\__init__.py\u001b\\\u001b[2m__init__.py\u001b[0m\u001b]8;;\u001b\\\u001b[2m:\u001b[0m\u001b]8;id=539502;file://c:\\Users\\benab\\AppData\\Local\\GitHubDesktop\\app-3.3.12\\dsti_goodreads_rating_predictions\\.venv\\Lib\\site-packages\\kedro\\ipython\\__init__.py#142\u001b\\\u001b[2m142\u001b[0m\u001b]8;;\u001b\\\n",
       "\u001b[2;36m                    \u001b[0m         \u001b[32m'pipelines'\u001b[0m                                                            \u001b[2m               \u001b[0m\n"
      ]
     },
     "metadata": {},
     "output_type": "display_data"
    },
    {
     "data": {
      "text/html": [
       "<pre style=\"white-space:pre;overflow-x:auto;line-height:normal;font-family:Menlo,'DejaVu Sans Mono',consolas,'Courier New',monospace\"><span style=\"color: #7fbfbf; text-decoration-color: #7fbfbf\">[08/01/24 22:12:00] </span><span style=\"color: #000080; text-decoration-color: #000080\">INFO    </span> Registered line magic <span style=\"color: #008000; text-decoration-color: #008000\">'run_viz'</span>                                        <a href=\"file://c:\\Users\\benab\\AppData\\Local\\GitHubDesktop\\app-3.3.12\\dsti_goodreads_rating_predictions\\.venv\\Lib\\site-packages\\kedro\\ipython\\__init__.py\" target=\"_blank\"><span style=\"color: #7f7f7f; text-decoration-color: #7f7f7f\">__init__.py</span></a><span style=\"color: #7f7f7f; text-decoration-color: #7f7f7f\">:</span><a href=\"file://c:\\Users\\benab\\AppData\\Local\\GitHubDesktop\\app-3.3.12\\dsti_goodreads_rating_predictions\\.venv\\Lib\\site-packages\\kedro\\ipython\\__init__.py#148\" target=\"_blank\"><span style=\"color: #7f7f7f; text-decoration-color: #7f7f7f\">148</span></a>\n",
       "</pre>\n"
      ],
      "text/plain": [
       "\u001b[2;36m[08/01/24 22:12:00]\u001b[0m\u001b[2;36m \u001b[0m\u001b[34mINFO    \u001b[0m Registered line magic \u001b[32m'run_viz'\u001b[0m                                        \u001b]8;id=781290;file://c:\\Users\\benab\\AppData\\Local\\GitHubDesktop\\app-3.3.12\\dsti_goodreads_rating_predictions\\.venv\\Lib\\site-packages\\kedro\\ipython\\__init__.py\u001b\\\u001b[2m__init__.py\u001b[0m\u001b]8;;\u001b\\\u001b[2m:\u001b[0m\u001b]8;id=176335;file://c:\\Users\\benab\\AppData\\Local\\GitHubDesktop\\app-3.3.12\\dsti_goodreads_rating_predictions\\.venv\\Lib\\site-packages\\kedro\\ipython\\__init__.py#148\u001b\\\u001b[2m148\u001b[0m\u001b]8;;\u001b\\\n"
      ]
     },
     "metadata": {},
     "output_type": "display_data"
    }
   ],
   "source": [
    "import pandas as pd\n",
    "import re\n",
    "import numpy as np\n",
    "import matplotlib.pyplot as plt\n",
    "import plotly.graph_objects as go # For the waterfall plot -- cannot easily do this in matplotlib\n",
    "from typing import List, Dict, Tuple, Any\n",
    "\n",
    "# Explainable Boosting Machine from Microsoft to help automate some of the initial data exploration\n",
    "from interpret.glassbox import ExplainableBoostingRegressor\n",
    "from interpret import show\n",
    "\n",
    "%load_ext kedro.ipython\n",
    "%matplotlib inline"
   ]
  },
  {
   "cell_type": "code",
   "execution_count": null,
   "metadata": {},
   "outputs": [],
   "source": []
  },
  {
   "cell_type": "code",
   "execution_count": 3,
   "metadata": {},
   "outputs": [
    {
     "data": {
      "text/html": [
       "<pre style=\"white-space:pre;overflow-x:auto;line-height:normal;font-family:Menlo,'DejaVu Sans Mono',consolas,'Courier New',monospace\"></pre>\n"
      ],
      "text/plain": []
     },
     "metadata": {},
     "output_type": "display_data"
    },
    {
     "data": {
      "text/plain": [
       "\n",
       "\u001b[1m[\u001b[0m\n",
       "    \u001b[32m'books_raw'\u001b[0m,\n",
       "    \u001b[32m'books_loaded'\u001b[0m,\n",
       "    \u001b[32m'publisher_consolidation'\u001b[0m,\n",
       "    \u001b[32m'price_by_isbn_input'\u001b[0m,\n",
       "    \u001b[32m'price_by_isbn'\u001b[0m,\n",
       "    \u001b[32m'book_genres'\u001b[0m,\n",
       "    \u001b[32m'title_embeddings_original'\u001b[0m,\n",
       "    \u001b[32m'authors_embeddings'\u001b[0m,\n",
       "    \u001b[32m'description_embeddings'\u001b[0m,\n",
       "    \u001b[32m'open_library_book_api_info_input'\u001b[0m,\n",
       "    \u001b[32m'open_library_book_api_info'\u001b[0m,\n",
       "    \u001b[32m'filtered_books'\u001b[0m,\n",
       "    \u001b[32m'exclusions_summary'\u001b[0m,\n",
       "    \u001b[32m'scope_waterfall_plot'\u001b[0m,\n",
       "    \u001b[32m'parameters'\u001b[0m,\n",
       "    \u001b[32m'params:title_column'\u001b[0m,\n",
       "    \u001b[32m'params:author_column'\u001b[0m,\n",
       "    \u001b[32m'params:description_column'\u001b[0m,\n",
       "    \u001b[32m'params:original_data_key_column'\u001b[0m,\n",
       "    \u001b[32m'params:color_gr_brown'\u001b[0m,\n",
       "    \u001b[32m'params:color_gr_purple'\u001b[0m,\n",
       "    \u001b[32m'params:color_gr_green'\u001b[0m,\n",
       "    \u001b[32m'params:color_gr_tan_background'\u001b[0m\n",
       "\u001b[1m]\u001b[0m"
      ]
     },
     "execution_count": 3,
     "metadata": {},
     "output_type": "execute_result"
    }
   ],
   "source": [
    "context.catalog.list()"
   ]
  },
  {
   "cell_type": "code",
   "execution_count": 4,
   "metadata": {},
   "outputs": [
    {
     "data": {
      "text/html": [
       "<pre style=\"white-space:pre;overflow-x:auto;line-height:normal;font-family:Menlo,'DejaVu Sans Mono',consolas,'Courier New',monospace\"><span style=\"color: #7fbfbf; text-decoration-color: #7fbfbf\">                    </span><span style=\"color: #000080; text-decoration-color: #000080\">INFO    </span> Loading data from <span style=\"color: #ff8700; text-decoration-color: #ff8700\">books_loaded</span> <span style=\"font-weight: bold\">(</span>ParquetDataset<span style=\"font-weight: bold\">)</span><span style=\"color: #808000; text-decoration-color: #808000\">...</span>                 <a href=\"file://c:\\Users\\benab\\AppData\\Local\\GitHubDesktop\\app-3.3.12\\dsti_goodreads_rating_predictions\\.venv\\Lib\\site-packages\\kedro\\io\\data_catalog.py\" target=\"_blank\"><span style=\"color: #7f7f7f; text-decoration-color: #7f7f7f\">data_catalog.py</span></a><span style=\"color: #7f7f7f; text-decoration-color: #7f7f7f\">:</span><a href=\"file://c:\\Users\\benab\\AppData\\Local\\GitHubDesktop\\app-3.3.12\\dsti_goodreads_rating_predictions\\.venv\\Lib\\site-packages\\kedro\\io\\data_catalog.py#508\" target=\"_blank\"><span style=\"color: #7f7f7f; text-decoration-color: #7f7f7f\">508</span></a>\n",
       "</pre>\n"
      ],
      "text/plain": [
       "\u001b[2;36m                   \u001b[0m\u001b[2;36m \u001b[0m\u001b[34mINFO    \u001b[0m Loading data from \u001b[38;5;208mbooks_loaded\u001b[0m \u001b[1m(\u001b[0mParquetDataset\u001b[1m)\u001b[0m\u001b[33m...\u001b[0m                 \u001b]8;id=69788;file://c:\\Users\\benab\\AppData\\Local\\GitHubDesktop\\app-3.3.12\\dsti_goodreads_rating_predictions\\.venv\\Lib\\site-packages\\kedro\\io\\data_catalog.py\u001b\\\u001b[2mdata_catalog.py\u001b[0m\u001b]8;;\u001b\\\u001b[2m:\u001b[0m\u001b]8;id=995916;file://c:\\Users\\benab\\AppData\\Local\\GitHubDesktop\\app-3.3.12\\dsti_goodreads_rating_predictions\\.venv\\Lib\\site-packages\\kedro\\io\\data_catalog.py#508\u001b\\\u001b[2m508\u001b[0m\u001b]8;;\u001b\\\n"
      ]
     },
     "metadata": {},
     "output_type": "display_data"
    },
    {
     "data": {
      "text/html": [
       "<pre style=\"white-space:pre;overflow-x:auto;line-height:normal;font-family:Menlo,'DejaVu Sans Mono',consolas,'Courier New',monospace\"><span style=\"color: #7fbfbf; text-decoration-color: #7fbfbf\">                    </span><span style=\"color: #000080; text-decoration-color: #000080\">INFO    </span> Loading data from <span style=\"color: #ff8700; text-decoration-color: #ff8700\">price_by_isbn</span> <span style=\"font-weight: bold\">(</span>ParquetDataset<span style=\"font-weight: bold\">)</span><span style=\"color: #808000; text-decoration-color: #808000\">...</span>                <a href=\"file://c:\\Users\\benab\\AppData\\Local\\GitHubDesktop\\app-3.3.12\\dsti_goodreads_rating_predictions\\.venv\\Lib\\site-packages\\kedro\\io\\data_catalog.py\" target=\"_blank\"><span style=\"color: #7f7f7f; text-decoration-color: #7f7f7f\">data_catalog.py</span></a><span style=\"color: #7f7f7f; text-decoration-color: #7f7f7f\">:</span><a href=\"file://c:\\Users\\benab\\AppData\\Local\\GitHubDesktop\\app-3.3.12\\dsti_goodreads_rating_predictions\\.venv\\Lib\\site-packages\\kedro\\io\\data_catalog.py#508\" target=\"_blank\"><span style=\"color: #7f7f7f; text-decoration-color: #7f7f7f\">508</span></a>\n",
       "</pre>\n"
      ],
      "text/plain": [
       "\u001b[2;36m                   \u001b[0m\u001b[2;36m \u001b[0m\u001b[34mINFO    \u001b[0m Loading data from \u001b[38;5;208mprice_by_isbn\u001b[0m \u001b[1m(\u001b[0mParquetDataset\u001b[1m)\u001b[0m\u001b[33m...\u001b[0m                \u001b]8;id=427332;file://c:\\Users\\benab\\AppData\\Local\\GitHubDesktop\\app-3.3.12\\dsti_goodreads_rating_predictions\\.venv\\Lib\\site-packages\\kedro\\io\\data_catalog.py\u001b\\\u001b[2mdata_catalog.py\u001b[0m\u001b]8;;\u001b\\\u001b[2m:\u001b[0m\u001b]8;id=264026;file://c:\\Users\\benab\\AppData\\Local\\GitHubDesktop\\app-3.3.12\\dsti_goodreads_rating_predictions\\.venv\\Lib\\site-packages\\kedro\\io\\data_catalog.py#508\u001b\\\u001b[2m508\u001b[0m\u001b]8;;\u001b\\\n"
      ]
     },
     "metadata": {},
     "output_type": "display_data"
    },
    {
     "data": {
      "text/html": [
       "<pre style=\"white-space:pre;overflow-x:auto;line-height:normal;font-family:Menlo,'DejaVu Sans Mono',consolas,'Courier New',monospace\"><span style=\"color: #7fbfbf; text-decoration-color: #7fbfbf\">[08/01/24 22:12:01] </span><span style=\"color: #000080; text-decoration-color: #000080\">INFO    </span> Loading data from <span style=\"color: #ff8700; text-decoration-color: #ff8700\">title_embeddings_original</span> <span style=\"font-weight: bold\">(</span>ParquetDataset<span style=\"font-weight: bold\">)</span><span style=\"color: #808000; text-decoration-color: #808000\">...</span>    <a href=\"file://c:\\Users\\benab\\AppData\\Local\\GitHubDesktop\\app-3.3.12\\dsti_goodreads_rating_predictions\\.venv\\Lib\\site-packages\\kedro\\io\\data_catalog.py\" target=\"_blank\"><span style=\"color: #7f7f7f; text-decoration-color: #7f7f7f\">data_catalog.py</span></a><span style=\"color: #7f7f7f; text-decoration-color: #7f7f7f\">:</span><a href=\"file://c:\\Users\\benab\\AppData\\Local\\GitHubDesktop\\app-3.3.12\\dsti_goodreads_rating_predictions\\.venv\\Lib\\site-packages\\kedro\\io\\data_catalog.py#508\" target=\"_blank\"><span style=\"color: #7f7f7f; text-decoration-color: #7f7f7f\">508</span></a>\n",
       "</pre>\n"
      ],
      "text/plain": [
       "\u001b[2;36m[08/01/24 22:12:01]\u001b[0m\u001b[2;36m \u001b[0m\u001b[34mINFO    \u001b[0m Loading data from \u001b[38;5;208mtitle_embeddings_original\u001b[0m \u001b[1m(\u001b[0mParquetDataset\u001b[1m)\u001b[0m\u001b[33m...\u001b[0m    \u001b]8;id=99218;file://c:\\Users\\benab\\AppData\\Local\\GitHubDesktop\\app-3.3.12\\dsti_goodreads_rating_predictions\\.venv\\Lib\\site-packages\\kedro\\io\\data_catalog.py\u001b\\\u001b[2mdata_catalog.py\u001b[0m\u001b]8;;\u001b\\\u001b[2m:\u001b[0m\u001b]8;id=402975;file://c:\\Users\\benab\\AppData\\Local\\GitHubDesktop\\app-3.3.12\\dsti_goodreads_rating_predictions\\.venv\\Lib\\site-packages\\kedro\\io\\data_catalog.py#508\u001b\\\u001b[2m508\u001b[0m\u001b]8;;\u001b\\\n"
      ]
     },
     "metadata": {},
     "output_type": "display_data"
    },
    {
     "data": {
      "text/html": [
       "<pre style=\"white-space:pre;overflow-x:auto;line-height:normal;font-family:Menlo,'DejaVu Sans Mono',consolas,'Courier New',monospace\"><span style=\"color: #7fbfbf; text-decoration-color: #7fbfbf\">                    </span><span style=\"color: #000080; text-decoration-color: #000080\">INFO    </span> Loading data from <span style=\"color: #ff8700; text-decoration-color: #ff8700\">open_library_book_api_info</span> <span style=\"font-weight: bold\">(</span>PickleDataset<span style=\"font-weight: bold\">)</span><span style=\"color: #808000; text-decoration-color: #808000\">...</span>    <a href=\"file://c:\\Users\\benab\\AppData\\Local\\GitHubDesktop\\app-3.3.12\\dsti_goodreads_rating_predictions\\.venv\\Lib\\site-packages\\kedro\\io\\data_catalog.py\" target=\"_blank\"><span style=\"color: #7f7f7f; text-decoration-color: #7f7f7f\">data_catalog.py</span></a><span style=\"color: #7f7f7f; text-decoration-color: #7f7f7f\">:</span><a href=\"file://c:\\Users\\benab\\AppData\\Local\\GitHubDesktop\\app-3.3.12\\dsti_goodreads_rating_predictions\\.venv\\Lib\\site-packages\\kedro\\io\\data_catalog.py#508\" target=\"_blank\"><span style=\"color: #7f7f7f; text-decoration-color: #7f7f7f\">508</span></a>\n",
       "</pre>\n"
      ],
      "text/plain": [
       "\u001b[2;36m                   \u001b[0m\u001b[2;36m \u001b[0m\u001b[34mINFO    \u001b[0m Loading data from \u001b[38;5;208mopen_library_book_api_info\u001b[0m \u001b[1m(\u001b[0mPickleDataset\u001b[1m)\u001b[0m\u001b[33m...\u001b[0m    \u001b]8;id=586403;file://c:\\Users\\benab\\AppData\\Local\\GitHubDesktop\\app-3.3.12\\dsti_goodreads_rating_predictions\\.venv\\Lib\\site-packages\\kedro\\io\\data_catalog.py\u001b\\\u001b[2mdata_catalog.py\u001b[0m\u001b]8;;\u001b\\\u001b[2m:\u001b[0m\u001b]8;id=765890;file://c:\\Users\\benab\\AppData\\Local\\GitHubDesktop\\app-3.3.12\\dsti_goodreads_rating_predictions\\.venv\\Lib\\site-packages\\kedro\\io\\data_catalog.py#508\u001b\\\u001b[2m508\u001b[0m\u001b]8;;\u001b\\\n"
      ]
     },
     "metadata": {},
     "output_type": "display_data"
    },
    {
     "data": {
      "text/html": [
       "<pre style=\"white-space:pre;overflow-x:auto;line-height:normal;font-family:Menlo,'DejaVu Sans Mono',consolas,'Courier New',monospace\"><span style=\"color: #7fbfbf; text-decoration-color: #7fbfbf\">                    </span><span style=\"color: #000080; text-decoration-color: #000080\">INFO    </span> Loading data from <span style=\"color: #ff8700; text-decoration-color: #ff8700\">params:color_gr_brown</span> <span style=\"font-weight: bold\">(</span>MemoryDataset<span style=\"font-weight: bold\">)</span><span style=\"color: #808000; text-decoration-color: #808000\">...</span>         <a href=\"file://c:\\Users\\benab\\AppData\\Local\\GitHubDesktop\\app-3.3.12\\dsti_goodreads_rating_predictions\\.venv\\Lib\\site-packages\\kedro\\io\\data_catalog.py\" target=\"_blank\"><span style=\"color: #7f7f7f; text-decoration-color: #7f7f7f\">data_catalog.py</span></a><span style=\"color: #7f7f7f; text-decoration-color: #7f7f7f\">:</span><a href=\"file://c:\\Users\\benab\\AppData\\Local\\GitHubDesktop\\app-3.3.12\\dsti_goodreads_rating_predictions\\.venv\\Lib\\site-packages\\kedro\\io\\data_catalog.py#508\" target=\"_blank\"><span style=\"color: #7f7f7f; text-decoration-color: #7f7f7f\">508</span></a>\n",
       "</pre>\n"
      ],
      "text/plain": [
       "\u001b[2;36m                   \u001b[0m\u001b[2;36m \u001b[0m\u001b[34mINFO    \u001b[0m Loading data from \u001b[38;5;208mparams:color_gr_brown\u001b[0m \u001b[1m(\u001b[0mMemoryDataset\u001b[1m)\u001b[0m\u001b[33m...\u001b[0m         \u001b]8;id=844828;file://c:\\Users\\benab\\AppData\\Local\\GitHubDesktop\\app-3.3.12\\dsti_goodreads_rating_predictions\\.venv\\Lib\\site-packages\\kedro\\io\\data_catalog.py\u001b\\\u001b[2mdata_catalog.py\u001b[0m\u001b]8;;\u001b\\\u001b[2m:\u001b[0m\u001b]8;id=932855;file://c:\\Users\\benab\\AppData\\Local\\GitHubDesktop\\app-3.3.12\\dsti_goodreads_rating_predictions\\.venv\\Lib\\site-packages\\kedro\\io\\data_catalog.py#508\u001b\\\u001b[2m508\u001b[0m\u001b]8;;\u001b\\\n"
      ]
     },
     "metadata": {},
     "output_type": "display_data"
    },
    {
     "data": {
      "text/html": [
       "<pre style=\"white-space:pre;overflow-x:auto;line-height:normal;font-family:Menlo,'DejaVu Sans Mono',consolas,'Courier New',monospace\"><span style=\"color: #7fbfbf; text-decoration-color: #7fbfbf\">                    </span><span style=\"color: #000080; text-decoration-color: #000080\">INFO    </span> Loading data from <span style=\"color: #ff8700; text-decoration-color: #ff8700\">params:color_gr_purple</span> <span style=\"font-weight: bold\">(</span>MemoryDataset<span style=\"font-weight: bold\">)</span><span style=\"color: #808000; text-decoration-color: #808000\">...</span>        <a href=\"file://c:\\Users\\benab\\AppData\\Local\\GitHubDesktop\\app-3.3.12\\dsti_goodreads_rating_predictions\\.venv\\Lib\\site-packages\\kedro\\io\\data_catalog.py\" target=\"_blank\"><span style=\"color: #7f7f7f; text-decoration-color: #7f7f7f\">data_catalog.py</span></a><span style=\"color: #7f7f7f; text-decoration-color: #7f7f7f\">:</span><a href=\"file://c:\\Users\\benab\\AppData\\Local\\GitHubDesktop\\app-3.3.12\\dsti_goodreads_rating_predictions\\.venv\\Lib\\site-packages\\kedro\\io\\data_catalog.py#508\" target=\"_blank\"><span style=\"color: #7f7f7f; text-decoration-color: #7f7f7f\">508</span></a>\n",
       "</pre>\n"
      ],
      "text/plain": [
       "\u001b[2;36m                   \u001b[0m\u001b[2;36m \u001b[0m\u001b[34mINFO    \u001b[0m Loading data from \u001b[38;5;208mparams:color_gr_purple\u001b[0m \u001b[1m(\u001b[0mMemoryDataset\u001b[1m)\u001b[0m\u001b[33m...\u001b[0m        \u001b]8;id=568469;file://c:\\Users\\benab\\AppData\\Local\\GitHubDesktop\\app-3.3.12\\dsti_goodreads_rating_predictions\\.venv\\Lib\\site-packages\\kedro\\io\\data_catalog.py\u001b\\\u001b[2mdata_catalog.py\u001b[0m\u001b]8;;\u001b\\\u001b[2m:\u001b[0m\u001b]8;id=256385;file://c:\\Users\\benab\\AppData\\Local\\GitHubDesktop\\app-3.3.12\\dsti_goodreads_rating_predictions\\.venv\\Lib\\site-packages\\kedro\\io\\data_catalog.py#508\u001b\\\u001b[2m508\u001b[0m\u001b]8;;\u001b\\\n"
      ]
     },
     "metadata": {},
     "output_type": "display_data"
    },
    {
     "data": {
      "text/html": [
       "<pre style=\"white-space:pre;overflow-x:auto;line-height:normal;font-family:Menlo,'DejaVu Sans Mono',consolas,'Courier New',monospace\"><span style=\"color: #7fbfbf; text-decoration-color: #7fbfbf\">                    </span><span style=\"color: #000080; text-decoration-color: #000080\">INFO    </span> Loading data from <span style=\"color: #ff8700; text-decoration-color: #ff8700\">params:color_gr_green</span> <span style=\"font-weight: bold\">(</span>MemoryDataset<span style=\"font-weight: bold\">)</span><span style=\"color: #808000; text-decoration-color: #808000\">...</span>         <a href=\"file://c:\\Users\\benab\\AppData\\Local\\GitHubDesktop\\app-3.3.12\\dsti_goodreads_rating_predictions\\.venv\\Lib\\site-packages\\kedro\\io\\data_catalog.py\" target=\"_blank\"><span style=\"color: #7f7f7f; text-decoration-color: #7f7f7f\">data_catalog.py</span></a><span style=\"color: #7f7f7f; text-decoration-color: #7f7f7f\">:</span><a href=\"file://c:\\Users\\benab\\AppData\\Local\\GitHubDesktop\\app-3.3.12\\dsti_goodreads_rating_predictions\\.venv\\Lib\\site-packages\\kedro\\io\\data_catalog.py#508\" target=\"_blank\"><span style=\"color: #7f7f7f; text-decoration-color: #7f7f7f\">508</span></a>\n",
       "</pre>\n"
      ],
      "text/plain": [
       "\u001b[2;36m                   \u001b[0m\u001b[2;36m \u001b[0m\u001b[34mINFO    \u001b[0m Loading data from \u001b[38;5;208mparams:color_gr_green\u001b[0m \u001b[1m(\u001b[0mMemoryDataset\u001b[1m)\u001b[0m\u001b[33m...\u001b[0m         \u001b]8;id=513046;file://c:\\Users\\benab\\AppData\\Local\\GitHubDesktop\\app-3.3.12\\dsti_goodreads_rating_predictions\\.venv\\Lib\\site-packages\\kedro\\io\\data_catalog.py\u001b\\\u001b[2mdata_catalog.py\u001b[0m\u001b]8;;\u001b\\\u001b[2m:\u001b[0m\u001b]8;id=731281;file://c:\\Users\\benab\\AppData\\Local\\GitHubDesktop\\app-3.3.12\\dsti_goodreads_rating_predictions\\.venv\\Lib\\site-packages\\kedro\\io\\data_catalog.py#508\u001b\\\u001b[2m508\u001b[0m\u001b]8;;\u001b\\\n"
      ]
     },
     "metadata": {},
     "output_type": "display_data"
    },
    {
     "data": {
      "text/html": [
       "<pre style=\"white-space:pre;overflow-x:auto;line-height:normal;font-family:Menlo,'DejaVu Sans Mono',consolas,'Courier New',monospace\"><span style=\"color: #7fbfbf; text-decoration-color: #7fbfbf\">                    </span><span style=\"color: #000080; text-decoration-color: #000080\">INFO    </span> Loading data from <span style=\"color: #ff8700; text-decoration-color: #ff8700\">params:color_gr_tan_background</span>                   <a href=\"file://c:\\Users\\benab\\AppData\\Local\\GitHubDesktop\\app-3.3.12\\dsti_goodreads_rating_predictions\\.venv\\Lib\\site-packages\\kedro\\io\\data_catalog.py\" target=\"_blank\"><span style=\"color: #7f7f7f; text-decoration-color: #7f7f7f\">data_catalog.py</span></a><span style=\"color: #7f7f7f; text-decoration-color: #7f7f7f\">:</span><a href=\"file://c:\\Users\\benab\\AppData\\Local\\GitHubDesktop\\app-3.3.12\\dsti_goodreads_rating_predictions\\.venv\\Lib\\site-packages\\kedro\\io\\data_catalog.py#508\" target=\"_blank\"><span style=\"color: #7f7f7f; text-decoration-color: #7f7f7f\">508</span></a>\n",
       "<span style=\"color: #7fbfbf; text-decoration-color: #7fbfbf\">                    </span>         <span style=\"font-weight: bold\">(</span>MemoryDataset<span style=\"font-weight: bold\">)</span><span style=\"color: #808000; text-decoration-color: #808000\">...</span>                                                 <span style=\"color: #7f7f7f; text-decoration-color: #7f7f7f\">                   </span>\n",
       "</pre>\n"
      ],
      "text/plain": [
       "\u001b[2;36m                   \u001b[0m\u001b[2;36m \u001b[0m\u001b[34mINFO    \u001b[0m Loading data from \u001b[38;5;208mparams:color_gr_tan_background\u001b[0m                   \u001b]8;id=49106;file://c:\\Users\\benab\\AppData\\Local\\GitHubDesktop\\app-3.3.12\\dsti_goodreads_rating_predictions\\.venv\\Lib\\site-packages\\kedro\\io\\data_catalog.py\u001b\\\u001b[2mdata_catalog.py\u001b[0m\u001b]8;;\u001b\\\u001b[2m:\u001b[0m\u001b]8;id=39195;file://c:\\Users\\benab\\AppData\\Local\\GitHubDesktop\\app-3.3.12\\dsti_goodreads_rating_predictions\\.venv\\Lib\\site-packages\\kedro\\io\\data_catalog.py#508\u001b\\\u001b[2m508\u001b[0m\u001b]8;;\u001b\\\n",
       "\u001b[2;36m                    \u001b[0m         \u001b[1m(\u001b[0mMemoryDataset\u001b[1m)\u001b[0m\u001b[33m...\u001b[0m                                                 \u001b[2m                   \u001b[0m\n"
      ]
     },
     "metadata": {},
     "output_type": "display_data"
    }
   ],
   "source": [
    "books_input = catalog.load('books_loaded')\n",
    "price_by_isbn = catalog.load('price_by_isbn')\n",
    "title_embeddings = catalog.load('title_embeddings_original')\n",
    "book_api_data = catalog.load('open_library_book_api_info')\n",
    "\n",
    "# Get the color values\n",
    "color_gr_brown = catalog.load(\"params:color_gr_brown\")\n",
    "color_gr_purple = catalog.load(\"params:color_gr_purple\")\n",
    "color_gr_green = catalog.load(\"params:color_gr_green\")\n",
    "color_gr_tan_background = catalog.load(\"params:color_gr_tan_background\")\n",
    "\n",
    "# Add in the price data\n",
    "books_input = books_input.merge(price_by_isbn, on='isbn13', how='left')"
   ]
  },
  {
   "cell_type": "code",
   "execution_count": 5,
   "metadata": {},
   "outputs": [
    {
     "name": "stdout",
     "output_type": "stream",
     "text": [
      "(11123, 14)\n",
      "Index(['bookID', 'title', 'authors', 'average_rating', 'isbn', 'isbn13',\n",
      "       'language_code', '  num_pages', 'ratings_count', 'text_reviews_count',\n",
      "       'publication_date', 'publisher', 'Price', 'PriceStrategy'],\n",
      "      dtype='object')\n"
     ]
    },
    {
     "data": {
      "text/html": [
       "<pre style=\"white-space:pre;overflow-x:auto;line-height:normal;font-family:Menlo,'DejaVu Sans Mono',consolas,'Courier New',monospace\"></pre>\n"
      ],
      "text/plain": []
     },
     "metadata": {},
     "output_type": "display_data"
    },
    {
     "data": {
      "text/html": [
       "<div>\n",
       "<style scoped>\n",
       "    .dataframe tbody tr th:only-of-type {\n",
       "        vertical-align: middle;\n",
       "    }\n",
       "\n",
       "    .dataframe tbody tr th {\n",
       "        vertical-align: top;\n",
       "    }\n",
       "\n",
       "    .dataframe thead th {\n",
       "        text-align: right;\n",
       "    }\n",
       "</style>\n",
       "<table border=\"1\" class=\"dataframe\">\n",
       "  <thead>\n",
       "    <tr style=\"text-align: right;\">\n",
       "      <th></th>\n",
       "      <th>bookID</th>\n",
       "      <th>title</th>\n",
       "      <th>authors</th>\n",
       "      <th>average_rating</th>\n",
       "      <th>isbn</th>\n",
       "      <th>isbn13</th>\n",
       "      <th>language_code</th>\n",
       "      <th>num_pages</th>\n",
       "      <th>ratings_count</th>\n",
       "      <th>text_reviews_count</th>\n",
       "      <th>publication_date</th>\n",
       "      <th>publisher</th>\n",
       "      <th>Price</th>\n",
       "      <th>PriceStrategy</th>\n",
       "    </tr>\n",
       "  </thead>\n",
       "  <tbody>\n",
       "    <tr>\n",
       "      <th>0</th>\n",
       "      <td>1</td>\n",
       "      <td>Harry Potter and the Half-Blood Prince (Harry ...</td>\n",
       "      <td>J.K. Rowling/Mary GrandPré</td>\n",
       "      <td>4.57</td>\n",
       "      <td>0439785960</td>\n",
       "      <td>9780439785969</td>\n",
       "      <td>eng</td>\n",
       "      <td>652</td>\n",
       "      <td>2095690</td>\n",
       "      <td>27591</td>\n",
       "      <td>9/16/2006</td>\n",
       "      <td>Scholastic Inc.</td>\n",
       "      <td>12.99</td>\n",
       "      <td>LIST_PRICE</td>\n",
       "    </tr>\n",
       "    <tr>\n",
       "      <th>1</th>\n",
       "      <td>2</td>\n",
       "      <td>Harry Potter and the Order of the Phoenix (Har...</td>\n",
       "      <td>J.K. Rowling/Mary GrandPré</td>\n",
       "      <td>4.49</td>\n",
       "      <td>0439358078</td>\n",
       "      <td>9780439358071</td>\n",
       "      <td>eng</td>\n",
       "      <td>870</td>\n",
       "      <td>2153167</td>\n",
       "      <td>29221</td>\n",
       "      <td>9/1/2004</td>\n",
       "      <td>Scholastic Inc.</td>\n",
       "      <td>99.99</td>\n",
       "      <td>LIST_PRICE</td>\n",
       "    </tr>\n",
       "    <tr>\n",
       "      <th>2</th>\n",
       "      <td>4</td>\n",
       "      <td>Harry Potter and the Chamber of Secrets (Harry...</td>\n",
       "      <td>J.K. Rowling</td>\n",
       "      <td>4.42</td>\n",
       "      <td>0439554896</td>\n",
       "      <td>9780439554893</td>\n",
       "      <td>eng</td>\n",
       "      <td>352</td>\n",
       "      <td>6333</td>\n",
       "      <td>244</td>\n",
       "      <td>11/1/2003</td>\n",
       "      <td>Scholastic</td>\n",
       "      <td>24.95</td>\n",
       "      <td>LIST_PRICE</td>\n",
       "    </tr>\n",
       "    <tr>\n",
       "      <th>3</th>\n",
       "      <td>5</td>\n",
       "      <td>Harry Potter and the Prisoner of Azkaban (Harr...</td>\n",
       "      <td>J.K. Rowling/Mary GrandPré</td>\n",
       "      <td>4.56</td>\n",
       "      <td>043965548X</td>\n",
       "      <td>9780439655484</td>\n",
       "      <td>eng</td>\n",
       "      <td>435</td>\n",
       "      <td>2339585</td>\n",
       "      <td>36325</td>\n",
       "      <td>5/1/2004</td>\n",
       "      <td>Scholastic Inc.</td>\n",
       "      <td>7.99</td>\n",
       "      <td>LIST_PRICE</td>\n",
       "    </tr>\n",
       "    <tr>\n",
       "      <th>4</th>\n",
       "      <td>8</td>\n",
       "      <td>Harry Potter Boxed Set  Books 1-5 (Harry Potte...</td>\n",
       "      <td>J.K. Rowling/Mary GrandPré</td>\n",
       "      <td>4.78</td>\n",
       "      <td>0439682584</td>\n",
       "      <td>9780439682589</td>\n",
       "      <td>eng</td>\n",
       "      <td>2690</td>\n",
       "      <td>41428</td>\n",
       "      <td>164</td>\n",
       "      <td>9/13/2004</td>\n",
       "      <td>Scholastic</td>\n",
       "      <td>40.95</td>\n",
       "      <td>LIST_PRICE</td>\n",
       "    </tr>\n",
       "  </tbody>\n",
       "</table>\n",
       "</div>"
      ],
      "text/plain": [
       "\n",
       "   bookID                                              title  \\\n",
       "\u001b[1;36m0\u001b[0m       \u001b[1;36m1\u001b[0m  Harry Potter and the Half-Blood Prince \u001b[1m(\u001b[0mHarry \u001b[33m...\u001b[0m   \n",
       "\u001b[1;36m1\u001b[0m       \u001b[1;36m2\u001b[0m  Harry Potter and the Order of the Phoenix \u001b[1m(\u001b[0mHar\u001b[33m...\u001b[0m   \n",
       "\u001b[1;36m2\u001b[0m       \u001b[1;36m4\u001b[0m  Harry Potter and the Chamber of Secrets \u001b[1m(\u001b[0mHarry\u001b[33m...\u001b[0m   \n",
       "\u001b[1;36m3\u001b[0m       \u001b[1;36m5\u001b[0m  Harry Potter and the Prisoner of Azkaban \u001b[1m(\u001b[0mHarr\u001b[33m...\u001b[0m   \n",
       "\u001b[1;36m4\u001b[0m       \u001b[1;36m8\u001b[0m  Harry Potter Boxed Set  Books \u001b[1;36m1\u001b[0m-\u001b[1;36m5\u001b[0m \u001b[1m(\u001b[0mHarry Potte\u001b[33m...\u001b[0m   \n",
       "\n",
       "                      authors  average_rating        isbn         isbn13  \\\n",
       "\u001b[1;36m0\u001b[0m  J.K. Rowling/Mary GrandPré            \u001b[1;36m4.57\u001b[0m  \u001b[1;36m0439785960\u001b[0m  \u001b[1;36m9780439785969\u001b[0m   \n",
       "\u001b[1;36m1\u001b[0m  J.K. Rowling/Mary GrandPré            \u001b[1;36m4.49\u001b[0m  \u001b[1;36m0439358078\u001b[0m  \u001b[1;36m9780439358071\u001b[0m   \n",
       "\u001b[1;36m2\u001b[0m                J.K. Rowling            \u001b[1;36m4.42\u001b[0m  \u001b[1;36m0439554896\u001b[0m  \u001b[1;36m9780439554893\u001b[0m   \n",
       "\u001b[1;36m3\u001b[0m  J.K. Rowling/Mary GrandPré            \u001b[1;36m4.56\u001b[0m  043965548X  \u001b[1;36m9780439655484\u001b[0m   \n",
       "\u001b[1;36m4\u001b[0m  J.K. Rowling/Mary GrandPré            \u001b[1;36m4.78\u001b[0m  \u001b[1;36m0439682584\u001b[0m  \u001b[1;36m9780439682589\u001b[0m   \n",
       "\n",
       "  language_code    num_pages  ratings_count  text_reviews_count  \\\n",
       "\u001b[1;36m0\u001b[0m           eng          \u001b[1;36m652\u001b[0m        \u001b[1;36m2095690\u001b[0m               \u001b[1;36m27591\u001b[0m   \n",
       "\u001b[1;36m1\u001b[0m           eng          \u001b[1;36m870\u001b[0m        \u001b[1;36m2153167\u001b[0m               \u001b[1;36m29221\u001b[0m   \n",
       "\u001b[1;36m2\u001b[0m           eng          \u001b[1;36m352\u001b[0m           \u001b[1;36m6333\u001b[0m                 \u001b[1;36m244\u001b[0m   \n",
       "\u001b[1;36m3\u001b[0m           eng          \u001b[1;36m435\u001b[0m        \u001b[1;36m2339585\u001b[0m               \u001b[1;36m36325\u001b[0m   \n",
       "\u001b[1;36m4\u001b[0m           eng         \u001b[1;36m2690\u001b[0m          \u001b[1;36m41428\u001b[0m                 \u001b[1;36m164\u001b[0m   \n",
       "\n",
       "  publication_date        publisher  Price PriceStrategy  \n",
       "\u001b[1;36m0\u001b[0m        \u001b[1;36m9\u001b[0m/\u001b[1;36m16\u001b[0m/\u001b[1;36m2006\u001b[0m  Scholastic Inc.  \u001b[1;36m12.99\u001b[0m    LIST_PRICE  \n",
       "\u001b[1;36m1\u001b[0m         \u001b[1;36m9\u001b[0m/\u001b[1;36m1\u001b[0m/\u001b[1;36m2004\u001b[0m  Scholastic Inc.  \u001b[1;36m99.99\u001b[0m    LIST_PRICE  \n",
       "\u001b[1;36m2\u001b[0m        \u001b[1;36m11\u001b[0m/\u001b[1;36m1\u001b[0m/\u001b[1;36m2003\u001b[0m       Scholastic  \u001b[1;36m24.95\u001b[0m    LIST_PRICE  \n",
       "\u001b[1;36m3\u001b[0m         \u001b[1;36m5\u001b[0m/\u001b[1;36m1\u001b[0m/\u001b[1;36m2004\u001b[0m  Scholastic Inc.   \u001b[1;36m7.99\u001b[0m    LIST_PRICE  \n",
       "\u001b[1;36m4\u001b[0m        \u001b[1;36m9\u001b[0m/\u001b[1;36m13\u001b[0m/\u001b[1;36m2004\u001b[0m       Scholastic  \u001b[1;36m40.95\u001b[0m    LIST_PRICE  "
      ]
     },
     "execution_count": 5,
     "metadata": {},
     "output_type": "execute_result"
    }
   ],
   "source": [
    "print(books_input.shape)\n",
    "print(books_input.columns)\n",
    "books_input.head()"
   ]
  },
  {
   "cell_type": "markdown",
   "metadata": {},
   "source": [
    "# Data Explore"
   ]
  },
  {
   "cell_type": "markdown",
   "metadata": {},
   "source": [
    "## Quantitative Features"
   ]
  },
  {
   "cell_type": "code",
   "execution_count": 6,
   "metadata": {},
   "outputs": [
    {
     "data": {
      "text/html": [
       "<pre style=\"white-space:pre;overflow-x:auto;line-height:normal;font-family:Menlo,'DejaVu Sans Mono',consolas,'Courier New',monospace\"></pre>\n"
      ],
      "text/plain": []
     },
     "metadata": {},
     "output_type": "display_data"
    },
    {
     "data": {
      "text/plain": [
       "\u001b[1m<\u001b[0m\u001b[1;95mAxes:\u001b[0m\u001b[39m \u001b[0m\u001b[1m>\u001b[0m"
      ]
     },
     "execution_count": 6,
     "metadata": {},
     "output_type": "execute_result"
    },
    {
     "data": {
      "text/html": [
       "<pre style=\"white-space:pre;overflow-x:auto;line-height:normal;font-family:Menlo,'DejaVu Sans Mono',consolas,'Courier New',monospace\"></pre>\n"
      ],
      "text/plain": []
     },
     "metadata": {},
     "output_type": "display_data"
    },
    {
     "data": {
      "image/png": "[encoded data removed]",
      "text/plain": [
       "\u001b[1m<\u001b[0m\u001b[1;95mFigure\u001b[0m\u001b[39m size 64\u001b[0m\u001b[1;36m0x480\u001b[0m\u001b[39m with \u001b[0m\u001b[1;36m1\u001b[0m\u001b[39m Axes\u001b[0m\u001b[1m>\u001b[0m"
      ]
     },
     "metadata": {},
     "output_type": "display_data"
    }
   ],
   "source": [
    "# Basic plots of the data to identify potential filters to remove poor quality data\n",
    "books_input['average_rating'].hist(bins=100)"
   ]
  },
  {
   "cell_type": "code",
   "execution_count": 7,
   "metadata": {},
   "outputs": [
    {
     "data": {
      "text/html": [
       "<pre style=\"white-space:pre;overflow-x:auto;line-height:normal;font-family:Menlo,'DejaVu Sans Mono',consolas,'Courier New',monospace\"></pre>\n"
      ],
      "text/plain": []
     },
     "metadata": {},
     "output_type": "display_data"
    },
    {
     "data": {
      "text/plain": [
       "\u001b[1m<\u001b[0m\u001b[1;95mAxes:\u001b[0m\u001b[39m \u001b[0m\u001b[1m>\u001b[0m"
      ]
     },
     "execution_count": 7,
     "metadata": {},
     "output_type": "execute_result"
    },
    {
     "data": {
      "text/html": [
       "<pre style=\"white-space:pre;overflow-x:auto;line-height:normal;font-family:Menlo,'DejaVu Sans Mono',consolas,'Courier New',monospace\"></pre>\n"
      ],
      "text/plain": []
     },
     "metadata": {},
     "output_type": "display_data"
    },
    {
     "data": {
      "image/png": "[encoded data removed]",
      "text/plain": [
       "\u001b[1m<\u001b[0m\u001b[1;95mFigure\u001b[0m\u001b[39m size 64\u001b[0m\u001b[1;36m0x480\u001b[0m\u001b[39m with \u001b[0m\u001b[1;36m1\u001b[0m\u001b[39m Axes\u001b[0m\u001b[1m>\u001b[0m"
      ]
     },
     "metadata": {},
     "output_type": "display_data"
    }
   ],
   "source": [
    "books_input[books_input['Price'] > 0]['Price'].hist(bins=100)"
   ]
  },
  {
   "cell_type": "code",
   "execution_count": 8,
   "metadata": {},
   "outputs": [
    {
     "data": {
      "text/html": [
       "<pre style=\"white-space:pre;overflow-x:auto;line-height:normal;font-family:Menlo,'DejaVu Sans Mono',consolas,'Courier New',monospace\"></pre>\n"
      ],
      "text/plain": []
     },
     "metadata": {},
     "output_type": "display_data"
    },
    {
     "data": {
      "text/plain": [
       "\u001b[1m<\u001b[0m\u001b[1;95mAxes:\u001b[0m\u001b[39m \u001b[0m\u001b[1m>\u001b[0m"
      ]
     },
     "execution_count": 8,
     "metadata": {},
     "output_type": "execute_result"
    },
    {
     "data": {
      "text/html": [
       "<pre style=\"white-space:pre;overflow-x:auto;line-height:normal;font-family:Menlo,'DejaVu Sans Mono',consolas,'Courier New',monospace\"></pre>\n"
      ],
      "text/plain": []
     },
     "metadata": {},
     "output_type": "display_data"
    },
    {
     "data": {
      "image/png": "[encoded data removed]",
      "text/plain": [
       "\u001b[1m<\u001b[0m\u001b[1;95mFigure\u001b[0m\u001b[39m size 64\u001b[0m\u001b[1;36m0x480\u001b[0m\u001b[39m with \u001b[0m\u001b[1;36m1\u001b[0m\u001b[39m Axes\u001b[0m\u001b[1m>\u001b[0m"
      ]
     },
     "metadata": {},
     "output_type": "display_data"
    }
   ],
   "source": [
    "books_input['  num_pages'].hist(bins=100)"
   ]
  },
  {
   "cell_type": "code",
   "execution_count": 9,
   "metadata": {},
   "outputs": [
    {
     "data": {
      "text/html": [
       "<pre style=\"white-space:pre;overflow-x:auto;line-height:normal;font-family:Menlo,'DejaVu Sans Mono',consolas,'Courier New',monospace\"></pre>\n"
      ],
      "text/plain": []
     },
     "metadata": {},
     "output_type": "display_data"
    },
    {
     "data": {
      "text/plain": [
       "\u001b[1m<\u001b[0m\u001b[1;95mAxes:\u001b[0m\u001b[39m \u001b[0m\u001b[1m>\u001b[0m"
      ]
     },
     "execution_count": 9,
     "metadata": {},
     "output_type": "execute_result"
    },
    {
     "data": {
      "text/html": [
       "<pre style=\"white-space:pre;overflow-x:auto;line-height:normal;font-family:Menlo,'DejaVu Sans Mono',consolas,'Courier New',monospace\"></pre>\n"
      ],
      "text/plain": []
     },
     "metadata": {},
     "output_type": "display_data"
    },
    {
     "data": {
      "image/png": "[encoded data removed]",
      "text/plain": [
       "\u001b[1m<\u001b[0m\u001b[1;95mFigure\u001b[0m\u001b[39m size 64\u001b[0m\u001b[1;36m0x480\u001b[0m\u001b[39m with \u001b[0m\u001b[1;36m1\u001b[0m\u001b[39m Axes\u001b[0m\u001b[1m>\u001b[0m"
      ]
     },
     "metadata": {},
     "output_type": "display_data"
    }
   ],
   "source": [
    "books_input['ratings_count'].hist(bins=100)"
   ]
  },
  {
   "cell_type": "code",
   "execution_count": 10,
   "metadata": {},
   "outputs": [
    {
     "data": {
      "text/html": [
       "<pre style=\"white-space:pre;overflow-x:auto;line-height:normal;font-family:Menlo,'DejaVu Sans Mono',consolas,'Courier New',monospace\"></pre>\n"
      ],
      "text/plain": []
     },
     "metadata": {},
     "output_type": "display_data"
    },
    {
     "data": {
      "text/html": [
       "<div>\n",
       "<style scoped>\n",
       "    .dataframe tbody tr th:only-of-type {\n",
       "        vertical-align: middle;\n",
       "    }\n",
       "\n",
       "    .dataframe tbody tr th {\n",
       "        vertical-align: top;\n",
       "    }\n",
       "\n",
       "    .dataframe thead th {\n",
       "        text-align: right;\n",
       "    }\n",
       "</style>\n",
       "<table border=\"1\" class=\"dataframe\">\n",
       "  <thead>\n",
       "    <tr style=\"text-align: right;\">\n",
       "      <th></th>\n",
       "      <th>ratings_count</th>\n",
       "    </tr>\n",
       "  </thead>\n",
       "  <tbody>\n",
       "    <tr>\n",
       "      <th>count</th>\n",
       "      <td>1.112300e+04</td>\n",
       "    </tr>\n",
       "    <tr>\n",
       "      <th>mean</th>\n",
       "      <td>1.794285e+04</td>\n",
       "    </tr>\n",
       "    <tr>\n",
       "      <th>std</th>\n",
       "      <td>1.124992e+05</td>\n",
       "    </tr>\n",
       "    <tr>\n",
       "      <th>min</th>\n",
       "      <td>0.000000e+00</td>\n",
       "    </tr>\n",
       "    <tr>\n",
       "      <th>25%</th>\n",
       "      <td>1.040000e+02</td>\n",
       "    </tr>\n",
       "    <tr>\n",
       "      <th>50%</th>\n",
       "      <td>7.450000e+02</td>\n",
       "    </tr>\n",
       "    <tr>\n",
       "      <th>75%</th>\n",
       "      <td>5.000500e+03</td>\n",
       "    </tr>\n",
       "    <tr>\n",
       "      <th>max</th>\n",
       "      <td>4.597666e+06</td>\n",
       "    </tr>\n",
       "  </tbody>\n",
       "</table>\n",
       "</div>"
      ],
      "text/plain": [
       "\n",
       "       ratings_count\n",
       "count   \u001b[1;36m1.112300e+04\u001b[0m\n",
       "mean    \u001b[1;36m1.794285e+04\u001b[0m\n",
       "std     \u001b[1;36m1.124992e+05\u001b[0m\n",
       "min     \u001b[1;36m0.000000e+00\u001b[0m\n",
       "\u001b[1;36m25\u001b[0m%     \u001b[1;36m1.040000e+02\u001b[0m\n",
       "\u001b[1;36m50\u001b[0m%     \u001b[1;36m7.450000e+02\u001b[0m\n",
       "\u001b[1;36m75\u001b[0m%     \u001b[1;36m5.000500e+03\u001b[0m\n",
       "max     \u001b[1;36m4.597666e+06\u001b[0m"
      ]
     },
     "execution_count": 10,
     "metadata": {},
     "output_type": "execute_result"
    }
   ],
   "source": [
    "books_input[['ratings_count']].describe()"
   ]
  },
  {
   "cell_type": "code",
   "execution_count": 11,
   "metadata": {},
   "outputs": [
    {
     "data": {
      "text/html": [
       "<pre style=\"white-space:pre;overflow-x:auto;line-height:normal;font-family:Menlo,'DejaVu Sans Mono',consolas,'Courier New',monospace\"></pre>\n"
      ],
      "text/plain": []
     },
     "metadata": {},
     "output_type": "display_data"
    },
    {
     "data": {
      "text/plain": [
       "\u001b[1m<\u001b[0m\u001b[1;95mAxes:\u001b[0m\u001b[39m \u001b[0m\u001b[1m>\u001b[0m"
      ]
     },
     "execution_count": 11,
     "metadata": {},
     "output_type": "execute_result"
    },
    {
     "data": {
      "text/html": [
       "<pre style=\"white-space:pre;overflow-x:auto;line-height:normal;font-family:Menlo,'DejaVu Sans Mono',consolas,'Courier New',monospace\"></pre>\n"
      ],
      "text/plain": []
     },
     "metadata": {},
     "output_type": "display_data"
    },
    {
     "data": {
      "image/png": "[encoded data removed]",
      "text/plain": [
       "\u001b[1m<\u001b[0m\u001b[1;95mFigure\u001b[0m\u001b[39m size 64\u001b[0m\u001b[1;36m0x480\u001b[0m\u001b[39m with \u001b[0m\u001b[1;36m1\u001b[0m\u001b[39m Axes\u001b[0m\u001b[1m>\u001b[0m"
      ]
     },
     "metadata": {},
     "output_type": "display_data"
    }
   ],
   "source": [
    "books_input['text_reviews_count'].hist(bins=100)\n"
   ]
  },
  {
   "cell_type": "markdown",
   "metadata": {},
   "source": [
    "## Qualitative Features"
   ]
  },
  {
   "cell_type": "code",
   "execution_count": 12,
   "metadata": {},
   "outputs": [],
   "source": [
    "## We'll add a factor lumping component to the data to help with the model\n",
    "# Should also clean up the different language codes"
   ]
  },
  {
   "cell_type": "code",
   "execution_count": 13,
   "metadata": {},
   "outputs": [
    {
     "data": {
      "text/html": [
       "<pre style=\"white-space:pre;overflow-x:auto;line-height:normal;font-family:Menlo,'DejaVu Sans Mono',consolas,'Courier New',monospace\"></pre>\n"
      ],
      "text/plain": []
     },
     "metadata": {},
     "output_type": "display_data"
    },
    {
     "data": {
      "text/html": [
       "<div>\n",
       "<style scoped>\n",
       "    .dataframe tbody tr th:only-of-type {\n",
       "        vertical-align: middle;\n",
       "    }\n",
       "\n",
       "    .dataframe tbody tr th {\n",
       "        vertical-align: top;\n",
       "    }\n",
       "\n",
       "    .dataframe thead th {\n",
       "        text-align: right;\n",
       "    }\n",
       "</style>\n",
       "<table border=\"1\" class=\"dataframe\">\n",
       "  <thead>\n",
       "    <tr style=\"text-align: right;\">\n",
       "      <th></th>\n",
       "      <th>Ct</th>\n",
       "      <th>AvgRating</th>\n",
       "      <th>MedianRating</th>\n",
       "      <th>DeviationRating</th>\n",
       "    </tr>\n",
       "    <tr>\n",
       "      <th>language_code</th>\n",
       "      <th></th>\n",
       "      <th></th>\n",
       "      <th></th>\n",
       "      <th></th>\n",
       "    </tr>\n",
       "  </thead>\n",
       "  <tbody>\n",
       "    <tr>\n",
       "      <th>eng</th>\n",
       "      <td>8908</td>\n",
       "      <td>3.934062</td>\n",
       "      <td>3.960</td>\n",
       "      <td>0.358838</td>\n",
       "    </tr>\n",
       "    <tr>\n",
       "      <th>en-US</th>\n",
       "      <td>1408</td>\n",
       "      <td>3.914659</td>\n",
       "      <td>3.940</td>\n",
       "      <td>0.288971</td>\n",
       "    </tr>\n",
       "    <tr>\n",
       "      <th>spa</th>\n",
       "      <td>218</td>\n",
       "      <td>3.929312</td>\n",
       "      <td>3.950</td>\n",
       "      <td>0.270195</td>\n",
       "    </tr>\n",
       "    <tr>\n",
       "      <th>en-GB</th>\n",
       "      <td>214</td>\n",
       "      <td>3.923411</td>\n",
       "      <td>3.945</td>\n",
       "      <td>0.278563</td>\n",
       "    </tr>\n",
       "    <tr>\n",
       "      <th>fre</th>\n",
       "      <td>144</td>\n",
       "      <td>3.971528</td>\n",
       "      <td>3.965</td>\n",
       "      <td>0.266170</td>\n",
       "    </tr>\n",
       "    <tr>\n",
       "      <th>ger</th>\n",
       "      <td>99</td>\n",
       "      <td>3.950101</td>\n",
       "      <td>3.940</td>\n",
       "      <td>0.265151</td>\n",
       "    </tr>\n",
       "    <tr>\n",
       "      <th>jpn</th>\n",
       "      <td>46</td>\n",
       "      <td>4.268696</td>\n",
       "      <td>4.270</td>\n",
       "      <td>0.165417</td>\n",
       "    </tr>\n",
       "    <tr>\n",
       "      <th>mul</th>\n",
       "      <td>19</td>\n",
       "      <td>4.126316</td>\n",
       "      <td>4.190</td>\n",
       "      <td>0.254825</td>\n",
       "    </tr>\n",
       "    <tr>\n",
       "      <th>zho</th>\n",
       "      <td>14</td>\n",
       "      <td>4.456429</td>\n",
       "      <td>4.555</td>\n",
       "      <td>0.218442</td>\n",
       "    </tr>\n",
       "    <tr>\n",
       "      <th>grc</th>\n",
       "      <td>11</td>\n",
       "      <td>3.707273</td>\n",
       "      <td>4.070</td>\n",
       "      <td>1.336257</td>\n",
       "    </tr>\n",
       "    <tr>\n",
       "      <th>por</th>\n",
       "      <td>10</td>\n",
       "      <td>3.945000</td>\n",
       "      <td>3.965</td>\n",
       "      <td>0.104483</td>\n",
       "    </tr>\n",
       "    <tr>\n",
       "      <th>en-CA</th>\n",
       "      <td>7</td>\n",
       "      <td>4.025714</td>\n",
       "      <td>4.050</td>\n",
       "      <td>0.191212</td>\n",
       "    </tr>\n",
       "    <tr>\n",
       "      <th>ita</th>\n",
       "      <td>5</td>\n",
       "      <td>4.078000</td>\n",
       "      <td>4.020</td>\n",
       "      <td>0.184581</td>\n",
       "    </tr>\n",
       "    <tr>\n",
       "      <th>enm</th>\n",
       "      <td>3</td>\n",
       "      <td>3.873333</td>\n",
       "      <td>3.950</td>\n",
       "      <td>0.351331</td>\n",
       "    </tr>\n",
       "    <tr>\n",
       "      <th>lat</th>\n",
       "      <td>3</td>\n",
       "      <td>4.353333</td>\n",
       "      <td>4.420</td>\n",
       "      <td>0.160728</td>\n",
       "    </tr>\n",
       "    <tr>\n",
       "      <th>swe</th>\n",
       "      <td>2</td>\n",
       "      <td>3.455000</td>\n",
       "      <td>3.455</td>\n",
       "      <td>0.643467</td>\n",
       "    </tr>\n",
       "    <tr>\n",
       "      <th>rus</th>\n",
       "      <td>2</td>\n",
       "      <td>4.255000</td>\n",
       "      <td>4.255</td>\n",
       "      <td>0.063640</td>\n",
       "    </tr>\n",
       "    <tr>\n",
       "      <th>ale</th>\n",
       "      <td>1</td>\n",
       "      <td>4.360000</td>\n",
       "      <td>4.360</td>\n",
       "      <td>NaN</td>\n",
       "    </tr>\n",
       "    <tr>\n",
       "      <th>ara</th>\n",
       "      <td>1</td>\n",
       "      <td>3.550000</td>\n",
       "      <td>3.550</td>\n",
       "      <td>NaN</td>\n",
       "    </tr>\n",
       "    <tr>\n",
       "      <th>glg</th>\n",
       "      <td>1</td>\n",
       "      <td>3.360000</td>\n",
       "      <td>3.360</td>\n",
       "      <td>NaN</td>\n",
       "    </tr>\n",
       "    <tr>\n",
       "      <th>gla</th>\n",
       "      <td>1</td>\n",
       "      <td>4.470000</td>\n",
       "      <td>4.470</td>\n",
       "      <td>NaN</td>\n",
       "    </tr>\n",
       "    <tr>\n",
       "      <th>msa</th>\n",
       "      <td>1</td>\n",
       "      <td>4.110000</td>\n",
       "      <td>4.110</td>\n",
       "      <td>NaN</td>\n",
       "    </tr>\n",
       "    <tr>\n",
       "      <th>nl</th>\n",
       "      <td>1</td>\n",
       "      <td>4.180000</td>\n",
       "      <td>4.180</td>\n",
       "      <td>NaN</td>\n",
       "    </tr>\n",
       "    <tr>\n",
       "      <th>nor</th>\n",
       "      <td>1</td>\n",
       "      <td>3.600000</td>\n",
       "      <td>3.600</td>\n",
       "      <td>NaN</td>\n",
       "    </tr>\n",
       "    <tr>\n",
       "      <th>srp</th>\n",
       "      <td>1</td>\n",
       "      <td>0.000000</td>\n",
       "      <td>0.000</td>\n",
       "      <td>NaN</td>\n",
       "    </tr>\n",
       "    <tr>\n",
       "      <th>tur</th>\n",
       "      <td>1</td>\n",
       "      <td>4.420000</td>\n",
       "      <td>4.420</td>\n",
       "      <td>NaN</td>\n",
       "    </tr>\n",
       "    <tr>\n",
       "      <th>wel</th>\n",
       "      <td>1</td>\n",
       "      <td>5.000000</td>\n",
       "      <td>5.000</td>\n",
       "      <td>NaN</td>\n",
       "    </tr>\n",
       "  </tbody>\n",
       "</table>\n",
       "</div>"
      ],
      "text/plain": [
       "\n",
       "                 Ct  AvgRating  MedianRating  DeviationRating\n",
       "language_code                                                \n",
       "eng            \u001b[1;36m8908\u001b[0m   \u001b[1;36m3.934062\u001b[0m         \u001b[1;36m3.960\u001b[0m         \u001b[1;36m0.358838\u001b[0m\n",
       "en-US          \u001b[1;36m1408\u001b[0m   \u001b[1;36m3.914659\u001b[0m         \u001b[1;36m3.940\u001b[0m         \u001b[1;36m0.288971\u001b[0m\n",
       "spa             \u001b[1;36m218\u001b[0m   \u001b[1;36m3.929312\u001b[0m         \u001b[1;36m3.950\u001b[0m         \u001b[1;36m0.270195\u001b[0m\n",
       "en-GB           \u001b[1;36m214\u001b[0m   \u001b[1;36m3.923411\u001b[0m         \u001b[1;36m3.945\u001b[0m         \u001b[1;36m0.278563\u001b[0m\n",
       "fre             \u001b[1;36m144\u001b[0m   \u001b[1;36m3.971528\u001b[0m         \u001b[1;36m3.965\u001b[0m         \u001b[1;36m0.266170\u001b[0m\n",
       "ger              \u001b[1;36m99\u001b[0m   \u001b[1;36m3.950101\u001b[0m         \u001b[1;36m3.940\u001b[0m         \u001b[1;36m0.265151\u001b[0m\n",
       "jpn              \u001b[1;36m46\u001b[0m   \u001b[1;36m4.268696\u001b[0m         \u001b[1;36m4.270\u001b[0m         \u001b[1;36m0.165417\u001b[0m\n",
       "mul              \u001b[1;36m19\u001b[0m   \u001b[1;36m4.126316\u001b[0m         \u001b[1;36m4.190\u001b[0m         \u001b[1;36m0.254825\u001b[0m\n",
       "zho              \u001b[1;36m14\u001b[0m   \u001b[1;36m4.456429\u001b[0m         \u001b[1;36m4.555\u001b[0m         \u001b[1;36m0.218442\u001b[0m\n",
       "grc              \u001b[1;36m11\u001b[0m   \u001b[1;36m3.707273\u001b[0m         \u001b[1;36m4.070\u001b[0m         \u001b[1;36m1.336257\u001b[0m\n",
       "por              \u001b[1;36m10\u001b[0m   \u001b[1;36m3.945000\u001b[0m         \u001b[1;36m3.965\u001b[0m         \u001b[1;36m0.104483\u001b[0m\n",
       "en-CA             \u001b[1;36m7\u001b[0m   \u001b[1;36m4.025714\u001b[0m         \u001b[1;36m4.050\u001b[0m         \u001b[1;36m0.191212\u001b[0m\n",
       "ita               \u001b[1;36m5\u001b[0m   \u001b[1;36m4.078000\u001b[0m         \u001b[1;36m4.020\u001b[0m         \u001b[1;36m0.184581\u001b[0m\n",
       "enm               \u001b[1;36m3\u001b[0m   \u001b[1;36m3.873333\u001b[0m         \u001b[1;36m3.950\u001b[0m         \u001b[1;36m0.351331\u001b[0m\n",
       "lat               \u001b[1;36m3\u001b[0m   \u001b[1;36m4.353333\u001b[0m         \u001b[1;36m4.420\u001b[0m         \u001b[1;36m0.160728\u001b[0m\n",
       "swe               \u001b[1;36m2\u001b[0m   \u001b[1;36m3.455000\u001b[0m         \u001b[1;36m3.455\u001b[0m         \u001b[1;36m0.643467\u001b[0m\n",
       "rus               \u001b[1;36m2\u001b[0m   \u001b[1;36m4.255000\u001b[0m         \u001b[1;36m4.255\u001b[0m         \u001b[1;36m0.063640\u001b[0m\n",
       "ale               \u001b[1;36m1\u001b[0m   \u001b[1;36m4.360000\u001b[0m         \u001b[1;36m4.360\u001b[0m              NaN\n",
       "ara               \u001b[1;36m1\u001b[0m   \u001b[1;36m3.550000\u001b[0m         \u001b[1;36m3.550\u001b[0m              NaN\n",
       "glg               \u001b[1;36m1\u001b[0m   \u001b[1;36m3.360000\u001b[0m         \u001b[1;36m3.360\u001b[0m              NaN\n",
       "gla               \u001b[1;36m1\u001b[0m   \u001b[1;36m4.470000\u001b[0m         \u001b[1;36m4.470\u001b[0m              NaN\n",
       "msa               \u001b[1;36m1\u001b[0m   \u001b[1;36m4.110000\u001b[0m         \u001b[1;36m4.110\u001b[0m              NaN\n",
       "nl                \u001b[1;36m1\u001b[0m   \u001b[1;36m4.180000\u001b[0m         \u001b[1;36m4.180\u001b[0m              NaN\n",
       "nor               \u001b[1;36m1\u001b[0m   \u001b[1;36m3.600000\u001b[0m         \u001b[1;36m3.600\u001b[0m              NaN\n",
       "srp               \u001b[1;36m1\u001b[0m   \u001b[1;36m0.000000\u001b[0m         \u001b[1;36m0.000\u001b[0m              NaN\n",
       "tur               \u001b[1;36m1\u001b[0m   \u001b[1;36m4.420000\u001b[0m         \u001b[1;36m4.420\u001b[0m              NaN\n",
       "wel               \u001b[1;36m1\u001b[0m   \u001b[1;36m5.000000\u001b[0m         \u001b[1;36m5.000\u001b[0m              NaN"
      ]
     },
     "execution_count": 13,
     "metadata": {},
     "output_type": "execute_result"
    }
   ],
   "source": [
    "books_input.groupby('language_code').agg(\n",
    "    Ct = ('bookID', 'count'),\n",
    "    AvgRating = ('average_rating', 'mean'),\n",
    "    MedianRating = ('average_rating', 'median'),\n",
    "    DeviationRating = ('average_rating', 'std')\n",
    ").sort_values('Ct', ascending=False)"
   ]
  },
  {
   "cell_type": "code",
   "execution_count": 14,
   "metadata": {},
   "outputs": [
    {
     "data": {
      "text/html": [
       "<pre style=\"white-space:pre;overflow-x:auto;line-height:normal;font-family:Menlo,'DejaVu Sans Mono',consolas,'Courier New',monospace\"></pre>\n"
      ],
      "text/plain": []
     },
     "metadata": {},
     "output_type": "display_data"
    },
    {
     "data": {
      "text/html": [
       "<div>\n",
       "<style scoped>\n",
       "    .dataframe tbody tr th:only-of-type {\n",
       "        vertical-align: middle;\n",
       "    }\n",
       "\n",
       "    .dataframe tbody tr th {\n",
       "        vertical-align: top;\n",
       "    }\n",
       "\n",
       "    .dataframe thead th {\n",
       "        text-align: right;\n",
       "    }\n",
       "</style>\n",
       "<table border=\"1\" class=\"dataframe\">\n",
       "  <thead>\n",
       "    <tr style=\"text-align: right;\">\n",
       "      <th></th>\n",
       "      <th>Ct</th>\n",
       "      <th>AvgRating</th>\n",
       "      <th>MedianRating</th>\n",
       "      <th>DeviationRating</th>\n",
       "    </tr>\n",
       "    <tr>\n",
       "      <th>publisher</th>\n",
       "      <th></th>\n",
       "      <th></th>\n",
       "      <th></th>\n",
       "      <th></th>\n",
       "    </tr>\n",
       "  </thead>\n",
       "  <tbody>\n",
       "    <tr>\n",
       "      <th>Vintage</th>\n",
       "      <td>318</td>\n",
       "      <td>3.894182</td>\n",
       "      <td>3.910</td>\n",
       "      <td>0.259305</td>\n",
       "    </tr>\n",
       "    <tr>\n",
       "      <th>Penguin Books</th>\n",
       "      <td>261</td>\n",
       "      <td>3.920383</td>\n",
       "      <td>3.940</td>\n",
       "      <td>0.245104</td>\n",
       "    </tr>\n",
       "    <tr>\n",
       "      <th>Penguin Classics</th>\n",
       "      <td>184</td>\n",
       "      <td>3.944565</td>\n",
       "      <td>3.955</td>\n",
       "      <td>0.213139</td>\n",
       "    </tr>\n",
       "    <tr>\n",
       "      <th>Mariner Books</th>\n",
       "      <td>150</td>\n",
       "      <td>3.933533</td>\n",
       "      <td>3.920</td>\n",
       "      <td>0.300278</td>\n",
       "    </tr>\n",
       "    <tr>\n",
       "      <th>Ballantine Books</th>\n",
       "      <td>144</td>\n",
       "      <td>3.875000</td>\n",
       "      <td>3.910</td>\n",
       "      <td>0.293984</td>\n",
       "    </tr>\n",
       "    <tr>\n",
       "      <th>...</th>\n",
       "      <td>...</td>\n",
       "      <td>...</td>\n",
       "      <td>...</td>\n",
       "      <td>...</td>\n",
       "    </tr>\n",
       "    <tr>\n",
       "      <th>AA World Services</th>\n",
       "      <td>1</td>\n",
       "      <td>4.450000</td>\n",
       "      <td>4.450</td>\n",
       "      <td>NaN</td>\n",
       "    </tr>\n",
       "    <tr>\n",
       "      <th>ACE</th>\n",
       "      <td>1</td>\n",
       "      <td>3.560000</td>\n",
       "      <td>3.560</td>\n",
       "      <td>NaN</td>\n",
       "    </tr>\n",
       "    <tr>\n",
       "      <th>AHA! Process</th>\n",
       "      <td>1</td>\n",
       "      <td>3.900000</td>\n",
       "      <td>3.900</td>\n",
       "      <td>NaN</td>\n",
       "    </tr>\n",
       "    <tr>\n",
       "      <th>AIT Planet Lar</th>\n",
       "      <td>1</td>\n",
       "      <td>3.000000</td>\n",
       "      <td>3.000</td>\n",
       "      <td>NaN</td>\n",
       "    </tr>\n",
       "    <tr>\n",
       "      <th>AK Press</th>\n",
       "      <td>1</td>\n",
       "      <td>3.930000</td>\n",
       "      <td>3.930</td>\n",
       "      <td>NaN</td>\n",
       "    </tr>\n",
       "  </tbody>\n",
       "</table>\n",
       "<p>2290 rows × 4 columns</p>\n",
       "</div>"
      ],
      "text/plain": [
       "\n",
       "                    Ct  AvgRating  MedianRating  DeviationRating\n",
       "publisher                                                       \n",
       "Vintage            \u001b[1;36m318\u001b[0m   \u001b[1;36m3.894182\u001b[0m         \u001b[1;36m3.910\u001b[0m         \u001b[1;36m0.259305\u001b[0m\n",
       "Penguin Books      \u001b[1;36m261\u001b[0m   \u001b[1;36m3.920383\u001b[0m         \u001b[1;36m3.940\u001b[0m         \u001b[1;36m0.245104\u001b[0m\n",
       "Penguin Classics   \u001b[1;36m184\u001b[0m   \u001b[1;36m3.944565\u001b[0m         \u001b[1;36m3.955\u001b[0m         \u001b[1;36m0.213139\u001b[0m\n",
       "Mariner Books      \u001b[1;36m150\u001b[0m   \u001b[1;36m3.933533\u001b[0m         \u001b[1;36m3.920\u001b[0m         \u001b[1;36m0.300278\u001b[0m\n",
       "Ballantine Books   \u001b[1;36m144\u001b[0m   \u001b[1;36m3.875000\u001b[0m         \u001b[1;36m3.910\u001b[0m         \u001b[1;36m0.293984\u001b[0m\n",
       "\u001b[33m...\u001b[0m                \u001b[33m...\u001b[0m        \u001b[33m...\u001b[0m           \u001b[33m...\u001b[0m              \u001b[33m...\u001b[0m\n",
       "AA World Services    \u001b[1;36m1\u001b[0m   \u001b[1;36m4.450000\u001b[0m         \u001b[1;36m4.450\u001b[0m              NaN\n",
       "ACE                  \u001b[1;36m1\u001b[0m   \u001b[1;36m3.560000\u001b[0m         \u001b[1;36m3.560\u001b[0m              NaN\n",
       "AHA! Process         \u001b[1;36m1\u001b[0m   \u001b[1;36m3.900000\u001b[0m         \u001b[1;36m3.900\u001b[0m              NaN\n",
       "AIT Planet Lar       \u001b[1;36m1\u001b[0m   \u001b[1;36m3.000000\u001b[0m         \u001b[1;36m3.000\u001b[0m              NaN\n",
       "AK Press             \u001b[1;36m1\u001b[0m   \u001b[1;36m3.930000\u001b[0m         \u001b[1;36m3.930\u001b[0m              NaN\n",
       "\n",
       "\u001b[1m[\u001b[0m\u001b[1;36m2290\u001b[0m rows x \u001b[1;36m4\u001b[0m columns\u001b[1m]\u001b[0m"
      ]
     },
     "execution_count": 14,
     "metadata": {},
     "output_type": "execute_result"
    }
   ],
   "source": [
    "books_input.groupby('publisher').agg(\n",
    "    Ct = ('bookID', 'count'),\n",
    "    AvgRating = ('average_rating', 'mean'),\n",
    "    MedianRating = ('average_rating', 'median'),\n",
    "    DeviationRating = ('average_rating', 'std')\n",
    ").sort_values('Ct', ascending=False)"
   ]
  },
  {
   "cell_type": "code",
   "execution_count": 15,
   "metadata": {},
   "outputs": [
    {
     "data": {
      "text/html": [
       "<pre style=\"white-space:pre;overflow-x:auto;line-height:normal;font-family:Menlo,'DejaVu Sans Mono',consolas,'Courier New',monospace\"></pre>\n"
      ],
      "text/plain": []
     },
     "metadata": {},
     "output_type": "display_data"
    },
    {
     "data": {
      "text/html": [
       "<div>\n",
       "<style scoped>\n",
       "    .dataframe tbody tr th:only-of-type {\n",
       "        vertical-align: middle;\n",
       "    }\n",
       "\n",
       "    .dataframe tbody tr th {\n",
       "        vertical-align: top;\n",
       "    }\n",
       "\n",
       "    .dataframe thead th {\n",
       "        text-align: right;\n",
       "    }\n",
       "</style>\n",
       "<table border=\"1\" class=\"dataframe\">\n",
       "  <thead>\n",
       "    <tr style=\"text-align: right;\">\n",
       "      <th></th>\n",
       "      <th>Ct</th>\n",
       "      <th>AvgRating</th>\n",
       "      <th>MedianRating</th>\n",
       "      <th>DeviationRating</th>\n",
       "    </tr>\n",
       "    <tr>\n",
       "      <th>authors</th>\n",
       "      <th></th>\n",
       "      <th></th>\n",
       "      <th></th>\n",
       "      <th></th>\n",
       "    </tr>\n",
       "  </thead>\n",
       "  <tbody>\n",
       "    <tr>\n",
       "      <th>P.G. Wodehouse</th>\n",
       "      <td>40</td>\n",
       "      <td>4.147250</td>\n",
       "      <td>4.165</td>\n",
       "      <td>0.158422</td>\n",
       "    </tr>\n",
       "    <tr>\n",
       "      <th>Stephen King</th>\n",
       "      <td>40</td>\n",
       "      <td>3.973500</td>\n",
       "      <td>3.965</td>\n",
       "      <td>0.270067</td>\n",
       "    </tr>\n",
       "    <tr>\n",
       "      <th>Rumiko Takahashi</th>\n",
       "      <td>39</td>\n",
       "      <td>4.186667</td>\n",
       "      <td>4.230</td>\n",
       "      <td>0.114141</td>\n",
       "    </tr>\n",
       "    <tr>\n",
       "      <th>Orson Scott Card</th>\n",
       "      <td>35</td>\n",
       "      <td>3.779143</td>\n",
       "      <td>3.840</td>\n",
       "      <td>0.262436</td>\n",
       "    </tr>\n",
       "    <tr>\n",
       "      <th>Agatha Christie</th>\n",
       "      <td>33</td>\n",
       "      <td>3.989091</td>\n",
       "      <td>3.970</td>\n",
       "      <td>0.188884</td>\n",
       "    </tr>\n",
       "    <tr>\n",
       "      <th>...</th>\n",
       "      <td>...</td>\n",
       "      <td>...</td>\n",
       "      <td>...</td>\n",
       "      <td>...</td>\n",
       "    </tr>\n",
       "    <tr>\n",
       "      <th>Émile Zola/Henri Mitterand</th>\n",
       "      <td>1</td>\n",
       "      <td>4.060000</td>\n",
       "      <td>4.060</td>\n",
       "      <td>NaN</td>\n",
       "    </tr>\n",
       "    <tr>\n",
       "      <th>Émile Zola/Robert Lethbridge/Elinor Dorday</th>\n",
       "      <td>1</td>\n",
       "      <td>4.010000</td>\n",
       "      <td>4.010</td>\n",
       "      <td>NaN</td>\n",
       "    </tr>\n",
       "    <tr>\n",
       "      <th>Émile Zola/Robin Buss/Brian  Nelson</th>\n",
       "      <td>1</td>\n",
       "      <td>3.990000</td>\n",
       "      <td>3.990</td>\n",
       "      <td>NaN</td>\n",
       "    </tr>\n",
       "    <tr>\n",
       "      <th>Charles Baudelaire/Christopher Isherwood/W.H. Auden</th>\n",
       "      <td>1</td>\n",
       "      <td>3.730000</td>\n",
       "      <td>3.730</td>\n",
       "      <td>NaN</td>\n",
       "    </tr>\n",
       "    <tr>\n",
       "      <th>Zora Neale Hurston/Henry Louis Gates Jr./Sieglinde Lemke</th>\n",
       "      <td>1</td>\n",
       "      <td>4.250000</td>\n",
       "      <td>4.250</td>\n",
       "      <td>NaN</td>\n",
       "    </tr>\n",
       "  </tbody>\n",
       "</table>\n",
       "<p>6639 rows × 4 columns</p>\n",
       "</div>"
      ],
      "text/plain": [
       "\n",
       "                                                    Ct  AvgRating  \\\n",
       "authors                                                             \n",
       "P.G. Wodehouse                                      \u001b[1;36m40\u001b[0m   \u001b[1;36m4.147250\u001b[0m   \n",
       "Stephen King                                        \u001b[1;36m40\u001b[0m   \u001b[1;36m3.973500\u001b[0m   \n",
       "Rumiko Takahashi                                    \u001b[1;36m39\u001b[0m   \u001b[1;36m4.186667\u001b[0m   \n",
       "Orson Scott Card                                    \u001b[1;36m35\u001b[0m   \u001b[1;36m3.779143\u001b[0m   \n",
       "Agatha Christie                                     \u001b[1;36m33\u001b[0m   \u001b[1;36m3.989091\u001b[0m   \n",
       "\u001b[33m...\u001b[0m                                                 ..        \u001b[33m...\u001b[0m   \n",
       "Émile Zola/Henri Mitterand                           \u001b[1;36m1\u001b[0m   \u001b[1;36m4.060000\u001b[0m   \n",
       "Émile Zola/Robert Lethbridge/Elinor Dorday           \u001b[1;36m1\u001b[0m   \u001b[1;36m4.010000\u001b[0m   \n",
       "Émile Zola/Robin Buss/Brian  Nelson                  \u001b[1;36m1\u001b[0m   \u001b[1;36m3.990000\u001b[0m   \n",
       "Charles Baudelaire/Christopher Isherwood/W.H. A\u001b[33m...\u001b[0m   \u001b[1;36m1\u001b[0m   \u001b[1;36m3.730000\u001b[0m   \n",
       "Zora Neale Hurston/Henry Louis Gates Jr.\u001b[35m/\u001b[0m\u001b[95mSiegli...\u001b[0m   \u001b[1;36m1\u001b[0m   \u001b[1;36m4.250000\u001b[0m   \n",
       "\n",
       "                                                    MedianRating  \\\n",
       "authors                                                            \n",
       "P.G. Wodehouse                                             \u001b[1;36m4.165\u001b[0m   \n",
       "Stephen King                                               \u001b[1;36m3.965\u001b[0m   \n",
       "Rumiko Takahashi                                           \u001b[1;36m4.230\u001b[0m   \n",
       "Orson Scott Card                                           \u001b[1;36m3.840\u001b[0m   \n",
       "Agatha Christie                                            \u001b[1;36m3.970\u001b[0m   \n",
       "\u001b[33m...\u001b[0m                                                          \u001b[33m...\u001b[0m   \n",
       "Émile Zola/Henri Mitterand                                 \u001b[1;36m4.060\u001b[0m   \n",
       "Émile Zola/Robert Lethbridge/Elinor Dorday                 \u001b[1;36m4.010\u001b[0m   \n",
       "Émile Zola/Robin Buss/Brian  Nelson                        \u001b[1;36m3.990\u001b[0m   \n",
       "Charles Baudelaire/Christopher Isherwood/W.H. A\u001b[33m...\u001b[0m         \u001b[1;36m3.730\u001b[0m   \n",
       "Zora Neale Hurston/Henry Louis Gates Jr.\u001b[35m/\u001b[0m\u001b[95mSiegli...\u001b[0m         \u001b[1;36m4.250\u001b[0m   \n",
       "\n",
       "                                                    DeviationRating  \n",
       "authors                                                              \n",
       "P.G. Wodehouse                                             \u001b[1;36m0.158422\u001b[0m  \n",
       "Stephen King                                               \u001b[1;36m0.270067\u001b[0m  \n",
       "Rumiko Takahashi                                           \u001b[1;36m0.114141\u001b[0m  \n",
       "Orson Scott Card                                           \u001b[1;36m0.262436\u001b[0m  \n",
       "Agatha Christie                                            \u001b[1;36m0.188884\u001b[0m  \n",
       "\u001b[33m...\u001b[0m                                                             \u001b[33m...\u001b[0m  \n",
       "Émile Zola/Henri Mitterand                                      NaN  \n",
       "Émile Zola/Robert Lethbridge/Elinor Dorday                      NaN  \n",
       "Émile Zola/Robin Buss/Brian  Nelson                             NaN  \n",
       "Charles Baudelaire/Christopher Isherwood/W.H. A\u001b[33m...\u001b[0m              NaN  \n",
       "Zora Neale Hurston/Henry Louis Gates Jr.\u001b[35m/\u001b[0m\u001b[95mSiegli...\u001b[0m              NaN  \n",
       "\n",
       "\u001b[1m[\u001b[0m\u001b[1;36m6639\u001b[0m rows x \u001b[1;36m4\u001b[0m columns\u001b[1m]\u001b[0m"
      ]
     },
     "execution_count": 15,
     "metadata": {},
     "output_type": "execute_result"
    }
   ],
   "source": [
    "books_input.groupby('authors').agg(\n",
    "    Ct = ('bookID', 'count'),\n",
    "    AvgRating = ('average_rating', 'mean'),\n",
    "    MedianRating = ('average_rating', 'median'),\n",
    "    DeviationRating = ('average_rating', 'std')\n",
    ").sort_values('Ct', ascending=False)"
   ]
  },
  {
   "cell_type": "markdown",
   "metadata": {},
   "source": [
    "# Create the data processing steps"
   ]
  },
  {
   "cell_type": "code",
   "execution_count": 16,
   "metadata": {},
   "outputs": [],
   "source": [
    "def identify_most_common_author_by_isbn(books_input: pd.DataFrame) -> pd.DataFrame:\n",
    "    \"\"\"\n",
    "    Identify the most common author for each book title in the dataset.\n",
    "\n",
    "    Args:\n",
    "        books_input (pd.DataFrame): The input DataFrame containing book information.\n",
    "\n",
    "    Returns:\n",
    "        pd.DataFrame: A DataFrame with the most common author for each book title, indexed by ISBN.\n",
    "    \"\"\"\n",
    "    # Identify how often authors are represented in the dataset overall\n",
    "    author_frequency = (\n",
    "        books_input[['isbn13', 'authors']]\n",
    "        .assign(authors_list = lambda x: x['authors'].str.split('/'))\n",
    "        .explode('authors_list')\n",
    "        .assign(authors_list = lambda x: x['authors_list'].str.strip())\n",
    "        .groupby('authors_list')\n",
    "        .agg(\n",
    "            Ct = ('isbn13', 'nunique')\n",
    "        )\n",
    "        .sort_values('Ct', ascending=False)\n",
    "    )\n",
    "\n",
    "    # Figure out which author is most common by ISBN\n",
    "    most_common_author_by_isbn = (\n",
    "        books_input[['isbn13', 'authors']]\n",
    "        .assign(authors_list = lambda x: x['authors'].str.split('/'))\n",
    "        .explode('authors_list')\n",
    "        .assign(authors_list = lambda x: x['authors_list'].str.strip())\n",
    "        .merge(author_frequency, left_on='authors_list', right_index=True, validate='m:1')\n",
    "        .sort_values(['Ct', 'authors_list'], ascending=False)\n",
    "        .groupby('isbn13')\n",
    "        .agg(\n",
    "            most_common_author = ('authors_list', 'first')\n",
    "        )\n",
    "    )\n",
    "\n",
    "    return most_common_author_by_isbn"
   ]
  },
  {
   "cell_type": "code",
   "execution_count": 17,
   "metadata": {},
   "outputs": [],
   "source": [
    "def consolidate_duplicated_titles(data: pd.DataFrame) -> pd.DataFrame:\n",
    "    \"\"\"\n",
    "    Consolidates duplicated titles in the given DataFrame.\n",
    "\n",
    "    Args:\n",
    "        data (pd.DataFrame): The DataFrame containing the data to be consolidated.\n",
    "\n",
    "    Returns:\n",
    "        pd.DataFrame: The consolidated DataFrame with duplicated titles removed and aggregated values.\n",
    "\n",
    "    \"\"\"\n",
    "    # Identify the proper description to grab\n",
    "    longest_descriptions_by_title = (\n",
    "        data\n",
    "        .assign(DescriptionLength = lambda x: x['Description'].str.len())\n",
    "        .sort_values('DescriptionLength', ascending = False)\n",
    "        .groupby('title')\n",
    "        .agg(\n",
    "            LongestDescription = ('Description', 'first')\n",
    "        )\n",
    "    )\n",
    "\n",
    "    # Aggregate at each unique title\n",
    "    return (\n",
    "        data\n",
    "        .merge(longest_descriptions_by_title, left_on='title', right_index = True, how='left')\n",
    "        .sort_values('ratings_count', ascending = False)\n",
    "        .groupby('title')\n",
    "        .apply(lambda g: pd.Series({\n",
    "            'isbn': g['isbn'].values[0],\n",
    "            'isbn13': g['isbn13'].values[0],\n",
    "            'most_common_author': g['most_common_author'].mode().values[0],\n",
    "            'average_rating': (g['average_rating'] * g['ratings_count']).sum() / g['ratings_count'].sum(),\n",
    "            'num_pages': g['  num_pages'].mean(),\n",
    "            'ratings_count': g['ratings_count'].sum(),\n",
    "            'text_reviews_count': g['text_reviews_count'].sum(),\n",
    "            'publisher': g['publisher'].mode().values[0],\n",
    "            'Price': g[g['Price'] > 0]['Price'].mean(),\n",
    "            'language_code': g['language_code'].mode().values[0],\n",
    "            'Description': g['LongestDescription'].values[0],\n",
    "        }), include_groups = False)\n",
    "        .assign(Price = lambda x: x['Price'].fillna(-999))\n",
    "        .reset_index(drop = False)\n",
    "    )"
   ]
  },
  {
   "cell_type": "code",
   "execution_count": 18,
   "metadata": {},
   "outputs": [],
   "source": [
    "def get_description_from_json(record) -> str:\n",
    "    \"\"\"\n",
    "    Get the description from the JSON record.\n",
    "\n",
    "    Args:\n",
    "        record (Dict[str, Any]): The JSON record.\n",
    "\n",
    "    Returns:\n",
    "        str: The description of the book.\n",
    "    \"\"\"\n",
    "    description = 'No Description Found'\n",
    "    if 'description' in record.keys():\n",
    "        description = record['description']\n",
    "\n",
    "        # Check if it is a dictionary\n",
    "        if type(description) == dict:\n",
    "            description = description.get('value', 'No Description Found')\n",
    "    elif record.get('isbn_description', []) != []:\n",
    "        description = record['isbn_description']\n",
    "    \n",
    "        if type(description) == dict:\n",
    "            description = description.get('value', 'No Description Found')\n",
    "    elif 'subjects' in record.keys():\n",
    "        description = ', '.join(record['subjects'])\n",
    "    elif record.get('isbn_subjects', []) != []:\n",
    "        description = ', '.join(record['isbn_subjects'])\n",
    "\n",
    "    description = re.sub('[^A-z0-9\\.!\\?,]', ' ', description).lower()\n",
    "    description = re.sub('\\s+', ' ', description).strip()\n",
    "\n",
    "    return description"
   ]
  },
  {
   "cell_type": "code",
   "execution_count": 19,
   "metadata": {},
   "outputs": [],
   "source": [
    "def create_descriptions_lookup(book_api_data: List[Dict[str, Any]]) -> pd.DataFrame:\n",
    "    \"\"\"\n",
    "    Create a lookup table for book descriptions based on book API data.\n",
    "\n",
    "    Args:\n",
    "        book_api_data (List[Dict[str, Any]]): A list of dictionaries containing book API data.\n",
    "\n",
    "    Returns:\n",
    "        pd.DataFrame: A DataFrame with two columns: 'isbn13' and 'Description'.\n",
    "                     The 'isbn13' column contains the ISBN-13 numbers of the books,\n",
    "                     and the 'Description' column contains the corresponding book descriptions.\n",
    "    \"\"\"\n",
    "    descs = [get_description_from_json(x) for x in book_api_data]\n",
    "    descriptions_by_isbn = pd.DataFrame({\n",
    "        'isbn13': [x.get('isbn13', 'No ISBN') for x in book_api_data],\n",
    "        'Description': descs\n",
    "    })\n",
    "\n",
    "    return descriptions_by_isbn"
   ]
  },
  {
   "cell_type": "code",
   "execution_count": 20,
   "metadata": {},
   "outputs": [],
   "source": [
    "def create_data_filters(input_df: pd.DataFrame) -> pd.DataFrame:\n",
    "    \"\"\"\n",
    "    Create data filters based on specific conditions in the input dataframe.\n",
    "\n",
    "    Args:\n",
    "        input_df (pd.DataFrame): The input dataframe containing the data to filter.\n",
    "\n",
    "    Returns:\n",
    "        pd.DataFrame: The filtered dataframe with an additional column indicating the filter reason.\n",
    "    \"\"\"\n",
    "\n",
    "    # Initialize the series to hold the filters\n",
    "    filt_num = 1\n",
    "    input_df['data_filter_reason'] = 'Start - No Filter'\n",
    " \n",
    "    # No ratings or pages\n",
    "    input_df.loc[(input_df['ratings_count'] <= 0) & (input_df['data_filter_reason'] == 'Start - No Filter'),\n",
    "     'data_filter_reason'] = f'{filt_num} - No Ratings Count'\n",
    "    filt_num += 1\n",
    "\n",
    "    input_df.loc[(input_df['  num_pages'] <= 0) & (input_df['data_filter_reason'] == 'Start - No Filter'),\n",
    "     'data_filter_reason'] = f'{filt_num} - Zero Page Count'\n",
    "    filt_num += 1\n",
    "\n",
    "    # Extreme tails of the avg_ratings (looked at histogram to determine values)\n",
    "    input_df.loc[(input_df['average_rating'] < 3) & (input_df['data_filter_reason'] == 'Start - No Filter'),\n",
    "     'data_filter_reason'] = f'{filt_num} - Low Rating Outlier'\n",
    "    filt_num += 1\n",
    "\n",
    "    input_df.loc[(input_df['average_rating'] >4.95) & (input_df['data_filter_reason'] == 'Start - No Filter'),\n",
    "     'data_filter_reason'] = f'{filt_num} - High Rating Outlier'\n",
    "    filt_num += 1\n",
    "\n",
    "    # Duplicated titles\n",
    "    input_df = (\n",
    "        input_df\n",
    "        .merge(\n",
    "            input_df.groupby('title').agg(\n",
    "                isbn13 = ('isbn13', 'first')\n",
    "            ).rename(columns={'isbn13': 'isbn13_grouped'}),\n",
    "            left_on='title', right_index=True, how = 'left', validate = \"m:1\"\n",
    "            )\n",
    "        .assign(non_duplicate = lambda X: X['isbn13'] == X['isbn13_grouped'])\n",
    "    )\n",
    "    input_df.loc[(input_df['non_duplicate'] == False) & (input_df['data_filter_reason'] == 'Start - No Filter'),\n",
    "                  'data_filter_reason'] = f'{filt_num} - Duplicate Title'\n",
    "    filt_num += 1\n",
    "\n",
    "    # No description\n",
    "    input_df.loc[(input_df['Description'] == 'no description found') & (input_df['data_filter_reason'] == 'Start - No Filter'),\n",
    "                 'data_filter_reason'] = f'{filt_num} - No Description'\n",
    "    filt_num += 1\n",
    "\n",
    "    # Final data -- what's not filtered (we want this to be last for the waterfall chart)\n",
    "    input_df.loc[input_df['data_filter_reason'] == 'Start - No Filter', 'data_filter_reason'] = f'{filt_num} - Included in Model'\n",
    "    \n",
    "    return input_df"
   ]
  },
  {
   "cell_type": "code",
   "execution_count": 21,
   "metadata": {},
   "outputs": [],
   "source": [
    "def aggregate_exclusions_data(inputs_filters: pd.DataFrame) -> pd.DataFrame:\n",
    "    \"\"\"\n",
    "    Aggregate the exclusion data based on the input filters.\n",
    "\n",
    "    Args:\n",
    "        inputs_filters (pd.DataFrame): The input filters dataframe.\n",
    "\n",
    "    Returns:\n",
    "        filters_agg (pd.DataFrame): The aggregated exclusion data at the reason level.\n",
    "        walk_data (pd.DataFrame): The walk data showing the count of books excluded for each reason.\n",
    "    \"\"\"\n",
    "    # Aggregate at the exclusion reason level and get a count of the books excluded for each reason\n",
    "    filters_agg = inputs_filters.groupby('data_filter_reason', as_index=False).agg(\n",
    "        Ct = ('bookID', 'count')\n",
    "    )\n",
    "\n",
    "    # Append the add data field to create a walk from starting input to final filtered dataset\n",
    "    walk_data = pd.concat([pd.DataFrame({'data_filter_reason': 'All Data', 'Ct': filters_agg['Ct'].sum()}, index = [0]), filters_agg], axis = 0).reset_index(drop=True)\n",
    "    walk_data['Ct'] = np.where((walk_data.index > 0) & (walk_data.index < walk_data.index.max()),  walk_data['Ct'] * -1, walk_data['Ct'])\n",
    "\n",
    "    return filters_agg, walk_data"
   ]
  },
  {
   "cell_type": "code",
   "execution_count": 22,
   "metadata": {},
   "outputs": [],
   "source": [
    "def create_filters_waterfall_plot(walk_data: pd.DataFrame,\n",
    "                                  decreasing_color: str,\n",
    "                                  increasing_color: str,\n",
    "                                  totals_color: str,\n",
    "                                  background_color: str) -> go.Figure:\n",
    "    \"\"\"\n",
    "    Create a waterfall plot based on the provided data.\n",
    "\n",
    "    Args:\n",
    "        walk_data (pd.DataFrame): The data used to create the waterfall plot.\n",
    "        decreasing_color (str): The color for the decreasing values in the plot.\n",
    "        increasing_color (str): The color for the increasing values in the plot.\n",
    "        totals_color (str): The color for the total values in the plot.\n",
    "        background_color (str): The background color of the plot.\n",
    "\n",
    "    Returns:\n",
    "        go.Figure: The created waterfall plot.\n",
    "    \"\"\"\n",
    "    \n",
    "    # Create dynamic fields based on data for the waterfall plot\n",
    "    dynamic_measures = np.where((walk_data.index > 0) & (walk_data.index < walk_data.index.max()),  'relative', 'absolute')\n",
    "\n",
    "    text_values = np.where(walk_data['Ct'].values > 1000,\n",
    "                            [x + ' k' for x in (walk_data['Ct'].values / 1000).round(1).astype(str)],\n",
    "                            walk_data['Ct'].astype(str).values)\n",
    "\n",
    "    # Create the waterfall plot base using the data\n",
    "    fig = go.Figure(go.Waterfall(\n",
    "        name='Goodreads Ratings Prediction Model Data Exclusions',\n",
    "        orientation='v',\n",
    "        measure=dynamic_measures,\n",
    "        x=walk_data['data_filter_reason'].values,\n",
    "        textposition='outside',\n",
    "        text=text_values,\n",
    "        y=walk_data['Ct'].values,\n",
    "        connector=dict(line=dict(color='rgb(63, 63, 63)')),\n",
    "        decreasing=dict(marker=dict(color=decreasing_color)),\n",
    "        increasing=dict(marker=dict(color=increasing_color)),\n",
    "        totals=dict(marker=dict(color=totals_color))\n",
    "    ))\n",
    "\n",
    "    # Update the styling of the plot\n",
    "    fig.update_layout(\n",
    "        font_family = 'Helvetica',\n",
    "        title='Goodreads Ratings Prediction Model Scope Walk',\n",
    "        title_x=0.5,\n",
    "        showlegend=False,\n",
    "        plot_bgcolor=background_color,\n",
    "        title_font_family='Lato',\n",
    "        title_font_size=20\n",
    "    )\n",
    "    \n",
    "    # Update axis titles and styling\n",
    "    fig.update_yaxes(range=[-1,walk_data['Ct'].values.max() * 1.1], title_text='Number of Records', title_font_family='Lato')\n",
    "    fig.update_xaxes(title_text='Data Filter Reason', title_font_family='Lato')\n",
    "\n",
    "    return fig"
   ]
  },
  {
   "cell_type": "code",
   "execution_count": 23,
   "metadata": {},
   "outputs": [],
   "source": [
    "decreasing_color = color_gr_purple\n",
    "increasing_color = color_gr_green\n",
    "totals_color = color_gr_brown\n",
    "background_color = color_gr_tan_background\n",
    "\n",
    "\n",
    "descriptions_lookup = create_descriptions_lookup(book_api_data)\n",
    "books_with_descriptions = books_input.merge(descriptions_lookup, on='isbn13', how='left', validate = \"1:1\")\n",
    "books_filters = create_data_filters(books_with_descriptions)\n",
    "filters_agg, walk_data = aggregate_exclusions_data(books_filters)\n",
    "waterfall_plot = create_filters_waterfall_plot(walk_data, decreasing_color, increasing_color, totals_color, background_color)"
   ]
  },
  {
   "cell_type": "code",
   "execution_count": 24,
   "metadata": {},
   "outputs": [
    {
     "data": {
      "application/vnd.plotly.v1+json": {
       "config": {
        "plotlyServerURL": "https://plot.ly"
       },
       "data": [
        {
         "connector": {
          "line": {
           "color": "rgb(63, 63, 63)"
          }
         },
         "decreasing": {
          "marker": {
           "color": "#732151"
          }
         },
         "increasing": {
          "marker": {
           "color": "#E4F4DA"
          }
         },
         "measure": [
          "absolute",
          "relative",
          "relative",
          "relative",
          "relative",
          "relative",
          "relative",
          "absolute"
         ],
         "name": "Goodreads Ratings Prediction Model Data Exclusions",
         "orientation": "v",
         "text": [
          "11.1 k",
          "-80",
          "-75",
          "-53",
          "-19",
          "-762",
          "-353",
          "9.8 k"
         ],
         "textposition": "outside",
         "totals": {
          "marker": {
           "color": "#2A1404"
          }
         },
         "type": "waterfall",
         "x": [
          "All Data",
          "1 - No Ratings Count",
          "2 - Zero Page Count",
          "3 - Low Rating Outlier",
          "4 - High Rating Outlier",
          "5 - Duplicate Title",
          "6 - No Description",
          "7 - Included in Model"
         ],
         "y": [
          11123,
          -80,
          -75,
          -53,
          -19,
          -762,
          -353,
          9781
         ]
        }
       ],
       "layout": {
        "font": {
         "family": "Helvetica"
        },
        "plot_bgcolor": "#F4F1EA",
        "showlegend": false,
        "template": {
         "data": {
          "bar": [
           {
            "error_x": {
             "color": "#2a3f5f"
            },
            "error_y": {
             "color": "#2a3f5f"
            },
            "marker": {
             "line": {
              "color": "#E5ECF6",
              "width": 0.5
             },
             "pattern": {
              "fillmode": "overlay",
              "size": 10,
              "solidity": 0.2
             }
            },
            "type": "bar"
           }
          ],
          "barpolar": [
           {
            "marker": {
             "line": {
              "color": "#E5ECF6",
              "width": 0.5
             },
             "pattern": {
              "fillmode": "overlay",
              "size": 10,
              "solidity": 0.2
             }
            },
            "type": "barpolar"
           }
          ],
          "carpet": [
           {
            "aaxis": {
             "endlinecolor": "#2a3f5f",
             "gridcolor": "white",
             "linecolor": "white",
             "minorgridcolor": "white",
             "startlinecolor": "#2a3f5f"
            },
            "baxis": {
             "endlinecolor": "#2a3f5f",
             "gridcolor": "white",
             "linecolor": "white",
             "minorgridcolor": "white",
             "startlinecolor": "#2a3f5f"
            },
            "type": "carpet"
           }
          ],
          "choropleth": [
           {
            "colorbar": {
             "outlinewidth": 0,
             "ticks": ""
            },
            "type": "choropleth"
           }
          ],
          "contour": [
           {
            "colorbar": {
             "outlinewidth": 0,
             "ticks": ""
            },
            "colorscale": [
             [
              0,
              "#0d0887"
             ],
             [
              0.1111111111111111,
              "#46039f"
             ],
             [
              0.2222222222222222,
              "#7201a8"
             ],
             [
              0.3333333333333333,
              "#9c179e"
             ],
             [
              0.4444444444444444,
              "#bd3786"
             ],
             [
              0.5555555555555556,
              "#d8576b"
             ],
             [
              0.6666666666666666,
              "#ed7953"
             ],
             [
              0.7777777777777778,
              "#fb9f3a"
             ],
             [
              0.8888888888888888,
              "#fdca26"
             ],
             [
              1,
              "#f0f921"
             ]
            ],
            "type": "contour"
           }
          ],
          "contourcarpet": [
           {
            "colorbar": {
             "outlinewidth": 0,
             "ticks": ""
            },
            "type": "contourcarpet"
           }
          ],
          "heatmap": [
           {
            "colorbar": {
             "outlinewidth": 0,
             "ticks": ""
            },
            "colorscale": [
             [
              0,
              "#0d0887"
             ],
             [
              0.1111111111111111,
              "#46039f"
             ],
             [
              0.2222222222222222,
              "#7201a8"
             ],
             [
              0.3333333333333333,
              "#9c179e"
             ],
             [
              0.4444444444444444,
              "#bd3786"
             ],
             [
              0.5555555555555556,
              "#d8576b"
             ],
             [
              0.6666666666666666,
              "#ed7953"
             ],
             [
              0.7777777777777778,
              "#fb9f3a"
             ],
             [
              0.8888888888888888,
              "#fdca26"
             ],
             [
              1,
              "#f0f921"
             ]
            ],
            "type": "heatmap"
           }
          ],
          "heatmapgl": [
           {
            "colorbar": {
             "outlinewidth": 0,
             "ticks": ""
            },
            "colorscale": [
             [
              0,
              "#0d0887"
             ],
             [
              0.1111111111111111,
              "#46039f"
             ],
             [
              0.2222222222222222,
              "#7201a8"
             ],
             [
              0.3333333333333333,
              "#9c179e"
             ],
             [
              0.4444444444444444,
              "#bd3786"
             ],
             [
              0.5555555555555556,
              "#d8576b"
             ],
             [
              0.6666666666666666,
              "#ed7953"
             ],
             [
              0.7777777777777778,
              "#fb9f3a"
             ],
             [
              0.8888888888888888,
              "#fdca26"
             ],
             [
              1,
              "#f0f921"
             ]
            ],
            "type": "heatmapgl"
           }
          ],
          "histogram": [
           {
            "marker": {
             "pattern": {
              "fillmode": "overlay",
              "size": 10,
              "solidity": 0.2
             }
            },
            "type": "histogram"
           }
          ],
          "histogram2d": [
           {
            "colorbar": {
             "outlinewidth": 0,
             "ticks": ""
            },
            "colorscale": [
             [
              0,
              "#0d0887"
             ],
             [
              0.1111111111111111,
              "#46039f"
             ],
             [
              0.2222222222222222,
              "#7201a8"
             ],
             [
              0.3333333333333333,
              "#9c179e"
             ],
             [
              0.4444444444444444,
              "#bd3786"
             ],
             [
              0.5555555555555556,
              "#d8576b"
             ],
             [
              0.6666666666666666,
              "#ed7953"
             ],
             [
              0.7777777777777778,
              "#fb9f3a"
             ],
             [
              0.8888888888888888,
              "#fdca26"
             ],
             [
              1,
              "#f0f921"
             ]
            ],
            "type": "histogram2d"
           }
          ],
          "histogram2dcontour": [
           {
            "colorbar": {
             "outlinewidth": 0,
             "ticks": ""
            },
            "colorscale": [
             [
              0,
              "#0d0887"
             ],
             [
              0.1111111111111111,
              "#46039f"
             ],
             [
              0.2222222222222222,
              "#7201a8"
             ],
             [
              0.3333333333333333,
              "#9c179e"
             ],
             [
              0.4444444444444444,
              "#bd3786"
             ],
             [
              0.5555555555555556,
              "#d8576b"
             ],
             [
              0.6666666666666666,
              "#ed7953"
             ],
             [
              0.7777777777777778,
              "#fb9f3a"
             ],
             [
              0.8888888888888888,
              "#fdca26"
             ],
             [
              1,
              "#f0f921"
             ]
            ],
            "type": "histogram2dcontour"
           }
          ],
          "mesh3d": [
           {
            "colorbar": {
             "outlinewidth": 0,
             "ticks": ""
            },
            "type": "mesh3d"
           }
          ],
          "parcoords": [
           {
            "line": {
             "colorbar": {
              "outlinewidth": 0,
              "ticks": ""
             }
            },
            "type": "parcoords"
           }
          ],
          "pie": [
           {
            "automargin": true,
            "type": "pie"
           }
          ],
          "scatter": [
           {
            "fillpattern": {
             "fillmode": "overlay",
             "size": 10,
             "solidity": 0.2
            },
            "type": "scatter"
           }
          ],
          "scatter3d": [
           {
            "line": {
             "colorbar": {
              "outlinewidth": 0,
              "ticks": ""
             }
            },
            "marker": {
             "colorbar": {
              "outlinewidth": 0,
              "ticks": ""
             }
            },
            "type": "scatter3d"
           }
          ],
          "scattercarpet": [
           {
            "marker": {
             "colorbar": {
              "outlinewidth": 0,
              "ticks": ""
             }
            },
            "type": "scattercarpet"
           }
          ],
          "scattergeo": [
           {
            "marker": {
             "colorbar": {
              "outlinewidth": 0,
              "ticks": ""
             }
            },
            "type": "scattergeo"
           }
          ],
          "scattergl": [
           {
            "marker": {
             "colorbar": {
              "outlinewidth": 0,
              "ticks": ""
             }
            },
            "type": "scattergl"
           }
          ],
          "scattermapbox": [
           {
            "marker": {
             "colorbar": {
              "outlinewidth": 0,
              "ticks": ""
             }
            },
            "type": "scattermapbox"
           }
          ],
          "scatterpolar": [
           {
            "marker": {
             "colorbar": {
              "outlinewidth": 0,
              "ticks": ""
             }
            },
            "type": "scatterpolar"
           }
          ],
          "scatterpolargl": [
           {
            "marker": {
             "colorbar": {
              "outlinewidth": 0,
              "ticks": ""
             }
            },
            "type": "scatterpolargl"
           }
          ],
          "scatterternary": [
           {
            "marker": {
             "colorbar": {
              "outlinewidth": 0,
              "ticks": ""
             }
            },
            "type": "scatterternary"
           }
          ],
          "surface": [
           {
            "colorbar": {
             "outlinewidth": 0,
             "ticks": ""
            },
            "colorscale": [
             [
              0,
              "#0d0887"
             ],
             [
              0.1111111111111111,
              "#46039f"
             ],
             [
              0.2222222222222222,
              "#7201a8"
             ],
             [
              0.3333333333333333,
              "#9c179e"
             ],
             [
              0.4444444444444444,
              "#bd3786"
             ],
             [
              0.5555555555555556,
              "#d8576b"
             ],
             [
              0.6666666666666666,
              "#ed7953"
             ],
             [
              0.7777777777777778,
              "#fb9f3a"
             ],
             [
              0.8888888888888888,
              "#fdca26"
             ],
             [
              1,
              "#f0f921"
             ]
            ],
            "type": "surface"
           }
          ],
          "table": [
           {
            "cells": {
             "fill": {
              "color": "#EBF0F8"
             },
             "line": {
              "color": "white"
             }
            },
            "header": {
             "fill": {
              "color": "#C8D4E3"
             },
             "line": {
              "color": "white"
             }
            },
            "type": "table"
           }
          ]
         },
         "layout": {
          "annotationdefaults": {
           "arrowcolor": "#2a3f5f",
           "arrowhead": 0,
           "arrowwidth": 1
          },
          "autotypenumbers": "strict",
          "coloraxis": {
           "colorbar": {
            "outlinewidth": 0,
            "ticks": ""
           }
          },
          "colorscale": {
           "diverging": [
            [
             0,
             "#8e0152"
            ],
            [
             0.1,
             "#c51b7d"
            ],
            [
             0.2,
             "#de77ae"
            ],
            [
             0.3,
             "#f1b6da"
            ],
            [
             0.4,
             "#fde0ef"
            ],
            [
             0.5,
             "#f7f7f7"
            ],
            [
             0.6,
             "#e6f5d0"
            ],
            [
             0.7,
             "#b8e186"
            ],
            [
             0.8,
             "#7fbc41"
            ],
            [
             0.9,
             "#4d9221"
            ],
            [
             1,
             "#276419"
            ]
           ],
           "sequential": [
            [
             0,
             "#0d0887"
            ],
            [
             0.1111111111111111,
             "#46039f"
            ],
            [
             0.2222222222222222,
             "#7201a8"
            ],
            [
             0.3333333333333333,
             "#9c179e"
            ],
            [
             0.4444444444444444,
             "#bd3786"
            ],
            [
             0.5555555555555556,
             "#d8576b"
            ],
            [
             0.6666666666666666,
             "#ed7953"
            ],
            [
             0.7777777777777778,
             "#fb9f3a"
            ],
            [
             0.8888888888888888,
             "#fdca26"
            ],
            [
             1,
             "#f0f921"
            ]
           ],
           "sequentialminus": [
            [
             0,
             "#0d0887"
            ],
            [
             0.1111111111111111,
             "#46039f"
            ],
            [
             0.2222222222222222,
             "#7201a8"
            ],
            [
             0.3333333333333333,
             "#9c179e"
            ],
            [
             0.4444444444444444,
             "#bd3786"
            ],
            [
             0.5555555555555556,
             "#d8576b"
            ],
            [
             0.6666666666666666,
             "#ed7953"
            ],
            [
             0.7777777777777778,
             "#fb9f3a"
            ],
            [
             0.8888888888888888,
             "#fdca26"
            ],
            [
             1,
             "#f0f921"
            ]
           ]
          },
          "colorway": [
           "#636efa",
           "#EF553B",
           "#00cc96",
           "#ab63fa",
           "#FFA15A",
           "#19d3f3",
           "#FF6692",
           "#B6E880",
           "#FF97FF",
           "#FECB52"
          ],
          "font": {
           "color": "#2a3f5f"
          },
          "geo": {
           "bgcolor": "white",
           "lakecolor": "white",
           "landcolor": "#E5ECF6",
           "showlakes": true,
           "showland": true,
           "subunitcolor": "white"
          },
          "hoverlabel": {
           "align": "left"
          },
          "hovermode": "closest",
          "mapbox": {
           "style": "light"
          },
          "paper_bgcolor": "white",
          "plot_bgcolor": "#E5ECF6",
          "polar": {
           "angularaxis": {
            "gridcolor": "white",
            "linecolor": "white",
            "ticks": ""
           },
           "bgcolor": "#E5ECF6",
           "radialaxis": {
            "gridcolor": "white",
            "linecolor": "white",
            "ticks": ""
           }
          },
          "scene": {
           "xaxis": {
            "backgroundcolor": "#E5ECF6",
            "gridcolor": "white",
            "gridwidth": 2,
            "linecolor": "white",
            "showbackground": true,
            "ticks": "",
            "zerolinecolor": "white"
           },
           "yaxis": {
            "backgroundcolor": "#E5ECF6",
            "gridcolor": "white",
            "gridwidth": 2,
            "linecolor": "white",
            "showbackground": true,
            "ticks": "",
            "zerolinecolor": "white"
           },
           "zaxis": {
            "backgroundcolor": "#E5ECF6",
            "gridcolor": "white",
            "gridwidth": 2,
            "linecolor": "white",
            "showbackground": true,
            "ticks": "",
            "zerolinecolor": "white"
           }
          },
          "shapedefaults": {
           "line": {
            "color": "#2a3f5f"
           }
          },
          "ternary": {
           "aaxis": {
            "gridcolor": "white",
            "linecolor": "white",
            "ticks": ""
           },
           "baxis": {
            "gridcolor": "white",
            "linecolor": "white",
            "ticks": ""
           },
           "bgcolor": "#E5ECF6",
           "caxis": {
            "gridcolor": "white",
            "linecolor": "white",
            "ticks": ""
           }
          },
          "title": {
           "x": 0.05
          },
          "xaxis": {
           "automargin": true,
           "gridcolor": "white",
           "linecolor": "white",
           "ticks": "",
           "title": {
            "standoff": 15
           },
           "zerolinecolor": "white",
           "zerolinewidth": 2
          },
          "yaxis": {
           "automargin": true,
           "gridcolor": "white",
           "linecolor": "white",
           "ticks": "",
           "title": {
            "standoff": 15
           },
           "zerolinecolor": "white",
           "zerolinewidth": 2
          }
         }
        },
        "title": {
         "font": {
          "family": "Lato",
          "size": 20
         },
         "text": "Goodreads Ratings Prediction Model Scope Walk",
         "x": 0.5
        },
        "xaxis": {
         "title": {
          "font": {
           "family": "Lato"
          },
          "text": "Data Filter Reason"
         }
        },
        "yaxis": {
         "range": [
          -1,
          12235.300000000001
         ],
         "title": {
          "font": {
           "family": "Lato"
          },
          "text": "Number of Records"
         }
        }
       }
      }
     },
     "metadata": {},
     "output_type": "display_data"
    }
   ],
   "source": [
    "waterfall_plot.show()"
   ]
  },
  {
   "cell_type": "code",
   "execution_count": 25,
   "metadata": {},
   "outputs": [],
   "source": [
    "def apply_filters_and_consolidate(books_filters: pd.DataFrame) -> pd.DataFrame:\n",
    "    # Apply the filters and consolidate duplicated titles\n",
    "    books_filtered = books_filters[(books_filters['data_filter_reason'].str.contains('Included in Model')) |\n",
    "                                (books_filters['data_filter_reason'].str.contains('Duplicate Title'))]\n",
    "\n",
    "    books_filtered = books_filtered.merge(identify_most_common_author_by_isbn(books_filtered), left_on='isbn13', right_index=True, how='left')\n",
    "    books_filtered = consolidate_duplicated_titles(books_filtered)\n",
    "    return books_filtered"
   ]
  },
  {
   "cell_type": "code",
   "execution_count": 26,
   "metadata": {},
   "outputs": [
    {
     "data": {
      "text/html": [
       "<pre style=\"white-space:pre;overflow-x:auto;line-height:normal;font-family:Menlo,'DejaVu Sans Mono',consolas,'Courier New',monospace\"><span style=\"color: #7fbfbf; text-decoration-color: #7fbfbf\">[08/01/24 22:12:17] </span><span style=\"color: #000080; text-decoration-color: #000080\">INFO    </span> Loading data from <span style=\"color: #ff8700; text-decoration-color: #ff8700\">publisher_consolidation</span> <span style=\"font-weight: bold\">(</span>CSVDataset<span style=\"font-weight: bold\">)</span><span style=\"color: #808000; text-decoration-color: #808000\">...</span>          <a href=\"file://c:\\Users\\benab\\AppData\\Local\\GitHubDesktop\\app-3.3.12\\dsti_goodreads_rating_predictions\\.venv\\Lib\\site-packages\\kedro\\io\\data_catalog.py\" target=\"_blank\"><span style=\"color: #7f7f7f; text-decoration-color: #7f7f7f\">data_catalog.py</span></a><span style=\"color: #7f7f7f; text-decoration-color: #7f7f7f\">:</span><a href=\"file://c:\\Users\\benab\\AppData\\Local\\GitHubDesktop\\app-3.3.12\\dsti_goodreads_rating_predictions\\.venv\\Lib\\site-packages\\kedro\\io\\data_catalog.py#508\" target=\"_blank\"><span style=\"color: #7f7f7f; text-decoration-color: #7f7f7f\">508</span></a>\n",
       "</pre>\n"
      ],
      "text/plain": [
       "\u001b[2;36m[08/01/24 22:12:17]\u001b[0m\u001b[2;36m \u001b[0m\u001b[34mINFO    \u001b[0m Loading data from \u001b[38;5;208mpublisher_consolidation\u001b[0m \u001b[1m(\u001b[0mCSVDataset\u001b[1m)\u001b[0m\u001b[33m...\u001b[0m          \u001b]8;id=816465;file://c:\\Users\\benab\\AppData\\Local\\GitHubDesktop\\app-3.3.12\\dsti_goodreads_rating_predictions\\.venv\\Lib\\site-packages\\kedro\\io\\data_catalog.py\u001b\\\u001b[2mdata_catalog.py\u001b[0m\u001b]8;;\u001b\\\u001b[2m:\u001b[0m\u001b]8;id=171620;file://c:\\Users\\benab\\AppData\\Local\\GitHubDesktop\\app-3.3.12\\dsti_goodreads_rating_predictions\\.venv\\Lib\\site-packages\\kedro\\io\\data_catalog.py#508\u001b\\\u001b[2m508\u001b[0m\u001b]8;;\u001b\\\n"
      ]
     },
     "metadata": {},
     "output_type": "display_data"
    }
   ],
   "source": [
    "books_filtered = apply_filters_and_consolidate(books_filters)\n",
    "publishers = catalog.load('publisher_consolidation')\n",
    "\n",
    "books_filtered = books_filtered.merge(publishers, on='publisher', how='left')\n",
    "books_filtered['publisher_grouped'] = np.where(books_filtered['publisher_grouped'].isnull(),\n",
    "                                               books_filtered['publisher'], books_filtered['publisher_grouped'])"
   ]
  },
  {
   "cell_type": "markdown",
   "metadata": {},
   "source": [
    "# Explainable AI (Microsoft EBM Regressor)"
   ]
  },
  {
   "cell_type": "code",
   "execution_count": 27,
   "metadata": {},
   "outputs": [],
   "source": [
    "def fct_lump(data: pd.DataFrame, col: str, threshold: int, top_n: bool = False) -> pd.DataFrame:\n",
    "    \"\"\"\n",
    "    Lump the data in the given column based on the threshold.\n",
    "\n",
    "    Args:\n",
    "        data (pd.DataFrame): The input DataFrame.\n",
    "        col (str): The column to lump.\n",
    "        threshold (int): The threshold to use for lumping.\n",
    "\n",
    "    Returns:\n",
    "        pd.DataFrame: The DataFrame with the column lumped based on the threshold.\n",
    "    \"\"\"\n",
    "    # Get the value counts for the column\n",
    "    value_counts = data[col].value_counts()\n",
    "\n",
    "    # Get the values to lump\n",
    "    if top_n:\n",
    "        to_lump_amt = len(value_counts) - threshold\n",
    "        to_lump = value_counts.nsmallest(to_lump_amt).index\n",
    "    else:\n",
    "        to_lump = value_counts[value_counts < threshold].index\n",
    "\n",
    "    # Lump the values\n",
    "    data.loc[:, col] = np.where(data[col].isin(to_lump), 'Other', data[col])\n",
    "\n",
    "    return data"
   ]
  },
  {
   "cell_type": "code",
   "execution_count": 28,
   "metadata": {},
   "outputs": [],
   "source": [
    "FEATURES = ['most_common_author', 'num_pages', 'ratings_count', 'text_reviews_count', 'Price', 'publisher_grouped']\n",
    "TARGET = 'average_rating'\n",
    "\n",
    "X = books_filtered[FEATURES]\n",
    "\n",
    "for col in X.select_dtypes('object').columns:\n",
    "    X = fct_lump(X, col, 20, top_n = True)"
   ]
  },
  {
   "cell_type": "code",
   "execution_count": 29,
   "metadata": {},
   "outputs": [
    {
     "data": {
      "text/html": [
       "<style>#sk-container-id-1 {\n",
       "  /* Definition of color scheme common for light and dark mode */\n",
       "  --sklearn-color-text: black;\n",
       "  --sklearn-color-line: gray;\n",
       "  /* Definition of color scheme for unfitted estimators */\n",
       "  --sklearn-color-unfitted-level-0: #fff5e6;\n",
       "  --sklearn-color-unfitted-level-1: #f6e4d2;\n",
       "  --sklearn-color-unfitted-level-2: #ffe0b3;\n",
       "  --sklearn-color-unfitted-level-3: chocolate;\n",
       "  /* Definition of color scheme for fitted estimators */\n",
       "  --sklearn-color-fitted-level-0: #f0f8ff;\n",
       "  --sklearn-color-fitted-level-1: #d4ebff;\n",
       "  --sklearn-color-fitted-level-2: #b3dbfd;\n",
       "  --sklearn-color-fitted-level-3: cornflowerblue;\n",
       "\n",
       "  /* Specific color for light theme */\n",
       "  --sklearn-color-text-on-default-background: var(--sg-text-color, var(--theme-code-foreground, var(--jp-content-font-color1, black)));\n",
       "  --sklearn-color-background: var(--sg-background-color, var(--theme-background, var(--jp-layout-color0, white)));\n",
       "  --sklearn-color-border-box: var(--sg-text-color, var(--theme-code-foreground, var(--jp-content-font-color1, black)));\n",
       "  --sklearn-color-icon: #696969;\n",
       "\n",
       "  @media (prefers-color-scheme: dark) {\n",
       "    /* Redefinition of color scheme for dark theme */\n",
       "    --sklearn-color-text-on-default-background: var(--sg-text-color, var(--theme-code-foreground, var(--jp-content-font-color1, white)));\n",
       "    --sklearn-color-background: var(--sg-background-color, var(--theme-background, var(--jp-layout-color0, #111)));\n",
       "    --sklearn-color-border-box: var(--sg-text-color, var(--theme-code-foreground, var(--jp-content-font-color1, white)));\n",
       "    --sklearn-color-icon: #878787;\n",
       "  }\n",
       "}\n",
       "\n",
       "#sk-container-id-1 {\n",
       "  color: var(--sklearn-color-text);\n",
       "}\n",
       "\n",
       "#sk-container-id-1 pre {\n",
       "  padding: 0;\n",
       "}\n",
       "\n",
       "#sk-container-id-1 input.sk-hidden--visually {\n",
       "  border: 0;\n",
       "  clip: rect(1px 1px 1px 1px);\n",
       "  clip: rect(1px, 1px, 1px, 1px);\n",
       "  height: 1px;\n",
       "  margin: -1px;\n",
       "  overflow: hidden;\n",
       "  padding: 0;\n",
       "  position: absolute;\n",
       "  width: 1px;\n",
       "}\n",
       "\n",
       "#sk-container-id-1 div.sk-dashed-wrapped {\n",
       "  border: 1px dashed var(--sklearn-color-line);\n",
       "  margin: 0 0.4em 0.5em 0.4em;\n",
       "  box-sizing: border-box;\n",
       "  padding-bottom: 0.4em;\n",
       "  background-color: var(--sklearn-color-background);\n",
       "}\n",
       "\n",
       "#sk-container-id-1 div.sk-container {\n",
       "  /* jupyter's `normalize.less` sets `[hidden] { display: none; }`\n",
       "     but bootstrap.min.css set `[hidden] { display: none !important; }`\n",
       "     so we also need the `!important` here to be able to override the\n",
       "     default hidden behavior on the sphinx rendered scikit-learn.org.\n",
       "     See: https://github.com/scikit-learn/scikit-learn/issues/21755 */\n",
       "  display: inline-block !important;\n",
       "  position: relative;\n",
       "}\n",
       "\n",
       "#sk-container-id-1 div.sk-text-repr-fallback {\n",
       "  display: none;\n",
       "}\n",
       "\n",
       "div.sk-parallel-item,\n",
       "div.sk-serial,\n",
       "div.sk-item {\n",
       "  /* draw centered vertical line to link estimators */\n",
       "  background-image: linear-gradient(var(--sklearn-color-text-on-default-background), var(--sklearn-color-text-on-default-background));\n",
       "  background-size: 2px 100%;\n",
       "  background-repeat: no-repeat;\n",
       "  background-position: center center;\n",
       "}\n",
       "\n",
       "/* Parallel-specific style estimator block */\n",
       "\n",
       "#sk-container-id-1 div.sk-parallel-item::after {\n",
       "  content: \"\";\n",
       "  width: 100%;\n",
       "  border-bottom: 2px solid var(--sklearn-color-text-on-default-background);\n",
       "  flex-grow: 1;\n",
       "}\n",
       "\n",
       "#sk-container-id-1 div.sk-parallel {\n",
       "  display: flex;\n",
       "  align-items: stretch;\n",
       "  justify-content: center;\n",
       "  background-color: var(--sklearn-color-background);\n",
       "  position: relative;\n",
       "}\n",
       "\n",
       "#sk-container-id-1 div.sk-parallel-item {\n",
       "  display: flex;\n",
       "  flex-direction: column;\n",
       "}\n",
       "\n",
       "#sk-container-id-1 div.sk-parallel-item:first-child::after {\n",
       "  align-self: flex-end;\n",
       "  width: 50%;\n",
       "}\n",
       "\n",
       "#sk-container-id-1 div.sk-parallel-item:last-child::after {\n",
       "  align-self: flex-start;\n",
       "  width: 50%;\n",
       "}\n",
       "\n",
       "#sk-container-id-1 div.sk-parallel-item:only-child::after {\n",
       "  width: 0;\n",
       "}\n",
       "\n",
       "/* Serial-specific style estimator block */\n",
       "\n",
       "#sk-container-id-1 div.sk-serial {\n",
       "  display: flex;\n",
       "  flex-direction: column;\n",
       "  align-items: center;\n",
       "  background-color: var(--sklearn-color-background);\n",
       "  padding-right: 1em;\n",
       "  padding-left: 1em;\n",
       "}\n",
       "\n",
       "\n",
       "/* Toggleable style: style used for estimator/Pipeline/ColumnTransformer box that is\n",
       "clickable and can be expanded/collapsed.\n",
       "- Pipeline and ColumnTransformer use this feature and define the default style\n",
       "- Estimators will overwrite some part of the style using the `sk-estimator` class\n",
       "*/\n",
       "\n",
       "/* Pipeline and ColumnTransformer style (default) */\n",
       "\n",
       "#sk-container-id-1 div.sk-toggleable {\n",
       "  /* Default theme specific background. It is overwritten whether we have a\n",
       "  specific estimator or a Pipeline/ColumnTransformer */\n",
       "  background-color: var(--sklearn-color-background);\n",
       "}\n",
       "\n",
       "/* Toggleable label */\n",
       "#sk-container-id-1 label.sk-toggleable__label {\n",
       "  cursor: pointer;\n",
       "  display: block;\n",
       "  width: 100%;\n",
       "  margin-bottom: 0;\n",
       "  padding: 0.5em;\n",
       "  box-sizing: border-box;\n",
       "  text-align: center;\n",
       "}\n",
       "\n",
       "#sk-container-id-1 label.sk-toggleable__label-arrow:before {\n",
       "  /* Arrow on the left of the label */\n",
       "  content: \"▸\";\n",
       "  float: left;\n",
       "  margin-right: 0.25em;\n",
       "  color: var(--sklearn-color-icon);\n",
       "}\n",
       "\n",
       "#sk-container-id-1 label.sk-toggleable__label-arrow:hover:before {\n",
       "  color: var(--sklearn-color-text);\n",
       "}\n",
       "\n",
       "/* Toggleable content - dropdown */\n",
       "\n",
       "#sk-container-id-1 div.sk-toggleable__content {\n",
       "  max-height: 0;\n",
       "  max-width: 0;\n",
       "  overflow: hidden;\n",
       "  text-align: left;\n",
       "  /* unfitted */\n",
       "  background-color: var(--sklearn-color-unfitted-level-0);\n",
       "}\n",
       "\n",
       "#sk-container-id-1 div.sk-toggleable__content.fitted {\n",
       "  /* fitted */\n",
       "  background-color: var(--sklearn-color-fitted-level-0);\n",
       "}\n",
       "\n",
       "#sk-container-id-1 div.sk-toggleable__content pre {\n",
       "  margin: 0.2em;\n",
       "  border-radius: 0.25em;\n",
       "  color: var(--sklearn-color-text);\n",
       "  /* unfitted */\n",
       "  background-color: var(--sklearn-color-unfitted-level-0);\n",
       "}\n",
       "\n",
       "#sk-container-id-1 div.sk-toggleable__content.fitted pre {\n",
       "  /* unfitted */\n",
       "  background-color: var(--sklearn-color-fitted-level-0);\n",
       "}\n",
       "\n",
       "#sk-container-id-1 input.sk-toggleable__control:checked~div.sk-toggleable__content {\n",
       "  /* Expand drop-down */\n",
       "  max-height: 200px;\n",
       "  max-width: 100%;\n",
       "  overflow: auto;\n",
       "}\n",
       "\n",
       "#sk-container-id-1 input.sk-toggleable__control:checked~label.sk-toggleable__label-arrow:before {\n",
       "  content: \"▾\";\n",
       "}\n",
       "\n",
       "/* Pipeline/ColumnTransformer-specific style */\n",
       "\n",
       "#sk-container-id-1 div.sk-label input.sk-toggleable__control:checked~label.sk-toggleable__label {\n",
       "  color: var(--sklearn-color-text);\n",
       "  background-color: var(--sklearn-color-unfitted-level-2);\n",
       "}\n",
       "\n",
       "#sk-container-id-1 div.sk-label.fitted input.sk-toggleable__control:checked~label.sk-toggleable__label {\n",
       "  background-color: var(--sklearn-color-fitted-level-2);\n",
       "}\n",
       "\n",
       "/* Estimator-specific style */\n",
       "\n",
       "/* Colorize estimator box */\n",
       "#sk-container-id-1 div.sk-estimator input.sk-toggleable__control:checked~label.sk-toggleable__label {\n",
       "  /* unfitted */\n",
       "  background-color: var(--sklearn-color-unfitted-level-2);\n",
       "}\n",
       "\n",
       "#sk-container-id-1 div.sk-estimator.fitted input.sk-toggleable__control:checked~label.sk-toggleable__label {\n",
       "  /* fitted */\n",
       "  background-color: var(--sklearn-color-fitted-level-2);\n",
       "}\n",
       "\n",
       "#sk-container-id-1 div.sk-label label.sk-toggleable__label,\n",
       "#sk-container-id-1 div.sk-label label {\n",
       "  /* The background is the default theme color */\n",
       "  color: var(--sklearn-color-text-on-default-background);\n",
       "}\n",
       "\n",
       "/* On hover, darken the color of the background */\n",
       "#sk-container-id-1 div.sk-label:hover label.sk-toggleable__label {\n",
       "  color: var(--sklearn-color-text);\n",
       "  background-color: var(--sklearn-color-unfitted-level-2);\n",
       "}\n",
       "\n",
       "/* Label box, darken color on hover, fitted */\n",
       "#sk-container-id-1 div.sk-label.fitted:hover label.sk-toggleable__label.fitted {\n",
       "  color: var(--sklearn-color-text);\n",
       "  background-color: var(--sklearn-color-fitted-level-2);\n",
       "}\n",
       "\n",
       "/* Estimator label */\n",
       "\n",
       "#sk-container-id-1 div.sk-label label {\n",
       "  font-family: monospace;\n",
       "  font-weight: bold;\n",
       "  display: inline-block;\n",
       "  line-height: 1.2em;\n",
       "}\n",
       "\n",
       "#sk-container-id-1 div.sk-label-container {\n",
       "  text-align: center;\n",
       "}\n",
       "\n",
       "/* Estimator-specific */\n",
       "#sk-container-id-1 div.sk-estimator {\n",
       "  font-family: monospace;\n",
       "  border: 1px dotted var(--sklearn-color-border-box);\n",
       "  border-radius: 0.25em;\n",
       "  box-sizing: border-box;\n",
       "  margin-bottom: 0.5em;\n",
       "  /* unfitted */\n",
       "  background-color: var(--sklearn-color-unfitted-level-0);\n",
       "}\n",
       "\n",
       "#sk-container-id-1 div.sk-estimator.fitted {\n",
       "  /* fitted */\n",
       "  background-color: var(--sklearn-color-fitted-level-0);\n",
       "}\n",
       "\n",
       "/* on hover */\n",
       "#sk-container-id-1 div.sk-estimator:hover {\n",
       "  /* unfitted */\n",
       "  background-color: var(--sklearn-color-unfitted-level-2);\n",
       "}\n",
       "\n",
       "#sk-container-id-1 div.sk-estimator.fitted:hover {\n",
       "  /* fitted */\n",
       "  background-color: var(--sklearn-color-fitted-level-2);\n",
       "}\n",
       "\n",
       "/* Specification for estimator info (e.g. \"i\" and \"?\") */\n",
       "\n",
       "/* Common style for \"i\" and \"?\" */\n",
       "\n",
       ".sk-estimator-doc-link,\n",
       "a:link.sk-estimator-doc-link,\n",
       "a:visited.sk-estimator-doc-link {\n",
       "  float: right;\n",
       "  font-size: smaller;\n",
       "  line-height: 1em;\n",
       "  font-family: monospace;\n",
       "  background-color: var(--sklearn-color-background);\n",
       "  border-radius: 1em;\n",
       "  height: 1em;\n",
       "  width: 1em;\n",
       "  text-decoration: none !important;\n",
       "  margin-left: 1ex;\n",
       "  /* unfitted */\n",
       "  border: var(--sklearn-color-unfitted-level-1) 1pt solid;\n",
       "  color: var(--sklearn-color-unfitted-level-1);\n",
       "}\n",
       "\n",
       ".sk-estimator-doc-link.fitted,\n",
       "a:link.sk-estimator-doc-link.fitted,\n",
       "a:visited.sk-estimator-doc-link.fitted {\n",
       "  /* fitted */\n",
       "  border: var(--sklearn-color-fitted-level-1) 1pt solid;\n",
       "  color: var(--sklearn-color-fitted-level-1);\n",
       "}\n",
       "\n",
       "/* On hover */\n",
       "div.sk-estimator:hover .sk-estimator-doc-link:hover,\n",
       ".sk-estimator-doc-link:hover,\n",
       "div.sk-label-container:hover .sk-estimator-doc-link:hover,\n",
       ".sk-estimator-doc-link:hover {\n",
       "  /* unfitted */\n",
       "  background-color: var(--sklearn-color-unfitted-level-3);\n",
       "  color: var(--sklearn-color-background);\n",
       "  text-decoration: none;\n",
       "}\n",
       "\n",
       "div.sk-estimator.fitted:hover .sk-estimator-doc-link.fitted:hover,\n",
       ".sk-estimator-doc-link.fitted:hover,\n",
       "div.sk-label-container:hover .sk-estimator-doc-link.fitted:hover,\n",
       ".sk-estimator-doc-link.fitted:hover {\n",
       "  /* fitted */\n",
       "  background-color: var(--sklearn-color-fitted-level-3);\n",
       "  color: var(--sklearn-color-background);\n",
       "  text-decoration: none;\n",
       "}\n",
       "\n",
       "/* Span, style for the box shown on hovering the info icon */\n",
       ".sk-estimator-doc-link span {\n",
       "  display: none;\n",
       "  z-index: 9999;\n",
       "  position: relative;\n",
       "  font-weight: normal;\n",
       "  right: .2ex;\n",
       "  padding: .5ex;\n",
       "  margin: .5ex;\n",
       "  width: min-content;\n",
       "  min-width: 20ex;\n",
       "  max-width: 50ex;\n",
       "  color: var(--sklearn-color-text);\n",
       "  box-shadow: 2pt 2pt 4pt #999;\n",
       "  /* unfitted */\n",
       "  background: var(--sklearn-color-unfitted-level-0);\n",
       "  border: .5pt solid var(--sklearn-color-unfitted-level-3);\n",
       "}\n",
       "\n",
       ".sk-estimator-doc-link.fitted span {\n",
       "  /* fitted */\n",
       "  background: var(--sklearn-color-fitted-level-0);\n",
       "  border: var(--sklearn-color-fitted-level-3);\n",
       "}\n",
       "\n",
       ".sk-estimator-doc-link:hover span {\n",
       "  display: block;\n",
       "}\n",
       "\n",
       "/* \"?\"-specific style due to the `<a>` HTML tag */\n",
       "\n",
       "#sk-container-id-1 a.estimator_doc_link {\n",
       "  float: right;\n",
       "  font-size: 1rem;\n",
       "  line-height: 1em;\n",
       "  font-family: monospace;\n",
       "  background-color: var(--sklearn-color-background);\n",
       "  border-radius: 1rem;\n",
       "  height: 1rem;\n",
       "  width: 1rem;\n",
       "  text-decoration: none;\n",
       "  /* unfitted */\n",
       "  color: var(--sklearn-color-unfitted-level-1);\n",
       "  border: var(--sklearn-color-unfitted-level-1) 1pt solid;\n",
       "}\n",
       "\n",
       "#sk-container-id-1 a.estimator_doc_link.fitted {\n",
       "  /* fitted */\n",
       "  border: var(--sklearn-color-fitted-level-1) 1pt solid;\n",
       "  color: var(--sklearn-color-fitted-level-1);\n",
       "}\n",
       "\n",
       "/* On hover */\n",
       "#sk-container-id-1 a.estimator_doc_link:hover {\n",
       "  /* unfitted */\n",
       "  background-color: var(--sklearn-color-unfitted-level-3);\n",
       "  color: var(--sklearn-color-background);\n",
       "  text-decoration: none;\n",
       "}\n",
       "\n",
       "#sk-container-id-1 a.estimator_doc_link.fitted:hover {\n",
       "  /* fitted */\n",
       "  background-color: var(--sklearn-color-fitted-level-3);\n",
       "}\n",
       "</style><div id=\"sk-container-id-1\" class=\"sk-top-container\"><div class=\"sk-text-repr-fallback\"><pre>ExplainableBoostingRegressor()</pre><b>In a Jupyter environment, please rerun this cell to show the HTML representation or trust the notebook. <br />On GitHub, the HTML representation is unable to render, please try loading this page with nbviewer.org.</b></div><div class=\"sk-container\" hidden><div class=\"sk-item\"><div class=\"sk-estimator fitted sk-toggleable\"><input class=\"sk-toggleable__control sk-hidden--visually\" id=\"sk-estimator-id-1\" type=\"checkbox\" checked><label for=\"sk-estimator-id-1\" class=\"sk-toggleable__label fitted sk-toggleable__label-arrow fitted\">&nbsp;ExplainableBoostingRegressor<span class=\"sk-estimator-doc-link fitted\">i<span>Fitted</span></span></label><div class=\"sk-toggleable__content fitted\"><pre>ExplainableBoostingRegressor()</pre></div> </div></div></div></div>"
      ],
      "text/plain": [
       "ExplainableBoostingRegressor()"
      ]
     },
     "execution_count": 29,
     "metadata": {},
     "output_type": "execute_result"
    }
   ],
   "source": [
    "model = ExplainableBoostingRegressor(random_state=42)\n",
    "model.fit(X, books_filtered[TARGET])"
   ]
  },
  {
   "cell_type": "code",
   "execution_count": 30,
   "metadata": {},
   "outputs": [
    {
     "data": {
      "text/html": [
       "<pre style=\"white-space:pre;overflow-x:auto;line-height:normal;font-family:Menlo,'DejaVu Sans Mono',consolas,'Courier New',monospace\"></pre>\n"
      ],
      "text/plain": []
     },
     "metadata": {},
     "output_type": "display_data"
    },
    {
     "data": {
      "text/plain": [
       "\u001b[1;36m0.21292598885914815\u001b[0m"
      ]
     },
     "execution_count": 30,
     "metadata": {},
     "output_type": "execute_result"
    }
   ],
   "source": [
    "# Base R^2 score\n",
    "model.score(X, books_filtered[TARGET])"
   ]
  },
  {
   "cell_type": "code",
   "execution_count": 31,
   "metadata": {},
   "outputs": [
    {
     "data": {
      "text/html": [
       "<!-- http://127.0.0.1:7001/2306213705680/ -->\n",
       "<iframe src=\"http://127.0.0.1:7001/2306213705680/\" width=100% height=800 frameBorder=\"0\"></iframe>"
      ]
     },
     "metadata": {},
     "output_type": "display_data"
    }
   ],
   "source": [
    "show(model.explain_global())"
   ]
  },
  {
   "cell_type": "code",
   "execution_count": null,
   "metadata": {},
   "outputs": [],
   "source": []
  },
  {
   "cell_type": "code",
   "execution_count": null,
   "metadata": {},
   "outputs": [],
   "source": []
  },
  {
   "cell_type": "code",
   "execution_count": null,
   "metadata": {},
   "outputs": [],
   "source": []
  }
 ],
 "metadata": {
  "kernelspec": {
   "display_name": ".venv",
   "language": "python",
   "name": "python3"
  },
  "language_info": {
   "codemirror_mode": {
    "name": "ipython",
    "version": 3
   },
   "file_extension": ".py",
   "mimetype": "text/x-python",
   "name": "python",
   "nbconvert_exporter": "python",
   "pygments_lexer": "ipython3",
   "version": "3.11.2"
  }
 },
 "nbformat": 4,
 "nbformat_minor": 2
}
